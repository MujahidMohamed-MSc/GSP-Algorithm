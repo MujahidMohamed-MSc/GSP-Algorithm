{
 "cells": [
  {
   "cell_type": "code",
   "execution_count": 1,
   "id": "4be4c10a",
   "metadata": {},
   "outputs": [
    {
     "name": "stdout",
     "output_type": "stream",
     "text": [
      "Requirement already satisfied: tensorflow in c:\\users\\shakil\\appdata\\roaming\\python\\python39\\site-packages (2.11.0)\n",
      "Requirement already satisfied: tensorflow-intel==2.11.0 in c:\\users\\shakil\\appdata\\roaming\\python\\python39\\site-packages (from tensorflow) (2.11.0)\n",
      "Requirement already satisfied: libclang>=13.0.0 in c:\\users\\shakil\\appdata\\roaming\\python\\python39\\site-packages (from tensorflow-intel==2.11.0->tensorflow) (14.0.6)\n",
      "Requirement already satisfied: six>=1.12.0 in c:\\programdata\\anaconda3\\lib\\site-packages (from tensorflow-intel==2.11.0->tensorflow) (1.16.0)\n",
      "Requirement already satisfied: numpy>=1.20 in c:\\programdata\\anaconda3\\lib\\site-packages (from tensorflow-intel==2.11.0->tensorflow) (1.21.5)\n",
      "Requirement already satisfied: typing-extensions>=3.6.6 in c:\\programdata\\anaconda3\\lib\\site-packages (from tensorflow-intel==2.11.0->tensorflow) (4.3.0)\n",
      "Requirement already satisfied: packaging in c:\\programdata\\anaconda3\\lib\\site-packages (from tensorflow-intel==2.11.0->tensorflow) (21.3)\n",
      "Requirement already satisfied: grpcio<2.0,>=1.24.3 in c:\\users\\shakil\\appdata\\roaming\\python\\python39\\site-packages (from tensorflow-intel==2.11.0->tensorflow) (1.51.1)\n",
      "Requirement already satisfied: termcolor>=1.1.0 in c:\\users\\shakil\\appdata\\roaming\\python\\python39\\site-packages (from tensorflow-intel==2.11.0->tensorflow) (2.1.1)\n",
      "Requirement already satisfied: gast<=0.4.0,>=0.2.1 in c:\\users\\shakil\\appdata\\roaming\\python\\python39\\site-packages (from tensorflow-intel==2.11.0->tensorflow) (0.4.0)\n",
      "Requirement already satisfied: tensorflow-io-gcs-filesystem>=0.23.1 in c:\\users\\shakil\\appdata\\roaming\\python\\python39\\site-packages (from tensorflow-intel==2.11.0->tensorflow) (0.28.0)\n",
      "Requirement already satisfied: keras<2.12,>=2.11.0 in c:\\users\\shakil\\appdata\\roaming\\python\\python39\\site-packages (from tensorflow-intel==2.11.0->tensorflow) (2.11.0)\n",
      "Requirement already satisfied: tensorflow-estimator<2.12,>=2.11.0 in c:\\users\\shakil\\appdata\\roaming\\python\\python39\\site-packages (from tensorflow-intel==2.11.0->tensorflow) (2.11.0)\n",
      "Requirement already satisfied: tensorboard<2.12,>=2.11 in c:\\users\\shakil\\appdata\\roaming\\python\\python39\\site-packages (from tensorflow-intel==2.11.0->tensorflow) (2.11.0)\n",
      "Requirement already satisfied: setuptools in c:\\programdata\\anaconda3\\lib\\site-packages (from tensorflow-intel==2.11.0->tensorflow) (63.4.1)\n",
      "Requirement already satisfied: astunparse>=1.6.0 in c:\\users\\shakil\\appdata\\roaming\\python\\python39\\site-packages (from tensorflow-intel==2.11.0->tensorflow) (1.6.3)\n",
      "Requirement already satisfied: flatbuffers>=2.0 in c:\\users\\shakil\\appdata\\roaming\\python\\python39\\site-packages (from tensorflow-intel==2.11.0->tensorflow) (22.11.23)\n",
      "Requirement already satisfied: absl-py>=1.0.0 in c:\\users\\shakil\\appdata\\roaming\\python\\python39\\site-packages (from tensorflow-intel==2.11.0->tensorflow) (1.3.0)\n",
      "Requirement already satisfied: protobuf<3.20,>=3.9.2 in c:\\users\\shakil\\appdata\\roaming\\python\\python39\\site-packages (from tensorflow-intel==2.11.0->tensorflow) (3.19.6)\n",
      "Requirement already satisfied: wrapt>=1.11.0 in c:\\programdata\\anaconda3\\lib\\site-packages (from tensorflow-intel==2.11.0->tensorflow) (1.14.1)\n",
      "Requirement already satisfied: h5py>=2.9.0 in c:\\programdata\\anaconda3\\lib\\site-packages (from tensorflow-intel==2.11.0->tensorflow) (3.7.0)\n",
      "Requirement already satisfied: google-pasta>=0.1.1 in c:\\users\\shakil\\appdata\\roaming\\python\\python39\\site-packages (from tensorflow-intel==2.11.0->tensorflow) (0.2.0)\n",
      "Requirement already satisfied: opt-einsum>=2.3.2 in c:\\users\\shakil\\appdata\\roaming\\python\\python39\\site-packages (from tensorflow-intel==2.11.0->tensorflow) (3.3.0)\n",
      "Requirement already satisfied: wheel<1.0,>=0.23.0 in c:\\programdata\\anaconda3\\lib\\site-packages (from astunparse>=1.6.0->tensorflow-intel==2.11.0->tensorflow) (0.37.1)\n",
      "Requirement already satisfied: werkzeug>=1.0.1 in c:\\programdata\\anaconda3\\lib\\site-packages (from tensorboard<2.12,>=2.11->tensorflow-intel==2.11.0->tensorflow) (2.0.3)\n",
      "Requirement already satisfied: tensorboard-plugin-wit>=1.6.0 in c:\\users\\shakil\\appdata\\roaming\\python\\python39\\site-packages (from tensorboard<2.12,>=2.11->tensorflow-intel==2.11.0->tensorflow) (1.8.1)\n",
      "Requirement already satisfied: tensorboard-data-server<0.7.0,>=0.6.0 in c:\\users\\shakil\\appdata\\roaming\\python\\python39\\site-packages (from tensorboard<2.12,>=2.11->tensorflow-intel==2.11.0->tensorflow) (0.6.1)\n",
      "Requirement already satisfied: markdown>=2.6.8 in c:\\programdata\\anaconda3\\lib\\site-packages (from tensorboard<2.12,>=2.11->tensorflow-intel==2.11.0->tensorflow) (3.3.4)\n",
      "Requirement already satisfied: google-auth-oauthlib<0.5,>=0.4.1 in c:\\users\\shakil\\appdata\\roaming\\python\\python39\\site-packages (from tensorboard<2.12,>=2.11->tensorflow-intel==2.11.0->tensorflow) (0.4.6)\n",
      "Requirement already satisfied: requests<3,>=2.21.0 in c:\\programdata\\anaconda3\\lib\\site-packages (from tensorboard<2.12,>=2.11->tensorflow-intel==2.11.0->tensorflow) (2.28.1)\n",
      "Requirement already satisfied: google-auth<3,>=1.6.3 in c:\\users\\shakil\\appdata\\roaming\\python\\python39\\site-packages (from tensorboard<2.12,>=2.11->tensorflow-intel==2.11.0->tensorflow) (2.14.1)\n",
      "Requirement already satisfied: pyparsing!=3.0.5,>=2.0.2 in c:\\programdata\\anaconda3\\lib\\site-packages (from packaging->tensorflow-intel==2.11.0->tensorflow) (3.0.9)\n",
      "Requirement already satisfied: rsa<5,>=3.1.4 in c:\\users\\shakil\\appdata\\roaming\\python\\python39\\site-packages (from google-auth<3,>=1.6.3->tensorboard<2.12,>=2.11->tensorflow-intel==2.11.0->tensorflow) (4.9)\n",
      "Requirement already satisfied: cachetools<6.0,>=2.0.0 in c:\\users\\shakil\\appdata\\roaming\\python\\python39\\site-packages (from google-auth<3,>=1.6.3->tensorboard<2.12,>=2.11->tensorflow-intel==2.11.0->tensorflow) (5.2.0)\n",
      "Requirement already satisfied: pyasn1-modules>=0.2.1 in c:\\programdata\\anaconda3\\lib\\site-packages (from google-auth<3,>=1.6.3->tensorboard<2.12,>=2.11->tensorflow-intel==2.11.0->tensorflow) (0.2.8)\n",
      "Requirement already satisfied: requests-oauthlib>=0.7.0 in c:\\users\\shakil\\appdata\\roaming\\python\\python39\\site-packages (from google-auth-oauthlib<0.5,>=0.4.1->tensorboard<2.12,>=2.11->tensorflow-intel==2.11.0->tensorflow) (1.3.1)\n",
      "Requirement already satisfied: certifi>=2017.4.17 in c:\\programdata\\anaconda3\\lib\\site-packages (from requests<3,>=2.21.0->tensorboard<2.12,>=2.11->tensorflow-intel==2.11.0->tensorflow) (2022.9.14)\n",
      "Requirement already satisfied: idna<4,>=2.5 in c:\\programdata\\anaconda3\\lib\\site-packages (from requests<3,>=2.21.0->tensorboard<2.12,>=2.11->tensorflow-intel==2.11.0->tensorflow) (3.3)\n",
      "Requirement already satisfied: charset-normalizer<3,>=2 in c:\\programdata\\anaconda3\\lib\\site-packages (from requests<3,>=2.21.0->tensorboard<2.12,>=2.11->tensorflow-intel==2.11.0->tensorflow) (2.0.4)\n",
      "Requirement already satisfied: urllib3<1.27,>=1.21.1 in c:\\programdata\\anaconda3\\lib\\site-packages (from requests<3,>=2.21.0->tensorboard<2.12,>=2.11->tensorflow-intel==2.11.0->tensorflow) (1.26.11)\n",
      "Requirement already satisfied: pyasn1<0.5.0,>=0.4.6 in c:\\programdata\\anaconda3\\lib\\site-packages (from pyasn1-modules>=0.2.1->google-auth<3,>=1.6.3->tensorboard<2.12,>=2.11->tensorflow-intel==2.11.0->tensorflow) (0.4.8)\n",
      "Requirement already satisfied: oauthlib>=3.0.0 in c:\\users\\shakil\\appdata\\roaming\\python\\python39\\site-packages (from requests-oauthlib>=0.7.0->google-auth-oauthlib<0.5,>=0.4.1->tensorboard<2.12,>=2.11->tensorflow-intel==2.11.0->tensorflow) (3.2.2)\n"
     ]
    }
   ],
   "source": [
    "!pip install tensorflow\n"
   ]
  },
  {
   "cell_type": "code",
   "execution_count": null,
   "id": "ca352991",
   "metadata": {},
   "outputs": [],
   "source": []
  },
  {
   "cell_type": "code",
   "execution_count": 2,
   "id": "d61c523c",
   "metadata": {},
   "outputs": [
    {
     "name": "stdout",
     "output_type": "stream",
     "text": [
      "Note: you may need to restart the kernel to use updated packages.\n"
     ]
    },
    {
     "name": "stderr",
     "output_type": "stream",
     "text": [
      "ERROR: Could not find a version that satisfies the requirement oorange (from versions: none)\n",
      "ERROR: No matching distribution found for oorange\n"
     ]
    }
   ],
   "source": [
    "\n"
   ]
  },
  {
   "cell_type": "code",
   "execution_count": 3,
   "id": "c21731ff",
   "metadata": {},
   "outputs": [
    {
     "name": "stdout",
     "output_type": "stream",
     "text": [
      "mujahid  lady hai \n"
     ]
    }
   ],
   "source": [
    "print (\"mujahid  lady hai \")"
   ]
  },
  {
   "cell_type": "code",
   "execution_count": 4,
   "id": "4bc2caed",
   "metadata": {},
   "outputs": [
    {
     "name": "stdout",
     "output_type": "stream",
     "text": [
      "Requirement already satisfied: tensorflow in c:\\users\\shakil\\appdata\\roaming\\python\\python39\\site-packages (2.11.0)\n",
      "Requirement already satisfied: tensorflow-intel==2.11.0 in c:\\users\\shakil\\appdata\\roaming\\python\\python39\\site-packages (from tensorflow) (2.11.0)\n",
      "Requirement already satisfied: opt-einsum>=2.3.2 in c:\\users\\shakil\\appdata\\roaming\\python\\python39\\site-packages (from tensorflow-intel==2.11.0->tensorflow) (3.3.0)\n",
      "Requirement already satisfied: google-pasta>=0.1.1 in c:\\users\\shakil\\appdata\\roaming\\python\\python39\\site-packages (from tensorflow-intel==2.11.0->tensorflow) (0.2.0)\n",
      "Requirement already satisfied: numpy>=1.20 in c:\\programdata\\anaconda3\\lib\\site-packages (from tensorflow-intel==2.11.0->tensorflow) (1.21.5)\n",
      "Requirement already satisfied: grpcio<2.0,>=1.24.3 in c:\\users\\shakil\\appdata\\roaming\\python\\python39\\site-packages (from tensorflow-intel==2.11.0->tensorflow) (1.51.1)\n",
      "Requirement already satisfied: tensorflow-estimator<2.12,>=2.11.0 in c:\\users\\shakil\\appdata\\roaming\\python\\python39\\site-packages (from tensorflow-intel==2.11.0->tensorflow) (2.11.0)\n",
      "Requirement already satisfied: setuptools in c:\\programdata\\anaconda3\\lib\\site-packages (from tensorflow-intel==2.11.0->tensorflow) (63.4.1)\n",
      "Requirement already satisfied: typing-extensions>=3.6.6 in c:\\programdata\\anaconda3\\lib\\site-packages (from tensorflow-intel==2.11.0->tensorflow) (4.3.0)\n",
      "Requirement already satisfied: six>=1.12.0 in c:\\programdata\\anaconda3\\lib\\site-packages (from tensorflow-intel==2.11.0->tensorflow) (1.16.0)\n",
      "Requirement already satisfied: keras<2.12,>=2.11.0 in c:\\users\\shakil\\appdata\\roaming\\python\\python39\\site-packages (from tensorflow-intel==2.11.0->tensorflow) (2.11.0)\n",
      "Requirement already satisfied: flatbuffers>=2.0 in c:\\users\\shakil\\appdata\\roaming\\python\\python39\\site-packages (from tensorflow-intel==2.11.0->tensorflow) (22.11.23)\n",
      "Requirement already satisfied: absl-py>=1.0.0 in c:\\users\\shakil\\appdata\\roaming\\python\\python39\\site-packages (from tensorflow-intel==2.11.0->tensorflow) (1.3.0)\n",
      "Requirement already satisfied: libclang>=13.0.0 in c:\\users\\shakil\\appdata\\roaming\\python\\python39\\site-packages (from tensorflow-intel==2.11.0->tensorflow) (14.0.6)\n",
      "Requirement already satisfied: gast<=0.4.0,>=0.2.1 in c:\\users\\shakil\\appdata\\roaming\\python\\python39\\site-packages (from tensorflow-intel==2.11.0->tensorflow) (0.4.0)\n",
      "Requirement already satisfied: wrapt>=1.11.0 in c:\\programdata\\anaconda3\\lib\\site-packages (from tensorflow-intel==2.11.0->tensorflow) (1.14.1)\n",
      "Requirement already satisfied: protobuf<3.20,>=3.9.2 in c:\\users\\shakil\\appdata\\roaming\\python\\python39\\site-packages (from tensorflow-intel==2.11.0->tensorflow) (3.19.6)\n",
      "Requirement already satisfied: tensorflow-io-gcs-filesystem>=0.23.1 in c:\\users\\shakil\\appdata\\roaming\\python\\python39\\site-packages (from tensorflow-intel==2.11.0->tensorflow) (0.28.0)\n",
      "Requirement already satisfied: termcolor>=1.1.0 in c:\\users\\shakil\\appdata\\roaming\\python\\python39\\site-packages (from tensorflow-intel==2.11.0->tensorflow) (2.1.1)\n",
      "Requirement already satisfied: astunparse>=1.6.0 in c:\\users\\shakil\\appdata\\roaming\\python\\python39\\site-packages (from tensorflow-intel==2.11.0->tensorflow) (1.6.3)\n",
      "Requirement already satisfied: packaging in c:\\programdata\\anaconda3\\lib\\site-packages (from tensorflow-intel==2.11.0->tensorflow) (21.3)\n",
      "Requirement already satisfied: tensorboard<2.12,>=2.11 in c:\\users\\shakil\\appdata\\roaming\\python\\python39\\site-packages (from tensorflow-intel==2.11.0->tensorflow) (2.11.0)\n",
      "Requirement already satisfied: h5py>=2.9.0 in c:\\programdata\\anaconda3\\lib\\site-packages (from tensorflow-intel==2.11.0->tensorflow) (3.7.0)\n",
      "Requirement already satisfied: wheel<1.0,>=0.23.0 in c:\\programdata\\anaconda3\\lib\\site-packages (from astunparse>=1.6.0->tensorflow-intel==2.11.0->tensorflow) (0.37.1)\n",
      "Requirement already satisfied: tensorboard-data-server<0.7.0,>=0.6.0 in c:\\users\\shakil\\appdata\\roaming\\python\\python39\\site-packages (from tensorboard<2.12,>=2.11->tensorflow-intel==2.11.0->tensorflow) (0.6.1)\n",
      "Requirement already satisfied: werkzeug>=1.0.1 in c:\\programdata\\anaconda3\\lib\\site-packages (from tensorboard<2.12,>=2.11->tensorflow-intel==2.11.0->tensorflow) (2.0.3)\n",
      "Requirement already satisfied: google-auth-oauthlib<0.5,>=0.4.1 in c:\\users\\shakil\\appdata\\roaming\\python\\python39\\site-packages (from tensorboard<2.12,>=2.11->tensorflow-intel==2.11.0->tensorflow) (0.4.6)\n",
      "Requirement already satisfied: markdown>=2.6.8 in c:\\programdata\\anaconda3\\lib\\site-packages (from tensorboard<2.12,>=2.11->tensorflow-intel==2.11.0->tensorflow) (3.3.4)\n",
      "Requirement already satisfied: requests<3,>=2.21.0 in c:\\programdata\\anaconda3\\lib\\site-packages (from tensorboard<2.12,>=2.11->tensorflow-intel==2.11.0->tensorflow) (2.28.1)\n",
      "Requirement already satisfied: tensorboard-plugin-wit>=1.6.0 in c:\\users\\shakil\\appdata\\roaming\\python\\python39\\site-packages (from tensorboard<2.12,>=2.11->tensorflow-intel==2.11.0->tensorflow) (1.8.1)\n",
      "Requirement already satisfied: google-auth<3,>=1.6.3 in c:\\users\\shakil\\appdata\\roaming\\python\\python39\\site-packages (from tensorboard<2.12,>=2.11->tensorflow-intel==2.11.0->tensorflow) (2.14.1)\n",
      "Requirement already satisfied: pyparsing!=3.0.5,>=2.0.2 in c:\\programdata\\anaconda3\\lib\\site-packages (from packaging->tensorflow-intel==2.11.0->tensorflow) (3.0.9)\n",
      "Requirement already satisfied: pyasn1-modules>=0.2.1 in c:\\programdata\\anaconda3\\lib\\site-packages (from google-auth<3,>=1.6.3->tensorboard<2.12,>=2.11->tensorflow-intel==2.11.0->tensorflow) (0.2.8)\n",
      "Requirement already satisfied: cachetools<6.0,>=2.0.0 in c:\\users\\shakil\\appdata\\roaming\\python\\python39\\site-packages (from google-auth<3,>=1.6.3->tensorboard<2.12,>=2.11->tensorflow-intel==2.11.0->tensorflow) (5.2.0)\n",
      "Requirement already satisfied: rsa<5,>=3.1.4 in c:\\users\\shakil\\appdata\\roaming\\python\\python39\\site-packages (from google-auth<3,>=1.6.3->tensorboard<2.12,>=2.11->tensorflow-intel==2.11.0->tensorflow) (4.9)\n",
      "Requirement already satisfied: requests-oauthlib>=0.7.0 in c:\\users\\shakil\\appdata\\roaming\\python\\python39\\site-packages (from google-auth-oauthlib<0.5,>=0.4.1->tensorboard<2.12,>=2.11->tensorflow-intel==2.11.0->tensorflow) (1.3.1)\n",
      "Requirement already satisfied: certifi>=2017.4.17 in c:\\programdata\\anaconda3\\lib\\site-packages (from requests<3,>=2.21.0->tensorboard<2.12,>=2.11->tensorflow-intel==2.11.0->tensorflow) (2022.9.14)\n",
      "Requirement already satisfied: urllib3<1.27,>=1.21.1 in c:\\programdata\\anaconda3\\lib\\site-packages (from requests<3,>=2.21.0->tensorboard<2.12,>=2.11->tensorflow-intel==2.11.0->tensorflow) (1.26.11)\n",
      "Requirement already satisfied: idna<4,>=2.5 in c:\\programdata\\anaconda3\\lib\\site-packages (from requests<3,>=2.21.0->tensorboard<2.12,>=2.11->tensorflow-intel==2.11.0->tensorflow) (3.3)\n",
      "Requirement already satisfied: charset-normalizer<3,>=2 in c:\\programdata\\anaconda3\\lib\\site-packages (from requests<3,>=2.21.0->tensorboard<2.12,>=2.11->tensorflow-intel==2.11.0->tensorflow) (2.0.4)\n",
      "Requirement already satisfied: pyasn1<0.5.0,>=0.4.6 in c:\\programdata\\anaconda3\\lib\\site-packages (from pyasn1-modules>=0.2.1->google-auth<3,>=1.6.3->tensorboard<2.12,>=2.11->tensorflow-intel==2.11.0->tensorflow) (0.4.8)\n",
      "Requirement already satisfied: oauthlib>=3.0.0 in c:\\users\\shakil\\appdata\\roaming\\python\\python39\\site-packages (from requests-oauthlib>=0.7.0->google-auth-oauthlib<0.5,>=0.4.1->tensorboard<2.12,>=2.11->tensorflow-intel==2.11.0->tensorflow) (3.2.2)\n",
      "Note: you may need to restart the kernel to use updated packages.\n"
     ]
    }
   ],
   "source": [
    "pip install tensorflow\n"
   ]
  },
  {
   "cell_type": "code",
   "execution_count": 5,
   "id": "5ec8e7dd",
   "metadata": {},
   "outputs": [
    {
     "name": "stdout",
     "output_type": "stream",
     "text": [
      "Requirement already satisfied: keras in c:\\users\\shakil\\appdata\\roaming\\python\\python39\\site-packages (2.11.0)\n",
      "Note: you may need to restart the kernel to use updated packages.\n"
     ]
    }
   ],
   "source": [
    "pip install keras"
   ]
  },
  {
   "cell_type": "code",
   "execution_count": 6,
   "id": "8148d27f",
   "metadata": {},
   "outputs": [
    {
     "name": "stdout",
     "output_type": "stream",
     "text": [
      "Collecting imutils\n",
      "  Downloading imutils-0.5.4.tar.gz (17 kB)\n",
      "  Preparing metadata (setup.py): started\n",
      "  Preparing metadata (setup.py): finished with status 'done'\n",
      "Building wheels for collected packages: imutils\n",
      "  Building wheel for imutils (setup.py): started\n",
      "  Building wheel for imutils (setup.py): finished with status 'done'\n",
      "  Created wheel for imutils: filename=imutils-0.5.4-py3-none-any.whl size=25847 sha256=a673fc905940d14d8eadcc54ec7155178bcd9e7436f399b1792689d92a9ba3b5\n",
      "  Stored in directory: c:\\users\\shakil\\appdata\\local\\pip\\cache\\wheels\\4b\\a5\\2d\\4a070a801d3a3d93f033d3ee9728f470f514826e89952df3ea\n",
      "Successfully built imutils\n",
      "Installing collected packages: imutils\n",
      "Successfully installed imutils-0.5.4\n",
      "Note: you may need to restart the kernel to use updated packages.\n"
     ]
    }
   ],
   "source": [
    "pip install imutils"
   ]
  },
  {
   "cell_type": "code",
   "execution_count": 7,
   "id": "43e9dd73",
   "metadata": {},
   "outputs": [
    {
     "name": "stdout",
     "output_type": "stream",
     "text": [
      "Requirement already satisfied: numpy in c:\\programdata\\anaconda3\\lib\\site-packages (1.21.5)\n",
      "Note: you may need to restart the kernel to use updated packages.\n"
     ]
    }
   ],
   "source": [
    "pip install numpy"
   ]
  },
  {
   "cell_type": "code",
   "execution_count": 8,
   "id": "1caf88eb",
   "metadata": {},
   "outputs": [
    {
     "name": "stdout",
     "output_type": "stream",
     "text": [
      "Collecting opencv-python\n",
      "  Downloading opencv_python-4.6.0.66-cp36-abi3-win_amd64.whl (35.6 MB)\n",
      "     ---------------------------------------- 35.6/35.6 MB 1.8 MB/s eta 0:00:00\n",
      "Requirement already satisfied: numpy>=1.19.3 in c:\\programdata\\anaconda3\\lib\\site-packages (from opencv-python) (1.21.5)\n",
      "Installing collected packages: opencv-python\n",
      "Successfully installed opencv-python-4.6.0.66\n",
      "Note: you may need to restart the kernel to use updated packages.\n"
     ]
    }
   ],
   "source": [
    "pip install opencv-python"
   ]
  },
  {
   "cell_type": "code",
   "execution_count": 9,
   "id": "5745122a",
   "metadata": {
    "scrolled": false
   },
   "outputs": [
    {
     "name": "stdout",
     "output_type": "stream",
     "text": [
      "Requirement already satisfied: matplotlib in c:\\programdata\\anaconda3\\lib\\site-packages (3.5.2)\n",
      "Requirement already satisfied: cycler>=0.10 in c:\\programdata\\anaconda3\\lib\\site-packages (from matplotlib) (0.11.0)\n",
      "Requirement already satisfied: packaging>=20.0 in c:\\programdata\\anaconda3\\lib\\site-packages (from matplotlib) (21.3)\n",
      "Requirement already satisfied: python-dateutil>=2.7 in c:\\programdata\\anaconda3\\lib\\site-packages (from matplotlib) (2.8.2)\n",
      "Requirement already satisfied: pyparsing>=2.2.1 in c:\\programdata\\anaconda3\\lib\\site-packages (from matplotlib) (3.0.9)\n",
      "Requirement already satisfied: fonttools>=4.22.0 in c:\\programdata\\anaconda3\\lib\\site-packages (from matplotlib) (4.25.0)\n",
      "Requirement already satisfied: kiwisolver>=1.0.1 in c:\\programdata\\anaconda3\\lib\\site-packages (from matplotlib) (1.4.2)\n",
      "Requirement already satisfied: pillow>=6.2.0 in c:\\programdata\\anaconda3\\lib\\site-packages (from matplotlib) (9.2.0)\n",
      "Requirement already satisfied: numpy>=1.17 in c:\\programdata\\anaconda3\\lib\\site-packages (from matplotlib) (1.21.5)\n",
      "Requirement already satisfied: six>=1.5 in c:\\programdata\\anaconda3\\lib\\site-packages (from python-dateutil>=2.7->matplotlib) (1.16.0)\n",
      "Note: you may need to restart the kernel to use updated packages.\n"
     ]
    }
   ],
   "source": [
    "pip install matplotlib"
   ]
  },
  {
   "cell_type": "code",
   "execution_count": 10,
   "id": "159b2850",
   "metadata": {},
   "outputs": [
    {
     "name": "stdout",
     "output_type": "stream",
     "text": [
      "Requirement already satisfied: scipy in c:\\programdata\\anaconda3\\lib\\site-packages (1.9.1)\n",
      "Requirement already satisfied: numpy<1.25.0,>=1.18.5 in c:\\programdata\\anaconda3\\lib\\site-packages (from scipy) (1.21.5)\n",
      "Note: you may need to restart the kernel to use updated packages.\n"
     ]
    }
   ],
   "source": [
    "pip install scipy"
   ]
  },
  {
   "cell_type": "code",
   "execution_count": 2,
   "id": "f935bd7d",
   "metadata": {
    "scrolled": true
   },
   "outputs": [
    {
     "name": "stdout",
     "output_type": "stream",
     "text": [
      "1\n"
     ]
    }
   ],
   "source": [
    "course = 'Python for beginners'\n",
    "print(course.find('y'))\n",
    "clear\n",
    "\n"
   ]
  },
  {
   "cell_type": "code",
   "execution_count": null,
   "id": "a033b457",
   "metadata": {},
   "outputs": [],
   "source": [
    "tem="
   ]
  },
  {
   "cell_type": "code",
   "execution_count": 4,
   "id": "a5b757a9",
   "metadata": {
    "scrolled": true
   },
   "outputs": [
    {
     "ename": "SyntaxError",
     "evalue": "invalid syntax (1489403152.py, line 2)",
     "output_type": "error",
     "traceback": [
      "\u001b[1;36m  File \u001b[1;32m\"C:\\Users\\shakil\\AppData\\Local\\Temp\\ipykernel_11580\\1489403152.py\"\u001b[1;36m, line \u001b[1;32m2\u001b[0m\n\u001b[1;33m    if (temperature > 30 && print (\"it is hot day\"))\u001b[0m\n\u001b[1;37m                          ^\u001b[0m\n\u001b[1;31mSyntaxError\u001b[0m\u001b[1;31m:\u001b[0m invalid syntax\n"
     ]
    }
   ],
   "source": [
    "temperature = 35\n",
    "if (temperature > 30 && print (\"it is hot day\"))"
   ]
  },
  {
   "cell_type": "code",
   "execution_count": 5,
   "id": "cd8614f0",
   "metadata": {},
   "outputs": [
    {
     "name": "stdout",
     "output_type": "stream",
     "text": [
      "Defaulting to user installation because normal site-packages is not writeable\n",
      "Collecting tweepy\n",
      "  Downloading tweepy-4.12.1-py3-none-any.whl (101 kB)\n",
      "     -------------------------------------- 101.6/101.6 kB 1.2 MB/s eta 0:00:00\n",
      "Requirement already satisfied: requests<3,>=2.27.0 in c:\\programdata\\anaconda3\\lib\\site-packages (from tweepy) (2.28.1)\n",
      "Requirement already satisfied: oauthlib<4,>=3.2.0 in c:\\users\\shakil\\appdata\\roaming\\python\\python39\\site-packages (from tweepy) (3.2.2)\n",
      "Requirement already satisfied: requests-oauthlib<2,>=1.2.0 in c:\\users\\shakil\\appdata\\roaming\\python\\python39\\site-packages (from tweepy) (1.3.1)\n",
      "Requirement already satisfied: charset-normalizer<3,>=2 in c:\\programdata\\anaconda3\\lib\\site-packages (from requests<3,>=2.27.0->tweepy) (2.0.4)\n",
      "Requirement already satisfied: idna<4,>=2.5 in c:\\programdata\\anaconda3\\lib\\site-packages (from requests<3,>=2.27.0->tweepy) (3.3)\n",
      "Requirement already satisfied: urllib3<1.27,>=1.21.1 in c:\\programdata\\anaconda3\\lib\\site-packages (from requests<3,>=2.27.0->tweepy) (1.26.11)\n",
      "Requirement already satisfied: certifi>=2017.4.17 in c:\\programdata\\anaconda3\\lib\\site-packages (from requests<3,>=2.27.0->tweepy) (2022.9.14)\n",
      "Installing collected packages: tweepy\n",
      "Successfully installed tweepy-4.12.1\n",
      "Note: you may need to restart the kernel to use updated packages.\n"
     ]
    }
   ],
   "source": [
    "pip install tweepy\n"
   ]
  },
  {
   "cell_type": "code",
   "execution_count": 2,
   "id": "0c6bebce",
   "metadata": {},
   "outputs": [
    {
     "name": "stdout",
     "output_type": "stream",
     "text": [
      "Defaulting to user installation because normal site-packages is not writeable\n",
      "Collecting configparser\n",
      "  Downloading configparser-5.3.0-py3-none-any.whl (19 kB)\n",
      "Installing collected packages: configparser\n",
      "Successfully installed configparser-5.3.0\n",
      "Note: you may need to restart the kernel to use updated packages.\n"
     ]
    }
   ],
   "source": [
    "pip install configparser"
   ]
  },
  {
   "cell_type": "code",
   "execution_count": 3,
   "id": "9c4dda33",
   "metadata": {},
   "outputs": [
    {
     "name": "stdout",
     "output_type": "stream",
     "text": [
      "Defaulting to user installation because normal site-packages is not writeable\n",
      "Requirement already satisfied: pandas in c:\\programdata\\anaconda3\\lib\\site-packages (1.4.4)\n",
      "Requirement already satisfied: python-dateutil>=2.8.1 in c:\\programdata\\anaconda3\\lib\\site-packages (from pandas) (2.8.2)\n",
      "Requirement already satisfied: pytz>=2020.1 in c:\\programdata\\anaconda3\\lib\\site-packages (from pandas) (2022.1)\n",
      "Requirement already satisfied: numpy>=1.18.5 in c:\\programdata\\anaconda3\\lib\\site-packages (from pandas) (1.21.5)\n",
      "Requirement already satisfied: six>=1.5 in c:\\programdata\\anaconda3\\lib\\site-packages (from python-dateutil>=2.8.1->pandas) (1.16.0)\n",
      "Note: you may need to restart the kernel to use updated packages.\n"
     ]
    }
   ],
   "source": [
    "pip install pandas"
   ]
  },
  {
   "cell_type": "code",
   "execution_count": null,
   "id": "9a23e7ca",
   "metadata": {},
   "outputs": [],
   "source": [
    "input(\"weighh: \")\n",
    "unit = input(\"(k)g or (L)bs: \")\n",
    "if unit == \"k\":\n",
    "    "
   ]
  },
  {
   "cell_type": "code",
   "execution_count": 3,
   "id": "797a763a",
   "metadata": {},
   "outputs": [
    {
     "name": "stdout",
     "output_type": "stream",
     "text": [
      "True\n"
     ]
    }
   ],
   "source": [
    "price = 20\n",
    "print (price > 10 or price < 19)"
   ]
  },
  {
   "cell_type": "code",
   "execution_count": 4,
   "id": "172acc08",
   "metadata": {},
   "outputs": [
    {
     "name": "stdout",
     "output_type": "stream",
     "text": [
      "Defaulting to user installation because normal site-packages is not writeable\n",
      "Collecting googletrans==4.0.0-rc1\n",
      "  Downloading googletrans-4.0.0rc1.tar.gz (20 kB)\n",
      "  Preparing metadata (setup.py): started\n",
      "  Preparing metadata (setup.py): finished with status 'done'\n",
      "Collecting httpx==0.13.3\n",
      "  Downloading httpx-0.13.3-py3-none-any.whl (55 kB)\n",
      "     -------------------------------------- 55.1/55.1 kB 723.6 kB/s eta 0:00:00\n",
      "Collecting hstspreload\n",
      "  Downloading hstspreload-2022.12.1-py3-none-any.whl (1.5 MB)\n",
      "     ---------------------------------------- 1.5/1.5 MB 2.4 MB/s eta 0:00:00\n",
      "Requirement already satisfied: certifi in c:\\programdata\\anaconda3\\lib\\site-packages (from httpx==0.13.3->googletrans==4.0.0-rc1) (2022.9.14)\n",
      "Collecting httpcore==0.9.*\n",
      "  Downloading httpcore-0.9.1-py3-none-any.whl (42 kB)\n",
      "     ---------------------------------------- 42.6/42.6 kB 2.0 MB/s eta 0:00:00\n",
      "Requirement already satisfied: sniffio in c:\\programdata\\anaconda3\\lib\\site-packages (from httpx==0.13.3->googletrans==4.0.0-rc1) (1.2.0)\n",
      "Collecting chardet==3.*\n",
      "  Downloading chardet-3.0.4-py2.py3-none-any.whl (133 kB)\n",
      "     -------------------------------------- 133.4/133.4 kB 4.0 MB/s eta 0:00:00\n",
      "Collecting idna==2.*\n",
      "  Downloading idna-2.10-py2.py3-none-any.whl (58 kB)\n",
      "     ---------------------------------------- 58.8/58.8 kB 3.0 MB/s eta 0:00:00\n",
      "Collecting rfc3986<2,>=1.3\n",
      "  Downloading rfc3986-1.5.0-py2.py3-none-any.whl (31 kB)\n",
      "Collecting h2==3.*\n",
      "  Downloading h2-3.2.0-py2.py3-none-any.whl (65 kB)\n",
      "     ---------------------------------------- 65.0/65.0 kB 1.8 MB/s eta 0:00:00\n",
      "Collecting h11<0.10,>=0.8\n",
      "  Downloading h11-0.9.0-py2.py3-none-any.whl (53 kB)\n",
      "     ---------------------------------------- 53.6/53.6 kB ? eta 0:00:00\n",
      "Collecting hpack<4,>=3.0\n",
      "  Downloading hpack-3.0.0-py2.py3-none-any.whl (38 kB)\n",
      "Collecting hyperframe<6,>=5.2.0\n",
      "  Downloading hyperframe-5.2.0-py2.py3-none-any.whl (12 kB)\n",
      "Building wheels for collected packages: googletrans\n",
      "  Building wheel for googletrans (setup.py): started\n",
      "  Building wheel for googletrans (setup.py): finished with status 'done'\n",
      "  Created wheel for googletrans: filename=googletrans-4.0.0rc1-py3-none-any.whl size=17411 sha256=493e48a42fb1dea158d8d3863d21e069e0a834e7bc61f4d8a314609c474ba87d\n",
      "  Stored in directory: c:\\users\\shakil\\appdata\\local\\pip\\cache\\wheels\\60\\b3\\27\\d8aff3e2d5c2d0d97a117cdf0d5f13cd121e2c2b5fb49b55a0\n",
      "Successfully built googletrans\n",
      "Installing collected packages: rfc3986, hyperframe, hpack, h11, chardet, idna, hstspreload, h2, httpcore, httpx, googletrans\n",
      "Successfully installed chardet-3.0.4 googletrans-4.0.0rc1 h11-0.9.0 h2-3.2.0 hpack-3.0.0 hstspreload-2022.12.1 httpcore-0.9.1 httpx-0.13.3 hyperframe-5.2.0 idna-2.10 rfc3986-1.5.0\n",
      "Note: you may need to restart the kernel to use updated packages.\n"
     ]
    },
    {
     "name": "stderr",
     "output_type": "stream",
     "text": [
      "  WARNING: The script chardetect.exe is installed in 'C:\\Users\\shakil\\AppData\\Roaming\\Python\\Python39\\Scripts' which is not on PATH.\n",
      "  Consider adding this directory to PATH or, if you prefer to suppress this warning, use --no-warn-script-location.\n",
      "ERROR: pip's dependency resolver does not currently take into account all the packages that are installed. This behaviour is the source of the following dependency conflicts.\n",
      "spyder 5.2.2 requires pyqt5<5.13, which is not installed.\n",
      "spyder 5.2.2 requires pyqtwebengine<5.13, which is not installed.\n",
      "anaconda-project 0.11.1 requires ruamel-yaml, which is not installed.\n",
      "conda-repo-cli 1.0.20 requires clyent==1.2.1, but you have clyent 1.2.2 which is incompatible.\n",
      "conda-repo-cli 1.0.20 requires nbformat==5.4.0, but you have nbformat 5.5.0 which is incompatible.\n"
     ]
    }
   ],
   "source": [
    "pip install googletrans==4.0.0-rc1"
   ]
  },
  {
   "cell_type": "code",
   "execution_count": 1,
   "id": "043d3bbc",
   "metadata": {},
   "outputs": [
    {
     "name": "stdout",
     "output_type": "stream",
     "text": [
      "Defaulting to user installation because normal site-packages is not writeable\n",
      "Requirement already satisfied: nltk in c:\\programdata\\anaconda3\\lib\\site-packages (3.7)\n",
      "Requirement already satisfied: tqdm in c:\\programdata\\anaconda3\\lib\\site-packages (from nltk) (4.64.1)\n",
      "Requirement already satisfied: joblib in c:\\programdata\\anaconda3\\lib\\site-packages (from nltk) (1.1.0)\n",
      "Requirement already satisfied: regex>=2021.8.3 in c:\\programdata\\anaconda3\\lib\\site-packages (from nltk) (2022.7.9)\n",
      "Requirement already satisfied: click in c:\\programdata\\anaconda3\\lib\\site-packages (from nltk) (8.0.4)\n",
      "Requirement already satisfied: colorama in c:\\users\\shakil\\appdata\\roaming\\python\\python39\\site-packages (from click->nltk) (0.3.9)\n",
      "Defaulting to user installation because normal site-packages is not writeable\n",
      "Requirement already satisfied: efficient-apriori in c:\\users\\shakil\\appdata\\roaming\\python\\python39\\site-packages (2.0.1)\n",
      "Defaulting to user installation because normal site-packages is not writeable\n",
      "Requirement already satisfied: gsppy in c:\\users\\shakil\\appdata\\roaming\\python\\python39\\site-packages (1.1)\n"
     ]
    }
   ],
   "source": [
    "!pip install nltk\n",
    "!pip install efficient-apriori\n",
    "!pip install gsppy"
   ]
  },
  {
   "cell_type": "code",
   "execution_count": 2,
   "id": "8d34bd8f",
   "metadata": {},
   "outputs": [
    {
     "name": "stdout",
     "output_type": "stream",
     "text": [
      "Defaulting to user installation because normal site-packages is not writeable\n",
      "Requirement already satisfied: wordnet in c:\\users\\shakil\\appdata\\roaming\\python\\python39\\site-packages (0.0.1b2)\n",
      "Requirement already satisfied: colorama==0.3.9 in c:\\users\\shakil\\appdata\\roaming\\python\\python39\\site-packages (from wordnet) (0.3.9)\n"
     ]
    },
    {
     "ename": "NameError",
     "evalue": "name 'nltk' is not defined",
     "output_type": "error",
     "traceback": [
      "\u001b[1;31m---------------------------------------------------------------------------\u001b[0m",
      "\u001b[1;31mNameError\u001b[0m                                 Traceback (most recent call last)",
      "\u001b[1;32m~\\AppData\\Local\\Temp\\ipykernel_5372\\423208324.py\u001b[0m in \u001b[0;36m<module>\u001b[1;34m\u001b[0m\n\u001b[0;32m      1\u001b[0m \u001b[0mget_ipython\u001b[0m\u001b[1;33m(\u001b[0m\u001b[1;33m)\u001b[0m\u001b[1;33m.\u001b[0m\u001b[0msystem\u001b[0m\u001b[1;33m(\u001b[0m\u001b[1;34m'pip install wordnet'\u001b[0m\u001b[1;33m)\u001b[0m\u001b[1;33m\u001b[0m\u001b[1;33m\u001b[0m\u001b[0m\n\u001b[1;32m----> 2\u001b[1;33m \u001b[0mnltk\u001b[0m\u001b[1;33m.\u001b[0m\u001b[0mdownload\u001b[0m\u001b[1;33m(\u001b[0m\u001b[1;34m'punkt'\u001b[0m\u001b[1;33m)\u001b[0m\u001b[1;33m\u001b[0m\u001b[1;33m\u001b[0m\u001b[0m\n\u001b[0m\u001b[0;32m      3\u001b[0m \u001b[0mnltk\u001b[0m\u001b[1;33m.\u001b[0m\u001b[0mdownload\u001b[0m\u001b[1;33m(\u001b[0m\u001b[1;34m'stopwords'\u001b[0m\u001b[1;33m)\u001b[0m\u001b[1;33m\u001b[0m\u001b[1;33m\u001b[0m\u001b[0m\n\u001b[0;32m      4\u001b[0m \u001b[0mnltk\u001b[0m\u001b[1;33m.\u001b[0m\u001b[0mdownload\u001b[0m\u001b[1;33m(\u001b[0m\u001b[1;34m'corpus'\u001b[0m\u001b[1;33m)\u001b[0m\u001b[1;33m\u001b[0m\u001b[1;33m\u001b[0m\u001b[0m\n\u001b[0;32m      5\u001b[0m \u001b[0mnltk\u001b[0m\u001b[1;33m.\u001b[0m\u001b[0mdownload\u001b[0m\u001b[1;33m(\u001b[0m\u001b[1;34m'wordnet'\u001b[0m\u001b[1;33m)\u001b[0m\u001b[1;33m\u001b[0m\u001b[1;33m\u001b[0m\u001b[0m\n",
      "\u001b[1;31mNameError\u001b[0m: name 'nltk' is not defined"
     ]
    }
   ],
   "source": [
    "!pip install wordnet\n",
    "nltk.download('punkt')\n",
    "nltk.download('stopwords')\n",
    "nltk.download('corpus')\n",
    "nltk.download('wordnet')"
   ]
  },
  {
   "cell_type": "code",
   "execution_count": 68,
   "id": "fc09d049",
   "metadata": {},
   "outputs": [
    {
     "name": "stdout",
     "output_type": "stream",
     "text": [
      "Defaulting to user installation because normal site-packages is not writeable\n",
      "Requirement already satisfied: twint in c:\\users\\shakil\\appdata\\roaming\\python\\python39\\site-packages (2.1.20)\n",
      "Requirement already satisfied: aiohttp in c:\\users\\shakil\\appdata\\roaming\\python\\python39\\site-packages (from twint) (3.8.3)\n",
      "Requirement already satisfied: elasticsearch in c:\\users\\shakil\\appdata\\roaming\\python\\python39\\site-packages (from twint) (8.5.3)\n",
      "Requirement already satisfied: cchardet in c:\\users\\shakil\\appdata\\roaming\\python\\python39\\site-packages (from twint) (2.1.7)\n",
      "Requirement already satisfied: pysocks in c:\\programdata\\anaconda3\\lib\\site-packages (from twint) (1.7.1)\n",
      "Requirement already satisfied: aiohttp-socks in c:\\users\\shakil\\appdata\\roaming\\python\\python39\\site-packages (from twint) (0.7.1)\n",
      "Requirement already satisfied: beautifulsoup4 in c:\\programdata\\anaconda3\\lib\\site-packages (from twint) (4.11.1)\n",
      "Requirement already satisfied: pandas in c:\\programdata\\anaconda3\\lib\\site-packages (from twint) (1.4.4)\n",
      "Requirement already satisfied: geopy in c:\\users\\shakil\\appdata\\roaming\\python\\python39\\site-packages (from twint) (2.3.0)\n",
      "Requirement already satisfied: schedule in c:\\users\\shakil\\appdata\\roaming\\python\\python39\\site-packages (from twint) (1.1.0)\n",
      "Requirement already satisfied: googletransx in c:\\users\\shakil\\appdata\\roaming\\python\\python39\\site-packages (from twint) (2.4.2)\n",
      "Requirement already satisfied: aiodns in c:\\users\\shakil\\appdata\\roaming\\python\\python39\\site-packages (from twint) (3.0.0)\n",
      "Requirement already satisfied: fake-useragent in c:\\users\\shakil\\appdata\\roaming\\python\\python39\\site-packages (from twint) (1.1.1)\n",
      "Requirement already satisfied: pycares>=4.0.0 in c:\\users\\shakil\\appdata\\roaming\\python\\python39\\site-packages (from aiodns->twint) (4.2.2)\n",
      "Requirement already satisfied: multidict<7.0,>=4.5 in c:\\users\\shakil\\appdata\\roaming\\python\\python39\\site-packages (from aiohttp->twint) (6.0.3)\n",
      "Requirement already satisfied: yarl<2.0,>=1.0 in c:\\users\\shakil\\appdata\\roaming\\python\\python39\\site-packages (from aiohttp->twint) (1.8.2)\n",
      "Requirement already satisfied: frozenlist>=1.1.1 in c:\\users\\shakil\\appdata\\roaming\\python\\python39\\site-packages (from aiohttp->twint) (1.3.3)\n",
      "Requirement already satisfied: async-timeout<5.0,>=4.0.0a3 in c:\\users\\shakil\\appdata\\roaming\\python\\python39\\site-packages (from aiohttp->twint) (4.0.2)\n",
      "Requirement already satisfied: attrs>=17.3.0 in c:\\programdata\\anaconda3\\lib\\site-packages (from aiohttp->twint) (21.4.0)\n",
      "Requirement already satisfied: charset-normalizer<3.0,>=2.0 in c:\\programdata\\anaconda3\\lib\\site-packages (from aiohttp->twint) (2.0.4)\n",
      "Requirement already satisfied: aiosignal>=1.1.2 in c:\\users\\shakil\\appdata\\roaming\\python\\python39\\site-packages (from aiohttp->twint) (1.3.1)\n",
      "Requirement already satisfied: python-socks[asyncio]<3.0.0,>=2.0.0 in c:\\users\\shakil\\appdata\\roaming\\python\\python39\\site-packages (from aiohttp-socks->twint) (2.0.3)\n",
      "Requirement already satisfied: soupsieve>1.2 in c:\\programdata\\anaconda3\\lib\\site-packages (from beautifulsoup4->twint) (2.3.1)\n",
      "Requirement already satisfied: elastic-transport<9,>=8 in c:\\users\\shakil\\appdata\\roaming\\python\\python39\\site-packages (from elasticsearch->twint) (8.4.0)\n",
      "Requirement already satisfied: importlib-resources>=5.0 in c:\\users\\shakil\\appdata\\roaming\\python\\python39\\site-packages (from fake-useragent->twint) (5.10.1)\n",
      "Requirement already satisfied: geographiclib<3,>=1.52 in c:\\users\\shakil\\appdata\\roaming\\python\\python39\\site-packages (from geopy->twint) (2.0)\n",
      "Requirement already satisfied: requests in c:\\programdata\\anaconda3\\lib\\site-packages (from googletransx->twint) (2.28.1)\n",
      "Requirement already satisfied: python-dateutil>=2.8.1 in c:\\programdata\\anaconda3\\lib\\site-packages (from pandas->twint) (2.8.2)\n",
      "Requirement already satisfied: pytz>=2020.1 in c:\\programdata\\anaconda3\\lib\\site-packages (from pandas->twint) (2022.1)\n",
      "Requirement already satisfied: numpy>=1.18.5 in c:\\programdata\\anaconda3\\lib\\site-packages (from pandas->twint) (1.21.5)\n",
      "Requirement already satisfied: certifi in c:\\programdata\\anaconda3\\lib\\site-packages (from elastic-transport<9,>=8->elasticsearch->twint) (2022.9.14)\n",
      "Requirement already satisfied: urllib3<2,>=1.26.2 in c:\\programdata\\anaconda3\\lib\\site-packages (from elastic-transport<9,>=8->elasticsearch->twint) (1.26.11)\n",
      "Requirement already satisfied: zipp>=3.1.0 in c:\\programdata\\anaconda3\\lib\\site-packages (from importlib-resources>=5.0->fake-useragent->twint) (3.8.0)\n",
      "Requirement already satisfied: cffi>=1.5.0 in c:\\programdata\\anaconda3\\lib\\site-packages (from pycares>=4.0.0->aiodns->twint) (1.15.1)\n",
      "Requirement already satisfied: six>=1.5 in c:\\programdata\\anaconda3\\lib\\site-packages (from python-dateutil>=2.8.1->pandas->twint) (1.16.0)\n",
      "Requirement already satisfied: idna>=2.0 in c:\\users\\shakil\\appdata\\roaming\\python\\python39\\site-packages (from yarl<2.0,>=1.0->aiohttp->twint) (2.10)\n",
      "Requirement already satisfied: pycparser in c:\\programdata\\anaconda3\\lib\\site-packages (from cffi>=1.5.0->pycares>=4.0.0->aiodns->twint) (2.21)\n"
     ]
    }
   ],
   "source": [
    "!pip install twint"
   ]
  },
  {
   "cell_type": "code",
   "execution_count": 19,
   "id": "d64ff953",
   "metadata": {},
   "outputs": [],
   "source": [
    "import nest_asyncio\n",
    "nest_asyncio.apply()"
   ]
  },
  {
   "cell_type": "code",
   "execution_count": 18,
   "id": "bbf02e48",
   "metadata": {},
   "outputs": [
    {
     "name": "stderr",
     "output_type": "stream",
     "text": [
      "[nltk_data] Downloading package stopwords to\n",
      "[nltk_data]     C:\\Users\\shakil\\AppData\\Roaming\\nltk_data...\n",
      "[nltk_data]   Package stopwords is already up-to-date!\n"
     ]
    },
    {
     "data": {
      "text/plain": [
       "True"
      ]
     },
     "execution_count": 18,
     "metadata": {},
     "output_type": "execute_result"
    }
   ],
   "source": [
    "import twint\n",
    "import pandas as pd\n",
    "import re\n",
    "import string\n",
    "import nltk\n",
    "from nltk.corpus import words\n",
    "from nltk.corpus import stopwords\n",
    "nltk.download('stopwords')\n"
   ]
  },
  {
   "cell_type": "code",
   "execution_count": 20,
   "id": "4ac17874",
   "metadata": {},
   "outputs": [
    {
     "name": "stderr",
     "output_type": "stream",
     "text": [
      "C:\\Users\\shakil\\AppData\\Local\\Temp\\ipykernel_2476\\1381553570.py:1: DtypeWarning: Columns (0,1,2,3,7,8,9,10,11,12) have mixed types. Specify dtype option on import or set low_memory=False.\n",
      "  df=pd.read_csv(\"data.csv\")\n"
     ]
    }
   ],
   "source": [
    "df=pd.read_csv(\"data.csv\")"
   ]
  },
  {
   "cell_type": "code",
   "execution_count": 21,
   "id": "b8b84928",
   "metadata": {},
   "outputs": [
    {
     "data": {
      "text/plain": [
       "(179108, 13)"
      ]
     },
     "execution_count": 21,
     "metadata": {},
     "output_type": "execute_result"
    }
   ],
   "source": [
    "df.shape"
   ]
  },
  {
   "cell_type": "code",
   "execution_count": 22,
   "id": "367de990",
   "metadata": {},
   "outputs": [
    {
     "data": {
      "text/plain": [
       "0         If I smelled the scent of hand sanitizers toda...\n",
       "1         Hey @Yankees @YankeesPR and @MLB - wouldn't it...\n",
       "2         @diane3443 @wdunlap @realDonaldTrump Trump nev...\n",
       "3         @brookbanktv The one gift #COVID19 has give me...\n",
       "4         25 July : Media Bulletin on Novel #CoronaVirus...\n",
       "                                ...                        \n",
       "179103                                                  NaN\n",
       "179104                                                  NaN\n",
       "179105                                                  NaN\n",
       "179106                                                  NaN\n",
       "179107                                                  NaN\n",
       "Name: text, Length: 179108, dtype: object"
      ]
     },
     "execution_count": 22,
     "metadata": {},
     "output_type": "execute_result"
    }
   ],
   "source": [
    "df.text"
   ]
  },
  {
   "cell_type": "code",
   "execution_count": 23,
   "id": "9ce53437",
   "metadata": {},
   "outputs": [],
   "source": [
    "df.drop_duplicates(subset =\"text\",keep = False, inplace = True)"
   ]
  },
  {
   "cell_type": "code",
   "execution_count": 24,
   "id": "48be96d4",
   "metadata": {},
   "outputs": [
    {
     "data": {
      "text/plain": [
       "(4983, 13)"
      ]
     },
     "execution_count": 24,
     "metadata": {},
     "output_type": "execute_result"
    }
   ],
   "source": [
    "df.shape"
   ]
  },
  {
   "cell_type": "code",
   "execution_count": 25,
   "id": "e93e6bbb",
   "metadata": {},
   "outputs": [
    {
     "data": {
      "text/plain": [
       "0    if i smelled the scent of hand sanitizers toda...\n",
       "1    hey @yankees @yankeespr and @mlb - wouldn't it...\n",
       "2    @diane3443 @wdunlap @realdonaldtrump trump nev...\n",
       "3    @brookbanktv the one gift #covid19 has give me...\n",
       "4    25 july : media bulletin on novel #coronavirus...\n",
       "Name: text, dtype: object"
      ]
     },
     "execution_count": 25,
     "metadata": {},
     "output_type": "execute_result"
    }
   ],
   "source": [
    "df[\"text\"] = df[\"text\"].str.lower()\n",
    "df.text.head()"
   ]
  },
  {
   "cell_type": "code",
   "execution_count": 26,
   "id": "208499d6",
   "metadata": {},
   "outputs": [],
   "source": [
    "texts=df.text\n",
    "remove_url=lambda x:re.sub(r\"https\\S+\",\"\",str(x))\n",
    "texts_lr=texts.apply(remove_url)"
   ]
  },
  {
   "cell_type": "code",
   "execution_count": 27,
   "id": "8cc700ae",
   "metadata": {},
   "outputs": [],
   "source": [
    "from nltk.tokenize import TweetTokenizer\n",
    "tknzr = TweetTokenizer(strip_handles=True)\n",
    "texts_lr = texts_lr.apply(lambda row: tknzr.tokenize(row))"
   ]
  },
  {
   "cell_type": "code",
   "execution_count": 28,
   "id": "ed2101b7",
   "metadata": {},
   "outputs": [
    {
     "data": {
      "text/plain": [
       "0       [if, i, smelled, the, scent, of, hand, sanitiz...\n",
       "1       [hey, and, -, wouldn't, it, have, made, more, ...\n",
       "2       [trump, never, once, claimed, #covid19, was, a...\n",
       "3       [the, one, gift, #covid19, has, give, me, is, ...\n",
       "4       [25, july, :, media, bulletin, on, novel, #cor...\n",
       "                              ...                        \n",
       "4994    [', major, ', breakthrough, in, #covid19, drug...\n",
       "4995    [u, -, 23, coach, david, prats, had, already, ...\n",
       "4996    [that's, your, plan, to, stop, the, global, pr...\n",
       "4997    [if, you, ’, re, waiting, for, a, break, from,...\n",
       "4998    [#classicozo, #rihannaxtiwa, #alreadyvideo, #b...\n",
       "Name: text, Length: 4983, dtype: object"
      ]
     },
     "execution_count": 28,
     "metadata": {},
     "output_type": "execute_result"
    }
   ],
   "source": [
    "texts_lr"
   ]
  },
  {
   "cell_type": "code",
   "execution_count": 29,
   "id": "7d8d7298",
   "metadata": {},
   "outputs": [],
   "source": [
    "# Removing multiple spaces\n",
    "remove_space=lambda x:re.sub(r'\\s+', ' ', str(x))\n",
    "texts_lr=texts_lr.apply(remove_space)"
   ]
  },
  {
   "cell_type": "code",
   "execution_count": 30,
   "id": "95d3fbf4",
   "metadata": {},
   "outputs": [],
   "source": [
    "# Removing single words\n",
    "remove_sword=lambda x:re.sub(r'(?:^| )\\w(?:$| )', ' ', str(x))\n",
    "texts_lr=texts_lr.apply(remove_sword)"
   ]
  },
  {
   "cell_type": "code",
   "execution_count": 31,
   "id": "6ade0308",
   "metadata": {},
   "outputs": [],
   "source": [
    " # Removing punctions\n",
    "remove_punc=lambda x:re.sub(r'[^\\w\\s]', ' ', str(x))\n",
    "texts_lr=texts_lr.apply(remove_punc)"
   ]
  },
  {
   "cell_type": "code",
   "execution_count": 32,
   "id": "f3662207",
   "metadata": {},
   "outputs": [],
   "source": [
    "# Removing special charecters\n",
    "remove_spec=lambda x:re.sub(r'[^\\x00-\\x7f]',r'',str(x)) #removing special charecters\n",
    "texts_lr=texts_lr.apply(remove_spec) "
   ]
  },
  {
   "cell_type": "code",
   "execution_count": 33,
   "id": "3386770c",
   "metadata": {},
   "outputs": [],
   "source": [
    "# Removing stop words\n",
    "stop_words=set(stopwords.words(\"english\"))\n",
    "remove_words=lambda x: \" \".join([word for word in x.split() if word not in stop_words])\n",
    "texts_lr=texts_lr.apply(remove_words)"
   ]
  },
  {
   "cell_type": "code",
   "execution_count": 34,
   "id": "4af5147a",
   "metadata": {},
   "outputs": [],
   "source": [
    "def remove_emoji(text):\n",
    "    emoji_pattern = re.compile(\"[\"\n",
    "                           u\"\\U0001F600-\\U0001F64F\"  # emoticons\n",
    "                           u\"\\U0001F300-\\U0001F5FF\"  # symbols & pictographs\n",
    "                           u\"\\U0001F680-\\U0001F6FF\"  # transport & map symbols\n",
    "                           u\"\\U0001F1E0-\\U0001F1FF\"  # flags (iOS)\n",
    "                           u\"\\U00002702-\\U000027B0\"\n",
    "                           u\"\\U000024C2-\\U0001F251\"\n",
    "                           \"]+\", flags=re.UNICODE)\n",
    "    return emoji_pattern.sub(r'', text)\n",
    "\n",
    "remove_emoji(\"Omg another death\")\n",
    "texts_lr=texts_lr.apply(lambda x : remove_emoji(x))"
   ]
  },
  {
   "cell_type": "code",
   "execution_count": 35,
   "id": "93d7323f",
   "metadata": {},
   "outputs": [],
   "source": [
    "# Removing numbers\n",
    "remove_num=lambda x:re.sub(r'[1-9]', ' ', str(x))\n",
    "texts_lr=texts_lr.apply(remove_num)"
   ]
  },
  {
   "cell_type": "code",
   "execution_count": 36,
   "id": "b61d6bb8",
   "metadata": {},
   "outputs": [
    {
     "name": "stderr",
     "output_type": "stream",
     "text": [
      "C:\\Users\\shakil\\AppData\\Local\\Temp\\ipykernel_2476\\1285575013.py:1: UserWarning: Pandas doesn't allow columns to be created via a new attribute name - see https://pandas.pydata.org/pandas-docs/stable/indexing.html#attribute-access\n",
      "  df.tweet= texts_lr\n"
     ]
    },
    {
     "data": {
      "text/html": [
       "<div>\n",
       "<style scoped>\n",
       "    .dataframe tbody tr th:only-of-type {\n",
       "        vertical-align: middle;\n",
       "    }\n",
       "\n",
       "    .dataframe tbody tr th {\n",
       "        vertical-align: top;\n",
       "    }\n",
       "\n",
       "    .dataframe thead th {\n",
       "        text-align: right;\n",
       "    }\n",
       "</style>\n",
       "<table border=\"1\" class=\"dataframe\">\n",
       "  <thead>\n",
       "    <tr style=\"text-align: right;\">\n",
       "      <th></th>\n",
       "      <th>user_name</th>\n",
       "      <th>user_location</th>\n",
       "      <th>user_description</th>\n",
       "      <th>user_created</th>\n",
       "      <th>user_followers</th>\n",
       "      <th>user_friends</th>\n",
       "      <th>user_favourites</th>\n",
       "      <th>user_verified</th>\n",
       "      <th>date</th>\n",
       "      <th>text</th>\n",
       "      <th>hashtags</th>\n",
       "      <th>source</th>\n",
       "      <th>is_retweet</th>\n",
       "    </tr>\n",
       "  </thead>\n",
       "  <tbody>\n",
       "    <tr>\n",
       "      <th>0</th>\n",
       "      <td>ᏉᎥ☻լꂅϮ</td>\n",
       "      <td>astroworld</td>\n",
       "      <td>wednesday addams as a disney princess keepin i...</td>\n",
       "      <td>26/05/2017 05:46</td>\n",
       "      <td>624.0</td>\n",
       "      <td>950.0</td>\n",
       "      <td>18775.0</td>\n",
       "      <td>False</td>\n",
       "      <td>25/07/2020 12:27</td>\n",
       "      <td>if i smelled the scent of hand sanitizers toda...</td>\n",
       "      <td>NaN</td>\n",
       "      <td>Twitter for iPhone</td>\n",
       "      <td>False</td>\n",
       "    </tr>\n",
       "    <tr>\n",
       "      <th>1</th>\n",
       "      <td>Tom Basile 🇺🇸</td>\n",
       "      <td>New York, NY</td>\n",
       "      <td>Husband, Father, Columnist &amp; Commentator. Auth...</td>\n",
       "      <td>16/04/2009 20:06</td>\n",
       "      <td>2253.0</td>\n",
       "      <td>1677.0</td>\n",
       "      <td>24.0</td>\n",
       "      <td>True</td>\n",
       "      <td>25/07/2020 12:27</td>\n",
       "      <td>hey @yankees @yankeespr and @mlb - wouldn't it...</td>\n",
       "      <td>NaN</td>\n",
       "      <td>Twitter for Android</td>\n",
       "      <td>False</td>\n",
       "    </tr>\n",
       "    <tr>\n",
       "      <th>2</th>\n",
       "      <td>Time4fisticuffs</td>\n",
       "      <td>Pewee Valley, KY</td>\n",
       "      <td>#Christian #Catholic #Conservative #Reagan #Re...</td>\n",
       "      <td>28/02/2009 18:57</td>\n",
       "      <td>9275.0</td>\n",
       "      <td>9525.0</td>\n",
       "      <td>7254.0</td>\n",
       "      <td>False</td>\n",
       "      <td>25/07/2020 12:27</td>\n",
       "      <td>@diane3443 @wdunlap @realdonaldtrump trump nev...</td>\n",
       "      <td>['COVID19']</td>\n",
       "      <td>Twitter for Android</td>\n",
       "      <td>False</td>\n",
       "    </tr>\n",
       "    <tr>\n",
       "      <th>3</th>\n",
       "      <td>ethel mertz</td>\n",
       "      <td>Stuck in the Middle</td>\n",
       "      <td>#Browns #Indians #ClevelandProud #[]_[] #Cavs ...</td>\n",
       "      <td>07/03/2019 01:45</td>\n",
       "      <td>197.0</td>\n",
       "      <td>987.0</td>\n",
       "      <td>1488.0</td>\n",
       "      <td>False</td>\n",
       "      <td>25/07/2020 12:27</td>\n",
       "      <td>@brookbanktv the one gift #covid19 has give me...</td>\n",
       "      <td>['COVID19']</td>\n",
       "      <td>Twitter for iPhone</td>\n",
       "      <td>False</td>\n",
       "    </tr>\n",
       "    <tr>\n",
       "      <th>4</th>\n",
       "      <td>DIPR-J&amp;K</td>\n",
       "      <td>Jammu and Kashmir</td>\n",
       "      <td>🖊️Official Twitter handle of Department of Inf...</td>\n",
       "      <td>12/02/2017 06:45</td>\n",
       "      <td>101009.0</td>\n",
       "      <td>168.0</td>\n",
       "      <td>101.0</td>\n",
       "      <td>False</td>\n",
       "      <td>25/07/2020 12:27</td>\n",
       "      <td>25 july : media bulletin on novel #coronavirus...</td>\n",
       "      <td>['CoronaVirusUpdates', 'COVID19']</td>\n",
       "      <td>Twitter for Android</td>\n",
       "      <td>False</td>\n",
       "    </tr>\n",
       "  </tbody>\n",
       "</table>\n",
       "</div>"
      ],
      "text/plain": [
       "         user_name         user_location  \\\n",
       "0           ᏉᎥ☻լꂅϮ            astroworld   \n",
       "1    Tom Basile 🇺🇸          New York, NY   \n",
       "2  Time4fisticuffs      Pewee Valley, KY   \n",
       "3      ethel mertz  Stuck in the Middle    \n",
       "4         DIPR-J&K     Jammu and Kashmir   \n",
       "\n",
       "                                    user_description      user_created  \\\n",
       "0  wednesday addams as a disney princess keepin i...  26/05/2017 05:46   \n",
       "1  Husband, Father, Columnist & Commentator. Auth...  16/04/2009 20:06   \n",
       "2  #Christian #Catholic #Conservative #Reagan #Re...  28/02/2009 18:57   \n",
       "3  #Browns #Indians #ClevelandProud #[]_[] #Cavs ...  07/03/2019 01:45   \n",
       "4  🖊️Official Twitter handle of Department of Inf...  12/02/2017 06:45   \n",
       "\n",
       "   user_followers  user_friends  user_favourites user_verified  \\\n",
       "0           624.0         950.0          18775.0         False   \n",
       "1          2253.0        1677.0             24.0          True   \n",
       "2          9275.0        9525.0           7254.0         False   \n",
       "3           197.0         987.0           1488.0         False   \n",
       "4        101009.0         168.0            101.0         False   \n",
       "\n",
       "               date                                               text  \\\n",
       "0  25/07/2020 12:27  if i smelled the scent of hand sanitizers toda...   \n",
       "1  25/07/2020 12:27  hey @yankees @yankeespr and @mlb - wouldn't it...   \n",
       "2  25/07/2020 12:27  @diane3443 @wdunlap @realdonaldtrump trump nev...   \n",
       "3  25/07/2020 12:27  @brookbanktv the one gift #covid19 has give me...   \n",
       "4  25/07/2020 12:27  25 july : media bulletin on novel #coronavirus...   \n",
       "\n",
       "                            hashtags               source is_retweet  \n",
       "0                                NaN   Twitter for iPhone      False  \n",
       "1                                NaN  Twitter for Android      False  \n",
       "2                        ['COVID19']  Twitter for Android      False  \n",
       "3                        ['COVID19']   Twitter for iPhone      False  \n",
       "4  ['CoronaVirusUpdates', 'COVID19']  Twitter for Android      False  "
      ]
     },
     "execution_count": 36,
     "metadata": {},
     "output_type": "execute_result"
    }
   ],
   "source": [
    "df.tweet= texts_lr\n",
    "df.head()"
   ]
  },
  {
   "cell_type": "code",
   "execution_count": 37,
   "id": "64afb2fb",
   "metadata": {},
   "outputs": [
    {
     "name": "stderr",
     "output_type": "stream",
     "text": [
      "[nltk_data] Downloading package omw-1.4 to\n",
      "[nltk_data]     C:\\Users\\shakil\\AppData\\Roaming\\nltk_data...\n",
      "[nltk_data]   Package omw-1.4 is already up-to-date!\n"
     ]
    },
    {
     "data": {
      "text/plain": [
       "True"
      ]
     },
     "execution_count": 37,
     "metadata": {},
     "output_type": "execute_result"
    }
   ],
   "source": [
    "import nltk\n",
    "nltk.download('omw-1.4')"
   ]
  },
  {
   "cell_type": "code",
   "execution_count": 38,
   "id": "c762fc29",
   "metadata": {},
   "outputs": [],
   "source": [
    "#Lemmatizer\n",
    "from nltk.stem import WordNetLemmatizer\n",
    "lemmatizer = WordNetLemmatizer()\n",
    "def lemmatize_words(text):\n",
    "    return \" \".join([lemmatizer.lemmatize(word) for word in text.split()])\n",
    "df['text']=df['text'].apply(lambda text: lemmatize_words(text))"
   ]
  },
  {
   "cell_type": "code",
   "execution_count": 39,
   "id": "c57e3660",
   "metadata": {},
   "outputs": [],
   "source": [
    "#Steeming\n",
    "from nltk.stem.porter import PorterStemmer\n",
    "stemmer = PorterStemmer()\n",
    "def stem_words(text):\n",
    "  return \" \".join([stemmer.stem(word) for word in text.split()])\n",
    "df['text']=df['text'].apply(lambda text: stem_words(text))"
   ]
  },
  {
   "cell_type": "code",
   "execution_count": 40,
   "id": "7867fd91",
   "metadata": {},
   "outputs": [
    {
     "name": "stderr",
     "output_type": "stream",
     "text": [
      "<>:2: DeprecationWarning: invalid escape sequence \\w\n",
      "<>:2: DeprecationWarning: invalid escape sequence \\w\n",
      "C:\\Users\\shakil\\AppData\\Local\\Temp\\ipykernel_2476\\2234547970.py:2: DeprecationWarning: invalid escape sequence \\w\n",
      "  regexp=RegexpTokenizer('\\w+')\n"
     ]
    }
   ],
   "source": [
    " from nltk.tokenize import RegexpTokenizer\n",
    "regexp=RegexpTokenizer('\\w+')\n",
    "df['text']=df['text'].apply(regexp.tokenize)"
   ]
  },
  {
   "cell_type": "code",
   "execution_count": 41,
   "id": "71e00ca0",
   "metadata": {},
   "outputs": [],
   "source": [
    "data = df.text"
   ]
  },
  {
   "cell_type": "code",
   "execution_count": 42,
   "id": "4cb82188",
   "metadata": {
    "scrolled": true
   },
   "outputs": [
    {
     "data": {
      "text/html": [
       "<div>\n",
       "<style scoped>\n",
       "    .dataframe tbody tr th:only-of-type {\n",
       "        vertical-align: middle;\n",
       "    }\n",
       "\n",
       "    .dataframe tbody tr th {\n",
       "        vertical-align: top;\n",
       "    }\n",
       "\n",
       "    .dataframe thead th {\n",
       "        text-align: right;\n",
       "    }\n",
       "</style>\n",
       "<table border=\"1\" class=\"dataframe\">\n",
       "  <thead>\n",
       "    <tr style=\"text-align: right;\">\n",
       "      <th></th>\n",
       "      <th>text</th>\n",
       "    </tr>\n",
       "  </thead>\n",
       "  <tbody>\n",
       "    <tr>\n",
       "      <th>0</th>\n",
       "      <td>[if, i, smell, the, scent, of, hand, sanit, to...</td>\n",
       "    </tr>\n",
       "    <tr>\n",
       "      <th>1</th>\n",
       "      <td>[hey, yanke, yankeespr, and, mlb, wouldn, t, i...</td>\n",
       "    </tr>\n",
       "    <tr>\n",
       "      <th>2</th>\n",
       "      <td>[diane3443, wdunlap, realdonaldtrump, trump, n...</td>\n",
       "    </tr>\n",
       "    <tr>\n",
       "      <th>3</th>\n",
       "      <td>[brookbanktv, the, one, gift, covid19, ha, giv...</td>\n",
       "    </tr>\n",
       "    <tr>\n",
       "      <th>4</th>\n",
       "      <td>[25, juli, medium, bulletin, on, novel, corona...</td>\n",
       "    </tr>\n",
       "    <tr>\n",
       "      <th>...</th>\n",
       "      <td>...</td>\n",
       "    </tr>\n",
       "    <tr>\n",
       "      <th>4994</th>\n",
       "      <td>[major, breakthrough, in, covid19, drug, make,...</td>\n",
       "    </tr>\n",
       "    <tr>\n",
       "      <th>4995</th>\n",
       "      <td>[u, 23, coach, david, prat, had, alreadi, take...</td>\n",
       "    </tr>\n",
       "    <tr>\n",
       "      <th>4996</th>\n",
       "      <td>[that, your, plan, to, stop, the, global, prot...</td>\n",
       "    </tr>\n",
       "    <tr>\n",
       "      <th>4997</th>\n",
       "      <td>[if, you, r, wait, for, a, break, from, bad, n...</td>\n",
       "    </tr>\n",
       "    <tr>\n",
       "      <th>4998</th>\n",
       "      <td>[classicozo, rihannaxtiwa, alreadyvideo, bbnai...</td>\n",
       "    </tr>\n",
       "  </tbody>\n",
       "</table>\n",
       "<p>4983 rows × 1 columns</p>\n",
       "</div>"
      ],
      "text/plain": [
       "                                                   text\n",
       "0     [if, i, smell, the, scent, of, hand, sanit, to...\n",
       "1     [hey, yanke, yankeespr, and, mlb, wouldn, t, i...\n",
       "2     [diane3443, wdunlap, realdonaldtrump, trump, n...\n",
       "3     [brookbanktv, the, one, gift, covid19, ha, giv...\n",
       "4     [25, juli, medium, bulletin, on, novel, corona...\n",
       "...                                                 ...\n",
       "4994  [major, breakthrough, in, covid19, drug, make,...\n",
       "4995  [u, 23, coach, david, prat, had, alreadi, take...\n",
       "4996  [that, your, plan, to, stop, the, global, prot...\n",
       "4997  [if, you, r, wait, for, a, break, from, bad, n...\n",
       "4998  [classicozo, rihannaxtiwa, alreadyvideo, bbnai...\n",
       "\n",
       "[4983 rows x 1 columns]"
      ]
     },
     "metadata": {},
     "output_type": "display_data"
    }
   ],
   "source": [
    "import pandas as pd \n",
    "\n",
    "result = pd.DataFrame(data)\n",
    "display(result)"
   ]
  },
  {
   "cell_type": "code",
   "execution_count": 43,
   "id": "ceba069c",
   "metadata": {},
   "outputs": [],
   "source": [
    "result.to_csv('result.txt')"
   ]
  },
  {
   "cell_type": "code",
   "execution_count": 44,
   "id": "075d6bee",
   "metadata": {},
   "outputs": [
    {
     "name": "stdout",
     "output_type": "stream",
     "text": [
      "4967\n"
     ]
    }
   ],
   "source": [
    "t_transaction=[]\n",
    "for i in range(len(df['text'])):\n",
    "    try:\n",
    "        word=df['text'][i]\n",
    "        t_transaction.append(word)\n",
    "    except:\n",
    "      pass\n",
    "print(len(t_transaction))"
   ]
  },
  {
   "cell_type": "code",
   "execution_count": 45,
   "id": "bde82ed6",
   "metadata": {},
   "outputs": [
    {
     "name": "stdout",
     "output_type": "stream",
     "text": [
      "['diane3443', 'wdunlap', 'realdonaldtrump', 'trump', 'never', 'onc', 'claim', 'covid19', 'wa', 'a', 'hoax', 'we', 'all', 'claim', 'that', 'thi', 'effort', 'to', 'https', 't', 'co', 'jkk8vhwhb3']\n"
     ]
    }
   ],
   "source": [
    "print(t_transaction[2])"
   ]
  },
  {
   "cell_type": "code",
   "execution_count": 46,
   "id": "5e1e28bd",
   "metadata": {},
   "outputs": [],
   "source": [
    "from gsppy.gsp import GSP"
   ]
  },
  {
   "cell_type": "code",
   "execution_count": 47,
   "id": "9ec69d23",
   "metadata": {},
   "outputs": [
    {
     "name": "stdout",
     "output_type": "stream",
     "text": [
      "========= GSP =========\n",
      "GSP: [{('apple',): 1, ('beef',): 3, ('milk',): 2, ('banana',): 1, ('shake',): 2}, {('beef', 'apple'): 1, ('beef', 'banana'): 1, ('beef', 'shake'): 1, ('milk', 'beef'): 2, ('shake', 'beef'): 1}]\n"
     ]
    }
   ],
   "source": [
    " transactions = [['milk', 'beef', 'shake'],\n",
    "                ['milk', 'beef', 'apple'],\n",
    "                ['shake', 'beef', 'banana']\n",
    "]\n",
    "# this operation requires hours of computation!!!\n",
    "resultGSP = GSP(transactions).search(0.3)\n",
    "print(\"========= GSP =========\")\n",
    "print(\"GSP: {}\".format(resultGSP))"
   ]
  },
  {
   "cell_type": "code",
   "execution_count": 48,
   "id": "8d32a2e2",
   "metadata": {},
   "outputs": [
    {
     "name": "stdout",
     "output_type": "stream",
     "text": [
      "========= APRIORI =========\n",
      "{apple, milk} -> {beef} (conf: 1.000, supp: 0.333, lift: 1.000, conv: 0.000)\n",
      "{banana, shake} -> {beef} (conf: 1.000, supp: 0.333, lift: 1.000, conv: 0.000)\n",
      "{milk, shake} -> {beef} (conf: 1.000, supp: 0.333, lift: 1.000, conv: 0.000)\n",
      "{apple, beef} -> {milk} (conf: 1.000, supp: 0.333, lift: 1.500, conv: 333333333.333)\n",
      "{banana, beef} -> {shake} (conf: 1.000, supp: 0.333, lift: 1.500, conv: 333333333.333)\n"
     ]
    }
   ],
   "source": [
    "from efficient_apriori import apriori\n",
    "itemsets, rules = apriori(transactions, min_support=0.3,  min_confidence=1)\n",
    "print(\"========= APRIORI =========\")\n",
    "\n",
    "rules_rhs = filter(lambda rule: len(rule.lhs) == 2 and len(rule.rhs) == 1, rules)\n",
    "for rule in sorted(rules_rhs, key=lambda rule: rule.lift):\n",
    "  print(rule) "
   ]
  },
  {
   "cell_type": "code",
   "execution_count": 49,
   "id": "15987611",
   "metadata": {},
   "outputs": [
    {
     "name": "stdout",
     "output_type": "stream",
     "text": [
      "========= GSP =========\n",
      "GSP: [{('if',): 304, ('i',): 459, ('of',): 1437, ('the',): 2090, ('on',): 604, ('in',): 1332, ('that',): 411, ('https',): 4654, ('t',): 4678, ('co',): 4654, ('and',): 1239, ('it',): 502, ('have',): 420, ('to',): 1655, ('a',): 1339, ('covid19',): 2737, ('we',): 370, ('thi',): 460, ('ha',): 322, ('is',): 785, ('for',): 862, ('coronaviru',): 376, ('you',): 472, ('your',): 368, ('at',): 420, ('case',): 432, ('from',): 424, ('be',): 382, ('are',): 458, ('covid',): 396, ('19',): 311, ('test',): 266, ('our',): 261, ('with',): 468, ('amp',): 289, ('new',): 351, ('not',): 301, ('by',): 351}, {('covid', '19'): 292, ('covid19', 'https'): 342, ('https', 't'): 4654, ('of', 'covid19'): 268, ('t', 'co'): 4654}, {('covid19', 'https', 't'): 342, ('https', 't', 'co'): 4654}, {('covid19', 'https', 't', 'co'): 342}]\n"
     ]
    }
   ],
   "source": [
    "##REAL DATASET\n",
    "resultGSP = GSP(t_transaction).search(0.05)\n",
    "print(\"========= GSP =========\")\n",
    "print(\"GSP: {}\".format(resultGSP))"
   ]
  },
  {
   "cell_type": "code",
   "execution_count": null,
   "id": "e7a37bb9",
   "metadata": {},
   "outputs": [],
   "source": []
  },
  {
   "cell_type": "code",
   "execution_count": null,
   "id": "3c45503a",
   "metadata": {},
   "outputs": [],
   "source": []
  },
  {
   "cell_type": "code",
   "execution_count": 50,
   "id": "c6dad7a0",
   "metadata": {},
   "outputs": [
    {
     "name": "stdout",
     "output_type": "stream",
     "text": [
      "========= GSP =========\n",
      "GSP: [{('i',): 4, ('if',): 3, ('the',): 16, ('of',): 16, ('on',): 7, ('today',): 3, ('in',): 13, ('were',): 3, ('that',): 5, ('https',): 47, ('t',): 47, ('co',): 47, ('and',): 13, ('it',): 5, ('have',): 6, ('more',): 3, ('to',): 18, ('their',): 3, ('a',): 13, ('realdonaldtrump',): 3, ('covid19',): 32, ('we',): 3, ('thi',): 3, ('one',): 4, ('ha',): 3, ('is',): 5, ('an',): 5, ('for',): 10, ('juli',): 5, ('coronaviru',): 4, ('death',): 3, ('will',): 3, ('visit',): 3, ('here',): 3, ('at',): 5, ('case',): 6, ('from',): 5, ('be',): 4, ('hospit',): 3, ('covid',): 7, ('19',): 6, ('updat',): 3, ('tamilnadu',): 3, ('test',): 4, ('chennai',): 3, ('back',): 3, ('our',): 4, ('review',): 3, ('can',): 3, ('posit',): 4, ('tn',): 3, ('2',): 3, ('1',): 4, ('total',): 4, ('s',): 3}, {('covid', '19'): 6, ('covid19', 'https'): 4, ('from', 'covid19'): 3, ('https', 't'): 47, ('in', 'the'): 3, ('of', 'covid19'): 4, ('review', 'of'): 3, ('t', 'co'): 47}, {('covid19', 'https', 't'): 4, ('https', 't', 'co'): 47}, {('covid19', 'https', 't', 'co'): 4}]\n"
     ]
    }
   ],
   "source": [
    " ##REAL DATASET\n",
    "resultGSP = GSP(t_transaction[:50]).search(0.05)\n",
    "print(\"========= GSP =========\")\n",
    "print(\"GSP: {}\".format(resultGSP))"
   ]
  },
  {
   "cell_type": "code",
   "execution_count": 39,
   "id": "771e1b64",
   "metadata": {},
   "outputs": [
    {
     "name": "stdout",
     "output_type": "stream",
     "text": [
      "Defaulting to user installation because normal site-packages is not writeable\n",
      "Collecting Cmake\n",
      "  Downloading cmake-3.25.0-py2.py3-none-win_amd64.whl (32.6 MB)\n",
      "     ---------------------------------------- 32.6/32.6 MB 2.5 MB/s eta 0:00:00\n",
      "Installing collected packages: Cmake\n",
      "Successfully installed Cmake-3.25.0\n",
      "Note: you may need to restart the kernel to use updated packages.\n"
     ]
    },
    {
     "name": "stderr",
     "output_type": "stream",
     "text": [
      "  WARNING: The scripts cmake.exe, cpack.exe and ctest.exe are installed in 'C:\\Users\\shakil\\AppData\\Roaming\\Python\\Python39\\Scripts' which is not on PATH.\n",
      "  Consider adding this directory to PATH or, if you prefer to suppress this warning, use --no-warn-script-location.\n"
     ]
    }
   ],
   "source": [
    "pip install Cmake"
   ]
  },
  {
   "cell_type": "code",
   "execution_count": 4,
   "id": "6f108007",
   "metadata": {},
   "outputs": [
    {
     "name": "stdout",
     "output_type": "stream",
     "text": [
      "Defaulting to user installation because normal site-packages is not writeable\n",
      "Requirement already satisfied: numpy in c:\\programdata\\anaconda3\\lib\\site-packages (1.21.5)\n",
      "Note: you may need to restart the kernel to use updated packages.\n"
     ]
    }
   ],
   "source": [
    "pip install numpy"
   ]
  },
  {
   "cell_type": "code",
   "execution_count": 2,
   "id": "966f74b7",
   "metadata": {},
   "outputs": [],
   "source": [
    "\n",
    "\n",
    "import csv\n",
    "import numpy as np\n",
    "\n"
   ]
  },
  {
   "cell_type": "code",
   "execution_count": 3,
   "id": "ef313324",
   "metadata": {},
   "outputs": [],
   "source": [
    "\n",
    "\n",
    "from pycspade.helpers import spade, print_result\n",
    "\n"
   ]
  },
  {
   "cell_type": "code",
   "execution_count": 9,
   "id": "d6b48afb",
   "metadata": {},
   "outputs": [
    {
     "name": "stdout",
     "output_type": "stream",
     "text": [
      "Defaulting to user installation because normal site-packages is not writeable\n",
      "Requirement already satisfied: pycspade in c:\\users\\shakil\\appdata\\roaming\\python\\python39\\site-packages (0.6.6)\n",
      "Requirement already satisfied: Cython in c:\\programdata\\anaconda3\\lib\\site-packages (from pycspade) (0.29.32)\n",
      "Note: you may need to restart the kernel to use updated packages.\n"
     ]
    }
   ],
   "source": [
    "pip install pycspade"
   ]
  },
  {
   "cell_type": "code",
   "execution_count": 10,
   "id": "d6ac1c2f",
   "metadata": {},
   "outputs": [],
   "source": [
    "from pycspade.helpers import spade, print_result"
   ]
  },
  {
   "cell_type": "code",
   "execution_count": 11,
   "id": "764cc02e",
   "metadata": {},
   "outputs": [
    {
     "ename": "RuntimeError",
     "evalue": "can't open data file: C:\\Users\\shakil\\AppData\\Local\\Temp\\cspade-0w65ROuqgnvUY0qm.tpose",
     "output_type": "error",
     "traceback": [
      "\u001b[1;31m---------------------------------------------------------------------------\u001b[0m",
      "\u001b[1;31mRuntimeError\u001b[0m                              Traceback (most recent call last)",
      "\u001b[1;32m~\\AppData\\Local\\Temp\\ipykernel_11712\\999623327.py\u001b[0m in \u001b[0;36m<module>\u001b[1;34m\u001b[0m\n\u001b[1;32m----> 1\u001b[1;33m \u001b[0mresult\u001b[0m \u001b[1;33m=\u001b[0m \u001b[0mspade\u001b[0m\u001b[1;33m(\u001b[0m\u001b[0mfilename\u001b[0m\u001b[1;33m=\u001b[0m\u001b[1;34m'spa.txt'\u001b[0m\u001b[1;33m,\u001b[0m \u001b[0msupport\u001b[0m\u001b[1;33m=\u001b[0m\u001b[1;36m0.5\u001b[0m\u001b[1;33m,\u001b[0m \u001b[0mparse\u001b[0m\u001b[1;33m=\u001b[0m\u001b[1;32mTrue\u001b[0m\u001b[1;33m)\u001b[0m\u001b[1;33m\u001b[0m\u001b[1;33m\u001b[0m\u001b[0m\n\u001b[0m\u001b[0;32m      2\u001b[0m \u001b[1;33m\u001b[0m\u001b[0m\n",
      "\u001b[1;32m~\\AppData\\Roaming\\Python\\Python39\\site-packages\\pycspade\\helpers.py\u001b[0m in \u001b[0;36mspade\u001b[1;34m(filename, data, support, maxsize, maxlen, mingap, maxgap, memsize, numpart, maxwin, bfstype, tid_lists, parse)\u001b[0m\n\u001b[0;32m    152\u001b[0m \u001b[1;33m\u001b[0m\u001b[0m\n\u001b[0;32m    153\u001b[0m     \u001b[1;32mtry\u001b[0m\u001b[1;33m:\u001b[0m\u001b[1;33m\u001b[0m\u001b[1;33m\u001b[0m\u001b[0m\n\u001b[1;32m--> 154\u001b[1;33m         result = c_runspade(filename, support, maxsize, maxlen, mingap, maxgap, memsize, numpart, maxwin, bfstype,\n\u001b[0m\u001b[0;32m    155\u001b[0m                             tid_lists)\n\u001b[0;32m    156\u001b[0m         \u001b[0mdecode_result\u001b[0m\u001b[1;33m(\u001b[0m\u001b[0mresult\u001b[0m\u001b[1;33m)\u001b[0m\u001b[1;33m\u001b[0m\u001b[1;33m\u001b[0m\u001b[0m\n",
      "\u001b[1;32mpycspade/cspade.pyx\u001b[0m in \u001b[0;36mpycspade.cspade.c_runspade\u001b[1;34m()\u001b[0m\n",
      "\u001b[1;31mRuntimeError\u001b[0m: can't open data file: C:\\Users\\shakil\\AppData\\Local\\Temp\\cspade-0w65ROuqgnvUY0qm.tpose"
     ]
    }
   ],
   "source": [
    "\n",
    "\n",
    "result = spade(filename='spa.txt', support=0.5, parse=True)\n",
    "\n"
   ]
  },
  {
   "cell_type": "code",
   "execution_count": null,
   "id": "446549e6",
   "metadata": {},
   "outputs": [],
   "source": [
    "from pycspade.helpers import spade, print_result\n",
    "\n",
    "# To get raw SPADE output\n",
    "result = spade(filename='result.txt', support=0.3, parse=False)\n",
    "print(result['mined'])"
   ]
  },
  {
   "cell_type": "code",
   "execution_count": 2,
   "id": "5c65bcde",
   "metadata": {},
   "outputs": [
    {
     "ename": "NameError",
     "evalue": "name 'result' is not defined",
     "output_type": "error",
     "traceback": [
      "\u001b[1;31m---------------------------------------------------------------------------\u001b[0m",
      "\u001b[1;31mNameError\u001b[0m                                 Traceback (most recent call last)",
      "\u001b[1;32m~\\AppData\\Local\\Temp\\ipykernel_5972\\2082397075.py\u001b[0m in \u001b[0;36m<module>\u001b[1;34m\u001b[0m\n\u001b[1;32m----> 1\u001b[1;33m \u001b[0mprint\u001b[0m \u001b[1;33m(\u001b[0m\u001b[0mresult\u001b[0m\u001b[1;33m)\u001b[0m\u001b[1;33m\u001b[0m\u001b[1;33m\u001b[0m\u001b[0m\n\u001b[0m",
      "\u001b[1;31mNameError\u001b[0m: name 'result' is not defined"
     ]
    }
   ],
   "source": [
    "print (result)"
   ]
  },
  {
   "cell_type": "code",
   "execution_count": 3,
   "id": "f343ca9b",
   "metadata": {},
   "outputs": [
    {
     "name": "stdout",
     "output_type": "stream",
     "text": [
      "Defaulting to user installation because normal site-packages is not writeable\n",
      "Collecting treelib\n",
      "  Downloading treelib-1.6.1.tar.gz (24 kB)\n",
      "  Preparing metadata (setup.py): started\n",
      "  Preparing metadata (setup.py): finished with status 'done'\n",
      "Requirement already satisfied: future in c:\\programdata\\anaconda3\\lib\\site-packages (from treelib) (0.18.2)\n",
      "Building wheels for collected packages: treelib\n",
      "  Building wheel for treelib (setup.py): started\n",
      "  Building wheel for treelib (setup.py): finished with status 'done'\n",
      "  Created wheel for treelib: filename=treelib-1.6.1-py3-none-any.whl size=18370 sha256=2f5b4fbd3506d908433c744c59645e8f0fc99af73bdfbde94aa3ce24d578b1dd\n",
      "  Stored in directory: c:\\users\\shakil\\appdata\\local\\pip\\cache\\wheels\\43\\de\\32\\fd270cc5f06de2bebcdaa666e9350b95f54d983212a7aba9ad\n",
      "Successfully built treelib\n",
      "Installing collected packages: treelib\n",
      "Successfully installed treelib-1.6.1\n",
      "Note: you may need to restart the kernel to use updated packages.\n"
     ]
    }
   ],
   "source": [
    "pip install treelib\n"
   ]
  },
  {
   "cell_type": "code",
   "execution_count": 13,
   "id": "b0a7562c",
   "metadata": {},
   "outputs": [
    {
     "name": "stdout",
     "output_type": "stream",
     "text": [
      "{('if',): 304, ('i',): 459, ('the',): 2090, ('of',): 1437, ('on',): 604, ('in',): 1332, ('that',): 411, ('https',): 4654, ('t',): 4678, ('co',): 4654, ('and',): 1239, ('it',): 502, ('have',): 420, ('to',): 1655, ('a',): 1339, ('covid19',): 2737, ('we',): 370, ('thi',): 460, ('ha',): 322, ('is',): 785, ('for',): 862, ('coronaviru',): 376, ('you',): 472, ('your',): 368, ('at',): 420, ('case',): 432, ('from',): 424, ('be',): 382, ('are',): 458, ('covid',): 396, ('19',): 311, ('test',): 266, ('our',): 261, ('with',): 468, ('amp',): 289, ('new',): 351, ('not',): 301, ('by',): 351}\n",
      "├──  {('covid19', 'https', 't'): 342, ('https', 't', 'co'): 4654}\n",
      "├──  {('covid19', 'https', 't', 'co'): 342}\n",
      "└── {('covid', '19'): 292, ('covid19', 'https'): 342, ('https', 't'): 4654, ('of', 'covid19'): 268, ('t', 'co'): 4654}\n",
      "\n"
     ]
    }
   ],
   "source": [
    "from treelib import Node, Tree\n",
    "tree = Tree()\n",
    "tree.create_node(\"{('if',): 304, ('i',): 459, ('the',): 2090, ('of',): 1437, ('on',): 604, ('in',): 1332, ('that',): 411, ('https',): 4654, ('t',): 4678, ('co',): 4654, ('and',): 1239, ('it',): 502, ('have',): 420, ('to',): 1655, ('a',): 1339, ('covid19',): 2737, ('we',): 370, ('thi',): 460, ('ha',): 322, ('is',): 785, ('for',): 862, ('coronaviru',): 376, ('you',): 472, ('your',): 368, ('at',): 420, ('case',): 432, ('from',): 424, ('be',): 382, ('are',): 458, ('covid',): 396, ('19',): 311, ('test',): 266, ('our',): 261, ('with',): 468, ('amp',): 289, ('new',): 351, ('not',): 301, ('by',): 351}\",\"{('if',): 304, ('i',): 459, ('the',): 2090, ('of',): 1437, ('on',): 604, ('in',): 1332, ('that',): 411, ('https',): 4654, ('t',): 4678, ('co',): 4654, ('and',): 1239, ('it',): 502, ('have',): 420, ('to',): 1655, ('a',): 1339, ('covid19',): 2737, ('we',): 370, ('thi',): 460, ('ha',): 322, ('is',): 785, ('for',): 862, ('coronaviru',): 376, ('you',): 472, ('your',): 368, ('at',): 420, ('case',): 432, ('from',): 424, ('be',): 382, ('are',): 458, ('covid',): 396, ('19',): 311, ('test',): 266, ('our',): 261, ('with',): 468, ('amp',): 289, ('new',): 351, ('not',): 301, ('by',): 351}\") #root\n",
    "tree.create_node(\"{('covid', '19'): 292, ('covid19', 'https'): 342, ('https', 't'): 4654, ('of', 'covid19'): 268, ('t', 'co'): 4654}\",\"{('covid', '19'): 292, ('covid19', 'https'): 342, ('https', 't'): 4654, ('of', 'covid19'): 268, ('t', 'co'): 4654}\",parent=\"{('if',): 304, ('i',): 459, ('the',): 2090, ('of',): 1437, ('on',): 604, ('in',): 1332, ('that',): 411, ('https',): 4654, ('t',): 4678, ('co',): 4654, ('and',): 1239, ('it',): 502, ('have',): 420, ('to',): 1655, ('a',): 1339, ('covid19',): 2737, ('we',): 370, ('thi',): 460, ('ha',): 322, ('is',): 785, ('for',): 862, ('coronaviru',): 376, ('you',): 472, ('your',): 368, ('at',): 420, ('case',): 432, ('from',): 424, ('be',): 382, ('are',): 458, ('covid',): 396, ('19',): 311, ('test',): 266, ('our',): 261, ('with',): 468, ('amp',): 289, ('new',): 351, ('not',): 301, ('by',): 351}\" )\n",
    "tree.create_node(\" {('covid19', 'https', 't'): 342, ('https', 't', 'co'): 4654}\",\" {('covid19', 'https', 't'): 342, ('https', 't', 'co'): 4654}\",parent=\"{('if',): 304, ('i',): 459, ('the',): 2090, ('of',): 1437, ('on',): 604, ('in',): 1332, ('that',): 411, ('https',): 4654, ('t',): 4678, ('co',): 4654, ('and',): 1239, ('it',): 502, ('have',): 420, ('to',): 1655, ('a',): 1339, ('covid19',): 2737, ('we',): 370, ('thi',): 460, ('ha',): 322, ('is',): 785, ('for',): 862, ('coronaviru',): 376, ('you',): 472, ('your',): 368, ('at',): 420, ('case',): 432, ('from',): 424, ('be',): 382, ('are',): 458, ('covid',): 396, ('19',): 311, ('test',): 266, ('our',): 261, ('with',): 468, ('amp',): 289, ('new',): 351, ('not',): 301, ('by',): 351}\" )\n",
    "tree.create_node(\" {('covid19', 'https', 't', 'co'): 342}\",\" {('covid19', 'https', 't', 'co'): 342}\",parent=\"{('if',): 304, ('i',): 459, ('the',): 2090, ('of',): 1437, ('on',): 604, ('in',): 1332, ('that',): 411, ('https',): 4654, ('t',): 4678, ('co',): 4654, ('and',): 1239, ('it',): 502, ('have',): 420, ('to',): 1655, ('a',): 1339, ('covid19',): 2737, ('we',): 370, ('thi',): 460, ('ha',): 322, ('is',): 785, ('for',): 862, ('coronaviru',): 376, ('you',): 472, ('your',): 368, ('at',): 420, ('case',): 432, ('from',): 424, ('be',): 382, ('are',): 458, ('covid',): 396, ('19',): 311, ('test',): 266, ('our',): 261, ('with',): 468, ('amp',): 289, ('new',): 351, ('not',): 301, ('by',): 351}\" )\n",
    "tree.show()"
   ]
  },
  {
   "cell_type": "code",
   "execution_count": 17,
   "id": "c7cd6d4a",
   "metadata": {},
   "outputs": [
    {
     "name": "stdout",
     "output_type": "stream",
     "text": [
      "CEO\n",
      "├── VP_1\n",
      "└── VP_2\n",
      "\n"
     ]
    }
   ],
   "source": [
    "from treelib import Node, Tree\n",
    "tree = Tree()\n",
    "tree.create_node(\"CEO\",\"CEO\") #root\n",
    "tree.create_node(\"VP_1\",\"VP_1\",parent=\"CEO\" )\n",
    "tree.create_node(\"VP_2\",\"VP_2\",parent=\"CEO\" )\n",
    "\n",
    "tree.show()"
   ]
  },
  {
   "cell_type": "code",
   "execution_count": null,
   "id": "31c9c12c",
   "metadata": {},
   "outputs": [],
   "source": []
  },
  {
   "cell_type": "code",
   "execution_count": 18,
   "id": "425e3e18",
   "metadata": {},
   "outputs": [
    {
     "ename": "SyntaxError",
     "evalue": "invalid syntax (1774112364.py, line 2)",
     "output_type": "error",
     "traceback": [
      "\u001b[1;36m  File \u001b[1;32m\"C:\\Users\\shakil\\AppData\\Local\\Temp\\ipykernel_11868\\1774112364.py\"\u001b[1;36m, line \u001b[1;32m2\u001b[0m\n\u001b[1;33m    from anytree.exporter import DotExporterceo = Node(\"CEO\") #root\u001b[0m\n\u001b[1;37m                                                ^\u001b[0m\n\u001b[1;31mSyntaxError\u001b[0m\u001b[1;31m:\u001b[0m invalid syntax\n"
     ]
    }
   ],
   "source": [
    "from anytree import Node, RenderTree\n",
    "from anytree.exporter import DotExporterceo = Node(\"CEO\") #root\n",
    "vp_1 = Node(\"VP_1\", parent=ceo)\n",
    "vp_2 = Node(\"VP_2\", parent=ceo)\n",
    "gm_1 = Node(\"GM_1\", parent=vp_1)\n",
    "gm_2 = Node(\"GM_2\", parent=vp_2)\n",
    "m_1 = Node(\"M_1\", parent=gm_2)"
   ]
  },
  {
   "cell_type": "code",
   "execution_count": 33,
   "id": "c70fa86d",
   "metadata": {},
   "outputs": [
    {
     "ename": "SyntaxError",
     "evalue": "invalid syntax (2970281253.py, line 1)",
     "output_type": "error",
     "traceback": [
      "\u001b[1;36m  File \u001b[1;32m\"C:\\Users\\shakil\\AppData\\Local\\Temp\\ipykernel_11868\\2970281253.py\"\u001b[1;36m, line \u001b[1;32m1\u001b[0m\n\u001b[1;33m    pip install anytree\u001b[0m\n\u001b[1;37m        ^\u001b[0m\n\u001b[1;31mSyntaxError\u001b[0m\u001b[1;31m:\u001b[0m invalid syntax\n"
     ]
    }
   ],
   "source": [
    "pip install anytree\n",
    "pip install graphviz\n"
   ]
  },
  {
   "cell_type": "code",
   "execution_count": 34,
   "id": "8fcdb797",
   "metadata": {},
   "outputs": [
    {
     "name": "stdout",
     "output_type": "stream",
     "text": [
      "Defaulting to user installation because normal site-packages is not writeable\n",
      "Collecting graphviz\n",
      "  Downloading graphviz-0.20.1-py3-none-any.whl (47 kB)\n",
      "     ---------------------------------------- 47.0/47.0 kB 1.2 MB/s eta 0:00:00\n",
      "Installing collected packages: graphviz\n",
      "Successfully installed graphviz-0.20.1\n",
      "Note: you may need to restart the kernel to use updated packages.\n"
     ]
    }
   ],
   "source": [
    "pip install graphviz"
   ]
  },
  {
   "cell_type": "code",
   "execution_count": 57,
   "id": "9e136380",
   "metadata": {},
   "outputs": [
    {
     "name": "stdout",
     "output_type": "stream",
     "text": [
      "Defaulting to user installation because normal site-packages is not writeable\n",
      "Requirement already satisfied: anytree in c:\\users\\shakil\\appdata\\roaming\\python\\python39\\site-packages (2.8.0)\n",
      "Requirement already satisfied: six>=1.9.0 in c:\\programdata\\anaconda3\\lib\\site-packages (from anytree) (1.16.0)\n"
     ]
    }
   ],
   "source": [
    "!pip install anytree"
   ]
  },
  {
   "cell_type": "code",
   "execution_count": 58,
   "id": "909e6b65",
   "metadata": {},
   "outputs": [
    {
     "ename": "FileNotFoundError",
     "evalue": "[WinError 2] The system cannot find the file specified",
     "output_type": "error",
     "traceback": [
      "\u001b[1;31m---------------------------------------------------------------------------\u001b[0m",
      "\u001b[1;31mFileNotFoundError\u001b[0m                         Traceback (most recent call last)",
      "\u001b[1;32m~\\AppData\\Local\\Temp\\ipykernel_11868\\1299765344.py\u001b[0m in \u001b[0;36m<module>\u001b[1;34m\u001b[0m\n\u001b[0;32m      4\u001b[0m \u001b[0mvp_1\u001b[0m \u001b[1;33m=\u001b[0m \u001b[0mNode\u001b[0m\u001b[1;33m(\u001b[0m\u001b[1;34m\"VP_1\"\u001b[0m\u001b[1;33m,\u001b[0m \u001b[0mparent\u001b[0m\u001b[1;33m=\u001b[0m\u001b[0mceo\u001b[0m\u001b[1;33m)\u001b[0m\u001b[1;33m\u001b[0m\u001b[1;33m\u001b[0m\u001b[0m\n\u001b[0;32m      5\u001b[0m \u001b[0mvp_2\u001b[0m \u001b[1;33m=\u001b[0m \u001b[0mNode\u001b[0m\u001b[1;33m(\u001b[0m\u001b[1;34m\"VP_2\"\u001b[0m\u001b[1;33m,\u001b[0m \u001b[0mparent\u001b[0m\u001b[1;33m=\u001b[0m\u001b[0mceo\u001b[0m\u001b[1;33m)\u001b[0m\u001b[1;33m\u001b[0m\u001b[1;33m\u001b[0m\u001b[0m\n\u001b[1;32m----> 6\u001b[1;33m \u001b[0mDotExporter\u001b[0m\u001b[1;33m(\u001b[0m\u001b[0mceo\u001b[0m\u001b[1;33m)\u001b[0m\u001b[1;33m.\u001b[0m\u001b[0mto_picture\u001b[0m\u001b[1;33m(\u001b[0m\u001b[1;34m\"ceo.png\"\u001b[0m\u001b[1;33m)\u001b[0m\u001b[1;33m\u001b[0m\u001b[1;33m\u001b[0m\u001b[0m\n\u001b[0m",
      "\u001b[1;32m~\\AppData\\Roaming\\Python\\Python39\\site-packages\\anytree\\exporter\\dotexporter.py\u001b[0m in \u001b[0;36mto_picture\u001b[1;34m(self, filename)\u001b[0m\n\u001b[0;32m    270\u001b[0m             \u001b[0mdotfile\u001b[0m\u001b[1;33m.\u001b[0m\u001b[0mflush\u001b[0m\u001b[1;33m(\u001b[0m\u001b[1;33m)\u001b[0m\u001b[1;33m\u001b[0m\u001b[1;33m\u001b[0m\u001b[0m\n\u001b[0;32m    271\u001b[0m             \u001b[0mcmd\u001b[0m \u001b[1;33m=\u001b[0m \u001b[1;33m[\u001b[0m\u001b[1;34m\"dot\"\u001b[0m\u001b[1;33m,\u001b[0m \u001b[0mdotfilename\u001b[0m\u001b[1;33m,\u001b[0m \u001b[1;34m\"-T\"\u001b[0m\u001b[1;33m,\u001b[0m \u001b[0mfileformat\u001b[0m\u001b[1;33m,\u001b[0m \u001b[1;34m\"-o\"\u001b[0m\u001b[1;33m,\u001b[0m \u001b[0mfilename\u001b[0m\u001b[1;33m]\u001b[0m\u001b[1;33m\u001b[0m\u001b[1;33m\u001b[0m\u001b[0m\n\u001b[1;32m--> 272\u001b[1;33m             \u001b[0mcheck_call\u001b[0m\u001b[1;33m(\u001b[0m\u001b[0mcmd\u001b[0m\u001b[1;33m)\u001b[0m\u001b[1;33m\u001b[0m\u001b[1;33m\u001b[0m\u001b[0m\n\u001b[0m\u001b[0;32m    273\u001b[0m         \u001b[1;32mtry\u001b[0m\u001b[1;33m:\u001b[0m\u001b[1;33m\u001b[0m\u001b[1;33m\u001b[0m\u001b[0m\n\u001b[0;32m    274\u001b[0m             \u001b[0mremove\u001b[0m\u001b[1;33m(\u001b[0m\u001b[0mdotfilename\u001b[0m\u001b[1;33m)\u001b[0m\u001b[1;33m\u001b[0m\u001b[1;33m\u001b[0m\u001b[0m\n",
      "\u001b[1;32mC:\\ProgramData\\Anaconda3\\lib\\subprocess.py\u001b[0m in \u001b[0;36mcheck_call\u001b[1;34m(*popenargs, **kwargs)\u001b[0m\n\u001b[0;32m    366\u001b[0m     \u001b[0mcheck_call\u001b[0m\u001b[1;33m(\u001b[0m\u001b[1;33m[\u001b[0m\u001b[1;34m\"ls\"\u001b[0m\u001b[1;33m,\u001b[0m \u001b[1;34m\"-l\"\u001b[0m\u001b[1;33m]\u001b[0m\u001b[1;33m)\u001b[0m\u001b[1;33m\u001b[0m\u001b[1;33m\u001b[0m\u001b[0m\n\u001b[0;32m    367\u001b[0m     \"\"\"\n\u001b[1;32m--> 368\u001b[1;33m     \u001b[0mretcode\u001b[0m \u001b[1;33m=\u001b[0m \u001b[0mcall\u001b[0m\u001b[1;33m(\u001b[0m\u001b[1;33m*\u001b[0m\u001b[0mpopenargs\u001b[0m\u001b[1;33m,\u001b[0m \u001b[1;33m**\u001b[0m\u001b[0mkwargs\u001b[0m\u001b[1;33m)\u001b[0m\u001b[1;33m\u001b[0m\u001b[1;33m\u001b[0m\u001b[0m\n\u001b[0m\u001b[0;32m    369\u001b[0m     \u001b[1;32mif\u001b[0m \u001b[0mretcode\u001b[0m\u001b[1;33m:\u001b[0m\u001b[1;33m\u001b[0m\u001b[1;33m\u001b[0m\u001b[0m\n\u001b[0;32m    370\u001b[0m         \u001b[0mcmd\u001b[0m \u001b[1;33m=\u001b[0m \u001b[0mkwargs\u001b[0m\u001b[1;33m.\u001b[0m\u001b[0mget\u001b[0m\u001b[1;33m(\u001b[0m\u001b[1;34m\"args\"\u001b[0m\u001b[1;33m)\u001b[0m\u001b[1;33m\u001b[0m\u001b[1;33m\u001b[0m\u001b[0m\n",
      "\u001b[1;32mC:\\ProgramData\\Anaconda3\\lib\\subprocess.py\u001b[0m in \u001b[0;36mcall\u001b[1;34m(timeout, *popenargs, **kwargs)\u001b[0m\n\u001b[0;32m    347\u001b[0m     \u001b[0mretcode\u001b[0m \u001b[1;33m=\u001b[0m \u001b[0mcall\u001b[0m\u001b[1;33m(\u001b[0m\u001b[1;33m[\u001b[0m\u001b[1;34m\"ls\"\u001b[0m\u001b[1;33m,\u001b[0m \u001b[1;34m\"-l\"\u001b[0m\u001b[1;33m]\u001b[0m\u001b[1;33m)\u001b[0m\u001b[1;33m\u001b[0m\u001b[1;33m\u001b[0m\u001b[0m\n\u001b[0;32m    348\u001b[0m     \"\"\"\n\u001b[1;32m--> 349\u001b[1;33m     \u001b[1;32mwith\u001b[0m \u001b[0mPopen\u001b[0m\u001b[1;33m(\u001b[0m\u001b[1;33m*\u001b[0m\u001b[0mpopenargs\u001b[0m\u001b[1;33m,\u001b[0m \u001b[1;33m**\u001b[0m\u001b[0mkwargs\u001b[0m\u001b[1;33m)\u001b[0m \u001b[1;32mas\u001b[0m \u001b[0mp\u001b[0m\u001b[1;33m:\u001b[0m\u001b[1;33m\u001b[0m\u001b[1;33m\u001b[0m\u001b[0m\n\u001b[0m\u001b[0;32m    350\u001b[0m         \u001b[1;32mtry\u001b[0m\u001b[1;33m:\u001b[0m\u001b[1;33m\u001b[0m\u001b[1;33m\u001b[0m\u001b[0m\n\u001b[0;32m    351\u001b[0m             \u001b[1;32mreturn\u001b[0m \u001b[0mp\u001b[0m\u001b[1;33m.\u001b[0m\u001b[0mwait\u001b[0m\u001b[1;33m(\u001b[0m\u001b[0mtimeout\u001b[0m\u001b[1;33m=\u001b[0m\u001b[0mtimeout\u001b[0m\u001b[1;33m)\u001b[0m\u001b[1;33m\u001b[0m\u001b[1;33m\u001b[0m\u001b[0m\n",
      "\u001b[1;32mC:\\ProgramData\\Anaconda3\\lib\\subprocess.py\u001b[0m in \u001b[0;36m__init__\u001b[1;34m(self, args, bufsize, executable, stdin, stdout, stderr, preexec_fn, close_fds, shell, cwd, env, universal_newlines, startupinfo, creationflags, restore_signals, start_new_session, pass_fds, user, group, extra_groups, encoding, errors, text, umask)\u001b[0m\n\u001b[0;32m    949\u001b[0m                             encoding=encoding, errors=errors)\n\u001b[0;32m    950\u001b[0m \u001b[1;33m\u001b[0m\u001b[0m\n\u001b[1;32m--> 951\u001b[1;33m             self._execute_child(args, executable, preexec_fn, close_fds,\n\u001b[0m\u001b[0;32m    952\u001b[0m                                 \u001b[0mpass_fds\u001b[0m\u001b[1;33m,\u001b[0m \u001b[0mcwd\u001b[0m\u001b[1;33m,\u001b[0m \u001b[0menv\u001b[0m\u001b[1;33m,\u001b[0m\u001b[1;33m\u001b[0m\u001b[1;33m\u001b[0m\u001b[0m\n\u001b[0;32m    953\u001b[0m                                 \u001b[0mstartupinfo\u001b[0m\u001b[1;33m,\u001b[0m \u001b[0mcreationflags\u001b[0m\u001b[1;33m,\u001b[0m \u001b[0mshell\u001b[0m\u001b[1;33m,\u001b[0m\u001b[1;33m\u001b[0m\u001b[1;33m\u001b[0m\u001b[0m\n",
      "\u001b[1;32mC:\\ProgramData\\Anaconda3\\lib\\subprocess.py\u001b[0m in \u001b[0;36m_execute_child\u001b[1;34m(self, args, executable, preexec_fn, close_fds, pass_fds, cwd, env, startupinfo, creationflags, shell, p2cread, p2cwrite, c2pread, c2pwrite, errread, errwrite, unused_restore_signals, unused_gid, unused_gids, unused_uid, unused_umask, unused_start_new_session)\u001b[0m\n\u001b[0;32m   1418\u001b[0m             \u001b[1;31m# Start the process\u001b[0m\u001b[1;33m\u001b[0m\u001b[1;33m\u001b[0m\u001b[0m\n\u001b[0;32m   1419\u001b[0m             \u001b[1;32mtry\u001b[0m\u001b[1;33m:\u001b[0m\u001b[1;33m\u001b[0m\u001b[1;33m\u001b[0m\u001b[0m\n\u001b[1;32m-> 1420\u001b[1;33m                 hp, ht, pid, tid = _winapi.CreateProcess(executable, args,\n\u001b[0m\u001b[0;32m   1421\u001b[0m                                          \u001b[1;31m# no special security\u001b[0m\u001b[1;33m\u001b[0m\u001b[1;33m\u001b[0m\u001b[0m\n\u001b[0;32m   1422\u001b[0m                                          \u001b[1;32mNone\u001b[0m\u001b[1;33m,\u001b[0m \u001b[1;32mNone\u001b[0m\u001b[1;33m,\u001b[0m\u001b[1;33m\u001b[0m\u001b[1;33m\u001b[0m\u001b[0m\n",
      "\u001b[1;31mFileNotFoundError\u001b[0m: [WinError 2] The system cannot find the file specified"
     ]
    }
   ],
   "source": [
    "from anytree import Node, RenderTree\n",
    "from anytree.exporter import DotExporter\n",
    "ceo = Node(\"CEO\") #root\n",
    "vp_1 = Node(\"VP_1\", parent=ceo)\n",
    "vp_2 = Node(\"VP_2\", parent=ceo)\n",
    "DotExporter(ceo).to_picture(\"ceo.png\")"
   ]
  },
  {
   "cell_type": "code",
   "execution_count": 59,
   "id": "30c25321",
   "metadata": {},
   "outputs": [
    {
     "name": "stdout",
     "output_type": "stream",
     "text": [
      "Defaulting to user installation because normal site-packages is not writeable\n",
      "Collecting dsplot\n",
      "  Using cached dsplot-0.8.0-py3-none-any.whl (8.8 kB)\n",
      "Collecting pygraphviz<2.0,>=1.7\n",
      "  Using cached pygraphviz-1.10.zip (120 kB)\n",
      "  Preparing metadata (setup.py): started\n",
      "  Preparing metadata (setup.py): finished with status 'done'\n",
      "Building wheels for collected packages: pygraphviz\n",
      "  Building wheel for pygraphviz (setup.py): started\n",
      "  Building wheel for pygraphviz (setup.py): finished with status 'error'\n",
      "  Running setup.py clean for pygraphviz\n",
      "Failed to build pygraphviz\n",
      "Installing collected packages: pygraphviz, dsplot\n",
      "  Running setup.py install for pygraphviz: started\n",
      "  Running setup.py install for pygraphviz: finished with status 'error'\n",
      "Note: you may need to restart the kernel to use updated packages.\n"
     ]
    },
    {
     "name": "stderr",
     "output_type": "stream",
     "text": [
      "  error: subprocess-exited-with-error\n",
      "  \n",
      "  python setup.py bdist_wheel did not run successfully.\n",
      "  exit code: 1\n",
      "  \n",
      "  [48 lines of output]\n",
      "  running bdist_wheel\n",
      "  running build\n",
      "  running build_py\n",
      "  creating build\n",
      "  creating build\\lib.win-amd64-cpython-39\n",
      "  creating build\\lib.win-amd64-cpython-39\\pygraphviz\n",
      "  copying pygraphviz\\agraph.py -> build\\lib.win-amd64-cpython-39\\pygraphviz\n",
      "  copying pygraphviz\\graphviz.py -> build\\lib.win-amd64-cpython-39\\pygraphviz\n",
      "  copying pygraphviz\\scraper.py -> build\\lib.win-amd64-cpython-39\\pygraphviz\n",
      "  copying pygraphviz\\testing.py -> build\\lib.win-amd64-cpython-39\\pygraphviz\n",
      "  copying pygraphviz\\__init__.py -> build\\lib.win-amd64-cpython-39\\pygraphviz\n",
      "  creating build\\lib.win-amd64-cpython-39\\pygraphviz\\tests\n",
      "  copying pygraphviz\\tests\\test_attribute_defaults.py -> build\\lib.win-amd64-cpython-39\\pygraphviz\\tests\n",
      "  copying pygraphviz\\tests\\test_clear.py -> build\\lib.win-amd64-cpython-39\\pygraphviz\\tests\n",
      "  copying pygraphviz\\tests\\test_close.py -> build\\lib.win-amd64-cpython-39\\pygraphviz\\tests\n",
      "  copying pygraphviz\\tests\\test_drawing.py -> build\\lib.win-amd64-cpython-39\\pygraphviz\\tests\n",
      "  copying pygraphviz\\tests\\test_edge_attributes.py -> build\\lib.win-amd64-cpython-39\\pygraphviz\\tests\n",
      "  copying pygraphviz\\tests\\test_graph.py -> build\\lib.win-amd64-cpython-39\\pygraphviz\\tests\n",
      "  copying pygraphviz\\tests\\test_html.py -> build\\lib.win-amd64-cpython-39\\pygraphviz\\tests\n",
      "  copying pygraphviz\\tests\\test_layout.py -> build\\lib.win-amd64-cpython-39\\pygraphviz\\tests\n",
      "  copying pygraphviz\\tests\\test_node_attributes.py -> build\\lib.win-amd64-cpython-39\\pygraphviz\\tests\n",
      "  copying pygraphviz\\tests\\test_readwrite.py -> build\\lib.win-amd64-cpython-39\\pygraphviz\\tests\n",
      "  copying pygraphviz\\tests\\test_repr_mimebundle.py -> build\\lib.win-amd64-cpython-39\\pygraphviz\\tests\n",
      "  copying pygraphviz\\tests\\test_scraper.py -> build\\lib.win-amd64-cpython-39\\pygraphviz\\tests\n",
      "  copying pygraphviz\\tests\\test_string.py -> build\\lib.win-amd64-cpython-39\\pygraphviz\\tests\n",
      "  copying pygraphviz\\tests\\test_subgraph.py -> build\\lib.win-amd64-cpython-39\\pygraphviz\\tests\n",
      "  copying pygraphviz\\tests\\test_unicode.py -> build\\lib.win-amd64-cpython-39\\pygraphviz\\tests\n",
      "  copying pygraphviz\\tests\\__init__.py -> build\\lib.win-amd64-cpython-39\\pygraphviz\\tests\n",
      "  running egg_info\n",
      "  writing pygraphviz.egg-info\\PKG-INFO\n",
      "  writing dependency_links to pygraphviz.egg-info\\dependency_links.txt\n",
      "  writing top-level names to pygraphviz.egg-info\\top_level.txt\n",
      "  reading manifest file 'pygraphviz.egg-info\\SOURCES.txt'\n",
      "  reading manifest template 'MANIFEST.in'\n",
      "  warning: no files found matching '*.png' under directory 'doc'\n",
      "  warning: no files found matching '*.txt' under directory 'doc'\n",
      "  warning: no files found matching '*.css' under directory 'doc'\n",
      "  warning: no previously-included files matching '*~' found anywhere in distribution\n",
      "  warning: no previously-included files matching '*.pyc' found anywhere in distribution\n",
      "  warning: no previously-included files matching '.svn' found anywhere in distribution\n",
      "  no previously-included directories found matching 'doc\\build'\n",
      "  adding license file 'LICENSE'\n",
      "  writing manifest file 'pygraphviz.egg-info\\SOURCES.txt'\n",
      "  copying pygraphviz\\graphviz.i -> build\\lib.win-amd64-cpython-39\\pygraphviz\n",
      "  copying pygraphviz\\graphviz_wrap.c -> build\\lib.win-amd64-cpython-39\\pygraphviz\n",
      "  running build_ext\n",
      "  building 'pygraphviz._graphviz' extension\n",
      "  error: Microsoft Visual C++ 14.0 or greater is required. Get it with \"Microsoft C++ Build Tools\": https://visualstudio.microsoft.com/visual-cpp-build-tools/\n",
      "  [end of output]\n",
      "  \n",
      "  note: This error originates from a subprocess, and is likely not a problem with pip.\n",
      "  ERROR: Failed building wheel for pygraphviz\n",
      "  error: subprocess-exited-with-error\n",
      "  \n",
      "  Running setup.py install for pygraphviz did not run successfully.\n",
      "  exit code: 1\n",
      "  \n",
      "  [50 lines of output]\n",
      "  running install\n",
      "  C:\\ProgramData\\Anaconda3\\lib\\site-packages\\setuptools\\command\\install.py:34: SetuptoolsDeprecationWarning: setup.py install is deprecated. Use build and pip and other standards-based tools.\n",
      "    warnings.warn(\n",
      "  running build\n",
      "  running build_py\n",
      "  creating build\n",
      "  creating build\\lib.win-amd64-cpython-39\n",
      "  creating build\\lib.win-amd64-cpython-39\\pygraphviz\n",
      "  copying pygraphviz\\agraph.py -> build\\lib.win-amd64-cpython-39\\pygraphviz\n",
      "  copying pygraphviz\\graphviz.py -> build\\lib.win-amd64-cpython-39\\pygraphviz\n",
      "  copying pygraphviz\\scraper.py -> build\\lib.win-amd64-cpython-39\\pygraphviz\n",
      "  copying pygraphviz\\testing.py -> build\\lib.win-amd64-cpython-39\\pygraphviz\n",
      "  copying pygraphviz\\__init__.py -> build\\lib.win-amd64-cpython-39\\pygraphviz\n",
      "  creating build\\lib.win-amd64-cpython-39\\pygraphviz\\tests\n",
      "  copying pygraphviz\\tests\\test_attribute_defaults.py -> build\\lib.win-amd64-cpython-39\\pygraphviz\\tests\n",
      "  copying pygraphviz\\tests\\test_clear.py -> build\\lib.win-amd64-cpython-39\\pygraphviz\\tests\n",
      "  copying pygraphviz\\tests\\test_close.py -> build\\lib.win-amd64-cpython-39\\pygraphviz\\tests\n",
      "  copying pygraphviz\\tests\\test_drawing.py -> build\\lib.win-amd64-cpython-39\\pygraphviz\\tests\n",
      "  copying pygraphviz\\tests\\test_edge_attributes.py -> build\\lib.win-amd64-cpython-39\\pygraphviz\\tests\n",
      "  copying pygraphviz\\tests\\test_graph.py -> build\\lib.win-amd64-cpython-39\\pygraphviz\\tests\n",
      "  copying pygraphviz\\tests\\test_html.py -> build\\lib.win-amd64-cpython-39\\pygraphviz\\tests\n",
      "  copying pygraphviz\\tests\\test_layout.py -> build\\lib.win-amd64-cpython-39\\pygraphviz\\tests\n",
      "  copying pygraphviz\\tests\\test_node_attributes.py -> build\\lib.win-amd64-cpython-39\\pygraphviz\\tests\n",
      "  copying pygraphviz\\tests\\test_readwrite.py -> build\\lib.win-amd64-cpython-39\\pygraphviz\\tests\n",
      "  copying pygraphviz\\tests\\test_repr_mimebundle.py -> build\\lib.win-amd64-cpython-39\\pygraphviz\\tests\n",
      "  copying pygraphviz\\tests\\test_scraper.py -> build\\lib.win-amd64-cpython-39\\pygraphviz\\tests\n",
      "  copying pygraphviz\\tests\\test_string.py -> build\\lib.win-amd64-cpython-39\\pygraphviz\\tests\n",
      "  copying pygraphviz\\tests\\test_subgraph.py -> build\\lib.win-amd64-cpython-39\\pygraphviz\\tests\n",
      "  copying pygraphviz\\tests\\test_unicode.py -> build\\lib.win-amd64-cpython-39\\pygraphviz\\tests\n",
      "  copying pygraphviz\\tests\\__init__.py -> build\\lib.win-amd64-cpython-39\\pygraphviz\\tests\n",
      "  running egg_info\n",
      "  writing pygraphviz.egg-info\\PKG-INFO\n",
      "  writing dependency_links to pygraphviz.egg-info\\dependency_links.txt\n",
      "  writing top-level names to pygraphviz.egg-info\\top_level.txt\n",
      "  reading manifest file 'pygraphviz.egg-info\\SOURCES.txt'\n",
      "  reading manifest template 'MANIFEST.in'\n",
      "  warning: no files found matching '*.png' under directory 'doc'\n",
      "  warning: no files found matching '*.txt' under directory 'doc'\n",
      "  warning: no files found matching '*.css' under directory 'doc'\n",
      "  warning: no previously-included files matching '*~' found anywhere in distribution\n",
      "  warning: no previously-included files matching '*.pyc' found anywhere in distribution\n",
      "  warning: no previously-included files matching '.svn' found anywhere in distribution\n",
      "  no previously-included directories found matching 'doc\\build'\n",
      "  adding license file 'LICENSE'\n",
      "  writing manifest file 'pygraphviz.egg-info\\SOURCES.txt'\n",
      "  copying pygraphviz\\graphviz.i -> build\\lib.win-amd64-cpython-39\\pygraphviz\n",
      "  copying pygraphviz\\graphviz_wrap.c -> build\\lib.win-amd64-cpython-39\\pygraphviz\n",
      "  running build_ext\n",
      "  building 'pygraphviz._graphviz' extension\n",
      "  error: Microsoft Visual C++ 14.0 or greater is required. Get it with \"Microsoft C++ Build Tools\": https://visualstudio.microsoft.com/visual-cpp-build-tools/\n",
      "  [end of output]\n",
      "  \n",
      "  note: This error originates from a subprocess, and is likely not a problem with pip.\n",
      "error: legacy-install-failure\n",
      "\n",
      "Encountered error while trying to install package.\n",
      "\n",
      "pygraphviz\n",
      "\n",
      "note: This is an issue with the package mentioned above, not pip.\n",
      "hint: See above for output from the failure.\n"
     ]
    }
   ],
   "source": [
    "pip install dsplot"
   ]
  },
  {
   "cell_type": "code",
   "execution_count": 55,
   "id": "1eea3247",
   "metadata": {},
   "outputs": [
    {
     "name": "stdout",
     "output_type": "stream",
     "text": [
      "Defaulting to user installation because normal site-packages is not writeable\n",
      "Collecting pygraphviz\n",
      "  Using cached pygraphviz-1.10.zip (120 kB)\n",
      "  Preparing metadata (setup.py): started\n",
      "  Preparing metadata (setup.py): finished with status 'done'\n",
      "Building wheels for collected packages: pygraphviz\n",
      "  Building wheel for pygraphviz (setup.py): started\n",
      "  Building wheel for pygraphviz (setup.py): finished with status 'error'\n",
      "  Running setup.py clean for pygraphviz\n",
      "Failed to build pygraphviz\n",
      "Installing collected packages: pygraphviz\n",
      "  Running setup.py install for pygraphviz: started\n",
      "  Running setup.py install for pygraphviz: finished with status 'error'\n"
     ]
    },
    {
     "name": "stderr",
     "output_type": "stream",
     "text": [
      "  error: subprocess-exited-with-error\n",
      "  \n",
      "  python setup.py bdist_wheel did not run successfully.\n",
      "  exit code: 1\n",
      "  \n",
      "  [48 lines of output]\n",
      "  running bdist_wheel\n",
      "  running build\n",
      "  running build_py\n",
      "  creating build\n",
      "  creating build\\lib.win-amd64-cpython-39\n",
      "  creating build\\lib.win-amd64-cpython-39\\pygraphviz\n",
      "  copying pygraphviz\\agraph.py -> build\\lib.win-amd64-cpython-39\\pygraphviz\n",
      "  copying pygraphviz\\graphviz.py -> build\\lib.win-amd64-cpython-39\\pygraphviz\n",
      "  copying pygraphviz\\scraper.py -> build\\lib.win-amd64-cpython-39\\pygraphviz\n",
      "  copying pygraphviz\\testing.py -> build\\lib.win-amd64-cpython-39\\pygraphviz\n",
      "  copying pygraphviz\\__init__.py -> build\\lib.win-amd64-cpython-39\\pygraphviz\n",
      "  creating build\\lib.win-amd64-cpython-39\\pygraphviz\\tests\n",
      "  copying pygraphviz\\tests\\test_attribute_defaults.py -> build\\lib.win-amd64-cpython-39\\pygraphviz\\tests\n",
      "  copying pygraphviz\\tests\\test_clear.py -> build\\lib.win-amd64-cpython-39\\pygraphviz\\tests\n",
      "  copying pygraphviz\\tests\\test_close.py -> build\\lib.win-amd64-cpython-39\\pygraphviz\\tests\n",
      "  copying pygraphviz\\tests\\test_drawing.py -> build\\lib.win-amd64-cpython-39\\pygraphviz\\tests\n",
      "  copying pygraphviz\\tests\\test_edge_attributes.py -> build\\lib.win-amd64-cpython-39\\pygraphviz\\tests\n",
      "  copying pygraphviz\\tests\\test_graph.py -> build\\lib.win-amd64-cpython-39\\pygraphviz\\tests\n",
      "  copying pygraphviz\\tests\\test_html.py -> build\\lib.win-amd64-cpython-39\\pygraphviz\\tests\n",
      "  copying pygraphviz\\tests\\test_layout.py -> build\\lib.win-amd64-cpython-39\\pygraphviz\\tests\n",
      "  copying pygraphviz\\tests\\test_node_attributes.py -> build\\lib.win-amd64-cpython-39\\pygraphviz\\tests\n",
      "  copying pygraphviz\\tests\\test_readwrite.py -> build\\lib.win-amd64-cpython-39\\pygraphviz\\tests\n",
      "  copying pygraphviz\\tests\\test_repr_mimebundle.py -> build\\lib.win-amd64-cpython-39\\pygraphviz\\tests\n",
      "  copying pygraphviz\\tests\\test_scraper.py -> build\\lib.win-amd64-cpython-39\\pygraphviz\\tests\n",
      "  copying pygraphviz\\tests\\test_string.py -> build\\lib.win-amd64-cpython-39\\pygraphviz\\tests\n",
      "  copying pygraphviz\\tests\\test_subgraph.py -> build\\lib.win-amd64-cpython-39\\pygraphviz\\tests\n",
      "  copying pygraphviz\\tests\\test_unicode.py -> build\\lib.win-amd64-cpython-39\\pygraphviz\\tests\n",
      "  copying pygraphviz\\tests\\__init__.py -> build\\lib.win-amd64-cpython-39\\pygraphviz\\tests\n",
      "  running egg_info\n",
      "  writing pygraphviz.egg-info\\PKG-INFO\n",
      "  writing dependency_links to pygraphviz.egg-info\\dependency_links.txt\n",
      "  writing top-level names to pygraphviz.egg-info\\top_level.txt\n",
      "  reading manifest file 'pygraphviz.egg-info\\SOURCES.txt'\n",
      "  reading manifest template 'MANIFEST.in'\n",
      "  warning: no files found matching '*.png' under directory 'doc'\n",
      "  warning: no files found matching '*.txt' under directory 'doc'\n",
      "  warning: no files found matching '*.css' under directory 'doc'\n",
      "  warning: no previously-included files matching '*~' found anywhere in distribution\n",
      "  warning: no previously-included files matching '*.pyc' found anywhere in distribution\n",
      "  warning: no previously-included files matching '.svn' found anywhere in distribution\n",
      "  no previously-included directories found matching 'doc\\build'\n",
      "  adding license file 'LICENSE'\n",
      "  writing manifest file 'pygraphviz.egg-info\\SOURCES.txt'\n",
      "  copying pygraphviz\\graphviz.i -> build\\lib.win-amd64-cpython-39\\pygraphviz\n",
      "  copying pygraphviz\\graphviz_wrap.c -> build\\lib.win-amd64-cpython-39\\pygraphviz\n",
      "  running build_ext\n",
      "  building 'pygraphviz._graphviz' extension\n",
      "  error: Microsoft Visual C++ 14.0 or greater is required. Get it with \"Microsoft C++ Build Tools\": https://visualstudio.microsoft.com/visual-cpp-build-tools/\n",
      "  [end of output]\n",
      "  \n",
      "  note: This error originates from a subprocess, and is likely not a problem with pip.\n",
      "  ERROR: Failed building wheel for pygraphviz\n",
      "  error: subprocess-exited-with-error\n",
      "  \n",
      "  Running setup.py install for pygraphviz did not run successfully.\n",
      "  exit code: 1\n",
      "  \n",
      "  [50 lines of output]\n",
      "  running install\n",
      "  C:\\ProgramData\\Anaconda3\\lib\\site-packages\\setuptools\\command\\install.py:34: SetuptoolsDeprecationWarning: setup.py install is deprecated. Use build and pip and other standards-based tools.\n",
      "    warnings.warn(\n",
      "  running build\n",
      "  running build_py\n",
      "  creating build\n",
      "  creating build\\lib.win-amd64-cpython-39\n",
      "  creating build\\lib.win-amd64-cpython-39\\pygraphviz\n",
      "  copying pygraphviz\\agraph.py -> build\\lib.win-amd64-cpython-39\\pygraphviz\n",
      "  copying pygraphviz\\graphviz.py -> build\\lib.win-amd64-cpython-39\\pygraphviz\n",
      "  copying pygraphviz\\scraper.py -> build\\lib.win-amd64-cpython-39\\pygraphviz\n",
      "  copying pygraphviz\\testing.py -> build\\lib.win-amd64-cpython-39\\pygraphviz\n",
      "  copying pygraphviz\\__init__.py -> build\\lib.win-amd64-cpython-39\\pygraphviz\n",
      "  creating build\\lib.win-amd64-cpython-39\\pygraphviz\\tests\n",
      "  copying pygraphviz\\tests\\test_attribute_defaults.py -> build\\lib.win-amd64-cpython-39\\pygraphviz\\tests\n",
      "  copying pygraphviz\\tests\\test_clear.py -> build\\lib.win-amd64-cpython-39\\pygraphviz\\tests\n",
      "  copying pygraphviz\\tests\\test_close.py -> build\\lib.win-amd64-cpython-39\\pygraphviz\\tests\n",
      "  copying pygraphviz\\tests\\test_drawing.py -> build\\lib.win-amd64-cpython-39\\pygraphviz\\tests\n",
      "  copying pygraphviz\\tests\\test_edge_attributes.py -> build\\lib.win-amd64-cpython-39\\pygraphviz\\tests\n",
      "  copying pygraphviz\\tests\\test_graph.py -> build\\lib.win-amd64-cpython-39\\pygraphviz\\tests\n",
      "  copying pygraphviz\\tests\\test_html.py -> build\\lib.win-amd64-cpython-39\\pygraphviz\\tests\n",
      "  copying pygraphviz\\tests\\test_layout.py -> build\\lib.win-amd64-cpython-39\\pygraphviz\\tests\n",
      "  copying pygraphviz\\tests\\test_node_attributes.py -> build\\lib.win-amd64-cpython-39\\pygraphviz\\tests\n",
      "  copying pygraphviz\\tests\\test_readwrite.py -> build\\lib.win-amd64-cpython-39\\pygraphviz\\tests\n",
      "  copying pygraphviz\\tests\\test_repr_mimebundle.py -> build\\lib.win-amd64-cpython-39\\pygraphviz\\tests\n",
      "  copying pygraphviz\\tests\\test_scraper.py -> build\\lib.win-amd64-cpython-39\\pygraphviz\\tests\n",
      "  copying pygraphviz\\tests\\test_string.py -> build\\lib.win-amd64-cpython-39\\pygraphviz\\tests\n",
      "  copying pygraphviz\\tests\\test_subgraph.py -> build\\lib.win-amd64-cpython-39\\pygraphviz\\tests\n",
      "  copying pygraphviz\\tests\\test_unicode.py -> build\\lib.win-amd64-cpython-39\\pygraphviz\\tests\n",
      "  copying pygraphviz\\tests\\__init__.py -> build\\lib.win-amd64-cpython-39\\pygraphviz\\tests\n",
      "  running egg_info\n",
      "  writing pygraphviz.egg-info\\PKG-INFO\n",
      "  writing dependency_links to pygraphviz.egg-info\\dependency_links.txt\n",
      "  writing top-level names to pygraphviz.egg-info\\top_level.txt\n",
      "  reading manifest file 'pygraphviz.egg-info\\SOURCES.txt'\n",
      "  reading manifest template 'MANIFEST.in'\n",
      "  warning: no files found matching '*.png' under directory 'doc'\n",
      "  warning: no files found matching '*.txt' under directory 'doc'\n",
      "  warning: no files found matching '*.css' under directory 'doc'\n",
      "  warning: no previously-included files matching '*~' found anywhere in distribution\n",
      "  warning: no previously-included files matching '*.pyc' found anywhere in distribution\n",
      "  warning: no previously-included files matching '.svn' found anywhere in distribution\n",
      "  no previously-included directories found matching 'doc\\build'\n",
      "  adding license file 'LICENSE'\n",
      "  writing manifest file 'pygraphviz.egg-info\\SOURCES.txt'\n",
      "  copying pygraphviz\\graphviz.i -> build\\lib.win-amd64-cpython-39\\pygraphviz\n",
      "  copying pygraphviz\\graphviz_wrap.c -> build\\lib.win-amd64-cpython-39\\pygraphviz\n",
      "  running build_ext\n",
      "  building 'pygraphviz._graphviz' extension\n",
      "  error: Microsoft Visual C++ 14.0 or greater is required. Get it with \"Microsoft C++ Build Tools\": https://visualstudio.microsoft.com/visual-cpp-build-tools/\n",
      "  [end of output]\n",
      "  \n",
      "  note: This error originates from a subprocess, and is likely not a problem with pip.\n",
      "error: legacy-install-failure\n",
      "\n",
      "Encountered error while trying to install package.\n",
      "\n",
      "pygraphviz\n",
      "\n",
      "note: This is an issue with the package mentioned above, not pip.\n",
      "hint: See above for output from the failure.\n"
     ]
    }
   ],
   "source": [
    "!pip install pygraphviz"
   ]
  },
  {
   "cell_type": "code",
   "execution_count": 101,
   "id": "558cd586",
   "metadata": {},
   "outputs": [],
   "source": [
    "class TreeNode:\n",
    "    def __init__(self, value, left=None, right=None):\n",
    "        self.value = value\n",
    "        self.left = left\n",
    "        self.right = right\n",
    "\n",
    "class Tree:\n",
    "    def __init__(self, root_value=None):\n",
    "        self.root = TreeNode(root_value) if root_value is not None else None\n",
    "\n"
   ]
  },
  {
   "cell_type": "code",
   "execution_count": 103,
   "id": "7020ef5d",
   "metadata": {},
   "outputs": [],
   "source": [
    "root = TreeNode(1)\n",
    "root.left = TreeNode(2)\n",
    "root.right = TreeNode(3)\n",
    "root.left.left = TreeNode(4)\n",
    "\n"
   ]
  },
  {
   "cell_type": "code",
   "execution_count": 104,
   "id": "25c7db49",
   "metadata": {},
   "outputs": [
    {
     "name": "stderr",
     "output_type": "stream",
     "text": [
      "Using TensorFlow backend.\n"
     ]
    },
    {
     "ename": "NameError",
     "evalue": "name 'np' is not defined",
     "output_type": "error",
     "traceback": [
      "\u001b[1;31m---------------------------------------------------------------------------\u001b[0m",
      "\u001b[1;31mNameError\u001b[0m                                 Traceback (most recent call last)",
      "\u001b[1;32m~\\AppData\\Local\\Temp\\ipykernel_11868\\3418143069.py\u001b[0m in \u001b[0;36m<module>\u001b[1;34m\u001b[0m\n\u001b[0;32m      2\u001b[0m \u001b[1;33m\u001b[0m\u001b[0m\n\u001b[0;32m      3\u001b[0m \u001b[1;31m# Load the training data\u001b[0m\u001b[1;33m\u001b[0m\u001b[1;33m\u001b[0m\u001b[0m\n\u001b[1;32m----> 4\u001b[1;33m \u001b[0mX_train\u001b[0m \u001b[1;33m=\u001b[0m \u001b[0mnp\u001b[0m\u001b[1;33m.\u001b[0m\u001b[0mload\u001b[0m\u001b[1;33m(\u001b[0m\u001b[1;34m'X_train.npy'\u001b[0m\u001b[1;33m)\u001b[0m\u001b[1;33m\u001b[0m\u001b[1;33m\u001b[0m\u001b[0m\n\u001b[0m\u001b[0;32m      5\u001b[0m \u001b[0my_train\u001b[0m \u001b[1;33m=\u001b[0m \u001b[0mnp\u001b[0m\u001b[1;33m.\u001b[0m\u001b[0mload\u001b[0m\u001b[1;33m(\u001b[0m\u001b[1;34m'y_train.npy'\u001b[0m\u001b[1;33m)\u001b[0m\u001b[1;33m\u001b[0m\u001b[1;33m\u001b[0m\u001b[0m\n\u001b[0;32m      6\u001b[0m \u001b[1;33m\u001b[0m\u001b[0m\n",
      "\u001b[1;31mNameError\u001b[0m: name 'np' is not defined"
     ]
    }
   ],
   "source": [
    "import tensorflow as tf\n",
    "\n",
    "# Load the training data\n",
    "X_train = np.load('X_train.npy')\n",
    "y_train = np.load('y_train.npy')\n",
    "\n",
    "# Preprocess the data\n",
    "X_train = X_train / 255.0  # Normalize the pixel values\n",
    "y_train = tf.keras.utils.to_categorical(y_train, 2)  # Convert the labels to one-hot encoding\n",
    "\n",
    "# Define the model\n",
    "model = tf.keras.Sequential([\n",
    "    tf.keras.layers.Conv2D(32, (3,3), input_shape=(224,224,3), activation='relu'),\n",
    "    tf.keras.layers.MaxPooling2D((2,2)),\n",
    "    tf.keras.layers.Conv2D(64, (3,3), activation='relu'),\n",
    "    tf.keras.layers.MaxPooling2D((2,2)),\n",
    "    tf.keras.layers.Conv2D(128, (3,3), activation='relu'),\n",
    "    tf.keras.layers.MaxPooling2D((2,2)),\n",
    "    tf.keras.layers.Flatten(),\n",
    "    tf.keras.layers.Dense(128, activation='relu'),\n",
    "    tf.keras.layers.Dense(2, activation='softmax')\n",
    "])\n",
    "\n",
    "# Compile the model\n",
    "model.compile(optimizer='adam', loss='categorical_crossentropy', metrics=['accuracy'])\n",
    "\n",
    "# Train the model\n",
    "model.fit(X_train, y_train, batch_size=32, epochs=10)\n",
    "\n",
    "# Save the model\n",
    "model.save('mask_detector.h5')"
   ]
  },
  {
   "cell_type": "code",
   "execution_count": 115,
   "id": "1912b378",
   "metadata": {},
   "outputs": [
    {
     "ename": "SyntaxError",
     "evalue": "invalid syntax (2836292378.py, line 3)",
     "output_type": "error",
     "traceback": [
      "\u001b[1;36m  File \u001b[1;32m\"C:\\Users\\shakil\\AppData\\Local\\Temp\\ipykernel_11868\\2836292378.py\"\u001b[1;36m, line \u001b[1;32m3\u001b[0m\n\u001b[1;33m    def prefixSpan('result.txt', 2):\u001b[0m\n\u001b[1;37m                   ^\u001b[0m\n\u001b[1;31mSyntaxError\u001b[0m\u001b[1;31m:\u001b[0m invalid syntax\n"
     ]
    }
   ],
   "source": [
    "from collections import defaultdict\n",
    "\n",
    "def prefixSpan('result.txt', 2):\n",
    "    \"\"\"\n",
    "    Finds all frequent itemsets within the dataset in the given file.\n",
    "    \"\"\"\n",
    "    # Read the dataset from the file\n",
    "    with open(result.txt) as f:\n",
    "        dataset = []\n",
    "        for line in f:\n",
    "            transaction = line.strip().split(' ')\n",
    "            dataset.append(transaction)\n",
    "    \n",
    "    # Initialize the frequent itemsets to be the items that occur at least minSupport times\n",
    "    frequentItemsets = defaultdict(int)\n",
    "    for transaction in dataset:\n",
    "        for item in transaction:\n",
    "            frequentItemsets[item] += 1\n",
    "    frequentItemsets = {item: count for item, count in frequentItemsets.items() if count >= minSupport}\n",
    "    \n",
    "    # Find the frequent itemsets\n",
    "    result = []\n",
    "    for item, count in frequentItemsets.items():\n",
    "        result.append(([item], count))\n",
    "    k = 2\n",
    "    while frequentItemsets:\n",
    "        candidates = generateCandidates(frequentItemsets, k)\n",
    "        frequentItemsets = defaultdict(int)\n",
    "        for transaction in dataset:\n",
    "            for candidate in candidates:\n",
    "                if set(candidate).issubset(set(transaction)):\n",
    "                    frequentItemsets[candidate] += 1\n",
    "        frequentItemsets = {item: count for item, count in frequentItemsets.items() if count >= minSupport}\n",
    "        result.extend([(item, count) for item, count in frequentItemsets.items()])\n",
    "        k += 1\n",
    "    return result\n",
    "\n",
    "def generateCandidates(frequentItemsets, size):\n",
    "    \"\"\"\n",
    "    Generates candidate itemsets of the given size, using the frequent itemsets.\n",
    "    \"\"\"\n",
    "    candidates = []\n",
    "    for itemset in frequentItemsets:\n",
    "        for item in itemset:\n",
    "            candidate = itemset[:itemset.index(item)] + itemset[itemset.index(item)+1:] + [item]\n",
    "            if candidate not in candidates:\n",
    "                candidates.append(candidate)\n",
    "    return candidates\n"
   ]
  },
  {
   "cell_type": "code",
   "execution_count": 119,
   "id": "2c179e08",
   "metadata": {},
   "outputs": [
    {
     "ename": "SyntaxError",
     "evalue": "invalid syntax (3890801337.py, line 3)",
     "output_type": "error",
     "traceback": [
      "\u001b[1;36m  File \u001b[1;32m\"C:\\Users\\shakil\\AppData\\Local\\Temp\\ipykernel_11868\\3890801337.py\"\u001b[1;36m, line \u001b[1;32m3\u001b[0m\n\u001b[1;33m    def prefixSpan(result, 2):\u001b[0m\n\u001b[1;37m                           ^\u001b[0m\n\u001b[1;31mSyntaxError\u001b[0m\u001b[1;31m:\u001b[0m invalid syntax\n"
     ]
    }
   ],
   "source": [
    "from collections import defaultdict\n",
    "\n",
    "def prefixSpan(result, 2):\n",
    "    \"\"\"\n",
    "    Finds all frequent itemsets within the dataset in the given file.\n",
    "    \"\"\"\n",
    "    # Read the dataset from the file\n",
    "    with open(result.txt) as f:\n",
    "        dataset = []\n",
    "        for line in f:\n",
    "            transaction = line.strip().split(' ')\n",
    "            dataset.append(transaction)\n",
    "    \n",
    "    # Initialize the frequent itemsets to be the items that occur at least minSupport times\n",
    "    frequentItemsets = defaultdict(int)\n",
    "    for transaction in dataset:\n",
    "        for item in transaction:\n",
    "            frequentItemsets[item] += 1\n",
    "    frequentItemsets = {item: count for item, count in frequentItemsets.items() if count >= minSupport}\n",
    "    \n",
    "    # Find the frequent itemsets\n",
    "    result = []\n",
    "    for item, count in frequentItemsets.items():\n",
    "        result.append(([item], count))\n",
    "    k = 2\n",
    "    while frequentItemsets:\n",
    "        candidates = generateCandidates(frequentItemsets, k)\n",
    "        frequentItemsets = defaultdict(int)\n",
    "        for transaction in dataset:\n",
    "            for candidate in candidates:\n",
    "                if set(candidate).issubset(set(transaction)):\n",
    "                    frequentItemsets[candidate] += 1\n",
    "        frequentItemsets = {item: count for item, count in frequentItemsets.items() if count >= minSupport}\n",
    "        result.extend([(item, count) for item, count in frequentItemsets.items()])\n",
    "        k += 1\n",
    "    return result\n",
    "\n",
    "def generateCandidates(frequentItemsets, size):\n",
    "    \"\"\"\n",
    "    Generates candidate itemsets of the given size, using the frequent itemsets.\n",
    "    \"\"\"\n",
    "    candidates = []\n",
    "    for itemset in frequentItemsets:\n",
    "        for item in itemset:\n",
    "            candidate = itemset[:itemset.index(item)] + itemset[itemset.index(item)+1:] + [item]\n",
    "            if candidate not in candidates:\n",
    "                candidates.append(candidate)\n",
    "    return candidates\n"
   ]
  },
  {
   "cell_type": "code",
   "execution_count": 123,
   "id": "2618059f",
   "metadata": {},
   "outputs": [
    {
     "name": "stdout",
     "output_type": "stream",
     "text": [
      "Defaulting to user installation because normal site-packages is not writeable\n"
     ]
    },
    {
     "name": "stderr",
     "output_type": "stream",
     "text": [
      "ERROR: Could not find a version that satisfies the requirement defaultdict (from versions: none)\n",
      "ERROR: No matching distribution found for defaultdict\n"
     ]
    }
   ],
   "source": [
    "!pip install defaultdict"
   ]
  },
  {
   "cell_type": "code",
   "execution_count": 128,
   "id": "63cc060f",
   "metadata": {},
   "outputs": [
    {
     "ename": "SyntaxError",
     "evalue": "invalid syntax (1264278261.py, line 2)",
     "output_type": "error",
     "traceback": [
      "\u001b[1;36m  File \u001b[1;32m\"C:\\Users\\shakil\\AppData\\Local\\Temp\\ipykernel_11868\\1264278261.py\"\u001b[1;36m, line \u001b[1;32m2\u001b[0m\n\u001b[1;33m    def prefixSpan([[1, 2], [2, 3], [1, 2, 3], [1, 3]], 2):\u001b[0m\n\u001b[1;37m                   ^\u001b[0m\n\u001b[1;31mSyntaxError\u001b[0m\u001b[1;31m:\u001b[0m invalid syntax\n"
     ]
    }
   ],
   "source": [
    "from collections import defaultdict\n",
    "def prefixSpan([[1, 2], [2, 3], [1, 2, 3], [1, 3]], 2):\n",
    "    \"\"\"\n",
    "    Finds all frequent subsequences within the given sequence.\n",
    "    \"\"\"\n",
    "    # Initialize the frequent itemsets to be the items that occur at least minSupport times\n",
    "    frequentItemsets = {}\n",
    "    for item in sequence:\n",
    "        if item in frequentItemsets:\n",
    "            frequentItemsets[item] += 1\n",
    "        else:\n",
    "            frequentItemsets[item] = 1\n",
    "    frequentItemsets = {item: count for item, count in frequentItemsets.items() if count >= minSupport}\n",
    "    \n",
    "    # Find the frequent subsequences\n",
    "    result = []\n",
    "    for item, count in frequentItemsets.items():\n",
    "        result.append(([item], count))\n",
    "    for size in range(2, len(sequence) + 1):\n",
    "        candidates = generateCandidates(frequentItemsets, size)\n",
    "        frequentItemsets = {}\n",
    "        for i in range(len(sequence) - size + 1):\n",
    "            if sequence[i:i+size] in candidates:\n",
    "                if tuple(sequence[i:i+size]) in frequentItemsets:\n",
    "                    frequentItemsets[tuple(sequence[i:i+size])] += 1\n",
    "                else:\n",
    "                    frequentItemsets[tuple(sequence[i:i+size])] = 1\n",
    "        frequentItemsets = {item: count for item, count in frequent\n"
   ]
  },
  {
   "cell_type": "code",
   "execution_count": 127,
   "id": "4c8b4c09",
   "metadata": {
    "scrolled": true
   },
   "outputs": [
    {
     "name": "stdout",
     "output_type": "stream",
     "text": [
      "Defaulting to user installation because normal site-packages is not writeable\n",
      "Collecting prefixspan\n",
      "  Downloading prefixspan-0.5.2.tar.gz (10 kB)\n",
      "  Preparing metadata (setup.py): started\n",
      "  Preparing metadata (setup.py): finished with status 'done'\n",
      "Collecting docopt>=0.6.2\n",
      "  Downloading docopt-0.6.2.tar.gz (25 kB)\n",
      "  Preparing metadata (setup.py): started\n",
      "  Preparing metadata (setup.py): finished with status 'done'\n",
      "Collecting extratools>=0.8.1\n",
      "  Downloading extratools-0.8.2.1.tar.gz (25 kB)\n",
      "  Preparing metadata (setup.py): started\n",
      "  Preparing metadata (setup.py): finished with status 'done'\n",
      "Requirement already satisfied: sortedcontainers>=1.5.10 in c:\\programdata\\anaconda3\\lib\\site-packages (from extratools>=0.8.1->prefixspan) (2.4.0)\n",
      "Requirement already satisfied: toolz>=0.9.0 in c:\\programdata\\anaconda3\\lib\\site-packages (from extratools>=0.8.1->prefixspan) (0.11.2)\n",
      "Building wheels for collected packages: prefixspan, docopt, extratools\n",
      "  Building wheel for prefixspan (setup.py): started\n",
      "  Building wheel for prefixspan (setup.py): finished with status 'done'\n",
      "  Created wheel for prefixspan: filename=prefixspan-0.5.2-py3-none-any.whl size=11239 sha256=25dbab9a9b1496e05a26f8a39ce46ee9f0f459b46c4741f0c9ae79f6df49624c\n",
      "  Stored in directory: c:\\users\\shakil\\appdata\\local\\pip\\cache\\wheels\\1b\\96\\e2\\4eafa983829d97cbdd88d66b06221e28a35ff5b8c618c9910d\n",
      "  Building wheel for docopt (setup.py): started\n",
      "  Building wheel for docopt (setup.py): finished with status 'done'\n",
      "  Created wheel for docopt: filename=docopt-0.6.2-py2.py3-none-any.whl size=13706 sha256=14339db6779c034b6344638996af85ace2e665a1d216e4384d5b0ab48519d260\n",
      "  Stored in directory: c:\\users\\shakil\\appdata\\local\\pip\\cache\\wheels\\70\\4a\\46\\1309fc853b8d395e60bafaf1b6df7845bdd82c95fd59dd8d2b\n",
      "  Building wheel for extratools (setup.py): started\n",
      "  Building wheel for extratools (setup.py): finished with status 'done'\n",
      "  Created wheel for extratools: filename=extratools-0.8.2.1-py3-none-any.whl size=28897 sha256=f85d2351fd40949538cc2766f309c69f485f5096662be1a013c77781fe0bc515\n",
      "  Stored in directory: c:\\users\\shakil\\appdata\\local\\pip\\cache\\wheels\\70\\da\\ea\\30cdb9e0582afe1366c233eb955481c3676edc00249844295c\n",
      "Successfully built prefixspan docopt extratools\n",
      "Installing collected packages: docopt, extratools, prefixspan\n",
      "Successfully installed docopt-0.6.2 extratools-0.8.2.1 prefixspan-0.5.2\n"
     ]
    }
   ],
   "source": [
    "!pip install prefixspan"
   ]
  },
  {
   "cell_type": "code",
   "execution_count": 129,
   "id": "69037feb",
   "metadata": {},
   "outputs": [
    {
     "ename": "SyntaxError",
     "evalue": "invalid syntax (1264278261.py, line 2)",
     "output_type": "error",
     "traceback": [
      "\u001b[1;36m  File \u001b[1;32m\"C:\\Users\\shakil\\AppData\\Local\\Temp\\ipykernel_11868\\1264278261.py\"\u001b[1;36m, line \u001b[1;32m2\u001b[0m\n\u001b[1;33m    def prefixSpan([[1, 2], [2, 3], [1, 2, 3], [1, 3]], 2):\u001b[0m\n\u001b[1;37m                   ^\u001b[0m\n\u001b[1;31mSyntaxError\u001b[0m\u001b[1;31m:\u001b[0m invalid syntax\n"
     ]
    }
   ],
   "source": [
    "from collections import defaultdict\n",
    "def prefixSpan([[1, 2], [2, 3], [1, 2, 3], [1, 3]], 2):\n",
    "    \"\"\"\n",
    "    Finds all frequent subsequences within the given sequence.\n",
    "    \"\"\"\n",
    "    # Initialize the frequent itemsets to be the items that occur at least minSupport times\n",
    "    frequentItemsets = {}\n",
    "    for item in sequence:\n",
    "        if item in frequentItemsets:\n",
    "            frequentItemsets[item] += 1\n",
    "        else:\n",
    "            frequentItemsets[item] = 1\n",
    "    frequentItemsets = {item: count for item, count in frequentItemsets.items() if count >= minSupport}\n",
    "    \n",
    "    # Find the frequent subsequences\n",
    "    result = []\n",
    "    for item, count in frequentItemsets.items():\n",
    "        result.append(([item], count))\n",
    "    for size in range(2, len(sequence) + 1):\n",
    "        candidates = generateCandidates(frequentItemsets, size)\n",
    "        frequentItemsets = {}\n",
    "        for i in range(len(sequence) - size + 1):\n",
    "            if sequence[i:i+size] in candidates:\n",
    "                if tuple(sequence[i:i+size]) in frequentItemsets:\n",
    "                    frequentItemsets[tuple(sequence[i:i+size])] += 1\n",
    "                else:\n",
    "                    frequentItemsets[tuple(sequence[i:i+size])] = 1\n",
    "        frequentItemsets = {item: count for item, count in frequent\n"
   ]
  },
  {
   "cell_type": "code",
   "execution_count": 131,
   "id": "9d02b079",
   "metadata": {},
   "outputs": [
    {
     "name": "stdout",
     "output_type": "stream",
     "text": [
      "Defaulting to user installation because normal site-packages is not writeable\n",
      "Collecting pyfpgrowth\n",
      "  Downloading pyfpgrowth-1.0.tar.gz (1.6 MB)\n",
      "     ---------------------------------------- 1.6/1.6 MB 3.9 MB/s eta 0:00:00\n",
      "  Preparing metadata (setup.py): started\n",
      "  Preparing metadata (setup.py): finished with status 'done'\n",
      "Building wheels for collected packages: pyfpgrowth\n",
      "  Building wheel for pyfpgrowth (setup.py): started\n",
      "  Building wheel for pyfpgrowth (setup.py): finished with status 'done'\n",
      "  Created wheel for pyfpgrowth: filename=pyfpgrowth-1.0-py2.py3-none-any.whl size=5488 sha256=7cd28de3f8d46f93be3f34279950260f3451b989e9382f2a62857947abfb5a4f\n",
      "  Stored in directory: c:\\users\\shakil\\appdata\\local\\pip\\cache\\wheels\\1d\\15\\f3\\26c63bd6040ea8f62d59dba0b4fe4dffe551a0f93879734a91\n",
      "Successfully built pyfpgrowth\n",
      "Installing collected packages: pyfpgrowth\n",
      "Successfully installed pyfpgrowth-1.0\n"
     ]
    }
   ],
   "source": [
    "!pip install pyfpgrowth"
   ]
  },
  {
   "cell_type": "code",
   "execution_count": 1,
   "id": "b84cf0f0",
   "metadata": {},
   "outputs": [
    {
     "name": "stdout",
     "output_type": "stream",
     "text": [
      "{('B',): 2, ('A', 'B'): 2, ('C',): 3, ('A', 'C'): 3, ('A',): 4}\n"
     ]
    }
   ],
   "source": [
    "from pyfpgrowth import find_frequent_patterns\n",
    "\n",
    "# Load the dataset\n",
    "dataset = [\n",
    "    ['A', 'B', 'C'],\n",
    "    ['A', 'B', 'D'],\n",
    "    ['A', 'C', 'E'],\n",
    "    ['A', 'C', 'F']\n",
    "]\n",
    "\n",
    "# Set the minimum support threshold\n",
    "min_support = 2\n",
    "\n",
    "# Find the frequent patterns in the dataset\n",
    "frequent_patterns = find_frequent_patterns(dataset, min_support)\n",
    "\n",
    "print(frequent_patterns)\n"
   ]
  },
  {
   "cell_type": "code",
   "execution_count": 138,
   "id": "91aa02c0",
   "metadata": {},
   "outputs": [
    {
     "ename": "UnicodeDecodeError",
     "evalue": "'charmap' codec can't decode byte 0x81 in position 1382: character maps to <undefined>",
     "output_type": "error",
     "traceback": [
      "\u001b[1;31m---------------------------------------------------------------------------\u001b[0m",
      "\u001b[1;31mUnicodeDecodeError\u001b[0m                        Traceback (most recent call last)",
      "\u001b[1;32m~\\AppData\\Local\\Temp\\ipykernel_11868\\3681198177.py\u001b[0m in \u001b[0;36m<module>\u001b[1;34m\u001b[0m\n\u001b[0;32m      4\u001b[0m \u001b[1;32mwith\u001b[0m \u001b[0mopen\u001b[0m\u001b[1;33m(\u001b[0m\u001b[1;34m'result.txt'\u001b[0m\u001b[1;33m,\u001b[0m \u001b[1;34m'r'\u001b[0m\u001b[1;33m)\u001b[0m \u001b[1;32mas\u001b[0m \u001b[0mf\u001b[0m\u001b[1;33m:\u001b[0m\u001b[1;33m\u001b[0m\u001b[1;33m\u001b[0m\u001b[0m\n\u001b[0;32m      5\u001b[0m     \u001b[0mdataset\u001b[0m \u001b[1;33m=\u001b[0m \u001b[1;33m[\u001b[0m\u001b[1;33m]\u001b[0m\u001b[1;33m\u001b[0m\u001b[1;33m\u001b[0m\u001b[0m\n\u001b[1;32m----> 6\u001b[1;33m     \u001b[1;32mfor\u001b[0m \u001b[0mline\u001b[0m \u001b[1;32min\u001b[0m \u001b[0mf\u001b[0m\u001b[1;33m:\u001b[0m\u001b[1;33m\u001b[0m\u001b[1;33m\u001b[0m\u001b[0m\n\u001b[0m\u001b[0;32m      7\u001b[0m         \u001b[0msequence\u001b[0m \u001b[1;33m=\u001b[0m \u001b[0mline\u001b[0m\u001b[1;33m.\u001b[0m\u001b[0mstrip\u001b[0m\u001b[1;33m(\u001b[0m\u001b[1;33m)\u001b[0m\u001b[1;33m.\u001b[0m\u001b[0msplit\u001b[0m\u001b[1;33m(\u001b[0m\u001b[1;34m','\u001b[0m\u001b[1;33m)\u001b[0m\u001b[1;33m\u001b[0m\u001b[1;33m\u001b[0m\u001b[0m\n\u001b[0;32m      8\u001b[0m         \u001b[0mdataset\u001b[0m\u001b[1;33m.\u001b[0m\u001b[0mappend\u001b[0m\u001b[1;33m(\u001b[0m\u001b[0msequence\u001b[0m\u001b[1;33m)\u001b[0m\u001b[1;33m\u001b[0m\u001b[1;33m\u001b[0m\u001b[0m\n",
      "\u001b[1;32mC:\\ProgramData\\Anaconda3\\lib\\encodings\\cp1252.py\u001b[0m in \u001b[0;36mdecode\u001b[1;34m(self, input, final)\u001b[0m\n\u001b[0;32m     21\u001b[0m \u001b[1;32mclass\u001b[0m \u001b[0mIncrementalDecoder\u001b[0m\u001b[1;33m(\u001b[0m\u001b[0mcodecs\u001b[0m\u001b[1;33m.\u001b[0m\u001b[0mIncrementalDecoder\u001b[0m\u001b[1;33m)\u001b[0m\u001b[1;33m:\u001b[0m\u001b[1;33m\u001b[0m\u001b[1;33m\u001b[0m\u001b[0m\n\u001b[0;32m     22\u001b[0m     \u001b[1;32mdef\u001b[0m \u001b[0mdecode\u001b[0m\u001b[1;33m(\u001b[0m\u001b[0mself\u001b[0m\u001b[1;33m,\u001b[0m \u001b[0minput\u001b[0m\u001b[1;33m,\u001b[0m \u001b[0mfinal\u001b[0m\u001b[1;33m=\u001b[0m\u001b[1;32mFalse\u001b[0m\u001b[1;33m)\u001b[0m\u001b[1;33m:\u001b[0m\u001b[1;33m\u001b[0m\u001b[1;33m\u001b[0m\u001b[0m\n\u001b[1;32m---> 23\u001b[1;33m         \u001b[1;32mreturn\u001b[0m \u001b[0mcodecs\u001b[0m\u001b[1;33m.\u001b[0m\u001b[0mcharmap_decode\u001b[0m\u001b[1;33m(\u001b[0m\u001b[0minput\u001b[0m\u001b[1;33m,\u001b[0m\u001b[0mself\u001b[0m\u001b[1;33m.\u001b[0m\u001b[0merrors\u001b[0m\u001b[1;33m,\u001b[0m\u001b[0mdecoding_table\u001b[0m\u001b[1;33m)\u001b[0m\u001b[1;33m[\u001b[0m\u001b[1;36m0\u001b[0m\u001b[1;33m]\u001b[0m\u001b[1;33m\u001b[0m\u001b[1;33m\u001b[0m\u001b[0m\n\u001b[0m\u001b[0;32m     24\u001b[0m \u001b[1;33m\u001b[0m\u001b[0m\n\u001b[0;32m     25\u001b[0m \u001b[1;32mclass\u001b[0m \u001b[0mStreamWriter\u001b[0m\u001b[1;33m(\u001b[0m\u001b[0mCodec\u001b[0m\u001b[1;33m,\u001b[0m\u001b[0mcodecs\u001b[0m\u001b[1;33m.\u001b[0m\u001b[0mStreamWriter\u001b[0m\u001b[1;33m)\u001b[0m\u001b[1;33m:\u001b[0m\u001b[1;33m\u001b[0m\u001b[1;33m\u001b[0m\u001b[0m\n",
      "\u001b[1;31mUnicodeDecodeError\u001b[0m: 'charmap' codec can't decode byte 0x81 in position 1382: character maps to <undefined>"
     ]
    }
   ],
   "source": [
    "from pyfpgrowth import find_frequent_patterns\n",
    "\n",
    "# Read the dataset from the file\n",
    "with open('result.txt', 'r') as f:\n",
    "    dataset = []\n",
    "    for line in f:\n",
    "        sequence = line.strip().split(',')\n",
    "        dataset.append(sequence)\n",
    "\n",
    "# Set the minimum support threshold\n",
    "min_support = 2\n",
    "\n",
    "# Find the frequent patterns in the dataset\n",
    "frequent_patterns = find_frequent_patterns(dataset, min_support)\n",
    "\n",
    "print(frequent_patterns)\n"
   ]
  },
  {
   "cell_type": "code",
   "execution_count": 140,
   "id": "1c41923e",
   "metadata": {},
   "outputs": [
    {
     "name": "stdout",
     "output_type": "stream",
     "text": [
      "{('i',): 2, ('i', 'that'): 2, ('co', 'i'): 2, ('https', 'i'): 2, ('i', 'the'): 4, ('i', 't'): 2, ('co', 'i', 'that'): 2, ('https', 'i', 'that'): 2, ('i', 'that', 'the'): 2, ('i', 't', 'that'): 2, ('co', 'https', 'i'): 2, ('co', 'i', 'the'): 2, ('co', 'i', 't'): 2, ('https', 'i', 'the'): 2, ('https', 'i', 't'): 2, ('i', 't', 'the'): 2, ('co', 'https', 'i', 'that'): 2, ('co', 'i', 'that', 'the'): 2, ('co', 'i', 't', 'that'): 2, ('https', 'i', 'that', 'the'): 2, ('https', 'i', 't', 'that'): 2, ('i', 't', 'that', 'the'): 2, ('co', 'https', 'i', 'the'): 2, ('co', 'https', 'i', 't'): 2, ('co', 'i', 't', 'the'): 2, ('https', 'i', 't', 'the'): 2, ('co', 'https', 'i', 'that', 'the'): 2, ('co', 'https', 'i', 't', 'that'): 2, ('co', 'i', 't', 'that', 'the'): 2, ('https', 'i', 't', 'that', 'the'): 2, ('co', 'https', 'i', 't', 'the'): 2, ('co', 'https', 'i', 't', 'that', 'the'): 2, ('co', 'on'): 2, ('https', 'on'): 2, ('co', 'https', 'on'): 2, ('on', 'the'): 2, ('https', 'on', 'the'): 2, ('co', 'on', 'the'): 2, ('co', 'https', 'on', 'the'): 2, ('on', 't', 'the'): 2, ('https', 'on', 't'): 2, ('https', 'on', 't', 'the'): 2, ('co', 'on', 't'): 2, ('co', 'https', 'on', 't'): 2, ('co', 'on', 't', 'the'): 2, ('co', 'https', 'on', 't', 'the'): 2, ('i', 'were'): 2, ('i', 'the', 'were'): 4, ('that', 'were'): 2, ('i', 'that', 'were'): 2, ('that', 'the', 'were'): 4, ('i', 'that', 'the', 'were'): 2, ('co', 'were'): 2, ('co', 'that', 'were'): 2, ('co', 'i', 'were'): 2, ('co', 'the', 'were'): 4, ('co', 'i', 'that', 'were'): 2, ('co', 'that', 'the', 'were'): 2, ('co', 'i', 'the', 'were'): 2, ('co', 'i', 'that', 'the', 'were'): 2, ('https', 'were'): 2, ('co', 'https', 'were'): 2, ('https', 'that', 'were'): 2, ('https', 'i', 'were'): 2, ('https', 'the', 'were'): 4, ('co', 'https', 'that', 'were'): 2, ('co', 'https', 'i', 'were'): 2, ('co', 'https', 'the', 'were'): 2, ('https', 'i', 'that', 'were'): 2, ('https', 'that', 'the', 'were'): 2, ('https', 'i', 'the', 'were'): 2, ('co', 'https', 'i', 'that', 'were'): 2, ('co', 'https', 'that', 'the', 'were'): 2, ('co', 'https', 'i', 'the', 'were'): 2, ('https', 'i', 'that', 'the', 'were'): 2, ('co', 'https', 'i', 'that', 'the', 'were'): 2, ('t', 'were'): 2, ('https', 't', 'were'): 2, ('co', 't', 'were'): 2, ('t', 'that', 'were'): 2, ('i', 't', 'were'): 2, ('t', 'the', 'were'): 4, ('co', 'https', 't', 'were'): 2, ('https', 't', 'that', 'were'): 2, ('https', 'i', 't', 'were'): 2, ('https', 't', 'the', 'were'): 2, ('co', 't', 'that', 'were'): 2, ('co', 'i', 't', 'were'): 2, ('co', 't', 'the', 'were'): 2, ('i', 't', 'that', 'were'): 2, ('t', 'that', 'the', 'were'): 2, ('i', 't', 'the', 'were'): 2, ('co', 'https', 't', 'that', 'were'): 2, ('co', 'https', 'i', 't', 'were'): 2, ('co', 'https', 't', 'the', 'were'): 2, ('https', 'i', 't', 'that', 'were'): 2, ('https', 't', 'that', 'the', 'were'): 2, ('https', 'i', 't', 'the', 'were'): 2, ('co', 'i', 't', 'that', 'were'): 2, ('co', 't', 'that', 'the', 'were'): 2, ('co', 'i', 't', 'the', 'were'): 2, ('i', 't', 'that', 'the', 'were'): 2, ('co', 'https', 'i', 't', 'that', 'were'): 2, ('co', 'https', 't', 'that', 'the', 'were'): 2, ('co', 'https', 'i', 't', 'the', 'were'): 2, ('https', 'i', 't', 'that', 'the', 'were'): 2, ('co', 'i', 't', 'that', 'the', 'were'): 2, ('co', 'https', 'i', 't', 'that', 'the', 'were'): 2, ('the', 'were'): 4, ('the', 'the', 'were'): 2, ('and', 'co', 't'): 3, ('and', 'co', 'to'): 3, ('and', 'co', 't', 'to'): 5, ('a', 'and', 'co', 'to'): 4, ('a', 'and', 'co', 't'): 4, ('a', 'and', 'co', 't', 'to'): 6, ('and', 'co', 'it', 'to'): 4, ('a', 'and', 'co', 'it', 'to'): 6, ('and', 'co', 'it', 't', 'to'): 6, ('and', 'co', 'it', 't', 'to', 'to'): 2, ('a', 'a', 'and', 'co', 'it', 't'): 2, ('a', 'a', 'and', 'co', 'it', 't', 'to'): 2, ('a', 'and', 'co', 'it', 't', 'to'): 8, ('a', 'and', 'co', 'it', 't', 'to', 'to'): 2, ('a', 'and', 'co', 'it'): 5, ('a', 'a', 'and', 'co', 'it'): 2, ('and', 'co', 'https', 'it'): 3, ('a', 'and', 'co', 'https'): 3, ('a', 'and', 'co', 'https', 'it'): 5, ('a', 'and', 'co', 'https', 'to'): 4, ('and', 'co', 'https', 'it', 'to'): 4, ('a', 'and', 'co', 'https', 'it', 'to'): 6, ('a', 'and', 'co', 'https', 't'): 4, ('a', 'and', 'co', 'https', 't', 'to'): 6, ('a', 'and', 'co', 'https', 'it', 't'): 6, ('a', 'a', 'and', 'co', 'https', 'it', 't'): 2, ('and', 'co', 'https', 'it', 't', 'to', 'to'): 2, ('a', 'and', 'co', 'https', 'it', 't', 'to', 'to'): 2, ('a', 'and', 'co', 'https', 'it', 't', 'to'): 8, ('a', 'a', 'and', 'co', 'https', 'it', 't', 'to'): 2, ('and', 'co', 'https', 't', 'to'): 5, ('and', 'co', 'https', 't', 'to', 'to'): 2, ('and', 'https', 't'): 3, ('and', 'https', 'to'): 3, ('and', 'https', 't', 'to'): 5, ('a', 'and', 'https', 'to'): 4, ('a', 'and', 'https', 't'): 4, ('a', 'and', 'https', 't', 'to'): 6, ('and', 'https', 'it', 'to'): 4, ('a', 'and', 'https', 'it', 'to'): 6, ('and', 'https', 'it', 't', 'to'): 6, ('and', 'https', 'it', 't', 'to', 'to'): 2, ('a', 'a', 'and', 'https', 'it', 't'): 2, ('a', 'a', 'and', 'https', 'it', 't', 'to'): 2, ('a', 'and', 'https', 'it', 't', 'to'): 8, ('a', 'and', 'https', 'it', 't', 'to', 'to'): 2, ('a', 'and', 'https', 'it'): 5, ('a', 'a', 'and', 'https', 'it'): 2, ('and', 'the'): 2, ('and', 'https', 'the'): 2, ('and', 'co', 'the'): 2, ('and', 't', 'the'): 4, ('and', 'the', 'to'): 4, ('a', 'and', 'the'): 2, ('and', 'it', 'the'): 2, ('and', 'co', 'https', 'the'): 2, ('and', 'https', 't', 'the'): 2, ('and', 'https', 'the', 'to'): 2, ('a', 'and', 'https', 'the'): 2, ('and', 'https', 'it', 'the'): 2, ('and', 'co', 't', 'the'): 2, ('and', 'co', 'the', 'to'): 2, ('a', 'and', 'co', 'the'): 2, ('and', 'co', 'it', 'the'): 2, ('and', 't', 'the', 'to'): 4, ('a', 'and', 't', 'the'): 2, ('and', 'it', 't', 'the'): 2, ('a', 'and', 'the', 'to'): 2, ('and', 'it', 'the', 'to'): 2, ('a', 'and', 'it', 'the'): 2, ('and', 'co', 'https', 't', 'the'): 2, ('and', 'co', 'https', 'the', 'to'): 2, ('a', 'and', 'co', 'https', 'the'): 2, ('and', 'co', 'https', 'it', 'the'): 2, ('and', 'https', 't', 'the', 'to'): 2, ('a', 'and', 'https', 't', 'the'): 2, ('and', 'https', 'it', 't', 'the'): 2, ('a', 'and', 'https', 'the', 'to'): 2, ('and', 'https', 'it', 'the', 'to'): 2, ('a', 'and', 'https', 'it', 'the'): 2, ('and', 'co', 't', 'the', 'to'): 2, ('a', 'and', 'co', 't', 'the'): 2, ('and', 'co', 'it', 't', 'the'): 2, ('a', 'and', 'co', 'the', 'to'): 2, ('and', 'co', 'it', 'the', 'to'): 2, ('a', 'and', 'co', 'it', 'the'): 2, ('a', 'and', 't', 'the', 'to'): 2, ('and', 'it', 't', 'the', 'to'): 2, ('a', 'and', 'it', 't', 'the'): 2, ('a', 'and', 'it', 'the', 'to'): 2, ('and', 'co', 'https', 't', 'the', 'to'): 2, ('a', 'and', 'co', 'https', 't', 'the'): 2, ('and', 'co', 'https', 'it', 't', 'the'): 2, ('a', 'and', 'co', 'https', 'the', 'to'): 2, ('and', 'co', 'https', 'it', 'the', 'to'): 2, ('a', 'and', 'co', 'https', 'it', 'the'): 2, ('a', 'and', 'https', 't', 'the', 'to'): 2, ('and', 'https', 'it', 't', 'the', 'to'): 2, ('a', 'and', 'https', 'it', 't', 'the'): 2, ('a', 'and', 'https', 'it', 'the', 'to'): 2, ('a', 'and', 'co', 't', 'the', 'to'): 2, ('and', 'co', 'it', 't', 'the', 'to'): 2, ('a', 'and', 'co', 'it', 't', 'the'): 2, ('a', 'and', 'co', 'it', 'the', 'to'): 2, ('a', 'and', 'it', 't', 'the', 'to'): 2, ('a', 'and', 'co', 'https', 't', 'the', 'to'): 2, ('and', 'co', 'https', 'it', 't', 'the', 'to'): 2, ('a', 'and', 'co', 'https', 'it', 't', 'the'): 2, ('a', 'and', 'co', 'https', 'it', 'the', 'to'): 2, ('a', 'and', 'https', 'it', 't', 'the', 'to'): 2, ('a', 'and', 'co', 'it', 't', 'the', 'to'): 2, ('a', 'and', 'co', 'https', 'it', 't', 'the', 'to'): 2, ('and', 'it'): 3, ('a', 'and'): 3, ('a', 'and', 'it'): 5, ('a', 'and', 'to'): 4, ('and', 'it', 'to'): 4, ('a', 'and', 'it', 'to'): 6, ('a', 'and', 't'): 4, ('a', 'and', 't', 'to'): 6, ('a', 'and', 'it', 't'): 6, ('a', 'a', 'and', 'it', 't'): 2, ('and', 'it', 't', 'to', 'to'): 2, ('a', 'and', 'it', 't', 'to', 'to'): 2, ('a', 'and', 'it', 't', 'to'): 8, ('a', 'a', 'and', 'it', 't', 'to'): 2, ('and', 't', 'to'): 5, ('and', 't', 'to', 'to'): 2, ('have',): 2, ('and', 'have'): 2, ('have', 'it'): 2, ('a', 'have'): 2, ('have', 'to'): 4, ('co', 'have'): 2, ('have', 'https'): 2, ('have', 'the'): 4, ('have', 't'): 4, ('and', 'have', 'it'): 2, ('a', 'and', 'have'): 2, ('and', 'have', 'to'): 2, ('and', 'co', 'have'): 2, ('and', 'have', 'https'): 2, ('and', 'have', 'the'): 2, ('and', 'have', 't'): 2, ('a', 'have', 'it'): 2, ('have', 'it', 'to'): 2, ('co', 'have', 'it'): 2, ('have', 'https', 'it'): 2, ('have', 'it', 'the'): 2, ('have', 'it', 't'): 2, ('a', 'have', 'to'): 2, ('a', 'co', 'have'): 2, ('a', 'have', 'https'): 2, ('a', 'have', 'the'): 2, ('a', 'have', 't'): 2, ('co', 'have', 'to'): 2, ('have', 'https', 'to'): 2, ('have', 'the', 'to'): 4, ('have', 't', 'to'): 4, ('co', 'have', 'https'): 2, ('co', 'have', 'the'): 2, ('co', 'have', 't'): 2, ('have', 'https', 'the'): 2, ('have', 'https', 't'): 2, ('have', 't', 'the'): 4, ('a', 'and', 'have', 'it'): 2, ('and', 'have', 'it', 'to'): 2, ('and', 'co', 'have', 'it'): 2, ('and', 'have', 'https', 'it'): 2, ('and', 'have', 'it', 'the'): 2, ('and', 'have', 'it', 't'): 2, ('a', 'and', 'have', 'to'): 2, ('a', 'and', 'co', 'have'): 2, ('a', 'and', 'have', 'https'): 2, ('a', 'and', 'have', 'the'): 2, ('a', 'and', 'have', 't'): 2, ('and', 'co', 'have', 'to'): 2, ('and', 'have', 'https', 'to'): 2, ('and', 'have', 'the', 'to'): 2, ('and', 'have', 't', 'to'): 2, ('and', 'co', 'have', 'https'): 2, ('and', 'co', 'have', 'the'): 2, ('and', 'co', 'have', 't'): 2, ('and', 'have', 'https', 'the'): 2, ('and', 'have', 'https', 't'): 2, ('and', 'have', 't', 'the'): 2, ('a', 'have', 'it', 'to'): 2, ('a', 'co', 'have', 'it'): 2, ('a', 'have', 'https', 'it'): 2, ('a', 'have', 'it', 'the'): 2, ('a', 'have', 'it', 't'): 2, ('co', 'have', 'it', 'to'): 2, ('have', 'https', 'it', 'to'): 2, ('have', 'it', 'the', 'to'): 2, ('have', 'it', 't', 'to'): 2, ('co', 'have', 'https', 'it'): 2, ('co', 'have', 'it', 'the'): 2, ('co', 'have', 'it', 't'): 2, ('have', 'https', 'it', 'the'): 2, ('have', 'https', 'it', 't'): 2, ('have', 'it', 't', 'the'): 2, ('a', 'co', 'have', 'to'): 2, ('a', 'have', 'https', 'to'): 2, ('a', 'have', 'the', 'to'): 2, ('a', 'have', 't', 'to'): 2, ('a', 'co', 'have', 'https'): 2, ('a', 'co', 'have', 'the'): 2, ('a', 'co', 'have', 't'): 2, ('a', 'have', 'https', 'the'): 2, ('a', 'have', 'https', 't'): 2, ('a', 'have', 't', 'the'): 2, ('co', 'have', 'https', 'to'): 2, ('co', 'have', 'the', 'to'): 2, ('co', 'have', 't', 'to'): 2, ('have', 'https', 'the', 'to'): 2, ('have', 'https', 't', 'to'): 2, ('have', 't', 'the', 'to'): 4, ('co', 'have', 'https', 'the'): 2, ('co', 'have', 'https', 't'): 2, ('co', 'have', 't', 'the'): 2, ('have', 'https', 't', 'the'): 2, ('a', 'and', 'have', 'it', 'to'): 2, ('a', 'and', 'co', 'have', 'it'): 2, ('a', 'and', 'have', 'https', 'it'): 2, ('a', 'and', 'have', 'it', 'the'): 2, ('a', 'and', 'have', 'it', 't'): 2, ('and', 'co', 'have', 'it', 'to'): 2, ('and', 'have', 'https', 'it', 'to'): 2, ('and', 'have', 'it', 'the', 'to'): 2, ('and', 'have', 'it', 't', 'to'): 2, ('and', 'co', 'have', 'https', 'it'): 2, ('and', 'co', 'have', 'it', 'the'): 2, ('and', 'co', 'have', 'it', 't'): 2, ('and', 'have', 'https', 'it', 'the'): 2, ('and', 'have', 'https', 'it', 't'): 2, ('and', 'have', 'it', 't', 'the'): 2, ('a', 'and', 'co', 'have', 'to'): 2, ('a', 'and', 'have', 'https', 'to'): 2, ('a', 'and', 'have', 'the', 'to'): 2, ('a', 'and', 'have', 't', 'to'): 2, ('a', 'and', 'co', 'have', 'https'): 2, ('a', 'and', 'co', 'have', 'the'): 2, ('a', 'and', 'co', 'have', 't'): 2, ('a', 'and', 'have', 'https', 'the'): 2, ('a', 'and', 'have', 'https', 't'): 2, ('a', 'and', 'have', 't', 'the'): 2, ('and', 'co', 'have', 'https', 'to'): 2, ('and', 'co', 'have', 'the', 'to'): 2, ('and', 'co', 'have', 't', 'to'): 2, ('and', 'have', 'https', 'the', 'to'): 2, ('and', 'have', 'https', 't', 'to'): 2, ('and', 'have', 't', 'the', 'to'): 2, ('and', 'co', 'have', 'https', 'the'): 2, ('and', 'co', 'have', 'https', 't'): 2, ('and', 'co', 'have', 't', 'the'): 2, ('and', 'have', 'https', 't', 'the'): 2, ('a', 'co', 'have', 'it', 'to'): 2, ('a', 'have', 'https', 'it', 'to'): 2, ('a', 'have', 'it', 'the', 'to'): 2, ('a', 'have', 'it', 't', 'to'): 2, ('a', 'co', 'have', 'https', 'it'): 2, ('a', 'co', 'have', 'it', 'the'): 2, ('a', 'co', 'have', 'it', 't'): 2, ('a', 'have', 'https', 'it', 'the'): 2, ('a', 'have', 'https', 'it', 't'): 2, ('a', 'have', 'it', 't', 'the'): 2, ('co', 'have', 'https', 'it', 'to'): 2, ('co', 'have', 'it', 'the', 'to'): 2, ('co', 'have', 'it', 't', 'to'): 2, ('have', 'https', 'it', 'the', 'to'): 2, ('have', 'https', 'it', 't', 'to'): 2, ('have', 'it', 't', 'the', 'to'): 2, ('co', 'have', 'https', 'it', 'the'): 2, ('co', 'have', 'https', 'it', 't'): 2, ('co', 'have', 'it', 't', 'the'): 2, ('have', 'https', 'it', 't', 'the'): 2, ('a', 'co', 'have', 'https', 'to'): 2, ('a', 'co', 'have', 'the', 'to'): 2, ('a', 'co', 'have', 't', 'to'): 2, ('a', 'have', 'https', 'the', 'to'): 2, ('a', 'have', 'https', 't', 'to'): 2, ('a', 'have', 't', 'the', 'to'): 2, ('a', 'co', 'have', 'https', 'the'): 2, ('a', 'co', 'have', 'https', 't'): 2, ('a', 'co', 'have', 't', 'the'): 2, ('a', 'have', 'https', 't', 'the'): 2, ('co', 'have', 'https', 'the', 'to'): 2, ('co', 'have', 'https', 't', 'to'): 2, ('co', 'have', 't', 'the', 'to'): 2, ('have', 'https', 't', 'the', 'to'): 2, ('co', 'have', 'https', 't', 'the'): 2, ('a', 'and', 'co', 'have', 'it', 'to'): 2, ('a', 'and', 'have', 'https', 'it', 'to'): 2, ('a', 'and', 'have', 'it', 'the', 'to'): 2, ('a', 'and', 'have', 'it', 't', 'to'): 2, ('a', 'and', 'co', 'have', 'https', 'it'): 2, ('a', 'and', 'co', 'have', 'it', 'the'): 2, ('a', 'and', 'co', 'have', 'it', 't'): 2, ('a', 'and', 'have', 'https', 'it', 'the'): 2, ('a', 'and', 'have', 'https', 'it', 't'): 2, ('a', 'and', 'have', 'it', 't', 'the'): 2, ('and', 'co', 'have', 'https', 'it', 'to'): 2, ('and', 'co', 'have', 'it', 'the', 'to'): 2, ('and', 'co', 'have', 'it', 't', 'to'): 2, ('and', 'have', 'https', 'it', 'the', 'to'): 2, ('and', 'have', 'https', 'it', 't', 'to'): 2, ('and', 'have', 'it', 't', 'the', 'to'): 2, ('and', 'co', 'have', 'https', 'it', 'the'): 2, ('and', 'co', 'have', 'https', 'it', 't'): 2, ('and', 'co', 'have', 'it', 't', 'the'): 2, ('and', 'have', 'https', 'it', 't', 'the'): 2, ('a', 'and', 'co', 'have', 'https', 'to'): 2, ('a', 'and', 'co', 'have', 'the', 'to'): 2, ('a', 'and', 'co', 'have', 't', 'to'): 2, ('a', 'and', 'have', 'https', 'the', 'to'): 2, ('a', 'and', 'have', 'https', 't', 'to'): 2, ('a', 'and', 'have', 't', 'the', 'to'): 2, ('a', 'and', 'co', 'have', 'https', 'the'): 2, ('a', 'and', 'co', 'have', 'https', 't'): 2, ('a', 'and', 'co', 'have', 't', 'the'): 2, ('a', 'and', 'have', 'https', 't', 'the'): 2, ('and', 'co', 'have', 'https', 'the', 'to'): 2, ('and', 'co', 'have', 'https', 't', 'to'): 2, ('and', 'co', 'have', 't', 'the', 'to'): 2, ('and', 'have', 'https', 't', 'the', 'to'): 2, ('and', 'co', 'have', 'https', 't', 'the'): 2, ('a', 'co', 'have', 'https', 'it', 'to'): 2, ('a', 'co', 'have', 'it', 'the', 'to'): 2, ('a', 'co', 'have', 'it', 't', 'to'): 2, ('a', 'have', 'https', 'it', 'the', 'to'): 2, ('a', 'have', 'https', 'it', 't', 'to'): 2, ('a', 'have', 'it', 't', 'the', 'to'): 2, ('a', 'co', 'have', 'https', 'it', 'the'): 2, ('a', 'co', 'have', 'https', 'it', 't'): 2, ('a', 'co', 'have', 'it', 't', 'the'): 2, ('a', 'have', 'https', 'it', 't', 'the'): 2, ('co', 'have', 'https', 'it', 'the', 'to'): 2, ('co', 'have', 'https', 'it', 't', 'to'): 2, ('co', 'have', 'it', 't', 'the', 'to'): 2, ('have', 'https', 'it', 't', 'the', 'to'): 2, ('co', 'have', 'https', 'it', 't', 'the'): 2, ('a', 'co', 'have', 'https', 'the', 'to'): 2, ('a', 'co', 'have', 'https', 't', 'to'): 2, ('a', 'co', 'have', 't', 'the', 'to'): 2, ('a', 'have', 'https', 't', 'the', 'to'): 2, ('a', 'co', 'have', 'https', 't', 'the'): 2, ('co', 'have', 'https', 't', 'the', 'to'): 2, ('a', 'and', 'co', 'have', 'https', 'it', 'to'): 2, ('a', 'and', 'co', 'have', 'it', 'the', 'to'): 2, ('a', 'and', 'co', 'have', 'it', 't', 'to'): 2, ('a', 'and', 'have', 'https', 'it', 'the', 'to'): 2, ('a', 'and', 'have', 'https', 'it', 't', 'to'): 2, ('a', 'and', 'have', 'it', 't', 'the', 'to'): 2, ('a', 'and', 'co', 'have', 'https', 'it', 'the'): 2, ('a', 'and', 'co', 'have', 'https', 'it', 't'): 2, ('a', 'and', 'co', 'have', 'it', 't', 'the'): 2, ('a', 'and', 'have', 'https', 'it', 't', 'the'): 2, ('and', 'co', 'have', 'https', 'it', 'the', 'to'): 2, ('and', 'co', 'have', 'https', 'it', 't', 'to'): 2, ('and', 'co', 'have', 'it', 't', 'the', 'to'): 2, ('and', 'have', 'https', 'it', 't', 'the', 'to'): 2, ('and', 'co', 'have', 'https', 'it', 't', 'the'): 2, ('a', 'and', 'co', 'have', 'https', 'the', 'to'): 2, ('a', 'and', 'co', 'have', 'https', 't', 'to'): 2, ('a', 'and', 'co', 'have', 't', 'the', 'to'): 2, ('a', 'and', 'have', 'https', 't', 'the', 'to'): 2, ('a', 'and', 'co', 'have', 'https', 't', 'the'): 2, ('and', 'co', 'have', 'https', 't', 'the', 'to'): 2, ('a', 'co', 'have', 'https', 'it', 'the', 'to'): 2, ('a', 'co', 'have', 'https', 'it', 't', 'to'): 2, ('a', 'co', 'have', 'it', 't', 'the', 'to'): 2, ('a', 'have', 'https', 'it', 't', 'the', 'to'): 2, ('a', 'co', 'have', 'https', 'it', 't', 'the'): 2, ('co', 'have', 'https', 'it', 't', 'the', 'to'): 2, ('a', 'co', 'have', 'https', 't', 'the', 'to'): 2, ('a', 'and', 'co', 'have', 'https', 'it', 'the', 'to'): 2, ('a', 'and', 'co', 'have', 'https', 'it', 't', 'to'): 2, ('a', 'and', 'co', 'have', 'it', 't', 'the', 'to'): 2, ('a', 'and', 'have', 'https', 'it', 't', 'the', 'to'): 2, ('a', 'and', 'co', 'have', 'https', 'it', 't', 'the'): 2, ('and', 'co', 'have', 'https', 'it', 't', 'the', 'to'): 2, ('a', 'and', 'co', 'have', 'https', 't', 'the', 'to'): 2, ('a', 'co', 'have', 'https', 'it', 't', 'the', 'to'): 2, ('a', 'and', 'co', 'have', 'https', 'it', 't', 'the', 'to'): 2, ('claim',): 2, ('claim', 'that'): 2, ('claim', 'to'): 2, ('a', 'claim'): 2, ('claim', 'covid19'): 2, ('claim', 'co'): 2, ('claim', 'https'): 2, ('claim', 't'): 2, ('claim', 'that', 'to'): 2, ('a', 'claim', 'that'): 2, ('claim', 'covid19', 'that'): 2, ('claim', 'co', 'that'): 2, ('claim', 'https', 'that'): 2, ('claim', 't', 'that'): 2, ('a', 'claim', 'to'): 2, ('claim', 'covid19', 'to'): 2, ('claim', 'co', 'to'): 2, ('claim', 'https', 'to'): 2, ('claim', 't', 'to'): 2, ('a', 'claim', 'covid19'): 2, ('a', 'claim', 'co'): 2, ('a', 'claim', 'https'): 2, ('a', 'claim', 't'): 2, ('claim', 'co', 'covid19'): 2, ('claim', 'covid19', 'https'): 2, ('claim', 'covid19', 't'): 2, ('claim', 'co', 'https'): 2, ('claim', 'co', 't'): 2, ('claim', 'https', 't'): 2, ('a', 'claim', 'that', 'to'): 2, ('claim', 'covid19', 'that', 'to'): 2, ('claim', 'co', 'that', 'to'): 2, ('claim', 'https', 'that', 'to'): 2, ('claim', 't', 'that', 'to'): 2, ('a', 'claim', 'covid19', 'that'): 2, ('a', 'claim', 'co', 'that'): 2, ('a', 'claim', 'https', 'that'): 2, ('a', 'claim', 't', 'that'): 2, ('claim', 'co', 'covid19', 'that'): 2, ('claim', 'covid19', 'https', 'that'): 2, ('claim', 'covid19', 't', 'that'): 2, ('claim', 'co', 'https', 'that'): 2, ('claim', 'co', 't', 'that'): 2, ('claim', 'https', 't', 'that'): 2, ('a', 'claim', 'covid19', 'to'): 2, ('a', 'claim', 'co', 'to'): 2, ('a', 'claim', 'https', 'to'): 2, ('a', 'claim', 't', 'to'): 2, ('claim', 'co', 'covid19', 'to'): 2, ('claim', 'covid19', 'https', 'to'): 2, ('claim', 'covid19', 't', 'to'): 2, ('claim', 'co', 'https', 'to'): 2, ('claim', 'co', 't', 'to'): 2, ('claim', 'https', 't', 'to'): 2, ('a', 'claim', 'co', 'covid19'): 2, ('a', 'claim', 'covid19', 'https'): 2, ('a', 'claim', 'covid19', 't'): 2, ('a', 'claim', 'co', 'https'): 2, ('a', 'claim', 'co', 't'): 2, ('a', 'claim', 'https', 't'): 2, ('claim', 'co', 'covid19', 'https'): 2, ('claim', 'co', 'covid19', 't'): 2, ('claim', 'covid19', 'https', 't'): 2, ('claim', 'co', 'https', 't'): 2, ('a', 'claim', 'covid19', 'that', 'to'): 2, ('a', 'claim', 'co', 'that', 'to'): 2, ('a', 'claim', 'https', 'that', 'to'): 2, ('a', 'claim', 't', 'that', 'to'): 2, ('claim', 'co', 'covid19', 'that', 'to'): 2, ('claim', 'covid19', 'https', 'that', 'to'): 2, ('claim', 'covid19', 't', 'that', 'to'): 2, ('claim', 'co', 'https', 'that', 'to'): 2, ('claim', 'co', 't', 'that', 'to'): 2, ('claim', 'https', 't', 'that', 'to'): 2, ('a', 'claim', 'co', 'covid19', 'that'): 2, ('a', 'claim', 'covid19', 'https', 'that'): 2, ('a', 'claim', 'covid19', 't', 'that'): 2, ('a', 'claim', 'co', 'https', 'that'): 2, ('a', 'claim', 'co', 't', 'that'): 2, ('a', 'claim', 'https', 't', 'that'): 2, ('claim', 'co', 'covid19', 'https', 'that'): 2, ('claim', 'co', 'covid19', 't', 'that'): 2, ('claim', 'covid19', 'https', 't', 'that'): 2, ('claim', 'co', 'https', 't', 'that'): 2, ('a', 'claim', 'co', 'covid19', 'to'): 2, ('a', 'claim', 'covid19', 'https', 'to'): 2, ('a', 'claim', 'covid19', 't', 'to'): 2, ('a', 'claim', 'co', 'https', 'to'): 2, ('a', 'claim', 'co', 't', 'to'): 2, ('a', 'claim', 'https', 't', 'to'): 2, ('claim', 'co', 'covid19', 'https', 'to'): 2, ('claim', 'co', 'covid19', 't', 'to'): 2, ('claim', 'covid19', 'https', 't', 'to'): 2, ('claim', 'co', 'https', 't', 'to'): 2, ('a', 'claim', 'co', 'covid19', 'https'): 2, ('a', 'claim', 'co', 'covid19', 't'): 2, ('a', 'claim', 'covid19', 'https', 't'): 2, ('a', 'claim', 'co', 'https', 't'): 2, ('claim', 'co', 'covid19', 'https', 't'): 2, ('a', 'claim', 'co', 'covid19', 'that', 'to'): 2, ('a', 'claim', 'covid19', 'https', 'that', 'to'): 2, ('a', 'claim', 'covid19', 't', 'that', 'to'): 2, ('a', 'claim', 'co', 'https', 'that', 'to'): 2, ('a', 'claim', 'co', 't', 'that', 'to'): 2, ('a', 'claim', 'https', 't', 'that', 'to'): 2, ('claim', 'co', 'covid19', 'https', 'that', 'to'): 2, ('claim', 'co', 'covid19', 't', 'that', 'to'): 2, ('claim', 'covid19', 'https', 't', 'that', 'to'): 2, ('claim', 'co', 'https', 't', 'that', 'to'): 2, ('a', 'claim', 'co', 'covid19', 'https', 'that'): 2, ('a', 'claim', 'co', 'covid19', 't', 'that'): 2, ('a', 'claim', 'covid19', 'https', 't', 'that'): 2, ('a', 'claim', 'co', 'https', 't', 'that'): 2, ('claim', 'co', 'covid19', 'https', 't', 'that'): 2, ('a', 'claim', 'co', 'covid19', 'https', 'to'): 2, ('a', 'claim', 'co', 'covid19', 't', 'to'): 2, ('a', 'claim', 'covid19', 'https', 't', 'to'): 2, ('a', 'claim', 'co', 'https', 't', 'to'): 2, ('claim', 'co', 'covid19', 'https', 't', 'to'): 2, ('a', 'claim', 'co', 'covid19', 'https', 't'): 2, ('a', 'claim', 'co', 'covid19', 'https', 'that', 'to'): 2, ('a', 'claim', 'co', 'covid19', 't', 'that', 'to'): 2, ('a', 'claim', 'covid19', 'https', 't', 'that', 'to'): 2, ('a', 'claim', 'co', 'https', 't', 'that', 'to'): 2, ('claim', 'co', 'covid19', 'https', 't', 'that', 'to'): 2, ('a', 'claim', 'co', 'covid19', 'https', 't', 'that'): 2, ('a', 'claim', 'co', 'covid19', 'https', 't', 'to'): 2, ('a', 'claim', 'co', 'covid19', 'https', 't', 'that', 'to'): 2, ('me',): 2, ('me', 'that'): 2, ('covid19', 'me'): 2, ('co', 'me'): 2, ('https', 'me'): 2, ('me', 'the'): 4, ('me', 't'): 2, ('covid19', 'me', 'that'): 2, ('co', 'me', 'that'): 2, ('https', 'me', 'that'): 2, ('me', 'that', 'the'): 2, ('me', 't', 'that'): 2, ('co', 'covid19', 'me'): 2, ('covid19', 'https', 'me'): 2, ('covid19', 'me', 'the'): 2, ('covid19', 'me', 't'): 2, ('co', 'https', 'me'): 2, ('co', 'me', 'the'): 2, ('co', 'me', 't'): 2, ('https', 'me', 'the'): 2, ('https', 'me', 't'): 2, ('me', 't', 'the'): 2, ('co', 'covid19', 'me', 'that'): 2, ('covid19', 'https', 'me', 'that'): 2, ('covid19', 'me', 'that', 'the'): 2, ('covid19', 'me', 't', 'that'): 2, ('co', 'https', 'me', 'that'): 2, ('co', 'me', 'that', 'the'): 2, ('co', 'me', 't', 'that'): 2, ('https', 'me', 'that', 'the'): 2, ('https', 'me', 't', 'that'): 2, ('me', 't', 'that', 'the'): 2, ('co', 'covid19', 'https', 'me'): 2, ('co', 'covid19', 'me', 'the'): 2, ('co', 'covid19', 'me', 't'): 2, ('covid19', 'https', 'me', 'the'): 2, ('covid19', 'https', 'me', 't'): 2, ('covid19', 'me', 't', 'the'): 2, ('co', 'https', 'me', 'the'): 2, ('co', 'https', 'me', 't'): 2, ('co', 'me', 't', 'the'): 2, ('https', 'me', 't', 'the'): 2, ('co', 'covid19', 'https', 'me', 'that'): 2, ('co', 'covid19', 'me', 'that', 'the'): 2, ('co', 'covid19', 'me', 't', 'that'): 2, ('covid19', 'https', 'me', 'that', 'the'): 2, ('covid19', 'https', 'me', 't', 'that'): 2, ('covid19', 'me', 't', 'that', 'the'): 2, ('co', 'https', 'me', 'that', 'the'): 2, ('co', 'https', 'me', 't', 'that'): 2, ('co', 'me', 't', 'that', 'the'): 2, ('https', 'me', 't', 'that', 'the'): 2, ('co', 'covid19', 'https', 'me', 'the'): 2, ('co', 'covid19', 'https', 'me', 't'): 2, ('co', 'covid19', 'me', 't', 'the'): 2, ('covid19', 'https', 'me', 't', 'the'): 2, ('co', 'https', 'me', 't', 'the'): 2, ('co', 'covid19', 'https', 'me', 'that', 'the'): 2, ('co', 'covid19', 'https', 'me', 't', 'that'): 2, ('co', 'covid19', 'me', 't', 'that', 'the'): 2, ('covid19', 'https', 'me', 't', 'that', 'the'): 2, ('co', 'https', 'me', 't', 'that', 'the'): 2, ('co', 'covid19', 'https', 'me', 't', 'the'): 2, ('co', 'covid19', 'https', 'me', 't', 'that', 'the'): 2, ('covid19', 'that'): 2, ('covid19', 't', 'that'): 2, ('covid19', 'https', 'that'): 2, ('co', 'covid19', 'that'): 2, ('covid19', 'that', 'the'): 2, ('covid19', 'https', 't', 'that'): 2, ('co', 'covid19', 't', 'that'): 2, ('covid19', 't', 'that', 'the'): 2, ('co', 'covid19', 'https', 'that'): 2, ('covid19', 'https', 'that', 'the'): 2, ('co', 'covid19', 'that', 'the'): 2, ('co', 'covid19', 'https', 't', 'that'): 2, ('covid19', 'https', 't', 'that', 'the'): 2, ('co', 'covid19', 't', 'that', 'the'): 2, ('co', 'covid19', 'https', 'that', 'the'): 2, ('co', 'covid19', 'https', 't', 'that', 'the'): 2, ('co', 'that'): 3, ('co', 'that', 'the'): 4, ('co', 'https', 'that'): 3, ('co', 'https', 'that', 'the'): 4, ('https', 'that', 'the'): 4, ('https', 'that', 'the', 'the'): 2, ('https', 't', 'that'): 3, ('https', 't', 'that', 'the'): 4, ('co', 'https', 't', 'that'): 3, ('co', 'https', 't', 'that', 'the'): 4, ('co', 't', 'that', 'the'): 4, ('co', 't', 'that', 'the', 'the'): 2, ('t', 'that', 'the'): 4, ('t', 'that', 'the', 'the'): 2, ('that', 'the'): 4, ('that', 'the', 'the'): 2, ('it', 'the'): 2, ('https', 'it', 'the'): 2, ('co', 'it', 'the'): 2, ('it', 't', 'the'): 4, ('it', 'the', 'to'): 4, ('a', 'it', 'the'): 2, ('co', 'https', 'it', 'the'): 2, ('https', 'it', 't', 'the'): 2, ('https', 'it', 'the', 'to'): 2, ('a', 'https', 'it', 'the'): 2, ('co', 'it', 't', 'the'): 2, ('co', 'it', 'the', 'to'): 2, ('a', 'co', 'it', 'the'): 2, ('it', 't', 'the', 'to'): 4, ('a', 'it', 't', 'the'): 2, ('a', 'it', 'the', 'to'): 2, ('co', 'https', 'it', 't', 'the'): 2, ('co', 'https', 'it', 'the', 'to'): 2, ('a', 'co', 'https', 'it', 'the'): 2, ('https', 'it', 't', 'the', 'to'): 2, ('a', 'https', 'it', 't', 'the'): 2, ('a', 'https', 'it', 'the', 'to'): 2, ('co', 'it', 't', 'the', 'to'): 2, ('a', 'co', 'it', 't', 'the'): 2, ('a', 'co', 'it', 'the', 'to'): 2, ('a', 'it', 't', 'the', 'to'): 2, ('co', 'https', 'it', 't', 'the', 'to'): 2, ('a', 'co', 'https', 'it', 't', 'the'): 2, ('a', 'co', 'https', 'it', 'the', 'to'): 2, ('a', 'https', 'it', 't', 'the', 'to'): 2, ('a', 'co', 'it', 't', 'the', 'to'): 2, ('a', 'co', 'https', 'it', 't', 'the', 'to'): 2, ('covid19', 'it'): 2, ('covid19', 'https', 'it'): 2, ('co', 'covid19', 'it'): 2, ('covid19', 'it', 't'): 2, ('covid19', 'it', 'to'): 2, ('a', 'covid19', 'it'): 4, ('co', 'covid19', 'https', 'it'): 2, ('covid19', 'https', 'it', 't'): 2, ('covid19', 'https', 'it', 'to'): 2, ('a', 'covid19', 'https', 'it'): 2, ('co', 'covid19', 'it', 't'): 2, ('co', 'covid19', 'it', 'to'): 2, ('a', 'co', 'covid19', 'it'): 2, ('covid19', 'it', 't', 'to'): 2, ('a', 'covid19', 'it', 't'): 2, ('a', 'covid19', 'it', 'to'): 2, ('co', 'covid19', 'https', 'it', 't'): 2, ('co', 'covid19', 'https', 'it', 'to'): 2, ('a', 'co', 'covid19', 'https', 'it'): 2, ('covid19', 'https', 'it', 't', 'to'): 2, ('a', 'covid19', 'https', 'it', 't'): 2, ('a', 'covid19', 'https', 'it', 'to'): 2, ('co', 'covid19', 'it', 't', 'to'): 2, ('a', 'co', 'covid19', 'it', 't'): 2, ('a', 'co', 'covid19', 'it', 'to'): 2, ('a', 'covid19', 'it', 't', 'to'): 2, ('co', 'covid19', 'https', 'it', 't', 'to'): 2, ('a', 'co', 'covid19', 'https', 'it', 't'): 2, ('a', 'co', 'covid19', 'https', 'it', 'to'): 2, ('a', 'covid19', 'https', 'it', 't', 'to'): 2, ('a', 'co', 'covid19', 'it', 't', 'to'): 2, ('a', 'co', 'covid19', 'https', 'it', 't', 'to'): 2, ('co', 'it', 't'): 4, ('a', 'co', 'it', 't'): 6, ('co', 'it', 't', 'to'): 6, ('co', 'it', 't', 't', 'to'): 2, ('a', 'a', 'co', 'it', 'to'): 2, ('a', 'a', 'co', 'it', 't', 'to'): 2, ('a', 'co', 'it', 't', 'to'): 8, ('a', 'co', 'it', 't', 't', 'to'): 2, ('a', 'co', 'it'): 5, ('a', 'a', 'co', 'it'): 2, ('co', 'https', 'it', 'to'): 4, ('a', 'co', 'https', 'it', 'to'): 6, ('co', 'https', 'it', 't', 'to'): 6, ('co', 'https', 'it', 't', 'to', 'to'): 2, ('a', 'a', 'co', 'https', 'it', 't'): 2, ('a', 'a', 'co', 'https', 'it', 't', 'to'): 2, ('a', 'co', 'https', 'it', 't', 'to'): 8, ('a', 'co', 'https', 'it', 't', 'to', 'to'): 2, ('a', 'co', 'https', 'it'): 5, ('a', 'a', 'co', 'https', 'it'): 2, ('https', 'it', 't'): 4, ('a', 'https', 'it', 't'): 6, ('https', 'it', 't', 'to'): 6, ('https', 'it', 't', 't', 'to'): 2, ('a', 'a', 'https', 'it', 'to'): 2, ('a', 'a', 'https', 'it', 't', 'to'): 2, ('a', 'https', 'it', 't', 'to'): 8, ('a', 'https', 'it', 't', 't', 'to'): 2, ('a', 'https', 'it'): 5, ('a', 'a', 'https', 'it'): 2, ('it', 'to'): 4, ('a', 'it', 'to'): 6, ('it', 't', 'to'): 6, ('it', 't', 'to', 'to'): 2, ('a', 'a', 'it', 't'): 2, ('a', 'a', 'it', 't', 'to'): 2, ('a', 'it', 't', 'to'): 8, ('a', 'it', 't', 'to', 'to'): 2, ('a', 'it'): 5, ('a', 'a', 'it'): 2, ('covid19', 'to'): 2, ('covid19', 'https', 'to'): 2, ('co', 'covid19', 'to'): 2, ('covid19', 't', 'to'): 2, ('co', 'covid19', 'https', 'to'): 2, ('covid19', 'https', 't', 'to'): 2, ('co', 'covid19', 't', 'to'): 2, ('co', 'covid19', 'https', 't', 'to'): 2, ('co', 'to'): 4, ('co', 't', 'to'): 6, ('co', 'https', 'to'): 4, ('co', 'https', 't', 'to'): 6, ('https', 't', 'to'): 6, ('https', 't', 't', 'to'): 2, ('the', 'to'): 4, ('https', 'the', 'to'): 4, ('co', 'the', 'to'): 4, ('t', 'the', 'to'): 8, ('the', 'the', 'to'): 2, ('co', 'https', 'the', 'to'): 4, ('https', 't', 'the', 'to'): 4, ('https', 'the', 'the', 'to'): 2, ('co', 't', 'the', 'to'): 4, ('co', 'the', 'the', 'to'): 2, ('t', 'the', 'the', 'to'): 2, ('co', 'https', 't', 'the', 'to'): 4, ('co', 'https', 'the', 'the', 'to'): 2, ('https', 't', 'the', 'the', 'to'): 2, ('co', 't', 'the', 'the', 'to'): 2, ('co', 'https', 't', 'the', 'the', 'to'): 2, ('t', 'to'): 6, ('t', 't', 'to'): 2, ('a', 'the'): 2, ('a', 'https', 'the'): 2, ('a', 'co', 'the'): 2, ('a', 'the', 'to'): 4, ('a', 't', 'the'): 4, ('a', 'co', 'https', 'the'): 2, ('a', 'https', 'the', 'to'): 2, ('a', 'https', 't', 'the'): 2, ('a', 'co', 'the', 'to'): 2, ('a', 'co', 't', 'the'): 2, ('a', 't', 'the', 'to'): 4, ('a', 'co', 'https', 'the', 'to'): 2, ('a', 'co', 'https', 't', 'the'): 2, ('a', 'https', 't', 'the', 'to'): 2, ('a', 'co', 't', 'the', 'to'): 2, ('a', 'co', 'https', 't', 'the', 'to'): 2, ('a', 'covid19'): 3, ('a', 'covid19', 'https'): 3, ('a', 'co', 'covid19'): 3, ('a', 'covid19', 't'): 3, ('a', 'covid19', 'to'): 2, ('a', 'co', 'covid19', 'https'): 3, ('a', 'covid19', 'https', 't'): 3, ('a', 'covid19', 'https', 'to'): 2, ('a', 'co', 'covid19', 't'): 3, ('a', 'co', 'covid19', 'to'): 2, ('a', 'covid19', 't', 'to'): 2, ('a', 'co', 'covid19', 'https', 't'): 3, ('a', 'co', 'covid19', 'https', 'to'): 2, ('a', 'covid19', 'https', 't', 'to'): 2, ('a', 'co', 'covid19', 't', 'to'): 2, ('a', 'co', 'covid19', 'https', 't', 'to'): 2, ('a', 'to'): 4, ('a', 't', 'to'): 6, ('a', 'co', 'to'): 4, ('a', 'co', 't', 'to'): 6, ('a', 'co', 't'): 5, ('a', 'co', 'https'): 4, ('a', 'co', 'https', 't'): 5, ('a', 'co', 'https', 'to'): 4, ('a', 'co', 'https', 't', 'to'): 6, ('a', 'https', 't', 'to'): 6, ('a', 'https', 't', 't', 'to'): 2, ('a', 'https', 't'): 5, ('a', 't'): 5, ('covid19',): 4, ('co', 'covid19'): 4, ('covid19', 'https'): 4, ('covid19', 't'): 4, ('covid19', 'the'): 2, ('co', 'covid19', 'https'): 4, ('co', 'covid19', 't'): 4, ('co', 'covid19', 'the'): 2, ('covid19', 'https', 't'): 4, ('covid19', 'https', 'the'): 2, ('covid19', 't', 'the'): 2, ('co', 'covid19', 'https', 't'): 4, ('co', 'covid19', 'https', 'the'): 2, ('co', 'covid19', 't', 'the'): 2, ('covid19', 'https', 't', 'the'): 2, ('co', 'covid19', 'https', 't', 'the'): 2, ('the', 'the'): 3, ('t', 'the', 'the'): 4, ('t', 'the'): 8, ('t', 't', 'the'): 2, ('https', 'the', 'the'): 3, ('https', 't', 'the', 'the'): 4, ('https', 't', 'the'): 8, ('https', 't', 't', 'the'): 2, ('https', 't'): 7, ('co', 'https'): 6, ('co', 'https', 't'): 7, ('co', 'https', 'the', 'the'): 3, ('co', 'https', 't', 'the', 'the'): 4, ('co', 't', 'the', 'the'): 4, ('co', 'https', 'the'): 6, ('co', 'https', 't', 'the'): 8, ('co', 't', 'the'): 8, ('co', 't', 't', 'the'): 2, ('co', 't'): 7, ('t',): 7}\n"
     ]
    }
   ],
   "source": [
    "from pyfpgrowth import find_frequent_patterns\n",
    "\n",
    "# Load the dataset\n",
    "dataset = [\n",
    "  ['if', 'i', 'smell', 'the', 'scent', 'of', 'hand', 'sanit', 'today', 'on', 'someon', 'in', 'the', 'past', 'i', 'would', 'think', 'they', 'were', 'so', 'intox', 'that', 'https', 't', 'co', 'qzvybrogb0'],\n",
    "  ['hey', 'yanke', 'yankeespr', 'and', 'mlb', 'wouldn', 't', 'it', 'have', 'made', 'more', 'sens', 'to', 'have', 'the', 'player', 'pay', 'their', 'respect', 'to', 'the', 'a', 'https', 't', 'co', '1qvw0zgypu'],\n",
    "  ['diane3443', 'wdunlap', 'realdonaldtrump', 'trump', 'never', 'onc', 'claim', 'covid19', 'wa', 'a', 'hoax', 'we', 'all', 'claim', 'that', 'thi', 'effort', 'to', 'https', 't', 'co', 'jkk8vhwhb3'],\n",
    "  ['brookbanktv', 'the', 'one', 'gift', 'covid19', 'ha', 'give', 'me', 'is', 'an', 'appreci', 'for', 'the', 'simpl', 'thing', 'that', 'were', 'alway', 'around', 'me', 'https', 't', 'co', 'z0poalfxcw'],\n",
    "  ['25', 'juli', 'medium', 'bulletin', 'on', 'novel', 'coronavirusupd', 'covid19', 'kansalrohit69', 'drsyedsehrish', 'airnewsalert', 'ani', 'https', 't', 'co', 'mn0eecsjhh'],\n",
    "  ['coronaviru', 'covid19', 'death', 'continu', 'to', 'rise', 'it', 'almost', 'a', 'bad', 'a', 'it', 'ever', 'was', 'politician', 'and', 'busi', 'want', 'https', 't', 'co', 'hxmhooxx2c']\n",
    "\n",
    "]\n",
    "\n",
    "# Set the minimum support threshold\n",
    "min_support = 2\n",
    "\n",
    "# Find the frequent patterns in the dataset\n",
    "frequent_patterns = find_frequent_patterns(dataset, min_support)\n",
    "\n",
    "print(frequent_patterns)"
   ]
  },
  {
   "cell_type": "code",
   "execution_count": 142,
   "id": "050889ae",
   "metadata": {},
   "outputs": [
    {
     "ename": "UnicodeDecodeError",
     "evalue": "'charmap' codec can't decode byte 0x81 in position 1382: character maps to <undefined>",
     "output_type": "error",
     "traceback": [
      "\u001b[1;31m---------------------------------------------------------------------------\u001b[0m",
      "\u001b[1;31mUnicodeDecodeError\u001b[0m                        Traceback (most recent call last)",
      "\u001b[1;32m~\\AppData\\Local\\Temp\\ipykernel_11868\\3681198177.py\u001b[0m in \u001b[0;36m<module>\u001b[1;34m\u001b[0m\n\u001b[0;32m      4\u001b[0m \u001b[1;32mwith\u001b[0m \u001b[0mopen\u001b[0m\u001b[1;33m(\u001b[0m\u001b[1;34m'result.txt'\u001b[0m\u001b[1;33m,\u001b[0m \u001b[1;34m'r'\u001b[0m\u001b[1;33m)\u001b[0m \u001b[1;32mas\u001b[0m \u001b[0mf\u001b[0m\u001b[1;33m:\u001b[0m\u001b[1;33m\u001b[0m\u001b[1;33m\u001b[0m\u001b[0m\n\u001b[0;32m      5\u001b[0m     \u001b[0mdataset\u001b[0m \u001b[1;33m=\u001b[0m \u001b[1;33m[\u001b[0m\u001b[1;33m]\u001b[0m\u001b[1;33m\u001b[0m\u001b[1;33m\u001b[0m\u001b[0m\n\u001b[1;32m----> 6\u001b[1;33m     \u001b[1;32mfor\u001b[0m \u001b[0mline\u001b[0m \u001b[1;32min\u001b[0m \u001b[0mf\u001b[0m\u001b[1;33m:\u001b[0m\u001b[1;33m\u001b[0m\u001b[1;33m\u001b[0m\u001b[0m\n\u001b[0m\u001b[0;32m      7\u001b[0m         \u001b[0msequence\u001b[0m \u001b[1;33m=\u001b[0m \u001b[0mline\u001b[0m\u001b[1;33m.\u001b[0m\u001b[0mstrip\u001b[0m\u001b[1;33m(\u001b[0m\u001b[1;33m)\u001b[0m\u001b[1;33m.\u001b[0m\u001b[0msplit\u001b[0m\u001b[1;33m(\u001b[0m\u001b[1;34m','\u001b[0m\u001b[1;33m)\u001b[0m\u001b[1;33m\u001b[0m\u001b[1;33m\u001b[0m\u001b[0m\n\u001b[0;32m      8\u001b[0m         \u001b[0mdataset\u001b[0m\u001b[1;33m.\u001b[0m\u001b[0mappend\u001b[0m\u001b[1;33m(\u001b[0m\u001b[0msequence\u001b[0m\u001b[1;33m)\u001b[0m\u001b[1;33m\u001b[0m\u001b[1;33m\u001b[0m\u001b[0m\n",
      "\u001b[1;32mC:\\ProgramData\\Anaconda3\\lib\\encodings\\cp1252.py\u001b[0m in \u001b[0;36mdecode\u001b[1;34m(self, input, final)\u001b[0m\n\u001b[0;32m     21\u001b[0m \u001b[1;32mclass\u001b[0m \u001b[0mIncrementalDecoder\u001b[0m\u001b[1;33m(\u001b[0m\u001b[0mcodecs\u001b[0m\u001b[1;33m.\u001b[0m\u001b[0mIncrementalDecoder\u001b[0m\u001b[1;33m)\u001b[0m\u001b[1;33m:\u001b[0m\u001b[1;33m\u001b[0m\u001b[1;33m\u001b[0m\u001b[0m\n\u001b[0;32m     22\u001b[0m     \u001b[1;32mdef\u001b[0m \u001b[0mdecode\u001b[0m\u001b[1;33m(\u001b[0m\u001b[0mself\u001b[0m\u001b[1;33m,\u001b[0m \u001b[0minput\u001b[0m\u001b[1;33m,\u001b[0m \u001b[0mfinal\u001b[0m\u001b[1;33m=\u001b[0m\u001b[1;32mFalse\u001b[0m\u001b[1;33m)\u001b[0m\u001b[1;33m:\u001b[0m\u001b[1;33m\u001b[0m\u001b[1;33m\u001b[0m\u001b[0m\n\u001b[1;32m---> 23\u001b[1;33m         \u001b[1;32mreturn\u001b[0m \u001b[0mcodecs\u001b[0m\u001b[1;33m.\u001b[0m\u001b[0mcharmap_decode\u001b[0m\u001b[1;33m(\u001b[0m\u001b[0minput\u001b[0m\u001b[1;33m,\u001b[0m\u001b[0mself\u001b[0m\u001b[1;33m.\u001b[0m\u001b[0merrors\u001b[0m\u001b[1;33m,\u001b[0m\u001b[0mdecoding_table\u001b[0m\u001b[1;33m)\u001b[0m\u001b[1;33m[\u001b[0m\u001b[1;36m0\u001b[0m\u001b[1;33m]\u001b[0m\u001b[1;33m\u001b[0m\u001b[1;33m\u001b[0m\u001b[0m\n\u001b[0m\u001b[0;32m     24\u001b[0m \u001b[1;33m\u001b[0m\u001b[0m\n\u001b[0;32m     25\u001b[0m \u001b[1;32mclass\u001b[0m \u001b[0mStreamWriter\u001b[0m\u001b[1;33m(\u001b[0m\u001b[0mCodec\u001b[0m\u001b[1;33m,\u001b[0m\u001b[0mcodecs\u001b[0m\u001b[1;33m.\u001b[0m\u001b[0mStreamWriter\u001b[0m\u001b[1;33m)\u001b[0m\u001b[1;33m:\u001b[0m\u001b[1;33m\u001b[0m\u001b[1;33m\u001b[0m\u001b[0m\n",
      "\u001b[1;31mUnicodeDecodeError\u001b[0m: 'charmap' codec can't decode byte 0x81 in position 1382: character maps to <undefined>"
     ]
    }
   ],
   "source": [
    "from pyfpgrowth import find_frequent_patterns\n",
    "\n",
    "# Read the dataset from the file\n",
    "with open('result.txt', 'r') as f:\n",
    "    dataset = []\n",
    "    for line in f:\n",
    "        sequence = line.strip().split(',')\n",
    "        dataset.append(sequence)\n",
    "\n",
    "# Set the minimum support threshold\n",
    "min_support = 2\n",
    "\n",
    "# Find the frequent patterns in the dataset\n",
    "frequent_patterns = find_frequent_patterns(dataset, min_support)\n",
    "\n",
    "print(frequent_patterns)\n"
   ]
  },
  {
   "cell_type": "code",
   "execution_count": 3,
   "id": "daf0785e",
   "metadata": {},
   "outputs": [
    {
     "name": "stdout",
     "output_type": "stream",
     "text": [
      "{('test',): 2, ('in', 'test'): 2, ('for', 'test'): 2, ('covid19', 'test'): 2, ('co', 'test'): 2, ('https', 'test'): 2, ('t', 'test'): 2, ('for', 'in', 'test'): 2, ('covid19', 'in', 'test'): 2, ('co', 'in', 'test'): 2, ('https', 'in', 'test'): 2, ('in', 't', 'test'): 2, ('covid19', 'for', 'test'): 2, ('co', 'for', 'test'): 2, ('for', 'https', 'test'): 2, ('for', 't', 'test'): 2, ('co', 'covid19', 'test'): 2, ('covid19', 'https', 'test'): 2, ('covid19', 't', 'test'): 2, ('co', 'https', 'test'): 2, ('co', 't', 'test'): 2, ('https', 't', 'test'): 2, ('covid19', 'for', 'in', 'test'): 2, ('co', 'for', 'in', 'test'): 2, ('for', 'https', 'in', 'test'): 2, ('for', 'in', 't', 'test'): 2, ('co', 'covid19', 'in', 'test'): 2, ('covid19', 'https', 'in', 'test'): 2, ('covid19', 'in', 't', 'test'): 2, ('co', 'https', 'in', 'test'): 2, ('co', 'in', 't', 'test'): 2, ('https', 'in', 't', 'test'): 2, ('co', 'covid19', 'for', 'test'): 2, ('covid19', 'for', 'https', 'test'): 2, ('covid19', 'for', 't', 'test'): 2, ('co', 'for', 'https', 'test'): 2, ('co', 'for', 't', 'test'): 2, ('for', 'https', 't', 'test'): 2, ('co', 'covid19', 'https', 'test'): 2, ('co', 'covid19', 't', 'test'): 2, ('covid19', 'https', 't', 'test'): 2, ('co', 'https', 't', 'test'): 2, ('co', 'covid19', 'for', 'in', 'test'): 2, ('covid19', 'for', 'https', 'in', 'test'): 2, ('covid19', 'for', 'in', 't', 'test'): 2, ('co', 'for', 'https', 'in', 'test'): 2, ('co', 'for', 'in', 't', 'test'): 2, ('for', 'https', 'in', 't', 'test'): 2, ('co', 'covid19', 'https', 'in', 'test'): 2, ('co', 'covid19', 'in', 't', 'test'): 2, ('covid19', 'https', 'in', 't', 'test'): 2, ('co', 'https', 'in', 't', 'test'): 2, ('co', 'covid19', 'for', 'https', 'test'): 2, ('co', 'covid19', 'for', 't', 'test'): 2, ('covid19', 'for', 'https', 't', 'test'): 2, ('co', 'for', 'https', 't', 'test'): 2, ('co', 'covid19', 'https', 't', 'test'): 2, ('co', 'covid19', 'for', 'https', 'in', 'test'): 2, ('co', 'covid19', 'for', 'in', 't', 'test'): 2, ('covid19', 'for', 'https', 'in', 't', 'test'): 2, ('co', 'for', 'https', 'in', 't', 'test'): 2, ('co', 'covid19', 'https', 'in', 't', 'test'): 2, ('co', 'covid19', 'for', 'https', 't', 'test'): 2, ('co', 'covid19', 'for', 'https', 'in', 't', 'test'): 2, ('2', 'in'): 2, ('2', 'covid19', 'in'): 2, ('2', 'case', 'covid19'): 2, ('2', 'co', 'covid19'): 2, ('2', 'co', 'in'): 2, ('2', 'co', 'covid19', 'in'): 2, ('2', 'case', 'co'): 2, ('2', 'case', 'co', 'covid19'): 2, ('2', 'co', 'https'): 2, ('2', 'covid19', 'https'): 2, ('2', 'co', 'covid19', 'https'): 2, ('2', 'https', 'in'): 2, ('2', 'covid19', 'https', 'in'): 2, ('2', 'co', 'https', 'in'): 2, ('2', 'co', 'covid19', 'https', 'in'): 2, ('2', 'case', 'https'): 2, ('2', 'case', 'covid19', 'https'): 2, ('2', 'case', 'co', 'https'): 2, ('2', 'case', 'co', 'covid19', 'https'): 2, ('2', 'https', 't'): 2, ('2', 'co', 't'): 2, ('2', 'co', 'https', 't'): 2, ('2', 'covid19', 't'): 2, ('2', 'co', 'covid19', 't'): 2, ('2', 'covid19', 'https', 't'): 2, ('2', 'co', 'covid19', 'https', 't'): 2, ('2', 'in', 't'): 2, ('2', 'covid19', 'in', 't'): 2, ('2', 'co', 'in', 't'): 2, ('2', 'https', 'in', 't'): 2, ('2', 'co', 'covid19', 'in', 't'): 2, ('2', 'covid19', 'https', 'in', 't'): 2, ('2', 'co', 'https', 'in', 't'): 2, ('2', 'co', 'covid19', 'https', 'in', 't'): 2, ('2', 'case', 't'): 2, ('2', 'case', 'covid19', 't'): 2, ('2', 'case', 'co', 't'): 2, ('2', 'case', 'https', 't'): 2, ('2', 'case', 'co', 'covid19', 't'): 2, ('2', 'case', 'covid19', 'https', 't'): 2, ('2', 'case', 'co', 'https', 't'): 2, ('2', 'case', 'co', 'covid19', 'https', 't'): 2, ('2', 'case'): 2, ('co', 'your'): 2, ('co', 't', 'your'): 3, ('co', 'https', 'your'): 2, ('co', 'https', 't', 'your'): 3, ('https', 't', 'your'): 3, ('https', 'the', 'your'): 2, ('https', 't', 'the', 'your'): 3, ('co', 'https', 'the', 'your'): 2, ('co', 'https', 't', 'the', 'your'): 3, ('co', 't', 'the', 'your'): 3, ('t', 'the', 'your'): 3, ('t', 'your'): 3, ('a', 'for'): 2, ('a', 'for', 't'): 3, ('a', 'for', 'to'): 2, ('a', 'for', 't', 'to'): 3, ('a', 't', 'to'): 3, ('a', 'co', 'to'): 2, ('a', 'co', 't', 'to'): 3, ('a', 'co', 'for', 'to'): 2, ('a', 'co', 'for', 't', 'to'): 3, ('a', 'co', 'for', 't'): 3, ('a', 'co', 't'): 3, ('a', 'co', 'https'): 2, ('a', 'co', 'https', 't'): 3, ('a', 'co', 'https', 'to'): 2, ('a', 'co', 'https', 't', 'to'): 3, ('a', 'https', 't', 'to'): 3, ('a', 'for', 'https', 'to'): 2, ('a', 'for', 'https', 't', 'to'): 3, ('a', 'co', 'for', 'https', 'to'): 2, ('a', 'co', 'for', 'https', 't', 'to'): 3, ('a', 'co', 'for', 'https', 't'): 3, ('a', 'for', 'https', 't'): 3, ('a', 'https', 't'): 3, ('a', 'https', 'the'): 2, ('a', 'https', 't', 'the'): 3, ('a', 'co', 'https', 'the'): 2, ('a', 'co', 'https', 't', 'the'): 3, ('a', 'co', 't', 'the'): 3, ('a', 'co', 'the', 'to'): 2, ('a', 'co', 't', 'the', 'to'): 3, ('a', 'co', 'https', 'the', 'to'): 2, ('a', 'co', 'https', 't', 'the', 'to'): 3, ('a', 'https', 't', 'the', 'to'): 3, ('a', 't', 'the', 'to'): 3, ('a', 'for', 'the', 'to'): 2, ('a', 'for', 't', 'the', 'to'): 3, ('a', 'co', 'for', 'the', 'to'): 2, ('a', 'co', 'for', 't', 'the', 'to'): 3, ('a', 'co', 'for', 't', 'the'): 3, ('a', 'co', 'for', 'https', 'the'): 2, ('a', 'co', 'for', 'https', 't', 'the'): 3, ('a', 'co', 'for', 'https', 'the', 'to'): 2, ('a', 'co', 'for', 'https', 't', 'the', 'to'): 3, ('a', 'for', 'https', 't', 'the', 'to'): 3, ('a', 'for', 'https', 't', 'the'): 3, ('a', 'for', 't', 'the'): 3, ('a', 't', 'the'): 3, ('a', 't'): 3, ('some',): 2, ('is', 'some'): 2, ('some', 'that'): 2, ('some', 'to'): 2, ('co', 'some'): 2, ('https', 'some'): 2, ('some', 't'): 4, ('is', 'some', 'that'): 2, ('is', 'some', 'to'): 2, ('co', 'is', 'some'): 2, ('https', 'is', 'some'): 2, ('is', 'some', 't'): 2, ('some', 'that', 'to'): 2, ('co', 'some', 'that'): 2, ('https', 'some', 'that'): 2, ('some', 't', 'that'): 2, ('co', 'some', 'to'): 2, ('https', 'some', 'to'): 2, ('some', 't', 'to'): 2, ('co', 'https', 'some'): 2, ('co', 'some', 't'): 2, ('https', 'some', 't'): 2, ('is', 'some', 'that', 'to'): 2, ('co', 'is', 'some', 'that'): 2, ('https', 'is', 'some', 'that'): 2, ('is', 'some', 't', 'that'): 2, ('co', 'is', 'some', 'to'): 2, ('https', 'is', 'some', 'to'): 2, ('is', 'some', 't', 'to'): 2, ('co', 'https', 'is', 'some'): 2, ('co', 'is', 'some', 't'): 2, ('https', 'is', 'some', 't'): 2, ('co', 'some', 'that', 'to'): 2, ('https', 'some', 'that', 'to'): 2, ('some', 't', 'that', 'to'): 2, ('co', 'https', 'some', 'that'): 2, ('co', 'some', 't', 'that'): 2, ('https', 'some', 't', 'that'): 2, ('co', 'https', 'some', 'to'): 2, ('co', 'some', 't', 'to'): 2, ('https', 'some', 't', 'to'): 2, ('co', 'https', 'some', 't'): 2, ('co', 'is', 'some', 'that', 'to'): 2, ('https', 'is', 'some', 'that', 'to'): 2, ('is', 'some', 't', 'that', 'to'): 2, ('co', 'https', 'is', 'some', 'that'): 2, ('co', 'is', 'some', 't', 'that'): 2, ('https', 'is', 'some', 't', 'that'): 2, ('co', 'https', 'is', 'some', 'to'): 2, ('co', 'is', 'some', 't', 'to'): 2, ('https', 'is', 'some', 't', 'to'): 2, ('co', 'https', 'is', 'some', 't'): 2, ('co', 'https', 'some', 'that', 'to'): 2, ('co', 'some', 't', 'that', 'to'): 2, ('https', 'some', 't', 'that', 'to'): 2, ('co', 'https', 'some', 't', 'that'): 2, ('co', 'https', 'some', 't', 'to'): 2, ('co', 'https', 'is', 'some', 'that', 'to'): 2, ('co', 'is', 'some', 't', 'that', 'to'): 2, ('https', 'is', 'some', 't', 'that', 'to'): 2, ('co', 'https', 'is', 'some', 't', 'that'): 2, ('co', 'https', 'is', 'some', 't', 'to'): 2, ('co', 'https', 'some', 't', 'that', 'to'): 2, ('co', 'https', 'is', 'some', 't', 'that', 'to'): 2, ('is', 'who'): 2, ('is', 't', 'who'): 3, ('is', 'that', 'who'): 2, ('is', 't', 'that', 'who'): 3, ('t', 'that', 'who'): 3, ('that', 'to', 'who'): 2, ('t', 'that', 'to', 'who'): 3, ('is', 'that', 'to', 'who'): 2, ('is', 't', 'that', 'to', 'who'): 3, ('is', 't', 'to', 'who'): 3, ('t', 'to', 'who'): 3, ('co', 'to', 'who'): 2, ('co', 't', 'to', 'who'): 3, ('co', 'that', 'to', 'who'): 2, ('co', 't', 'that', 'to', 'who'): 3, ('co', 't', 'that', 'who'): 3, ('co', 'is', 'that', 'who'): 2, ('co', 'is', 't', 'that', 'who'): 3, ('co', 'is', 'that', 'to', 'who'): 2, ('co', 'is', 't', 'that', 'to', 'who'): 3, ('co', 'is', 't', 'to', 'who'): 3, ('co', 'is', 't', 'who'): 3, ('co', 't', 'who'): 3, ('co', 'https', 'who'): 2, ('co', 'https', 't', 'who'): 3, ('co', 'https', 'to', 'who'): 2, ('co', 'https', 't', 'to', 'who'): 3, ('https', 't', 'to', 'who'): 3, ('https', 'that', 'to', 'who'): 2, ('https', 't', 'that', 'to', 'who'): 3, ('co', 'https', 'that', 'to', 'who'): 2, ('co', 'https', 't', 'that', 'to', 'who'): 3, ('co', 'https', 't', 'that', 'who'): 3, ('https', 't', 'that', 'who'): 3, ('https', 'is', 'that', 'who'): 2, ('https', 'is', 't', 'that', 'who'): 3, ('https', 'is', 'that', 'to', 'who'): 2, ('https', 'is', 't', 'that', 'to', 'who'): 3, ('https', 'is', 't', 'to', 'who'): 3, ('co', 'https', 'is', 'to', 'who'): 2, ('co', 'https', 'is', 't', 'to', 'who'): 3, ('co', 'https', 'is', 'that', 'to', 'who'): 2, ('co', 'https', 'is', 't', 'that', 'to', 'who'): 3, ('co', 'https', 'is', 't', 'that', 'who'): 3, ('co', 'https', 'is', 't', 'who'): 3, ('https', 'is', 't', 'who'): 3, ('https', 't', 'who'): 3, ('the', 'who'): 2, ('https', 'the', 'who'): 2, ('co', 'the', 'who'): 2, ('the', 'to', 'who'): 2, ('that', 'the', 'who'): 2, ('is', 'the', 'who'): 2, ('t', 'the', 'who'): 2, ('co', 'https', 'the', 'who'): 2, ('https', 'the', 'to', 'who'): 2, ('https', 'that', 'the', 'who'): 2, ('https', 'is', 'the', 'who'): 2, ('https', 't', 'the', 'who'): 2, ('co', 'the', 'to', 'who'): 2, ('co', 'that', 'the', 'who'): 2, ('co', 'is', 'the', 'who'): 2, ('co', 't', 'the', 'who'): 2, ('that', 'the', 'to', 'who'): 2, ('is', 'the', 'to', 'who'): 2, ('t', 'the', 'to', 'who'): 2, ('is', 'that', 'the', 'who'): 2, ('t', 'that', 'the', 'who'): 2, ('is', 't', 'the', 'who'): 2, ('co', 'https', 'the', 'to', 'who'): 2, ('co', 'https', 'that', 'the', 'who'): 2, ('co', 'https', 'is', 'the', 'who'): 2, ('co', 'https', 't', 'the', 'who'): 2, ('https', 'that', 'the', 'to', 'who'): 2, ('https', 'is', 'the', 'to', 'who'): 2, ('https', 't', 'the', 'to', 'who'): 2, ('https', 'is', 'that', 'the', 'who'): 2, ('https', 't', 'that', 'the', 'who'): 2, ('https', 'is', 't', 'the', 'who'): 2, ('co', 'that', 'the', 'to', 'who'): 2, ('co', 'is', 'the', 'to', 'who'): 2, ('co', 't', 'the', 'to', 'who'): 2, ('co', 'is', 'that', 'the', 'who'): 2, ('co', 't', 'that', 'the', 'who'): 2, ('co', 'is', 't', 'the', 'who'): 2, ('is', 'that', 'the', 'to', 'who'): 2, ('t', 'that', 'the', 'to', 'who'): 2, ('is', 't', 'the', 'to', 'who'): 2, ('is', 't', 'that', 'the', 'who'): 2, ('co', 'https', 'that', 'the', 'to', 'who'): 2, ('co', 'https', 'is', 'the', 'to', 'who'): 2, ('co', 'https', 't', 'the', 'to', 'who'): 2, ('co', 'https', 'is', 'that', 'the', 'who'): 2, ('co', 'https', 't', 'that', 'the', 'who'): 2, ('co', 'https', 'is', 't', 'the', 'who'): 2, ('https', 'is', 'that', 'the', 'to', 'who'): 2, ('https', 't', 'that', 'the', 'to', 'who'): 2, ('https', 'is', 't', 'the', 'to', 'who'): 2, ('https', 'is', 't', 'that', 'the', 'who'): 2, ('co', 'is', 'that', 'the', 'to', 'who'): 2, ('co', 't', 'that', 'the', 'to', 'who'): 2, ('co', 'is', 't', 'the', 'to', 'who'): 2, ('co', 'is', 't', 'that', 'the', 'who'): 2, ('is', 't', 'that', 'the', 'to', 'who'): 2, ('co', 'https', 'is', 'that', 'the', 'to', 'who'): 2, ('co', 'https', 't', 'that', 'the', 'to', 'who'): 2, ('co', 'https', 'is', 't', 'the', 'to', 'who'): 2, ('co', 'https', 'is', 't', 'that', 'the', 'who'): 2, ('https', 'is', 't', 'that', 'the', 'to', 'who'): 2, ('co', 'is', 't', 'that', 'the', 'to', 'who'): 2, ('co', 'https', 'is', 't', 'that', 'the', 'to', 'who'): 2, ('t', 'who'): 3, ('to', 'wear'): 2, ('t', 'to', 'wear'): 3, ('co', 'to', 'wear'): 2, ('co', 't', 'to', 'wear'): 3, ('co', 't', 'wear'): 3, ('co', 'https', 'wear'): 2, ('co', 'https', 't', 'wear'): 3, ('co', 'https', 'to', 'wear'): 2, ('co', 'https', 't', 'to', 'wear'): 3, ('https', 't', 'to', 'wear'): 3, ('https', 't', 'wear'): 3, ('t', 'wear'): 3, ('to', 'while'): 2, ('t', 'to', 'while'): 3, ('co', 'to', 'while'): 2, ('co', 't', 'to', 'while'): 3, ('co', 't', 'while'): 3, ('co', 'https', 'while'): 2, ('co', 'https', 't', 'while'): 3, ('co', 'https', 'to', 'while'): 2, ('co', 'https', 't', 'to', 'while'): 3, ('https', 't', 'to', 'while'): 3, ('https', 't', 'while'): 3, ('t', 'while'): 3, ('and', 'of'): 2, ('and', 'of', 'the'): 3, ('and', 'of', 'to'): 2, ('and', 'of', 'the', 'to'): 3, ('of', 'the', 'to'): 3, ('co', 'of', 'to'): 2, ('co', 'of', 'the', 'to'): 3, ('and', 'co', 'of', 'to'): 2, ('and', 'co', 'of', 'the', 'to'): 3, ('and', 'co', 'of', 'the'): 3, ('co', 'of', 'the'): 3, ('co', 'https', 'of'): 2, ('co', 'https', 'of', 'the'): 3, ('co', 'https', 'of', 'to'): 2, ('co', 'https', 'of', 'the', 'to'): 3, ('https', 'of', 'the', 'to'): 3, ('and', 'https', 'of', 'to'): 2, ('and', 'https', 'of', 'the', 'to'): 3, ('and', 'co', 'https', 'of', 'to'): 2, ('and', 'co', 'https', 'of', 'the', 'to'): 3, ('and', 'co', 'https', 'of', 'the'): 3, ('and', 'https', 'of', 'the'): 3, ('https', 'of', 'the'): 3, ('https', 'of', 't'): 2, ('https', 'of', 't', 'the'): 3, ('co', 'https', 'of', 't'): 2, ('co', 'https', 'of', 't', 'the'): 3, ('co', 'of', 't', 'the'): 3, ('co', 'of', 't', 'to'): 2, ('co', 'of', 't', 'the', 'to'): 3, ('co', 'https', 'of', 't', 'to'): 2, ('co', 'https', 'of', 't', 'the', 'to'): 3, ('https', 'of', 't', 'the', 'to'): 3, ('of', 't', 'the', 'to'): 3, ('and', 'of', 't', 'to'): 2, ('and', 'of', 't', 'the', 'to'): 3, ('and', 'co', 'of', 't', 'to'): 2, ('and', 'co', 'of', 't', 'the', 'to'): 3, ('and', 'co', 'of', 't', 'the'): 3, ('and', 'co', 'https', 'of', 't'): 2, ('and', 'co', 'https', 'of', 't', 'the'): 3, ('and', 'co', 'https', 'of', 't', 'to'): 2, ('and', 'co', 'https', 'of', 't', 'the', 'to'): 3, ('and', 'https', 'of', 't', 'the', 'to'): 3, ('and', 'https', 'of', 't', 'the'): 3, ('and', 'of', 't', 'the'): 3, ('of', 't', 'the'): 3, ('of', 'the'): 3, ('of', 'peopl'): 2, ('of', 'peopl', 'the'): 3, ('and', 'of', 'peopl'): 2, ('and', 'of', 'peopl', 'the'): 3, ('and', 'peopl', 'the'): 3, ('and', 'peopl', 'to'): 2, ('and', 'peopl', 'the', 'to'): 3, ('and', 'of', 'peopl', 'to'): 2, ('and', 'of', 'peopl', 'the', 'to'): 3, ('of', 'peopl', 'the', 'to'): 3, ('peopl', 'the', 'to'): 3, ('co', 'peopl', 'to'): 2, ('co', 'peopl', 'the', 'to'): 3, ('and', 'co', 'peopl', 'to'): 2, ('and', 'co', 'peopl', 'the', 'to'): 3, ('and', 'co', 'peopl', 'the'): 3, ('and', 'co', 'of', 'peopl'): 2, ('and', 'co', 'of', 'peopl', 'the'): 3, ('and', 'co', 'of', 'peopl', 'to'): 2, ('and', 'co', 'of', 'peopl', 'the', 'to'): 3, ('co', 'of', 'peopl', 'the', 'to'): 3, ('co', 'of', 'peopl', 'the'): 3, ('co', 'peopl', 'the'): 3, ('co', 'https', 'peopl'): 2, ('co', 'https', 'peopl', 'the'): 3, ('co', 'https', 'peopl', 'to'): 2, ('co', 'https', 'peopl', 'the', 'to'): 3, ('https', 'peopl', 'the', 'to'): 3, ('and', 'https', 'peopl', 'to'): 2, ('and', 'https', 'peopl', 'the', 'to'): 3, ('and', 'co', 'https', 'peopl', 'to'): 2, ('and', 'co', 'https', 'peopl', 'the', 'to'): 3, ('and', 'co', 'https', 'peopl', 'the'): 3, ('and', 'https', 'peopl', 'the'): 3, ('and', 'https', 'of', 'peopl'): 2, ('and', 'https', 'of', 'peopl', 'the'): 3, ('and', 'https', 'of', 'peopl', 'to'): 2, ('and', 'https', 'of', 'peopl', 'the', 'to'): 3, ('https', 'of', 'peopl', 'the', 'to'): 3, ('co', 'https', 'of', 'peopl', 'to'): 2, ('co', 'https', 'of', 'peopl', 'the', 'to'): 3, ('and', 'co', 'https', 'of', 'peopl', 'to'): 2, ('and', 'co', 'https', 'of', 'peopl', 'the', 'to'): 3, ('and', 'co', 'https', 'of', 'peopl', 'the'): 3, ('co', 'https', 'of', 'peopl', 'the'): 3, ('https', 'of', 'peopl', 'the'): 3, ('https', 'peopl', 'the'): 3, ('https', 'peopl', 't'): 2, ('https', 'peopl', 't', 'the'): 3, ('co', 'https', 'peopl', 't'): 2, ('co', 'https', 'peopl', 't', 'the'): 3, ('co', 'peopl', 't', 'the'): 3, ('co', 'peopl', 't', 'to'): 2, ('co', 'peopl', 't', 'the', 'to'): 3, ('co', 'https', 'peopl', 't', 'to'): 2, ('co', 'https', 'peopl', 't', 'the', 'to'): 3, ('https', 'peopl', 't', 'the', 'to'): 3, ('peopl', 't', 'the', 'to'): 3, ('and', 'peopl', 't', 'to'): 2, ('and', 'peopl', 't', 'the', 'to'): 3, ('and', 'co', 'peopl', 't', 'to'): 2, ('and', 'co', 'peopl', 't', 'the', 'to'): 3, ('and', 'co', 'peopl', 't', 'the'): 3, ('and', 'co', 'https', 'peopl', 't'): 2, ('and', 'co', 'https', 'peopl', 't', 'the'): 3, ('and', 'co', 'https', 'peopl', 't', 'to'): 2, ('and', 'co', 'https', 'peopl', 't', 'the', 'to'): 3, ('and', 'https', 'peopl', 't', 'the', 'to'): 3, ('and', 'https', 'peopl', 't', 'the'): 3, ('and', 'peopl', 't', 'the'): 3, ('and', 'of', 'peopl', 't'): 2, ('and', 'of', 'peopl', 't', 'the'): 3, ('and', 'of', 'peopl', 't', 'to'): 2, ('and', 'of', 'peopl', 't', 'the', 'to'): 3, ('of', 'peopl', 't', 'the', 'to'): 3, ('co', 'of', 'peopl', 't', 'to'): 2, ('co', 'of', 'peopl', 't', 'the', 'to'): 3, ('and', 'co', 'of', 'peopl', 't', 'to'): 2, ('and', 'co', 'of', 'peopl', 't', 'the', 'to'): 3, ('and', 'co', 'of', 'peopl', 't', 'the'): 3, ('co', 'of', 'peopl', 't', 'the'): 3, ('co', 'https', 'of', 'peopl', 't'): 2, ('co', 'https', 'of', 'peopl', 't', 'the'): 3, ('co', 'https', 'of', 'peopl', 't', 'to'): 2, ('co', 'https', 'of', 'peopl', 't', 'the', 'to'): 3, ('https', 'of', 'peopl', 't', 'the', 'to'): 3, ('and', 'https', 'of', 'peopl', 't', 'to'): 2, ('and', 'https', 'of', 'peopl', 't', 'the', 'to'): 3, ('and', 'co', 'https', 'of', 'peopl', 't', 'to'): 2, ('and', 'co', 'https', 'of', 'peopl', 't', 'the', 'to'): 3, ('and', 'co', 'https', 'of', 'peopl', 't', 'the'): 3, ('and', 'https', 'of', 'peopl', 't', 'the'): 3, ('https', 'of', 'peopl', 't', 'the'): 3, ('of', 'peopl', 't', 'the'): 3, ('peopl', 't', 'the'): 3, ('peopl', 'the'): 3, ('covid19', 'talli'): 2, ('case', 'covid19', 'talli'): 3, ('case', 'talli'): 3, ('1', 'talli'): 2, ('1', 'case', 'talli'): 3, ('1', 'covid19', 'talli'): 2, ('1', 'case', 'covid19', 'talli'): 3, ('1', 'case', 'covid19'): 3, ('1', 'case'): 3, ('1', 'with'): 2, ('1', 'case', 'with'): 3, ('1', 'talli', 'with'): 2, ('1', 'case', 'talli', 'with'): 3, ('case', 'talli', 'with'): 3, ('covid19', 'talli', 'with'): 2, ('case', 'covid19', 'talli', 'with'): 3, ('1', 'covid19', 'talli', 'with'): 2, ('1', 'case', 'covid19', 'talli', 'with'): 3, ('1', 'case', 'covid19', 'with'): 3, ('case', 'covid19', 'with'): 3, ('case', 'with'): 3, ('covid19', 'new'): 2, ('case', 'covid19', 'new'): 3, ('case', 'new'): 3, ('activ', 'new'): 2, ('activ', 'case', 'new'): 3, ('activ', 'talli'): 2, ('activ', 'case', 'talli'): 3, ('activ', 'covid19', 'talli'): 2, ('activ', 'case', 'covid19', 'talli'): 3, ('activ', 'covid19', 'new'): 2, ('activ', 'case', 'covid19', 'new'): 3, ('activ', 'case', 'covid19'): 3, ('activ', 'case'): 3, ('activ', 'health'): 2, ('activ', 'case', 'health'): 3, ('activ', 'health', 'new'): 2, ('activ', 'case', 'health', 'new'): 3, ('case', 'health', 'new'): 3, ('health', 'with'): 2, ('case', 'health', 'with'): 3, ('1', 'health', 'with'): 2, ('1', 'case', 'health', 'with'): 3, ('1', 'case', 'health'): 3, ('1', 'health', 'talli'): 2, ('1', 'case', 'health', 'talli'): 3, ('1', 'health', 'talli', 'with'): 2, ('1', 'case', 'health', 'talli', 'with'): 3, ('case', 'health', 'talli', 'with'): 3, ('activ', 'health', 'talli'): 2, ('activ', 'case', 'health', 'talli'): 3, ('case', 'health', 'talli'): 3, ('covid19', 'health', 'talli'): 2, ('case', 'covid19', 'health', 'talli'): 3, ('1', 'covid19', 'health', 'talli'): 2, ('1', 'case', 'covid19', 'health', 'talli'): 3, ('1', 'case', 'covid19', 'health'): 3, ('1', 'covid19', 'health', 'with'): 2, ('1', 'case', 'covid19', 'health', 'with'): 3, ('1', 'covid19', 'health', 'talli', 'with'): 2, ('1', 'case', 'covid19', 'health', 'talli', 'with'): 3, ('case', 'covid19', 'health', 'talli', 'with'): 3, ('case', 'covid19', 'health', 'with'): 3, ('covid19', 'health', 'new'): 2, ('case', 'covid19', 'health', 'new'): 3, ('activ', 'covid19', 'health', 'new'): 2, ('activ', 'case', 'covid19', 'health', 'new'): 3, ('activ', 'covid19', 'health', 'talli'): 2, ('activ', 'case', 'covid19', 'health', 'talli'): 3, ('activ', 'case', 'covid19', 'health'): 3, ('case', 'covid19', 'health'): 3, ('case', 'health'): 3, ('covid19', 'for', 'https'): 2, ('covid19', 'for', 'https', 't'): 3, ('co', 'covid19', 'for', 'https'): 2, ('co', 'covid19', 'for', 'https', 't'): 3, ('co', 'covid19', 'for', 't'): 3, ('covid19', 'for', 't'): 3, ('for', 'https', 'to'): 2, ('for', 'https', 't', 'to'): 3, ('co', 'for', 'https', 'to'): 2, ('co', 'for', 'https', 't', 'to'): 3, ('co', 'for', 't', 'to'): 3, ('for', 't', 'to'): 3, ('for', 'the', 'to'): 2, ('for', 't', 'the', 'to'): 3, ('for', 'https', 'the', 'to'): 2, ('for', 'https', 't', 'the', 'to'): 3, ('for', 'https', 't', 'the'): 3, ('co', 'for', 'https', 'the'): 2, ('co', 'for', 'https', 't', 'the'): 3, ('co', 'for', 'https', 'the', 'to'): 2, ('co', 'for', 'https', 't', 'the', 'to'): 3, ('co', 'for', 't', 'the', 'to'): 3, ('co', 'for', 't', 'the'): 3, ('for', 't', 'the'): 3, ('co', 'for'): 3, ('co', 'for', 't'): 4, ('co', 'for', 'https'): 3, ('co', 'for', 'https', 't'): 4, ('for', 'https', 't'): 4, ('for', 't'): 4, ('for', 'in'): 2, ('for', 'in', 't'): 2, ('for', 'https', 'in'): 2, ('co', 'for', 'in'): 2, ('for', 'https', 'in', 't'): 2, ('co', 'for', 'in', 't'): 2, ('co', 'for', 'https', 'in'): 2, ('co', 'for', 'https', 'in', 't'): 2, ('covid19', 'in'): 2, ('covid19', 'in', 't'): 2, ('covid19', 'https', 'in'): 2, ('co', 'covid19', 'in'): 2, ('covid19', 'https', 'in', 't'): 2, ('co', 'covid19', 'in', 't'): 2, ('co', 'covid19', 'https', 'in'): 2, ('co', 'covid19', 'https', 'in', 't'): 2, ('in', 'to'): 2, ('in', 't', 'to'): 2, ('https', 'in', 'to'): 2, ('co', 'in', 'to'): 2, ('https', 'in', 't', 'to'): 2, ('co', 'in', 't', 'to'): 2, ('co', 'https', 'in', 'to'): 2, ('co', 'https', 'in', 't', 'to'): 2, ('co', 'in'): 3, ('https', 'in'): 3, ('co', 'https', 'in'): 3, ('in', 't'): 3, ('https', 'in', 't'): 3, ('co', 'in', 't'): 3, ('co', 'https', 'in', 't'): 3, ('https', 'is', 'to'): 2, ('https', 'is', 't', 'to'): 3, ('co', 'https', 'is', 'to'): 2, ('co', 'https', 'is', 't', 'to'): 3, ('co', 'is', 't', 'to'): 3, ('co', 'is', 'that', 'to'): 2, ('co', 'is', 't', 'that', 'to'): 3, ('co', 'https', 'is', 'that', 'to'): 2, ('co', 'https', 'is', 't', 'that', 'to'): 3, ('https', 'is', 't', 'that', 'to'): 3, ('is', 't', 'that', 'to'): 3, ('is', 'the', 'to'): 2, ('is', 'that', 'the', 'to'): 2, ('co', 'is', 'the', 'to'): 2, ('https', 'is', 'the', 'to'): 2, ('is', 't', 'the', 'to'): 2, ('co', 'is', 'that', 'the', 'to'): 2, ('https', 'is', 'that', 'the', 'to'): 2, ('is', 't', 'that', 'the', 'to'): 2, ('co', 'https', 'is', 'the', 'to'): 2, ('co', 'is', 't', 'the', 'to'): 2, ('https', 'is', 't', 'the', 'to'): 2, ('co', 'https', 'is', 'that', 'the', 'to'): 2, ('co', 'is', 't', 'that', 'the', 'to'): 2, ('https', 'is', 't', 'that', 'the', 'to'): 2, ('co', 'https', 'is', 't', 'the', 'to'): 2, ('co', 'https', 'is', 't', 'that', 'the', 'to'): 2, ('is', 't', 'to'): 3, ('and', 'https', 'is', 'that'): 3, ('and', 'https', 'is', 'that', 'the'): 12, ('and', 'https', 'is', 'the'): 7, ('and', 'https', 'is', 'the', 'the'): 11, ('and', 'co', 'https', 'is', 'that'): 3, ('and', 'co', 'https', 'is', 'that', 'the'): 12, ('and', 'co', 'https', 'is', 'the'): 7, ('and', 'co', 'https', 'is', 'the', 'the'): 11, ('and', 'co', 'is', 'that'): 3, ('and', 'co', 'is', 'that', 'the'): 12, ('and', 'co', 'is', 'the'): 7, ('and', 'co', 'is', 'the', 'the'): 11, ('and', 'co', 'is', 't', 'that'): 3, ('and', 'co', 'is', 't', 'that', 'the'): 12, ('and', 'co', 'is', 't', 'the'): 7, ('and', 'co', 'is', 't', 'the', 'the'): 11, ('and', 'co', 'https', 'is', 't', 'that'): 3, ('and', 'co', 'https', 'is', 't', 'that', 'the'): 12, ('and', 'co', 'https', 'is', 't', 'the'): 7, ('and', 'co', 'https', 'is', 't', 'the', 'the'): 11, ('and', 'https', 'is', 't', 'that'): 3, ('and', 'https', 'is', 't', 'that', 'the'): 12, ('and', 'https', 'is', 't', 'the'): 7, ('and', 'https', 'is', 't', 'the', 'the'): 11, ('and', 'is', 't', 'that'): 3, ('and', 'is', 't', 'that', 'the'): 12, ('and', 'is', 't', 'the'): 7, ('and', 'is', 't', 'the', 'the'): 11, ('and', 'is', 'that'): 3, ('and', 'is', 'that', 'the'): 12, ('and', 'is', 'the'): 7, ('and', 'is', 'the', 'the'): 11, ('co', 'is', 't'): 4, ('co', 'is', 't', 'the'): 7, ('co', 'is', 't', 'that'): 5, ('co', 'is', 't', 'that', 'the'): 12, ('co', 'is', 'that', 'the'): 12, ('co', 'is', 'that', 'the', 'the'): 21, ('co', 'is', 'the'): 7, ('co', 'is', 'the', 'the'): 11, ('co', 'https', 'is', 'that'): 4, ('co', 'https', 'is', 'that', 'the'): 12, ('co', 'https', 'is', 't', 'that'): 5, ('co', 'https', 'is', 't', 'that', 'the'): 12, ('co', 'https', 'is', 't', 'the'): 7, ('co', 'https', 'is', 't', 'the', 'the'): 11, ('co', 'https', 'is', 'the'): 7, ('co', 'https', 'is', 'the', 'the'): 11, ('https', 'is', 't'): 4, ('https', 'is', 't', 'the'): 7, ('https', 'is', 't', 'that'): 5, ('https', 'is', 't', 'that', 'the'): 12, ('https', 'is', 'that', 'the'): 12, ('https', 'is', 'that', 'the', 'the'): 21, ('https', 'is', 'the'): 7, ('https', 'is', 'the', 'the'): 11, ('is', 'that'): 4, ('is', 'that', 'the'): 12, ('is', 't', 'that'): 5, ('is', 't', 'that', 'the'): 12, ('is', 't', 'the'): 7, ('is', 't', 'the', 'the'): 11, ('is', 'the'): 7, ('is', 'the', 'the'): 11, ('and', 't', 'to'): 2, ('and', 't', 'the', 'to'): 3, ('and', 'https', 't', 'to'): 2, ('and', 'https', 't', 'the', 'to'): 3, ('and', 'https', 'the', 'to'): 3, ('and', 'co', 'https', 'to'): 2, ('and', 'co', 'https', 'the', 'to'): 3, ('and', 'co', 'https', 't', 'to'): 2, ('and', 'co', 'https', 't', 'the', 'to'): 3, ('and', 'co', 't', 'the', 'to'): 3, ('and', 'co', 'the', 'to'): 3, ('and', 'the', 'to'): 3, ('and', 'that'): 3, ('and', 'that', 'the'): 12, ('and', 'co', 'that'): 3, ('and', 'co', 'that', 'the'): 12, ('and', 'co', 'the'): 8, ('and', 'co', 'the', 'the'): 11, ('and', 'co', 'https'): 3, ('and', 'co', 'https', 'the'): 8, ('and', 'co', 'https', 'that'): 3, ('and', 'co', 'https', 'that', 'the'): 12, ('and', 'https', 'that', 'the'): 12, ('and', 'https', 'that', 'the', 'the'): 21, ('and', 'https', 'the'): 8, ('and', 'https', 'the', 'the'): 11, ('and', 'https', 't'): 3, ('and', 'https', 't', 'the'): 8, ('and', 'co', 'https', 't'): 3, ('and', 'co', 'https', 't', 'the'): 8, ('and', 'co', 't', 'the'): 8, ('and', 'co', 't', 'the', 'the'): 11, ('and', 'co', 't', 'that'): 3, ('and', 'co', 't', 'that', 'the'): 12, ('and', 'co', 'https', 't', 'that'): 3, ('and', 'co', 'https', 't', 'that', 'the'): 12, ('and', 'https', 't', 'that', 'the'): 12, ('and', 'https', 't', 'that', 'the', 'the'): 21, ('and', 't', 'that', 'the'): 12, ('and', 't', 'that', 'the', 'the'): 21, ('and', 't', 'the'): 8, ('and', 't', 'the', 'the'): 11, ('and', 'the'): 8, ('and', 'the', 'the'): 11, ('case',): 3, ('case', 'covid19'): 3, ('case', 'to'): 2, ('case', 'co'): 2, ('case', 'https'): 2, ('case', 't'): 2, ('case', 'covid19', 'to'): 2, ('case', 'co', 'covid19'): 2, ('case', 'covid19', 'https'): 2, ('case', 'covid19', 't'): 2, ('case', 'co', 'to'): 2, ('case', 'https', 'to'): 2, ('case', 't', 'to'): 2, ('case', 'co', 'https'): 2, ('case', 'co', 't'): 2, ('case', 'https', 't'): 2, ('case', 'co', 'covid19', 'to'): 2, ('case', 'covid19', 'https', 'to'): 2, ('case', 'covid19', 't', 'to'): 2, ('case', 'co', 'covid19', 'https'): 2, ('case', 'co', 'covid19', 't'): 2, ('case', 'covid19', 'https', 't'): 2, ('case', 'co', 'https', 'to'): 2, ('case', 'co', 't', 'to'): 2, ('case', 'https', 't', 'to'): 2, ('case', 'co', 'https', 't'): 2, ('case', 'co', 'covid19', 'https', 'to'): 2, ('case', 'co', 'covid19', 't', 'to'): 2, ('case', 'covid19', 'https', 't', 'to'): 2, ('case', 'co', 'covid19', 'https', 't'): 2, ('case', 'co', 'https', 't', 'to'): 2, ('case', 'co', 'covid19', 'https', 't', 'to'): 2, ('covid19', 'https', 't', 'to'): 3, ('covid19', 'https', 'the', 'to'): 3, ('covid19', 'https', 't', 'the', 'to'): 4, ('co', 'covid19', 'https', 'the', 'to'): 3, ('co', 'covid19', 'https', 't', 'to'): 3, ('co', 'covid19', 'https', 't', 'the', 'to'): 4, ('co', 'covid19', 't', 'to'): 3, ('co', 'covid19', 'the', 'to'): 3, ('co', 'covid19', 't', 'the', 'to'): 4, ('covid19', 'the', 'to'): 3, ('covid19', 't', 'to'): 3, ('covid19', 't', 'the', 'to'): 4, ('covid19', 'https', 'the'): 3, ('covid19', 'https', 't', 'the'): 4, ('co', 'covid19', 'https', 'the'): 3, ('co', 'covid19', 'https', 't', 'the'): 4, ('co', 'covid19', 't', 'the'): 4, ('covid19', 't', 'the'): 4, ('co', 'covid19'): 4, ('co', 'covid19', 't'): 5, ('co', 'covid19', 'https'): 4, ('co', 'covid19', 'https', 't'): 5, ('covid19', 'https', 't'): 5, ('covid19', 't'): 5, ('https', 'that', 'to'): 2, ('https', 't', 'that', 'to'): 3, ('co', 'https', 'that', 'to'): 2, ('co', 'https', 't', 'that', 'to'): 3, ('co', 't', 'that', 'to'): 3, ('that', 'the', 'to'): 2, ('co', 'that', 'the', 'to'): 2, ('https', 'that', 'the', 'to'): 2, ('t', 'that', 'the', 'to'): 2, ('co', 'https', 'that', 'the', 'to'): 2, ('co', 't', 'that', 'the', 'to'): 2, ('https', 't', 'that', 'the', 'to'): 2, ('co', 'https', 't', 'that', 'the', 'to'): 2, ('t', 'that', 'to'): 3, ('co', 't', 't', 'that'): 2, ('co', 't', 'that', 'the'): 14, ('co', 't', 'that', 'the', 'the'): 21, ('co', 'that', 'the'): 13, ('co', 'that', 'the', 'the'): 21, ('co', 'https', 't', 't', 'that'): 2, ('co', 'https', 't', 'that', 'the'): 14, ('co', 'https', 't', 'that', 'the', 'the'): 21, ('co', 'https', 'that', 'the'): 13, ('co', 'https', 'that', 'the', 'the'): 21, ('https', 't', 't', 'that'): 2, ('https', 't', 'that', 'the'): 14, ('https', 't', 'that', 'the', 'the'): 21, ('https', 'that', 'the'): 13, ('https', 'that', 'the', 'the'): 21, ('t', 't', 'that'): 2, ('t', 'that', 'the'): 14, ('t', 'that', 'the', 'the'): 21, ('that', 'the'): 13, ('that', 'the', 'the'): 21, ('https', 'the', 'to'): 4, ('https', 't', 'the', 'to'): 5, ('co', 'https', 'the', 'to'): 4, ('co', 'https', 't', 'the', 'to'): 5, ('co', 't', 'the', 'to'): 5, ('t', 'the', 'to'): 5, ('co', 'to'): 5, ('co', 't', 'to'): 7, ('co', 'https', 'to'): 5, ('co', 'https', 't', 'to'): 7, ('https', 't', 'to'): 7, ('https', 't', 't', 'to'): 2, ('t', 'to'): 7, ('t', 't', 'to'): 2, ('https', 't'): 10, ('https', 't', 't'): 2, ('https', 't', 'the'): 11, ('https', 't', 'the', 'the'): 11, ('https', 'the', 'the'): 11, ('https', 'the', 'the', 'the'): 10, ('co', 'https', 't', 't'): 2, ('co', 'https', 't', 'the'): 11, ('co', 'https', 't', 'the', 'the'): 11, ('co', 'https', 'the'): 10, ('co', 'https', 'the', 'the'): 11, ('co', 't'): 10, ('co', 't', 't'): 2, ('co', 't', 'the'): 11, ('co', 't', 'the', 'the'): 11, ('co', 'the', 'the'): 11, ('co', 'the', 'the', 'the'): 10, ('t', 't'): 2, ('t', 'the'): 11, ('t', 'the', 'the'): 11, ('the',): 10, ('the', 'the'): 11}\n"
     ]
    }
   ],
   "source": [
    "from pyfpgrowth import find_frequent_patterns\n",
    "\n",
    "# Load the dataset\n",
    "dataset = [\n",
    "  \n",
    "\t\n",
    "\t['india', 'test', '4', '2', 'lakh', 'sampl', 'for', 'covid19', 'infect', 'in', '24', 'hours', 'test', 'capac', 'at', 'all', 'tim', 'high', 'https', 't', 'co', 'yurim0eoc3'],\n",
    "\t['airfranceu', 'that', 'the', 'way', 'to', 'treat', 'your', 'custom', 'dure', 'covid19', 'for', 'a', 'flight', 'i', 'couldn', 't', 'take', 'becaus', 'border', 'c', 'https', 't', 'co', 'noblvuar7c'],\n",
    "\t['receiv', 'some', 'shitti', 'tweet', 'from', 'nutter', 'who', 'don', 't', 'want', 'to', 'wear', 'mask', 'while', 'shopping', 'whi', 'is', 'it', 'that', 'some', 'peop', 'https', 't', 'co', 'i5ogzj7hvj'],\n",
    "\t['how', 'on', 'earth', 'can', 'the', 'vp', 'tell', 'americans', 'and', 'the', 'world', 'that', 'we', 'v', 'flatten', 'the', 'curve', 'when', 'the', 'truth', 'is', 'that', 'the', 'https', 't', 'co', 'mldsmcqo'],\n",
    "\t['experiencing', 'and', 'also', 'the', 'number', 'of', 'peopl', 'who', 'lost', 'their', 'job', 'to', 'thi', 'covid19', 'that', 'is', 'still', 'ravag', 'the', 'worl', 'https', 't', 'co', 'wsw10ktuw6'],\n",
    "\t['arunach', 'pradesh', 'covid19', 'talli', 'cross', '1', '000', 'mark', 'with', '65', 'new', 'cases', 'activ', 'case', '661', 'health', 'dept'],\n",
    "\t['rumor', 'monger', 'are', 'much', 'sought', 'after', 'by', 'the', 'government', 'appli', 'now', 'your', 'countri', 'need', 'you', 'newsmedianest', 'https', 't', 'co', 'xzm0ycxl6h'],\n",
    "\t['just', 'been', 'out', 'shop', 'for', 'the', 'first', 'time', 'in', 'a', 'while', 'and', 'wa', 'pleasantli', 'surpris', 'to', 'see', 'almost', '100', 'of', 'peopl', 'wear', 'https', 't', 'co', 'w0cloxt4sm'],\n",
    "\t['139', 'new', 'covid19', 'case', 'in', 'puducherry', 'talli', '2', '654', 'activ', 'case', '1', '055', 'toll', 'rise', 'to', '38', 'with', '3', 'more', 'deaths', 'health', 'https', 't', 'co', 'w8ha3tmzuu']\n",
    "\n",
    "]\n",
    "\n",
    "# Set the minimum support threshold\n",
    "min_support = 2\n",
    "\n",
    "# Find the frequent patterns in the dataset\n",
    "frequent_patterns = find_frequent_patterns(dataset, min_support)\n",
    "\n",
    "print(frequent_patterns)"
   ]
  },
  {
   "cell_type": "code",
   "execution_count": 77,
   "id": "3cae6ae9",
   "metadata": {},
   "outputs": [
    {
     "ename": "SyntaxError",
     "evalue": "invalid syntax (1513859444.py, line 1)",
     "output_type": "error",
     "traceback": [
      "\u001b[1;36m  File \u001b[1;32m\"C:\\Users\\shakil\\AppData\\Local\\Temp\\ipykernel_2476\\1513859444.py\"\u001b[1;36m, line \u001b[1;32m1\u001b[0m\n\u001b[1;33m    jupyter notebook --NotebookApp.iopub_data_rate_limit=10000000\u001b[0m\n\u001b[1;37m            ^\u001b[0m\n\u001b[1;31mSyntaxError\u001b[0m\u001b[1;31m:\u001b[0m invalid syntax\n"
     ]
    }
   ],
   "source": [
    "jupyter notebook --NotebookApp.iopub_data_rate_limit=10000000\n"
   ]
  },
  {
   "cell_type": "code",
   "execution_count": 78,
   "id": "6fadb1e5",
   "metadata": {},
   "outputs": [
    {
     "ename": "SyntaxError",
     "evalue": "invalid syntax (3890204448.py, line 1)",
     "output_type": "error",
     "traceback": [
      "\u001b[1;36m  File \u001b[1;32m\"C:\\Users\\shakil\\AppData\\Local\\Temp\\ipykernel_2476\\3890204448.py\"\u001b[1;36m, line \u001b[1;32m1\u001b[0m\n\u001b[1;33m    jupyter notebook --NotebookApp.iopub_data_rate_limit=1000000\u001b[0m\n\u001b[1;37m            ^\u001b[0m\n\u001b[1;31mSyntaxError\u001b[0m\u001b[1;31m:\u001b[0m invalid syntax\n"
     ]
    }
   ],
   "source": [
    "jupyter notebook --NotebookApp.iopub_data_rate_limit=1000000\n"
   ]
  },
  {
   "cell_type": "code",
   "execution_count": 79,
   "id": "a79af931",
   "metadata": {},
   "outputs": [
    {
     "ename": "NameError",
     "evalue": "name 'c' is not defined",
     "output_type": "error",
     "traceback": [
      "\u001b[1;31m---------------------------------------------------------------------------\u001b[0m",
      "\u001b[1;31mNameError\u001b[0m                                 Traceback (most recent call last)",
      "\u001b[1;32m~\\AppData\\Local\\Temp\\ipykernel_2476\\3977739186.py\u001b[0m in \u001b[0;36m<module>\u001b[1;34m\u001b[0m\n\u001b[1;32m----> 1\u001b[1;33m \u001b[0mc\u001b[0m\u001b[1;33m.\u001b[0m\u001b[0mNotebookApp\u001b[0m\u001b[1;33m.\u001b[0m\u001b[0miopub_data_rate_limit\u001b[0m \u001b[1;33m=\u001b[0m \u001b[1;36m10000000\u001b[0m\u001b[1;33m\u001b[0m\u001b[1;33m\u001b[0m\u001b[0m\n\u001b[0m\u001b[0;32m      2\u001b[0m \u001b[0mc\u001b[0m\u001b[1;33m.\u001b[0m\u001b[0mNotebookApp\u001b[0m\u001b[1;33m.\u001b[0m\u001b[0mrate_limit_window\u001b[0m \u001b[1;33m=\u001b[0m \u001b[1;36m3\u001b[0m\u001b[1;33m\u001b[0m\u001b[1;33m\u001b[0m\u001b[0m\n",
      "\u001b[1;31mNameError\u001b[0m: name 'c' is not defined"
     ]
    }
   ],
   "source": [
    "c.NotebookApp.iopub_data_rate_limit = 10000000\n",
    "c.NotebookApp.rate_limit_window = 3\n"
   ]
  },
  {
   "cell_type": "code",
   "execution_count": 19,
   "id": "a44c8797",
   "metadata": {},
   "outputs": [
    {
     "name": "stderr",
     "output_type": "stream",
     "text": [
      "IOPub data rate exceeded.\n",
      "The notebook server will temporarily stop sending output\n",
      "to the client in order to avoid crashing it.\n",
      "To change this limit, set the config variable\n",
      "`--NotebookApp.iopub_data_rate_limit`.\n",
      "\n",
      "Current values:\n",
      "NotebookApp.iopub_data_rate_limit=1000000.0 (bytes/sec)\n",
      "NotebookApp.rate_limit_window=3.0 (secs)\n",
      "\n"
     ]
    }
   ],
   "source": [
    "from pyfpgrowth import find_frequent_patterns\n",
    "\n",
    "# Load the dataset\n",
    "dataset = [\n",
    "  \n",
    "\t['feel', 'good', 'about', 'a', 'product', 'start', 'to', 'the', 'weekend', 'with', 'our', 'coronaviru', 'basic', 'awar', 'on', 'product', 'training', 'thi', 'https', 't', 'co', 'xp26grf4lj'],\n",
    "\t['total', 'confirmed', '15', '754', '490', 'total', 'recovered', '9', '059', '318', 'total', 'deaths', '640', '029', 'last', 'update', '2020', '07', '25', '10', '00', 'https', 't', 'co', 'wmvz5usihu'],\n",
    "\t['four', 'peopl', 'were', 'arrest', 'and', 'owner', 'of', 'over', '1', '900', 'vehicl', 'penalis', 'across', 'noida', 'and', 'greater', 'noida', 'on', 'friday', 'for', 'https', 't', 'co', 'r7kulzdd9q'],\n",
    "\t['covid19', 'ha', 'been', 'especi', 'challeng', 'for', 'peopl', 'suffer', 'from', 'addiction', 'our', 'expert', 'behavior', 'health', 'and', 'clin', 'https', 't', 'co', 'q9nipcr6cv'],\n",
    "\t['covid19', 'ha', 'been', 'especi', 'challeng', 'for', 'peopl', 'suffer', 'from', 'addiction', 'our', 'expert', 'behavior', 'health', 'and', 'clin', 'https', 't', 'co', 'vjhhqixqv7'],\n",
    "\t['if', 'you', 'miss', 'conversationsbeyondbord', 'with', 'profjameslogan', 'watch', 'the', 'record', 'now', 'for', 'some', 'fascin', 'insigh', 'https', 't', 'co', 'guitnycldu'],\n",
    "\t['covid19', 'ha', 'been', 'especi', 'challeng', 'for', 'peopl', 'suffer', 'from', 'addiction', 'our', 'expert', 'behavior', 'health', 'and', 'clin', 'https', 't', 'co', 'oy1ufahn35']\n",
    "\n",
    "\n",
    "\n",
    "\n",
    "\n",
    "]\n",
    "\n",
    "# Set the minimum support threshold\n",
    "min_support = 2\n",
    "\n",
    "# Find the frequent patterns in the dataset\n",
    "frequent_patterns = find_frequent_patterns(dataset, min_support)\n",
    "\n",
    "print(frequent_patterns)"
   ]
  },
  {
   "cell_type": "code",
   "execution_count": 5,
   "id": "974fced7",
   "metadata": {},
   "outputs": [
    {
     "name": "stdout",
     "output_type": "stream",
     "text": [
      "Defaulting to user installation because normal site-packages is not writeable\n",
      "Requirement already satisfied: apyori in c:\\users\\shakil\\appdata\\roaming\\python\\python39\\site-packages (1.1.2)\n",
      "Defaulting to user installation because normal site-packages is not writeable\n",
      "Requirement already satisfied: pyfpgrowth in c:\\users\\shakil\\appdata\\roaming\\python\\python39\\site-packages (1.0)\n"
     ]
    }
   ],
   "source": [
    "!pip install apyori\n",
    "!pip install pyfpgrowth"
   ]
  },
  {
   "cell_type": "code",
   "execution_count": 7,
   "id": "20fce3e8",
   "metadata": {},
   "outputs": [
    {
     "name": "stdout",
     "output_type": "stream",
     "text": [
      "Defaulting to user installation because normal site-packages is not writeable\n",
      "Collecting mlxtend\n",
      "  Downloading mlxtend-0.21.0-py2.py3-none-any.whl (1.3 MB)\n",
      "     ---------------------------------------- 1.3/1.3 MB 3.7 MB/s eta 0:00:00\n",
      "Requirement already satisfied: numpy>=1.16.2 in c:\\programdata\\anaconda3\\lib\\site-packages (from mlxtend) (1.21.5)\n",
      "Requirement already satisfied: matplotlib>=3.0.0 in c:\\users\\shakil\\appdata\\roaming\\python\\python39\\site-packages (from mlxtend) (3.2.1)\n",
      "Requirement already satisfied: scipy>=1.2.1 in c:\\programdata\\anaconda3\\lib\\site-packages (from mlxtend) (1.9.1)\n",
      "Requirement already satisfied: joblib>=0.13.2 in c:\\programdata\\anaconda3\\lib\\site-packages (from mlxtend) (1.1.0)\n",
      "Requirement already satisfied: pandas>=0.24.2 in c:\\programdata\\anaconda3\\lib\\site-packages (from mlxtend) (1.4.4)\n",
      "Requirement already satisfied: setuptools in c:\\programdata\\anaconda3\\lib\\site-packages (from mlxtend) (63.4.1)\n",
      "Requirement already satisfied: scikit-learn>=1.0.2 in c:\\programdata\\anaconda3\\lib\\site-packages (from mlxtend) (1.0.2)\n",
      "Requirement already satisfied: kiwisolver>=1.0.1 in c:\\programdata\\anaconda3\\lib\\site-packages (from matplotlib>=3.0.0->mlxtend) (1.4.2)\n",
      "Requirement already satisfied: python-dateutil>=2.1 in c:\\programdata\\anaconda3\\lib\\site-packages (from matplotlib>=3.0.0->mlxtend) (2.8.2)\n",
      "Requirement already satisfied: cycler>=0.10 in c:\\programdata\\anaconda3\\lib\\site-packages (from matplotlib>=3.0.0->mlxtend) (0.11.0)\n",
      "Requirement already satisfied: pyparsing!=2.0.4,!=2.1.2,!=2.1.6,>=2.0.1 in c:\\programdata\\anaconda3\\lib\\site-packages (from matplotlib>=3.0.0->mlxtend) (3.0.9)\n",
      "Requirement already satisfied: pytz>=2020.1 in c:\\programdata\\anaconda3\\lib\\site-packages (from pandas>=0.24.2->mlxtend) (2022.1)\n",
      "Requirement already satisfied: threadpoolctl>=2.0.0 in c:\\programdata\\anaconda3\\lib\\site-packages (from scikit-learn>=1.0.2->mlxtend) (2.2.0)\n",
      "Requirement already satisfied: six>=1.5 in c:\\programdata\\anaconda3\\lib\\site-packages (from python-dateutil>=2.1->matplotlib>=3.0.0->mlxtend) (1.16.0)\n",
      "Installing collected packages: mlxtend\n",
      "Successfully installed mlxtend-0.21.0\n",
      "Note: you may need to restart the kernel to use updated packages.\n"
     ]
    }
   ],
   "source": [
    "pip install mlxtend"
   ]
  },
  {
   "cell_type": "code",
   "execution_count": 8,
   "id": "725a929c",
   "metadata": {},
   "outputs": [
    {
     "ename": "NameError",
     "evalue": "name 'pd' is not defined",
     "output_type": "error",
     "traceback": [
      "\u001b[1;31m---------------------------------------------------------------------------\u001b[0m",
      "\u001b[1;31mNameError\u001b[0m                                 Traceback (most recent call last)",
      "\u001b[1;32m~\\AppData\\Local\\Temp\\ipykernel_2476\\1079714383.py\u001b[0m in \u001b[0;36m<module>\u001b[1;34m\u001b[0m\n\u001b[0;32m     13\u001b[0m \u001b[0mte\u001b[0m \u001b[1;33m=\u001b[0m \u001b[0mTransactionEncoder\u001b[0m\u001b[1;33m(\u001b[0m\u001b[1;33m)\u001b[0m\u001b[1;33m\u001b[0m\u001b[1;33m\u001b[0m\u001b[0m\n\u001b[0;32m     14\u001b[0m \u001b[0mte_ary\u001b[0m \u001b[1;33m=\u001b[0m \u001b[0mte\u001b[0m\u001b[1;33m.\u001b[0m\u001b[0mfit\u001b[0m\u001b[1;33m(\u001b[0m\u001b[0mtransactions\u001b[0m\u001b[1;33m)\u001b[0m\u001b[1;33m.\u001b[0m\u001b[0mtransform\u001b[0m\u001b[1;33m(\u001b[0m\u001b[0mtransactions\u001b[0m\u001b[1;33m)\u001b[0m\u001b[1;33m\u001b[0m\u001b[1;33m\u001b[0m\u001b[0m\n\u001b[1;32m---> 15\u001b[1;33m \u001b[0mdf\u001b[0m \u001b[1;33m=\u001b[0m \u001b[0mpd\u001b[0m\u001b[1;33m.\u001b[0m\u001b[0mDataFrame\u001b[0m\u001b[1;33m(\u001b[0m\u001b[0mte_ary\u001b[0m\u001b[1;33m,\u001b[0m \u001b[0mcolumns\u001b[0m\u001b[1;33m=\u001b[0m\u001b[0mte\u001b[0m\u001b[1;33m.\u001b[0m\u001b[0mcolumns_\u001b[0m\u001b[1;33m)\u001b[0m\u001b[1;33m\u001b[0m\u001b[1;33m\u001b[0m\u001b[0m\n\u001b[0m\u001b[0;32m     16\u001b[0m \u001b[1;33m\u001b[0m\u001b[0m\n\u001b[0;32m     17\u001b[0m \u001b[1;31m# Perform Apriori algorithm\u001b[0m\u001b[1;33m\u001b[0m\u001b[1;33m\u001b[0m\u001b[0m\n",
      "\u001b[1;31mNameError\u001b[0m: name 'pd' is not defined"
     ]
    }
   ],
   "source": [
    "from mlxtend.preprocessing import TransactionEncoder\n",
    "from mlxtend.frequent_patterns import apriori\n",
    "from pyfpgrowth import find_frequent_patterns\n",
    "\n",
    "# Sample transaction data\n",
    "transactions = [['A', 'B', 'C'],\n",
    "                ['B', 'C', 'D'],\n",
    "                ['A', 'B', 'C', 'D'],\n",
    "                ['A', 'B', 'C', 'D'],\n",
    "                ['A', 'B', 'C', 'E']]\n",
    "\n",
    "# Use the TransactionEncoder to convert the transactions into a one-hot encoded format\n",
    "te = TransactionEncoder()\n",
    "te_ary = te.fit(transactions).transform(transactions)\n",
    "df = pd.DataFrame(te_ary, columns=te.columns_)\n",
    "\n",
    "# Perform Apriori algorithm\n",
    "frequent_itemsets = apriori(df, min_support=0.5, use_colnames=True)\n",
    "\n",
    "# Extract the frequent itemsets\n",
    "frequent_itemsets = frequent_itemsets['itemsets']\n",
    "\n",
    "# Perform FP-growth algorithm\n",
    "frequent_patterns = find_frequent_patterns(transactions, frequent_itemsets)\n",
    "\n",
    "# Print the frequent patterns\n",
    "print(frequent_patterns)\n"
   ]
  },
  {
   "cell_type": "code",
   "execution_count": 9,
   "id": "69f08901",
   "metadata": {},
   "outputs": [
    {
     "name": "stdout",
     "output_type": "stream",
     "text": [
      "Defaulting to user installation because normal site-packages is not writeable\n",
      "Collecting pyspark\n",
      "  Downloading pyspark-3.3.1.tar.gz (281.4 MB)\n",
      "     -------------------------------------- 281.4/281.4 MB 1.7 MB/s eta 0:00:00\n",
      "  Preparing metadata (setup.py): started\n",
      "  Preparing metadata (setup.py): finished with status 'done'\n",
      "Collecting py4j==0.10.9.5\n",
      "  Downloading py4j-0.10.9.5-py2.py3-none-any.whl (199 kB)\n",
      "     -------------------------------------- 199.7/199.7 kB 4.1 MB/s eta 0:00:00\n",
      "Building wheels for collected packages: pyspark\n",
      "  Building wheel for pyspark (setup.py): started\n",
      "  Building wheel for pyspark (setup.py): still running...\n",
      "  Building wheel for pyspark (setup.py): finished with status 'done'\n",
      "  Created wheel for pyspark: filename=pyspark-3.3.1-py2.py3-none-any.whl size=281845512 sha256=67a3d0d61be342f1413ab03676e8be5cbe0718ddea1f0e4609beb70d89b1cfb5\n",
      "  Stored in directory: c:\\users\\shakil\\appdata\\local\\pip\\cache\\wheels\\51\\c8\\18\\298a4ced8ebb3ab8a7d26a7198c0cc7035abb906bde94a4c4b\n",
      "Successfully built pyspark\n",
      "Installing collected packages: py4j, pyspark\n",
      "Successfully installed py4j-0.10.9.5 pyspark-3.3.1\n",
      "Note: you may need to restart the kernel to use updated packages.\n"
     ]
    }
   ],
   "source": [
    "pip install pyspark"
   ]
  },
  {
   "cell_type": "code",
   "execution_count": 10,
   "id": "856f05e3",
   "metadata": {},
   "outputs": [
    {
     "ename": "RuntimeError",
     "evalue": "Java gateway process exited before sending its port number",
     "output_type": "error",
     "traceback": [
      "\u001b[1;31m---------------------------------------------------------------------------\u001b[0m",
      "\u001b[1;31mRuntimeError\u001b[0m                              Traceback (most recent call last)",
      "\u001b[1;32m~\\AppData\\Local\\Temp\\ipykernel_2476\\2183850061.py\u001b[0m in \u001b[0;36m<module>\u001b[1;34m\u001b[0m\n\u001b[0;32m      3\u001b[0m \u001b[1;33m\u001b[0m\u001b[0m\n\u001b[0;32m      4\u001b[0m \u001b[1;31m# Create a SparkSession\u001b[0m\u001b[1;33m\u001b[0m\u001b[1;33m\u001b[0m\u001b[0m\n\u001b[1;32m----> 5\u001b[1;33m \u001b[0mspark\u001b[0m \u001b[1;33m=\u001b[0m \u001b[0mSparkSession\u001b[0m\u001b[1;33m.\u001b[0m\u001b[0mbuilder\u001b[0m\u001b[1;33m.\u001b[0m\u001b[0mappName\u001b[0m\u001b[1;33m(\u001b[0m\u001b[1;34m\"FPGrowthExample\"\u001b[0m\u001b[1;33m)\u001b[0m\u001b[1;33m.\u001b[0m\u001b[0mgetOrCreate\u001b[0m\u001b[1;33m(\u001b[0m\u001b[1;33m)\u001b[0m\u001b[1;33m\u001b[0m\u001b[1;33m\u001b[0m\u001b[0m\n\u001b[0m\u001b[0;32m      6\u001b[0m \u001b[1;33m\u001b[0m\u001b[0m\n\u001b[0;32m      7\u001b[0m \u001b[1;31m# Sample transaction data\u001b[0m\u001b[1;33m\u001b[0m\u001b[1;33m\u001b[0m\u001b[0m\n",
      "\u001b[1;32m~\\AppData\\Roaming\\Python\\Python39\\site-packages\\pyspark\\sql\\session.py\u001b[0m in \u001b[0;36mgetOrCreate\u001b[1;34m(self)\u001b[0m\n\u001b[0;32m    267\u001b[0m                         \u001b[0msparkConf\u001b[0m\u001b[1;33m.\u001b[0m\u001b[0mset\u001b[0m\u001b[1;33m(\u001b[0m\u001b[0mkey\u001b[0m\u001b[1;33m,\u001b[0m \u001b[0mvalue\u001b[0m\u001b[1;33m)\u001b[0m\u001b[1;33m\u001b[0m\u001b[1;33m\u001b[0m\u001b[0m\n\u001b[0;32m    268\u001b[0m                     \u001b[1;31m# This SparkContext may be an existing one.\u001b[0m\u001b[1;33m\u001b[0m\u001b[1;33m\u001b[0m\u001b[0m\n\u001b[1;32m--> 269\u001b[1;33m                     \u001b[0msc\u001b[0m \u001b[1;33m=\u001b[0m \u001b[0mSparkContext\u001b[0m\u001b[1;33m.\u001b[0m\u001b[0mgetOrCreate\u001b[0m\u001b[1;33m(\u001b[0m\u001b[0msparkConf\u001b[0m\u001b[1;33m)\u001b[0m\u001b[1;33m\u001b[0m\u001b[1;33m\u001b[0m\u001b[0m\n\u001b[0m\u001b[0;32m    270\u001b[0m                     \u001b[1;31m# Do not update `SparkConf` for existing `SparkContext`, as it's shared\u001b[0m\u001b[1;33m\u001b[0m\u001b[1;33m\u001b[0m\u001b[0m\n\u001b[0;32m    271\u001b[0m                     \u001b[1;31m# by all sessions.\u001b[0m\u001b[1;33m\u001b[0m\u001b[1;33m\u001b[0m\u001b[0m\n",
      "\u001b[1;32m~\\AppData\\Roaming\\Python\\Python39\\site-packages\\pyspark\\context.py\u001b[0m in \u001b[0;36mgetOrCreate\u001b[1;34m(cls, conf)\u001b[0m\n\u001b[0;32m    481\u001b[0m         \u001b[1;32mwith\u001b[0m \u001b[0mSparkContext\u001b[0m\u001b[1;33m.\u001b[0m\u001b[0m_lock\u001b[0m\u001b[1;33m:\u001b[0m\u001b[1;33m\u001b[0m\u001b[1;33m\u001b[0m\u001b[0m\n\u001b[0;32m    482\u001b[0m             \u001b[1;32mif\u001b[0m \u001b[0mSparkContext\u001b[0m\u001b[1;33m.\u001b[0m\u001b[0m_active_spark_context\u001b[0m \u001b[1;32mis\u001b[0m \u001b[1;32mNone\u001b[0m\u001b[1;33m:\u001b[0m\u001b[1;33m\u001b[0m\u001b[1;33m\u001b[0m\u001b[0m\n\u001b[1;32m--> 483\u001b[1;33m                 \u001b[0mSparkContext\u001b[0m\u001b[1;33m(\u001b[0m\u001b[0mconf\u001b[0m\u001b[1;33m=\u001b[0m\u001b[0mconf\u001b[0m \u001b[1;32mor\u001b[0m \u001b[0mSparkConf\u001b[0m\u001b[1;33m(\u001b[0m\u001b[1;33m)\u001b[0m\u001b[1;33m)\u001b[0m\u001b[1;33m\u001b[0m\u001b[1;33m\u001b[0m\u001b[0m\n\u001b[0m\u001b[0;32m    484\u001b[0m             \u001b[1;32massert\u001b[0m \u001b[0mSparkContext\u001b[0m\u001b[1;33m.\u001b[0m\u001b[0m_active_spark_context\u001b[0m \u001b[1;32mis\u001b[0m \u001b[1;32mnot\u001b[0m \u001b[1;32mNone\u001b[0m\u001b[1;33m\u001b[0m\u001b[1;33m\u001b[0m\u001b[0m\n\u001b[0;32m    485\u001b[0m             \u001b[1;32mreturn\u001b[0m \u001b[0mSparkContext\u001b[0m\u001b[1;33m.\u001b[0m\u001b[0m_active_spark_context\u001b[0m\u001b[1;33m\u001b[0m\u001b[1;33m\u001b[0m\u001b[0m\n",
      "\u001b[1;32m~\\AppData\\Roaming\\Python\\Python39\\site-packages\\pyspark\\context.py\u001b[0m in \u001b[0;36m__init__\u001b[1;34m(self, master, appName, sparkHome, pyFiles, environment, batchSize, serializer, conf, gateway, jsc, profiler_cls, udf_profiler_cls)\u001b[0m\n\u001b[0;32m    193\u001b[0m             )\n\u001b[0;32m    194\u001b[0m \u001b[1;33m\u001b[0m\u001b[0m\n\u001b[1;32m--> 195\u001b[1;33m         \u001b[0mSparkContext\u001b[0m\u001b[1;33m.\u001b[0m\u001b[0m_ensure_initialized\u001b[0m\u001b[1;33m(\u001b[0m\u001b[0mself\u001b[0m\u001b[1;33m,\u001b[0m \u001b[0mgateway\u001b[0m\u001b[1;33m=\u001b[0m\u001b[0mgateway\u001b[0m\u001b[1;33m,\u001b[0m \u001b[0mconf\u001b[0m\u001b[1;33m=\u001b[0m\u001b[0mconf\u001b[0m\u001b[1;33m)\u001b[0m\u001b[1;33m\u001b[0m\u001b[1;33m\u001b[0m\u001b[0m\n\u001b[0m\u001b[0;32m    196\u001b[0m         \u001b[1;32mtry\u001b[0m\u001b[1;33m:\u001b[0m\u001b[1;33m\u001b[0m\u001b[1;33m\u001b[0m\u001b[0m\n\u001b[0;32m    197\u001b[0m             self._do_init(\n",
      "\u001b[1;32m~\\AppData\\Roaming\\Python\\Python39\\site-packages\\pyspark\\context.py\u001b[0m in \u001b[0;36m_ensure_initialized\u001b[1;34m(cls, instance, gateway, conf)\u001b[0m\n\u001b[0;32m    415\u001b[0m         \u001b[1;32mwith\u001b[0m \u001b[0mSparkContext\u001b[0m\u001b[1;33m.\u001b[0m\u001b[0m_lock\u001b[0m\u001b[1;33m:\u001b[0m\u001b[1;33m\u001b[0m\u001b[1;33m\u001b[0m\u001b[0m\n\u001b[0;32m    416\u001b[0m             \u001b[1;32mif\u001b[0m \u001b[1;32mnot\u001b[0m \u001b[0mSparkContext\u001b[0m\u001b[1;33m.\u001b[0m\u001b[0m_gateway\u001b[0m\u001b[1;33m:\u001b[0m\u001b[1;33m\u001b[0m\u001b[1;33m\u001b[0m\u001b[0m\n\u001b[1;32m--> 417\u001b[1;33m                 \u001b[0mSparkContext\u001b[0m\u001b[1;33m.\u001b[0m\u001b[0m_gateway\u001b[0m \u001b[1;33m=\u001b[0m \u001b[0mgateway\u001b[0m \u001b[1;32mor\u001b[0m \u001b[0mlaunch_gateway\u001b[0m\u001b[1;33m(\u001b[0m\u001b[0mconf\u001b[0m\u001b[1;33m)\u001b[0m\u001b[1;33m\u001b[0m\u001b[1;33m\u001b[0m\u001b[0m\n\u001b[0m\u001b[0;32m    418\u001b[0m                 \u001b[0mSparkContext\u001b[0m\u001b[1;33m.\u001b[0m\u001b[0m_jvm\u001b[0m \u001b[1;33m=\u001b[0m \u001b[0mSparkContext\u001b[0m\u001b[1;33m.\u001b[0m\u001b[0m_gateway\u001b[0m\u001b[1;33m.\u001b[0m\u001b[0mjvm\u001b[0m\u001b[1;33m\u001b[0m\u001b[1;33m\u001b[0m\u001b[0m\n\u001b[0;32m    419\u001b[0m \u001b[1;33m\u001b[0m\u001b[0m\n",
      "\u001b[1;32m~\\AppData\\Roaming\\Python\\Python39\\site-packages\\pyspark\\java_gateway.py\u001b[0m in \u001b[0;36mlaunch_gateway\u001b[1;34m(conf, popen_kwargs)\u001b[0m\n\u001b[0;32m    104\u001b[0m \u001b[1;33m\u001b[0m\u001b[0m\n\u001b[0;32m    105\u001b[0m             \u001b[1;32mif\u001b[0m \u001b[1;32mnot\u001b[0m \u001b[0mos\u001b[0m\u001b[1;33m.\u001b[0m\u001b[0mpath\u001b[0m\u001b[1;33m.\u001b[0m\u001b[0misfile\u001b[0m\u001b[1;33m(\u001b[0m\u001b[0mconn_info_file\u001b[0m\u001b[1;33m)\u001b[0m\u001b[1;33m:\u001b[0m\u001b[1;33m\u001b[0m\u001b[1;33m\u001b[0m\u001b[0m\n\u001b[1;32m--> 106\u001b[1;33m                 \u001b[1;32mraise\u001b[0m \u001b[0mRuntimeError\u001b[0m\u001b[1;33m(\u001b[0m\u001b[1;34m\"Java gateway process exited before sending its port number\"\u001b[0m\u001b[1;33m)\u001b[0m\u001b[1;33m\u001b[0m\u001b[1;33m\u001b[0m\u001b[0m\n\u001b[0m\u001b[0;32m    107\u001b[0m \u001b[1;33m\u001b[0m\u001b[0m\n\u001b[0;32m    108\u001b[0m             \u001b[1;32mwith\u001b[0m \u001b[0mopen\u001b[0m\u001b[1;33m(\u001b[0m\u001b[0mconn_info_file\u001b[0m\u001b[1;33m,\u001b[0m \u001b[1;34m\"rb\"\u001b[0m\u001b[1;33m)\u001b[0m \u001b[1;32mas\u001b[0m \u001b[0minfo\u001b[0m\u001b[1;33m:\u001b[0m\u001b[1;33m\u001b[0m\u001b[1;33m\u001b[0m\u001b[0m\n",
      "\u001b[1;31mRuntimeError\u001b[0m: Java gateway process exited before sending its port number"
     ]
    }
   ],
   "source": [
    "from pyspark.ml.fpm import FPGrowth\n",
    "from pyspark.sql import SparkSession\n",
    "\n",
    "# Create a SparkSession\n",
    "spark = SparkSession.builder.appName(\"FPGrowthExample\").getOrCreate()\n",
    "\n",
    "# Sample transaction data\n",
    "transactions = spark.createDataFrame([[1, 2, 3], [4], [1, 2], [1, 2, 4], [3, 4], [2, 3], [1, 3], [1, 2, 3, 4], [1, 2, 3], [1, 2, 3, 4]], [\"items\"])\n",
    "\n",
    "# Create an instance of the FPGrowth model\n",
    "fpGrowth = FPGrowth(itemsCol=\"items\", minSupport=0.5, minConfidence=0.6)\n",
    "\n",
    "# Fit the model to the transactions\n",
    "model = fpGrowth.fit(transactions)\n",
    "\n",
    "# Extract the frequent itemsets\n",
    "frequent_itemsets = model.freqItemsets\n",
    "\n",
    "# Extract the association rules\n",
    "association_rules = model.associationRules\n",
    "\n",
    "# Print the frequent itemsets and association rules\n",
    "frequent_itemsets.show()\n",
    "association_rules.show()\n"
   ]
  },
  {
   "cell_type": "code",
   "execution_count": 6,
   "id": "d233cb99",
   "metadata": {},
   "outputs": [
    {
     "ename": "ValueError",
     "evalue": "too many values to unpack (expected 2)",
     "output_type": "error",
     "traceback": [
      "\u001b[1;31m---------------------------------------------------------------------------\u001b[0m",
      "\u001b[1;31mValueError\u001b[0m                                Traceback (most recent call last)",
      "\u001b[1;32m~\\AppData\\Local\\Temp\\ipykernel_2476\\2172618485.py\u001b[0m in \u001b[0;36m<module>\u001b[1;34m\u001b[0m\n\u001b[0;32m     13\u001b[0m \u001b[1;33m\u001b[0m\u001b[0m\n\u001b[0;32m     14\u001b[0m \u001b[1;31m# Extract the frequent itemsets\u001b[0m\u001b[1;33m\u001b[0m\u001b[1;33m\u001b[0m\u001b[0m\n\u001b[1;32m---> 15\u001b[1;33m \u001b[0mfrequent_itemsets\u001b[0m \u001b[1;33m=\u001b[0m \u001b[1;33m[\u001b[0m\u001b[0mitemset\u001b[0m \u001b[1;32mfor\u001b[0m \u001b[0mitemset\u001b[0m\u001b[1;33m,\u001b[0m \u001b[0msupport\u001b[0m \u001b[1;32min\u001b[0m \u001b[0mfrequent_itemsets\u001b[0m\u001b[1;33m]\u001b[0m\u001b[1;33m\u001b[0m\u001b[1;33m\u001b[0m\u001b[0m\n\u001b[0m\u001b[0;32m     16\u001b[0m \u001b[1;33m\u001b[0m\u001b[0m\n\u001b[0;32m     17\u001b[0m \u001b[1;31m# Perform FP-growth algorithm\u001b[0m\u001b[1;33m\u001b[0m\u001b[1;33m\u001b[0m\u001b[0m\n",
      "\u001b[1;32m~\\AppData\\Local\\Temp\\ipykernel_2476\\2172618485.py\u001b[0m in \u001b[0;36m<listcomp>\u001b[1;34m(.0)\u001b[0m\n\u001b[0;32m     13\u001b[0m \u001b[1;33m\u001b[0m\u001b[0m\n\u001b[0;32m     14\u001b[0m \u001b[1;31m# Extract the frequent itemsets\u001b[0m\u001b[1;33m\u001b[0m\u001b[1;33m\u001b[0m\u001b[0m\n\u001b[1;32m---> 15\u001b[1;33m \u001b[0mfrequent_itemsets\u001b[0m \u001b[1;33m=\u001b[0m \u001b[1;33m[\u001b[0m\u001b[0mitemset\u001b[0m \u001b[1;32mfor\u001b[0m \u001b[0mitemset\u001b[0m\u001b[1;33m,\u001b[0m \u001b[0msupport\u001b[0m \u001b[1;32min\u001b[0m \u001b[0mfrequent_itemsets\u001b[0m\u001b[1;33m]\u001b[0m\u001b[1;33m\u001b[0m\u001b[1;33m\u001b[0m\u001b[0m\n\u001b[0m\u001b[0;32m     16\u001b[0m \u001b[1;33m\u001b[0m\u001b[0m\n\u001b[0;32m     17\u001b[0m \u001b[1;31m# Perform FP-growth algorithm\u001b[0m\u001b[1;33m\u001b[0m\u001b[1;33m\u001b[0m\u001b[0m\n",
      "\u001b[1;31mValueError\u001b[0m: too many values to unpack (expected 2)"
     ]
    }
   ],
   "source": [
    "from apyori import apriori\n",
    "from pyfpgrowth import find_frequent_patterns\n",
    "\n",
    "# Sample transaction data\n",
    "transactions = [['A', 'B', 'C'],\n",
    "                ['B', 'C', 'D'],\n",
    "                ['A', 'B', 'C', 'D'],\n",
    "                ['A', 'B', 'C', 'D'],\n",
    "                ['A', 'B', 'C', 'E']]\n",
    "\n",
    "# Perform Apriori algorithm\n",
    "frequent_itemsets = apriori(transactions, min_support=0.5, min_confidence=1)\n",
    "\n",
    "# Extract the frequent itemsets\n",
    "frequent_itemsets = [itemset for itemset, support in frequent_itemsets]\n",
    "\n",
    "# Perform FP-growth algorithm\n",
    "frequent_patterns = find_frequent_patterns(transactions, frequent_itemsets)\n",
    "\n",
    "# Print the frequent patterns\n",
    "print(frequent_patterns)\n"
   ]
  },
  {
   "cell_type": "code",
   "execution_count": 53,
   "id": "c1b24154",
   "metadata": {
    "scrolled": false
   },
   "outputs": [
    {
     "name": "stdout",
     "output_type": "stream",
     "text": [
      "{('D',): 3, ('C', 'D'): 3, ('B', 'D'): 3, ('A', 'D'): 2, ('B', 'C', 'D'): 3, ('A', 'C', 'D'): 2, ('A', 'B', 'D'): 2, ('A', 'B', 'C', 'D'): 2, ('A',): 4, ('A', 'C'): 4, ('A', 'B'): 4, ('A', 'B', 'C'): 4, ('B',): 5, ('C',): 5, ('B', 'C'): 5}\n"
     ]
    }
   ],
   "source": [
    "from apyori import apriori\n",
    "from pyfpgrowth import find_frequent_patterns\n",
    "\n",
    "# Sample transaction data\n",
    "transactions = [['A', 'B', 'C'],\n",
    "                ['B', 'C', 'D'],\n",
    "                ['A', 'B', 'C', 'D'],\n",
    "                ['A', 'B', 'C', 'D'],\n",
    "                ['A', 'B', 'C', 'E']]\n",
    "\n",
    "# Perform Apriori algorithm\n",
    "frequent_itemsets = apriori(transactions, min_support=0.5, min_confidence=1)\n",
    "\n",
    "# Extract the frequent itemsets\n",
    "frequent_itemsets = [ itemset for itemset in frequent_itemsets]\n",
    "\n",
    "# Perform FP-growth algorithm\n",
    "frequent_patterns = find_frequent_patterns(transactions, 2)\n",
    "\n",
    "# Print the frequent patterns\n",
    "print(frequent_patterns)\n"
   ]
  },
  {
   "cell_type": "code",
   "execution_count": 56,
   "id": "b1f4428f",
   "metadata": {},
   "outputs": [
    {
     "name": "stdout",
     "output_type": "stream",
     "text": [
      "Defaulting to user installation because normal site-packages is not writeable\n",
      "Note: you may need to restart the kernel to use updated packages.\n"
     ]
    },
    {
     "name": "stderr",
     "output_type": "stream",
     "text": [
      "ERROR: Could not find a version that satisfies the requirement Eclat (from versions: none)\n",
      "ERROR: No matching distribution found for Eclat\n"
     ]
    }
   ],
   "source": [
    "pip install Eclat"
   ]
  },
  {
   "cell_type": "code",
   "execution_count": null,
   "id": "20249f39",
   "metadata": {},
   "outputs": [],
   "source": []
  },
  {
   "cell_type": "code",
   "execution_count": 54,
   "id": "d61ac7a0",
   "metadata": {},
   "outputs": [
    {
     "ename": "ImportError",
     "evalue": "cannot import name 'FPTree' from 'pyfpgrowth' (C:\\Users\\shakil\\AppData\\Roaming\\Python\\Python39\\site-packages\\pyfpgrowth\\__init__.py)",
     "output_type": "error",
     "traceback": [
      "\u001b[1;31m---------------------------------------------------------------------------\u001b[0m",
      "\u001b[1;31mImportError\u001b[0m                               Traceback (most recent call last)",
      "\u001b[1;32m~\\AppData\\Local\\Temp\\ipykernel_2476\\1462970828.py\u001b[0m in \u001b[0;36m<module>\u001b[1;34m\u001b[0m\n\u001b[1;32m----> 1\u001b[1;33m \u001b[1;32mfrom\u001b[0m \u001b[0mpyfpgrowth\u001b[0m \u001b[1;32mimport\u001b[0m \u001b[0mFPTree\u001b[0m\u001b[1;33m\u001b[0m\u001b[1;33m\u001b[0m\u001b[0m\n\u001b[0m\u001b[0;32m      2\u001b[0m \u001b[1;33m\u001b[0m\u001b[0m\n\u001b[0;32m      3\u001b[0m \u001b[1;31m# Sample transaction data\u001b[0m\u001b[1;33m\u001b[0m\u001b[1;33m\u001b[0m\u001b[0m\n\u001b[0;32m      4\u001b[0m transactions = [['A', 'B', 'C'],\n\u001b[0;32m      5\u001b[0m                 \u001b[1;33m[\u001b[0m\u001b[1;34m'B'\u001b[0m\u001b[1;33m,\u001b[0m \u001b[1;34m'C'\u001b[0m\u001b[1;33m,\u001b[0m \u001b[1;34m'D'\u001b[0m\u001b[1;33m]\u001b[0m\u001b[1;33m,\u001b[0m\u001b[1;33m\u001b[0m\u001b[1;33m\u001b[0m\u001b[0m\n",
      "\u001b[1;31mImportError\u001b[0m: cannot import name 'FPTree' from 'pyfpgrowth' (C:\\Users\\shakil\\AppData\\Roaming\\Python\\Python39\\site-packages\\pyfpgrowth\\__init__.py)"
     ]
    }
   ],
   "source": [
    "from pyfpgrowth import FPTree\n",
    "\n",
    "# Sample transaction data\n",
    "transactions = [['A', 'B', 'C'],\n",
    "                ['B', 'C', 'D'],\n",
    "                ['A', 'B', 'C', 'D'],\n",
    "                ['A', 'B', 'C', 'D'],\n",
    "                ['A', 'B', 'C', 'E']]\n",
    "\n",
    "# Create an instance of the FPTree\n",
    "tree = FPTree()\n",
    "\n",
    "# Add the transactions to the tree\n",
    "for transaction in transactions:\n",
    "    tree.add(transaction)\n",
    "\n",
    "# Extract the conditional patterns bases\n",
    "conditional_patterns = tree.prefix_paths()\n",
    "\n",
    "# Extract the frequent patterns\n",
    "frequent_patterns = tree.find_frequent_patterns()\n",
    "\n",
    "# Print the frequent patterns\n",
    "print(frequent_patterns)\n"
   ]
  },
  {
   "cell_type": "code",
   "execution_count": 57,
   "id": "9a9141cf",
   "metadata": {},
   "outputs": [
    {
     "name": "stdout",
     "output_type": "stream",
     "text": [
      "Defaulting to user installation because normal site-packages is not writeable\n",
      "Note: you may need to restart the kernel to use updated packages.\n"
     ]
    },
    {
     "name": "stderr",
     "output_type": "stream",
     "text": [
      "ERROR: Could not find a version that satisfies the requirement treeminer (from versions: none)\n",
      "ERROR: No matching distribution found for treeminer\n"
     ]
    }
   ],
   "source": [
    "pip install treeminer"
   ]
  },
  {
   "cell_type": "code",
   "execution_count": 58,
   "id": "36cb178b",
   "metadata": {},
   "outputs": [
    {
     "name": "stdout",
     "output_type": "stream",
     "text": [
      "Defaulting to user installation because normal site-packages is not writeable\n"
     ]
    },
    {
     "name": "stderr",
     "output_type": "stream",
     "text": [
      "ERROR: Could not find a version that satisfies the requirement fp-growth-py (from versions: none)\n",
      "ERROR: No matching distribution found for fp-growth-py\n"
     ]
    }
   ],
   "source": [
    "!pip install fp-growth-py"
   ]
  },
  {
   "cell_type": "code",
   "execution_count": 59,
   "id": "7658a40b",
   "metadata": {},
   "outputs": [
    {
     "ename": "ModuleNotFoundError",
     "evalue": "No module named 'fp_growth_py'",
     "output_type": "error",
     "traceback": [
      "\u001b[1;31m---------------------------------------------------------------------------\u001b[0m",
      "\u001b[1;31mModuleNotFoundError\u001b[0m                       Traceback (most recent call last)",
      "\u001b[1;32m~\\AppData\\Local\\Temp\\ipykernel_2476\\158180092.py\u001b[0m in \u001b[0;36m<module>\u001b[1;34m\u001b[0m\n\u001b[1;32m----> 1\u001b[1;33m \u001b[1;32mfrom\u001b[0m \u001b[0mfp_growth_py\u001b[0m \u001b[1;32mimport\u001b[0m \u001b[0mFPTree\u001b[0m\u001b[1;33m\u001b[0m\u001b[1;33m\u001b[0m\u001b[0m\n\u001b[0m\u001b[0;32m      2\u001b[0m \u001b[1;33m\u001b[0m\u001b[0m\n\u001b[0;32m      3\u001b[0m \u001b[1;31m# Sample frequent patterns\u001b[0m\u001b[1;33m\u001b[0m\u001b[1;33m\u001b[0m\u001b[0m\n\u001b[0;32m      4\u001b[0m \u001b[0mfrequent_patterns\u001b[0m \u001b[1;33m=\u001b[0m \u001b[1;33m{\u001b[0m\u001b[1;33m(\u001b[0m\u001b[1;34m'D'\u001b[0m\u001b[1;33m,\u001b[0m\u001b[1;33m)\u001b[0m\u001b[1;33m:\u001b[0m \u001b[1;36m3\u001b[0m\u001b[1;33m,\u001b[0m \u001b[1;33m(\u001b[0m\u001b[1;34m'C'\u001b[0m\u001b[1;33m,\u001b[0m \u001b[1;34m'D'\u001b[0m\u001b[1;33m)\u001b[0m\u001b[1;33m:\u001b[0m \u001b[1;36m3\u001b[0m\u001b[1;33m,\u001b[0m \u001b[1;33m(\u001b[0m\u001b[1;34m'B'\u001b[0m\u001b[1;33m,\u001b[0m \u001b[1;34m'D'\u001b[0m\u001b[1;33m)\u001b[0m\u001b[1;33m:\u001b[0m \u001b[1;36m3\u001b[0m\u001b[1;33m,\u001b[0m \u001b[1;33m(\u001b[0m\u001b[1;34m'A'\u001b[0m\u001b[1;33m,\u001b[0m \u001b[1;34m'D'\u001b[0m\u001b[1;33m)\u001b[0m\u001b[1;33m:\u001b[0m \u001b[1;36m2\u001b[0m\u001b[1;33m,\u001b[0m \u001b[1;33m(\u001b[0m\u001b[1;34m'B'\u001b[0m\u001b[1;33m,\u001b[0m \u001b[1;34m'C'\u001b[0m\u001b[1;33m,\u001b[0m \u001b[1;34m'D'\u001b[0m\u001b[1;33m)\u001b[0m\u001b[1;33m:\u001b[0m \u001b[1;36m3\u001b[0m\u001b[1;33m,\u001b[0m \u001b[1;33m(\u001b[0m\u001b[1;34m'A'\u001b[0m\u001b[1;33m,\u001b[0m \u001b[1;34m'C'\u001b[0m\u001b[1;33m,\u001b[0m \u001b[1;34m'D'\u001b[0m\u001b[1;33m)\u001b[0m\u001b[1;33m:\u001b[0m \u001b[1;36m2\u001b[0m\u001b[1;33m,\u001b[0m \u001b[1;33m(\u001b[0m\u001b[1;34m'A'\u001b[0m\u001b[1;33m,\u001b[0m \u001b[1;34m'B'\u001b[0m\u001b[1;33m,\u001b[0m \u001b[1;34m'D'\u001b[0m\u001b[1;33m)\u001b[0m\u001b[1;33m:\u001b[0m \u001b[1;36m2\u001b[0m\u001b[1;33m,\u001b[0m \u001b[1;33m(\u001b[0m\u001b[1;34m'A'\u001b[0m\u001b[1;33m,\u001b[0m \u001b[1;34m'B'\u001b[0m\u001b[1;33m,\u001b[0m \u001b[1;34m'C'\u001b[0m\u001b[1;33m,\u001b[0m \u001b[1;34m'D'\u001b[0m\u001b[1;33m)\u001b[0m\u001b[1;33m:\u001b[0m \u001b[1;36m2\u001b[0m\u001b[1;33m,\u001b[0m \u001b[1;33m(\u001b[0m\u001b[1;34m'A'\u001b[0m\u001b[1;33m,\u001b[0m\u001b[1;33m)\u001b[0m\u001b[1;33m:\u001b[0m \u001b[1;36m4\u001b[0m\u001b[1;33m,\u001b[0m \u001b[1;33m(\u001b[0m\u001b[1;34m'A'\u001b[0m\u001b[1;33m,\u001b[0m \u001b[1;34m'C'\u001b[0m\u001b[1;33m)\u001b[0m\u001b[1;33m:\u001b[0m \u001b[1;36m4\u001b[0m\u001b[1;33m,\u001b[0m \u001b[1;33m(\u001b[0m\u001b[1;34m'A'\u001b[0m\u001b[1;33m,\u001b[0m \u001b[1;34m'B'\u001b[0m\u001b[1;33m)\u001b[0m\u001b[1;33m:\u001b[0m \u001b[1;36m4\u001b[0m\u001b[1;33m,\u001b[0m \u001b[1;33m(\u001b[0m\u001b[1;34m'A'\u001b[0m\u001b[1;33m,\u001b[0m \u001b[1;34m'B'\u001b[0m\u001b[1;33m,\u001b[0m \u001b[1;34m'C'\u001b[0m\u001b[1;33m)\u001b[0m\u001b[1;33m:\u001b[0m \u001b[1;36m4\u001b[0m\u001b[1;33m,\u001b[0m \u001b[1;33m(\u001b[0m\u001b[1;34m'B'\u001b[0m\u001b[1;33m,\u001b[0m\u001b[1;33m)\u001b[0m\u001b[1;33m:\u001b[0m \u001b[1;36m5\u001b[0m\u001b[1;33m,\u001b[0m \u001b[1;33m(\u001b[0m\u001b[1;34m'C'\u001b[0m\u001b[1;33m,\u001b[0m\u001b[1;33m)\u001b[0m\u001b[1;33m:\u001b[0m \u001b[1;36m5\u001b[0m\u001b[1;33m,\u001b[0m \u001b[1;33m(\u001b[0m\u001b[1;34m'B'\u001b[0m\u001b[1;33m,\u001b[0m \u001b[1;34m'C'\u001b[0m\u001b[1;33m)\u001b[0m\u001b[1;33m:\u001b[0m \u001b[1;36m5\u001b[0m\u001b[1;33m}\u001b[0m\u001b[1;33m\u001b[0m\u001b[1;33m\u001b[0m\u001b[0m\n\u001b[0;32m      5\u001b[0m \u001b[1;33m\u001b[0m\u001b[0m\n",
      "\u001b[1;31mModuleNotFoundError\u001b[0m: No module named 'fp_growth_py'"
     ]
    }
   ],
   "source": [
    "from fp_growth_py import FPTree\n",
    "\n",
    "# Sample frequent patterns\n",
    "frequent_patterns = {('D',): 3, ('C', 'D'): 3, ('B', 'D'): 3, ('A', 'D'): 2, ('B', 'C', 'D'): 3, ('A', 'C', 'D'): 2, ('A', 'B', 'D'): 2, ('A', 'B', 'C', 'D'): 2, ('A',): 4, ('A', 'C'): 4, ('A', 'B'): 4, ('A', 'B', 'C'): 4, ('B',): 5, ('C',): 5, ('B', 'C'): 5}\n",
    "\n",
    "# Create an instance of the FPTree class\n",
    "tree = FPTree(frequent_patterns)\n",
    "\n",
    "# Print the tree\n",
    "print(tree)\n"
   ]
  },
  {
   "cell_type": "code",
   "execution_count": 60,
   "id": "e60cc541",
   "metadata": {},
   "outputs": [
    {
     "name": "stdout",
     "output_type": "stream",
     "text": [
      "Defaulting to user installation because normal site-packages is not writeable\n"
     ]
    },
    {
     "name": "stderr",
     "output_type": "stream",
     "text": [
      "ERROR: Could not find a version that satisfies the requirement treeminer (from versions: none)\n",
      "ERROR: No matching distribution found for treeminer\n"
     ]
    }
   ],
   "source": [
    "!pip install treeminer"
   ]
  },
  {
   "cell_type": "code",
   "execution_count": 4,
   "id": "2505d494",
   "metadata": {},
   "outputs": [
    {
     "ename": "AttributeError",
     "evalue": "'tuple' object has no attribute 'items'",
     "output_type": "error",
     "traceback": [
      "\u001b[1;31m---------------------------------------------------------------------------\u001b[0m",
      "\u001b[1;31mAttributeError\u001b[0m                            Traceback (most recent call last)",
      "\u001b[1;32m~\\AppData\\Local\\Temp\\ipykernel_4936\\2473583688.py\u001b[0m in \u001b[0;36m<module>\u001b[1;34m\u001b[0m\n\u001b[0;32m      6\u001b[0m \u001b[1;33m\u001b[0m\u001b[0m\n\u001b[0;32m      7\u001b[0m \u001b[1;31m# Create a dictionary of co-occurrences\u001b[0m\u001b[1;33m\u001b[0m\u001b[1;33m\u001b[0m\u001b[0m\n\u001b[1;32m----> 8\u001b[1;33m \u001b[1;32mfor\u001b[0m \u001b[0mitemset\u001b[0m\u001b[1;33m,\u001b[0m \u001b[0msupport\u001b[0m \u001b[1;32min\u001b[0m \u001b[0mfrequent_patterns\u001b[0m\u001b[1;33m.\u001b[0m\u001b[0mitems\u001b[0m\u001b[1;33m(\u001b[0m\u001b[1;33m)\u001b[0m\u001b[1;33m:\u001b[0m\u001b[1;33m\u001b[0m\u001b[1;33m\u001b[0m\u001b[0m\n\u001b[0m\u001b[0;32m      9\u001b[0m     \u001b[1;32mfor\u001b[0m \u001b[0mitem\u001b[0m \u001b[1;32min\u001b[0m \u001b[0mitemset\u001b[0m\u001b[1;33m:\u001b[0m\u001b[1;33m\u001b[0m\u001b[1;33m\u001b[0m\u001b[0m\n\u001b[0;32m     10\u001b[0m         \u001b[1;32mif\u001b[0m \u001b[0mitem\u001b[0m \u001b[1;32mnot\u001b[0m \u001b[1;32min\u001b[0m \u001b[0mtree\u001b[0m\u001b[1;33m:\u001b[0m\u001b[1;33m\u001b[0m\u001b[1;33m\u001b[0m\u001b[0m\n",
      "\u001b[1;31mAttributeError\u001b[0m: 'tuple' object has no attribute 'items'"
     ]
    }
   ],
   "source": [
    "# Sample frequent patterns\n",
    "frequent_patterns = {('i',): 4, ('if',): 3, ('the',): 16, ('of',): 16, ('on',): 7, ('today',): 3, ('in',): 13, ('were',): 3, ('that',): 5, ('https',): 47, ('t',): 47, ('co',): 47, ('and',): 13, ('it',): 5, ('have',): 6, ('more',): 3, ('to',): 18, ('their',): 3, ('a',): 13, ('realdonaldtrump',): 3, ('covid19',): 32, ('we',): 3, ('thi',): 3, ('one',): 4, ('ha',): 3, ('is',): 5, ('an',): 5, ('for',): 10, ('juli',): 5, ('coronaviru',): 4, ('death',): 3, ('will',): 3, ('visit',): 3, ('here',): 3, ('at',): 5, ('case',): 6, ('from',): 5, ('be',): 4, ('hospit',): 3, ('covid',): 7, ('19',): 6, ('updat',): 3, ('tamilnadu',): 3, ('test',): 4, ('chennai',): 3, ('back',): 3, ('our',): 4, ('review',): 3, ('can',): 3, ('posit',): 4, ('tn',): 3, ('2',): 3, ('1',): 4, ('total',): 4, ('s',): 3}, {('covid', '19'): 6, ('covid19', 'https'): 4, ('from', 'covid19'): 3, ('https', 't'): 47, ('in', 'the'): 3, ('of', 'covid19'): 4, ('review', 'of'): 3, ('t', 'co'): 47}, {('covid19', 'https', 't'): 4, ('https', 't', 'co'): 47}, {('covid19', 'https', 't', 'co'): 4}\n",
    "\n",
    "# Create an empty dictionary\n",
    "tree = {}\n",
    "\n",
    "# Create a dictionary of co-occurrences\n",
    "for itemset, support in frequent_patterns.items():\n",
    "    for item in itemset:\n",
    "        if item not in tree:\n",
    "            tree[item] = set(itemset) - {item}\n",
    "        else:\n",
    "            tree[item] |= set(itemset) - {item}\n",
    "\n",
    "# Print the tree\n",
    "print(tree)\n"
   ]
  },
  {
   "cell_type": "code",
   "execution_count": 62,
   "id": "b1be2f16",
   "metadata": {},
   "outputs": [
    {
     "name": "stdout",
     "output_type": "stream",
     "text": [
      "{'test': {'t', 'covid19', 'co', 'https', 'for', 'in'}, 'in': {'test', 't', 'covid19', 'co', 'https', 'to', 'for', '2'}, 'for': {'test', 't', 'covid19', 'a', 'co', 'https', 'the', 'to', 'in'}, 'covid19': {'test', 't', 'talli', 'https', 'case', 'the', 'to', 'for', 'activ', '2', 'new', 'with', '1', 'co', 'health', 'in'}, 'co': {'test', 't', 'and', 'https', 'some', 'case', 'the', 'peopl', 'your', 'to', 'for', '2', 'a', 'covid19', 'is', 'wear', 'that', 'who', 'in', 'of', 'while'}, 'https': {'test', 't', 'and', 'some', 'case', 'the', 'peopl', 'your', 'to', 'for', '2', 'a', 'covid19', 'co', 'is', 'wear', 'that', 'who', 'in', 'of', 'while'}, 't': {'test', 'and', 'https', 'some', 'case', 'the', 'peopl', 'your', 'to', 'for', '2', 'a', 'covid19', 'co', 'is', 'wear', 'that', 'who', 'in', 'of', 'while'}, '2': {'t', 'covid19', 'co', 'https', 'case', 'in'}, 'case': {'new', 't', 'covid19', 'talli', '1', 'with', 'co', 'https', 'to', 'health', 'activ', '2'}, 'your': {'t', 'co', 'https', 'the'}, 'the': {'t', 'and', 'https', 'peopl', 'your', 'to', 'for', 'a', 'covid19', 'co', 'is', 'who', 'that', 'of'}, 'a': {'t', 'co', 'https', 'the', 'to', 'for'}, 'to': {'t', 'and', 'https', 'some', 'case', 'the', 'peopl', 'for', 'a', 'covid19', 'co', 'is', 'wear', 'that', 'who', 'in', 'of', 'while'}, 'some': {'t', 'co', 'https', 'is', 'that', 'to'}, 'is': {'t', 'and', 'co', 'some', 'https', 'the', 'that', 'who', 'to'}, 'that': {'t', 'and', 'co', 'some', 'is', 'https', 'the', 'who', 'to'}, 'who': {'t', 'co', 'https', 'is', 'the', 'that', 'to'}, 'wear': {'t', 'to', 'co', 'https'}, 'while': {'t', 'to', 'co', 'https'}, 'and': {'t', 'co', 'https', 'is', 'the', 'peopl', 'that', 'to', 'of'}, 'of': {'t', 'and', 'co', 'https', 'the', 'peopl', 'to'}, 'peopl': {'t', 'and', 'co', 'https', 'the', 'to', 'of'}, 'talli': {'with', 'covid19', '1', 'case', 'health', 'activ'}, '1': {'with', 'covid19', 'talli', 'case', 'health'}, 'with': {'covid19', '1', 'talli', 'case', 'health'}, 'new': {'covid19', 'health', 'activ', 'case'}, 'activ': {'new', 'covid19', 'talli', 'case', 'health'}, 'health': {'new', 'with', 'covid19', '1', 'talli', 'case', 'activ'}}\n"
     ]
    }
   ],
   "source": [
    "# Sample frequent patterns\n",
    "frequent_patterns = {('test',): 2, ('in', 'test'): 2, ('for', 'test'): 2, ('covid19', 'test'): 2, ('co', 'test'): 2, ('https', 'test'): 2, ('t', 'test'): 2, ('for', 'in', 'test'): 2, ('covid19', 'in', 'test'): 2, ('co', 'in', 'test'): 2, ('https', 'in', 'test'): 2, ('in', 't', 'test'): 2, ('covid19', 'for', 'test'): 2, ('co', 'for', 'test'): 2, ('for', 'https', 'test'): 2, ('for', 't', 'test'): 2, ('co', 'covid19', 'test'): 2, ('covid19', 'https', 'test'): 2, ('covid19', 't', 'test'): 2, ('co', 'https', 'test'): 2, ('co', 't', 'test'): 2, ('https', 't', 'test'): 2, ('covid19', 'for', 'in', 'test'): 2, ('co', 'for', 'in', 'test'): 2, ('for', 'https', 'in', 'test'): 2, ('for', 'in', 't', 'test'): 2, ('co', 'covid19', 'in', 'test'): 2, ('covid19', 'https', 'in', 'test'): 2, ('covid19', 'in', 't', 'test'): 2, ('co', 'https', 'in', 'test'): 2, ('co', 'in', 't', 'test'): 2, ('https', 'in', 't', 'test'): 2, ('co', 'covid19', 'for', 'test'): 2, ('covid19', 'for', 'https', 'test'): 2, ('covid19', 'for', 't', 'test'): 2, ('co', 'for', 'https', 'test'): 2, ('co', 'for', 't', 'test'): 2, ('for', 'https', 't', 'test'): 2, ('co', 'covid19', 'https', 'test'): 2, ('co', 'covid19', 't', 'test'): 2, ('covid19', 'https', 't', 'test'): 2, ('co', 'https', 't', 'test'): 2, ('co', 'covid19', 'for', 'in', 'test'): 2, ('covid19', 'for', 'https', 'in', 'test'): 2, ('covid19', 'for', 'in', 't', 'test'): 2, ('co', 'for', 'https', 'in', 'test'): 2, ('co', 'for', 'in', 't', 'test'): 2, ('for', 'https', 'in', 't', 'test'): 2, ('co', 'covid19', 'https', 'in', 'test'): 2, ('co', 'covid19', 'in', 't', 'test'): 2, ('covid19', 'https', 'in', 't', 'test'): 2, ('co', 'https', 'in', 't', 'test'): 2, ('co', 'covid19', 'for', 'https', 'test'): 2, ('co', 'covid19', 'for', 't', 'test'): 2, ('covid19', 'for', 'https', 't', 'test'): 2, ('co', 'for', 'https', 't', 'test'): 2, ('co', 'covid19', 'https', 't', 'test'): 2, ('co', 'covid19', 'for', 'https', 'in', 'test'): 2, ('co', 'covid19', 'for', 'in', 't', 'test'): 2, ('covid19', 'for', 'https', 'in', 't', 'test'): 2, ('co', 'for', 'https', 'in', 't', 'test'): 2, ('co', 'covid19', 'https', 'in', 't', 'test'): 2, ('co', 'covid19', 'for', 'https', 't', 'test'): 2, ('co', 'covid19', 'for', 'https', 'in', 't', 'test'): 2, ('2', 'in'): 2, ('2', 'covid19', 'in'): 2, ('2', 'case', 'covid19'): 2, ('2', 'co', 'covid19'): 2, ('2', 'co', 'in'): 2, ('2', 'co', 'covid19', 'in'): 2, ('2', 'case', 'co'): 2, ('2', 'case', 'co', 'covid19'): 2, ('2', 'co', 'https'): 2, ('2', 'covid19', 'https'): 2, ('2', 'co', 'covid19', 'https'): 2, ('2', 'https', 'in'): 2, ('2', 'covid19', 'https', 'in'): 2, ('2', 'co', 'https', 'in'): 2, ('2', 'co', 'covid19', 'https', 'in'): 2, ('2', 'case', 'https'): 2, ('2', 'case', 'covid19', 'https'): 2, ('2', 'case', 'co', 'https'): 2, ('2', 'case', 'co', 'covid19', 'https'): 2, ('2', 'https', 't'): 2, ('2', 'co', 't'): 2, ('2', 'co', 'https', 't'): 2, ('2', 'covid19', 't'): 2, ('2', 'co', 'covid19', 't'): 2, ('2', 'covid19', 'https', 't'): 2, ('2', 'co', 'covid19', 'https', 't'): 2, ('2', 'in', 't'): 2, ('2', 'covid19', 'in', 't'): 2, ('2', 'co', 'in', 't'): 2, ('2', 'https', 'in', 't'): 2, ('2', 'co', 'covid19', 'in', 't'): 2, ('2', 'covid19', 'https', 'in', 't'): 2, ('2', 'co', 'https', 'in', 't'): 2, ('2', 'co', 'covid19', 'https', 'in', 't'): 2, ('2', 'case', 't'): 2, ('2', 'case', 'covid19', 't'): 2, ('2', 'case', 'co', 't'): 2, ('2', 'case', 'https', 't'): 2, ('2', 'case', 'co', 'covid19', 't'): 2, ('2', 'case', 'covid19', 'https', 't'): 2, ('2', 'case', 'co', 'https', 't'): 2, ('2', 'case', 'co', 'covid19', 'https', 't'): 2, ('2', 'case'): 2, ('co', 'your'): 2, ('co', 't', 'your'): 3, ('co', 'https', 'your'): 2, ('co', 'https', 't', 'your'): 3, ('https', 't', 'your'): 3, ('https', 'the', 'your'): 2, ('https', 't', 'the', 'your'): 3, ('co', 'https', 'the', 'your'): 2, ('co', 'https', 't', 'the', 'your'): 3, ('co', 't', 'the', 'your'): 3, ('t', 'the', 'your'): 3, ('t', 'your'): 3, ('a', 'for'): 2, ('a', 'for', 't'): 3, ('a', 'for', 'to'): 2, ('a', 'for', 't', 'to'): 3, ('a', 't', 'to'): 3, ('a', 'co', 'to'): 2, ('a', 'co', 't', 'to'): 3, ('a', 'co', 'for', 'to'): 2, ('a', 'co', 'for', 't', 'to'): 3, ('a', 'co', 'for', 't'): 3, ('a', 'co', 't'): 3, ('a', 'co', 'https'): 2, ('a', 'co', 'https', 't'): 3, ('a', 'co', 'https', 'to'): 2, ('a', 'co', 'https', 't', 'to'): 3, ('a', 'https', 't', 'to'): 3, ('a', 'for', 'https', 'to'): 2, ('a', 'for', 'https', 't', 'to'): 3, ('a', 'co', 'for', 'https', 'to'): 2, ('a', 'co', 'for', 'https', 't', 'to'): 3, ('a', 'co', 'for', 'https', 't'): 3, ('a', 'for', 'https', 't'): 3, ('a', 'https', 't'): 3, ('a', 'https', 'the'): 2, ('a', 'https', 't', 'the'): 3, ('a', 'co', 'https', 'the'): 2, ('a', 'co', 'https', 't', 'the'): 3, ('a', 'co', 't', 'the'): 3, ('a', 'co', 'the', 'to'): 2, ('a', 'co', 't', 'the', 'to'): 3, ('a', 'co', 'https', 'the', 'to'): 2, ('a', 'co', 'https', 't', 'the', 'to'): 3, ('a', 'https', 't', 'the', 'to'): 3, ('a', 't', 'the', 'to'): 3, ('a', 'for', 'the', 'to'): 2, ('a', 'for', 't', 'the', 'to'): 3, ('a', 'co', 'for', 'the', 'to'): 2, ('a', 'co', 'for', 't', 'the', 'to'): 3, ('a', 'co', 'for', 't', 'the'): 3, ('a', 'co', 'for', 'https', 'the'): 2, ('a', 'co', 'for', 'https', 't', 'the'): 3, ('a', 'co', 'for', 'https', 'the', 'to'): 2, ('a', 'co', 'for', 'https', 't', 'the', 'to'): 3, ('a', 'for', 'https', 't', 'the', 'to'): 3, ('a', 'for', 'https', 't', 'the'): 3, ('a', 'for', 't', 'the'): 3, ('a', 't', 'the'): 3, ('a', 't'): 3, ('some',): 2, ('is', 'some'): 2, ('some', 'that'): 2, ('some', 'to'): 2, ('co', 'some'): 2, ('https', 'some'): 2, ('some', 't'): 4, ('is', 'some', 'that'): 2, ('is', 'some', 'to'): 2, ('co', 'is', 'some'): 2, ('https', 'is', 'some'): 2, ('is', 'some', 't'): 2, ('some', 'that', 'to'): 2, ('co', 'some', 'that'): 2, ('https', 'some', 'that'): 2, ('some', 't', 'that'): 2, ('co', 'some', 'to'): 2, ('https', 'some', 'to'): 2, ('some', 't', 'to'): 2, ('co', 'https', 'some'): 2, ('co', 'some', 't'): 2, ('https', 'some', 't'): 2, ('is', 'some', 'that', 'to'): 2, ('co', 'is', 'some', 'that'): 2, ('https', 'is', 'some', 'that'): 2, ('is', 'some', 't', 'that'): 2, ('co', 'is', 'some', 'to'): 2, ('https', 'is', 'some', 'to'): 2, ('is', 'some', 't', 'to'): 2, ('co', 'https', 'is', 'some'): 2, ('co', 'is', 'some', 't'): 2, ('https', 'is', 'some', 't'): 2, ('co', 'some', 'that', 'to'): 2, ('https', 'some', 'that', 'to'): 2, ('some', 't', 'that', 'to'): 2, ('co', 'https', 'some', 'that'): 2, ('co', 'some', 't', 'that'): 2, ('https', 'some', 't', 'that'): 2, ('co', 'https', 'some', 'to'): 2, ('co', 'some', 't', 'to'): 2, ('https', 'some', 't', 'to'): 2, ('co', 'https', 'some', 't'): 2, ('co', 'is', 'some', 'that', 'to'): 2, ('https', 'is', 'some', 'that', 'to'): 2, ('is', 'some', 't', 'that', 'to'): 2, ('co', 'https', 'is', 'some', 'that'): 2, ('co', 'is', 'some', 't', 'that'): 2, ('https', 'is', 'some', 't', 'that'): 2, ('co', 'https', 'is', 'some', 'to'): 2, ('co', 'is', 'some', 't', 'to'): 2, ('https', 'is', 'some', 't', 'to'): 2, ('co', 'https', 'is', 'some', 't'): 2, ('co', 'https', 'some', 'that', 'to'): 2, ('co', 'some', 't', 'that', 'to'): 2, ('https', 'some', 't', 'that', 'to'): 2, ('co', 'https', 'some', 't', 'that'): 2, ('co', 'https', 'some', 't', 'to'): 2, ('co', 'https', 'is', 'some', 'that', 'to'): 2, ('co', 'is', 'some', 't', 'that', 'to'): 2, ('https', 'is', 'some', 't', 'that', 'to'): 2, ('co', 'https', 'is', 'some', 't', 'that'): 2, ('co', 'https', 'is', 'some', 't', 'to'): 2, ('co', 'https', 'some', 't', 'that', 'to'): 2, ('co', 'https', 'is', 'some', 't', 'that', 'to'): 2, ('is', 'who'): 2, ('is', 't', 'who'): 3, ('is', 'that', 'who'): 2, ('is', 't', 'that', 'who'): 3, ('t', 'that', 'who'): 3, ('that', 'to', 'who'): 2, ('t', 'that', 'to', 'who'): 3, ('is', 'that', 'to', 'who'): 2, ('is', 't', 'that', 'to', 'who'): 3, ('is', 't', 'to', 'who'): 3, ('t', 'to', 'who'): 3, ('co', 'to', 'who'): 2, ('co', 't', 'to', 'who'): 3, ('co', 'that', 'to', 'who'): 2, ('co', 't', 'that', 'to', 'who'): 3, ('co', 't', 'that', 'who'): 3, ('co', 'is', 'that', 'who'): 2, ('co', 'is', 't', 'that', 'who'): 3, ('co', 'is', 'that', 'to', 'who'): 2, ('co', 'is', 't', 'that', 'to', 'who'): 3, ('co', 'is', 't', 'to', 'who'): 3, ('co', 'is', 't', 'who'): 3, ('co', 't', 'who'): 3, ('co', 'https', 'who'): 2, ('co', 'https', 't', 'who'): 3, ('co', 'https', 'to', 'who'): 2, ('co', 'https', 't', 'to', 'who'): 3, ('https', 't', 'to', 'who'): 3, ('https', 'that', 'to', 'who'): 2, ('https', 't', 'that', 'to', 'who'): 3, ('co', 'https', 'that', 'to', 'who'): 2, ('co', 'https', 't', 'that', 'to', 'who'): 3, ('co', 'https', 't', 'that', 'who'): 3, ('https', 't', 'that', 'who'): 3, ('https', 'is', 'that', 'who'): 2, ('https', 'is', 't', 'that', 'who'): 3, ('https', 'is', 'that', 'to', 'who'): 2, ('https', 'is', 't', 'that', 'to', 'who'): 3, ('https', 'is', 't', 'to', 'who'): 3, ('co', 'https', 'is', 'to', 'who'): 2, ('co', 'https', 'is', 't', 'to', 'who'): 3, ('co', 'https', 'is', 'that', 'to', 'who'): 2, ('co', 'https', 'is', 't', 'that', 'to', 'who'): 3, ('co', 'https', 'is', 't', 'that', 'who'): 3, ('co', 'https', 'is', 't', 'who'): 3, ('https', 'is', 't', 'who'): 3, ('https', 't', 'who'): 3, ('the', 'who'): 2, ('https', 'the', 'who'): 2, ('co', 'the', 'who'): 2, ('the', 'to', 'who'): 2, ('that', 'the', 'who'): 2, ('is', 'the', 'who'): 2, ('t', 'the', 'who'): 2, ('co', 'https', 'the', 'who'): 2, ('https', 'the', 'to', 'who'): 2, ('https', 'that', 'the', 'who'): 2, ('https', 'is', 'the', 'who'): 2, ('https', 't', 'the', 'who'): 2, ('co', 'the', 'to', 'who'): 2, ('co', 'that', 'the', 'who'): 2, ('co', 'is', 'the', 'who'): 2, ('co', 't', 'the', 'who'): 2, ('that', 'the', 'to', 'who'): 2, ('is', 'the', 'to', 'who'): 2, ('t', 'the', 'to', 'who'): 2, ('is', 'that', 'the', 'who'): 2, ('t', 'that', 'the', 'who'): 2, ('is', 't', 'the', 'who'): 2, ('co', 'https', 'the', 'to', 'who'): 2, ('co', 'https', 'that', 'the', 'who'): 2, ('co', 'https', 'is', 'the', 'who'): 2, ('co', 'https', 't', 'the', 'who'): 2, ('https', 'that', 'the', 'to', 'who'): 2, ('https', 'is', 'the', 'to', 'who'): 2, ('https', 't', 'the', 'to', 'who'): 2, ('https', 'is', 'that', 'the', 'who'): 2, ('https', 't', 'that', 'the', 'who'): 2, ('https', 'is', 't', 'the', 'who'): 2, ('co', 'that', 'the', 'to', 'who'): 2, ('co', 'is', 'the', 'to', 'who'): 2, ('co', 't', 'the', 'to', 'who'): 2, ('co', 'is', 'that', 'the', 'who'): 2, ('co', 't', 'that', 'the', 'who'): 2, ('co', 'is', 't', 'the', 'who'): 2, ('is', 'that', 'the', 'to', 'who'): 2, ('t', 'that', 'the', 'to', 'who'): 2, ('is', 't', 'the', 'to', 'who'): 2, ('is', 't', 'that', 'the', 'who'): 2, ('co', 'https', 'that', 'the', 'to', 'who'): 2, ('co', 'https', 'is', 'the', 'to', 'who'): 2, ('co', 'https', 't', 'the', 'to', 'who'): 2, ('co', 'https', 'is', 'that', 'the', 'who'): 2, ('co', 'https', 't', 'that', 'the', 'who'): 2, ('co', 'https', 'is', 't', 'the', 'who'): 2, ('https', 'is', 'that', 'the', 'to', 'who'): 2, ('https', 't', 'that', 'the', 'to', 'who'): 2, ('https', 'is', 't', 'the', 'to', 'who'): 2, ('https', 'is', 't', 'that', 'the', 'who'): 2, ('co', 'is', 'that', 'the', 'to', 'who'): 2, ('co', 't', 'that', 'the', 'to', 'who'): 2, ('co', 'is', 't', 'the', 'to', 'who'): 2, ('co', 'is', 't', 'that', 'the', 'who'): 2, ('is', 't', 'that', 'the', 'to', 'who'): 2, ('co', 'https', 'is', 'that', 'the', 'to', 'who'): 2, ('co', 'https', 't', 'that', 'the', 'to', 'who'): 2, ('co', 'https', 'is', 't', 'the', 'to', 'who'): 2, ('co', 'https', 'is', 't', 'that', 'the', 'who'): 2, ('https', 'is', 't', 'that', 'the', 'to', 'who'): 2, ('co', 'is', 't', 'that', 'the', 'to', 'who'): 2, ('co', 'https', 'is', 't', 'that', 'the', 'to', 'who'): 2, ('t', 'who'): 3, ('to', 'wear'): 2, ('t', 'to', 'wear'): 3, ('co', 'to', 'wear'): 2, ('co', 't', 'to', 'wear'): 3, ('co', 't', 'wear'): 3, ('co', 'https', 'wear'): 2, ('co', 'https', 't', 'wear'): 3, ('co', 'https', 'to', 'wear'): 2, ('co', 'https', 't', 'to', 'wear'): 3, ('https', 't', 'to', 'wear'): 3, ('https', 't', 'wear'): 3, ('t', 'wear'): 3, ('to', 'while'): 2, ('t', 'to', 'while'): 3, ('co', 'to', 'while'): 2, ('co', 't', 'to', 'while'): 3, ('co', 't', 'while'): 3, ('co', 'https', 'while'): 2, ('co', 'https', 't', 'while'): 3, ('co', 'https', 'to', 'while'): 2, ('co', 'https', 't', 'to', 'while'): 3, ('https', 't', 'to', 'while'): 3, ('https', 't', 'while'): 3, ('t', 'while'): 3, ('and', 'of'): 2, ('and', 'of', 'the'): 3, ('and', 'of', 'to'): 2, ('and', 'of', 'the', 'to'): 3, ('of', 'the', 'to'): 3, ('co', 'of', 'to'): 2, ('co', 'of', 'the', 'to'): 3, ('and', 'co', 'of', 'to'): 2, ('and', 'co', 'of', 'the', 'to'): 3, ('and', 'co', 'of', 'the'): 3, ('co', 'of', 'the'): 3, ('co', 'https', 'of'): 2, ('co', 'https', 'of', 'the'): 3, ('co', 'https', 'of', 'to'): 2, ('co', 'https', 'of', 'the', 'to'): 3, ('https', 'of', 'the', 'to'): 3, ('and', 'https', 'of', 'to'): 2, ('and', 'https', 'of', 'the', 'to'): 3, ('and', 'co', 'https', 'of', 'to'): 2, ('and', 'co', 'https', 'of', 'the', 'to'): 3, ('and', 'co', 'https', 'of', 'the'): 3, ('and', 'https', 'of', 'the'): 3, ('https', 'of', 'the'): 3, ('https', 'of', 't'): 2, ('https', 'of', 't', 'the'): 3, ('co', 'https', 'of', 't'): 2, ('co', 'https', 'of', 't', 'the'): 3, ('co', 'of', 't', 'the'): 3, ('co', 'of', 't', 'to'): 2, ('co', 'of', 't', 'the', 'to'): 3, ('co', 'https', 'of', 't', 'to'): 2, ('co', 'https', 'of', 't', 'the', 'to'): 3, ('https', 'of', 't', 'the', 'to'): 3, ('of', 't', 'the', 'to'): 3, ('and', 'of', 't', 'to'): 2, ('and', 'of', 't', 'the', 'to'): 3, ('and', 'co', 'of', 't', 'to'): 2, ('and', 'co', 'of', 't', 'the', 'to'): 3, ('and', 'co', 'of', 't', 'the'): 3, ('and', 'co', 'https', 'of', 't'): 2, ('and', 'co', 'https', 'of', 't', 'the'): 3, ('and', 'co', 'https', 'of', 't', 'to'): 2, ('and', 'co', 'https', 'of', 't', 'the', 'to'): 3, ('and', 'https', 'of', 't', 'the', 'to'): 3, ('and', 'https', 'of', 't', 'the'): 3, ('and', 'of', 't', 'the'): 3, ('of', 't', 'the'): 3, ('of', 'the'): 3, ('of', 'peopl'): 2, ('of', 'peopl', 'the'): 3, ('and', 'of', 'peopl'): 2, ('and', 'of', 'peopl', 'the'): 3, ('and', 'peopl', 'the'): 3, ('and', 'peopl', 'to'): 2, ('and', 'peopl', 'the', 'to'): 3, ('and', 'of', 'peopl', 'to'): 2, ('and', 'of', 'peopl', 'the', 'to'): 3, ('of', 'peopl', 'the', 'to'): 3, ('peopl', 'the', 'to'): 3, ('co', 'peopl', 'to'): 2, ('co', 'peopl', 'the', 'to'): 3, ('and', 'co', 'peopl', 'to'): 2, ('and', 'co', 'peopl', 'the', 'to'): 3, ('and', 'co', 'peopl', 'the'): 3, ('and', 'co', 'of', 'peopl'): 2, ('and', 'co', 'of', 'peopl', 'the'): 3, ('and', 'co', 'of', 'peopl', 'to'): 2, ('and', 'co', 'of', 'peopl', 'the', 'to'): 3, ('co', 'of', 'peopl', 'the', 'to'): 3, ('co', 'of', 'peopl', 'the'): 3, ('co', 'peopl', 'the'): 3, ('co', 'https', 'peopl'): 2, ('co', 'https', 'peopl', 'the'): 3, ('co', 'https', 'peopl', 'to'): 2, ('co', 'https', 'peopl', 'the', 'to'): 3, ('https', 'peopl', 'the', 'to'): 3, ('and', 'https', 'peopl', 'to'): 2, ('and', 'https', 'peopl', 'the', 'to'): 3, ('and', 'co', 'https', 'peopl', 'to'): 2, ('and', 'co', 'https', 'peopl', 'the', 'to'): 3, ('and', 'co', 'https', 'peopl', 'the'): 3, ('and', 'https', 'peopl', 'the'): 3, ('and', 'https', 'of', 'peopl'): 2, ('and', 'https', 'of', 'peopl', 'the'): 3, ('and', 'https', 'of', 'peopl', 'to'): 2, ('and', 'https', 'of', 'peopl', 'the', 'to'): 3, ('https', 'of', 'peopl', 'the', 'to'): 3, ('co', 'https', 'of', 'peopl', 'to'): 2, ('co', 'https', 'of', 'peopl', 'the', 'to'): 3, ('and', 'co', 'https', 'of', 'peopl', 'to'): 2, ('and', 'co', 'https', 'of', 'peopl', 'the', 'to'): 3, ('and', 'co', 'https', 'of', 'peopl', 'the'): 3, ('co', 'https', 'of', 'peopl', 'the'): 3, ('https', 'of', 'peopl', 'the'): 3, ('https', 'peopl', 'the'): 3, ('https', 'peopl', 't'): 2, ('https', 'peopl', 't', 'the'): 3, ('co', 'https', 'peopl', 't'): 2, ('co', 'https', 'peopl', 't', 'the'): 3, ('co', 'peopl', 't', 'the'): 3, ('co', 'peopl', 't', 'to'): 2, ('co', 'peopl', 't', 'the', 'to'): 3, ('co', 'https', 'peopl', 't', 'to'): 2, ('co', 'https', 'peopl', 't', 'the', 'to'): 3, ('https', 'peopl', 't', 'the', 'to'): 3, ('peopl', 't', 'the', 'to'): 3, ('and', 'peopl', 't', 'to'): 2, ('and', 'peopl', 't', 'the', 'to'): 3, ('and', 'co', 'peopl', 't', 'to'): 2, ('and', 'co', 'peopl', 't', 'the', 'to'): 3, ('and', 'co', 'peopl', 't', 'the'): 3, ('and', 'co', 'https', 'peopl', 't'): 2, ('and', 'co', 'https', 'peopl', 't', 'the'): 3, ('and', 'co', 'https', 'peopl', 't', 'to'): 2, ('and', 'co', 'https', 'peopl', 't', 'the', 'to'): 3, ('and', 'https', 'peopl', 't', 'the', 'to'): 3, ('and', 'https', 'peopl', 't', 'the'): 3, ('and', 'peopl', 't', 'the'): 3, ('and', 'of', 'peopl', 't'): 2, ('and', 'of', 'peopl', 't', 'the'): 3, ('and', 'of', 'peopl', 't', 'to'): 2, ('and', 'of', 'peopl', 't', 'the', 'to'): 3, ('of', 'peopl', 't', 'the', 'to'): 3, ('co', 'of', 'peopl', 't', 'to'): 2, ('co', 'of', 'peopl', 't', 'the', 'to'): 3, ('and', 'co', 'of', 'peopl', 't', 'to'): 2, ('and', 'co', 'of', 'peopl', 't', 'the', 'to'): 3, ('and', 'co', 'of', 'peopl', 't', 'the'): 3, ('co', 'of', 'peopl', 't', 'the'): 3, ('co', 'https', 'of', 'peopl', 't'): 2, ('co', 'https', 'of', 'peopl', 't', 'the'): 3, ('co', 'https', 'of', 'peopl', 't', 'to'): 2, ('co', 'https', 'of', 'peopl', 't', 'the', 'to'): 3, ('https', 'of', 'peopl', 't', 'the', 'to'): 3, ('and', 'https', 'of', 'peopl', 't', 'to'): 2, ('and', 'https', 'of', 'peopl', 't', 'the', 'to'): 3, ('and', 'co', 'https', 'of', 'peopl', 't', 'to'): 2, ('and', 'co', 'https', 'of', 'peopl', 't', 'the', 'to'): 3, ('and', 'co', 'https', 'of', 'peopl', 't', 'the'): 3, ('and', 'https', 'of', 'peopl', 't', 'the'): 3, ('https', 'of', 'peopl', 't', 'the'): 3, ('of', 'peopl', 't', 'the'): 3, ('peopl', 't', 'the'): 3, ('peopl', 'the'): 3, ('covid19', 'talli'): 2, ('case', 'covid19', 'talli'): 3, ('case', 'talli'): 3, ('1', 'talli'): 2, ('1', 'case', 'talli'): 3, ('1', 'covid19', 'talli'): 2, ('1', 'case', 'covid19', 'talli'): 3, ('1', 'case', 'covid19'): 3, ('1', 'case'): 3, ('1', 'with'): 2, ('1', 'case', 'with'): 3, ('1', 'talli', 'with'): 2, ('1', 'case', 'talli', 'with'): 3, ('case', 'talli', 'with'): 3, ('covid19', 'talli', 'with'): 2, ('case', 'covid19', 'talli', 'with'): 3, ('1', 'covid19', 'talli', 'with'): 2, ('1', 'case', 'covid19', 'talli', 'with'): 3, ('1', 'case', 'covid19', 'with'): 3, ('case', 'covid19', 'with'): 3, ('case', 'with'): 3, ('covid19', 'new'): 2, ('case', 'covid19', 'new'): 3, ('case', 'new'): 3, ('activ', 'new'): 2, ('activ', 'case', 'new'): 3, ('activ', 'talli'): 2, ('activ', 'case', 'talli'): 3, ('activ', 'covid19', 'talli'): 2, ('activ', 'case', 'covid19', 'talli'): 3, ('activ', 'covid19', 'new'): 2, ('activ', 'case', 'covid19', 'new'): 3, ('activ', 'case', 'covid19'): 3, ('activ', 'case'): 3, ('activ', 'health'): 2, ('activ', 'case', 'health'): 3, ('activ', 'health', 'new'): 2, ('activ', 'case', 'health', 'new'): 3, ('case', 'health', 'new'): 3, ('health', 'with'): 2, ('case', 'health', 'with'): 3, ('1', 'health', 'with'): 2, ('1', 'case', 'health', 'with'): 3, ('1', 'case', 'health'): 3, ('1', 'health', 'talli'): 2, ('1', 'case', 'health', 'talli'): 3, ('1', 'health', 'talli', 'with'): 2, ('1', 'case', 'health', 'talli', 'with'): 3, ('case', 'health', 'talli', 'with'): 3, ('activ', 'health', 'talli'): 2, ('activ', 'case', 'health', 'talli'): 3, ('case', 'health', 'talli'): 3, ('covid19', 'health', 'talli'): 2, ('case', 'covid19', 'health', 'talli'): 3, ('1', 'covid19', 'health', 'talli'): 2, ('1', 'case', 'covid19', 'health', 'talli'): 3, ('1', 'case', 'covid19', 'health'): 3, ('1', 'covid19', 'health', 'with'): 2, ('1', 'case', 'covid19', 'health', 'with'): 3, ('1', 'covid19', 'health', 'talli', 'with'): 2, ('1', 'case', 'covid19', 'health', 'talli', 'with'): 3, ('case', 'covid19', 'health', 'talli', 'with'): 3, ('case', 'covid19', 'health', 'with'): 3, ('covid19', 'health', 'new'): 2, ('case', 'covid19', 'health', 'new'): 3, ('activ', 'covid19', 'health', 'new'): 2, ('activ', 'case', 'covid19', 'health', 'new'): 3, ('activ', 'covid19', 'health', 'talli'): 2, ('activ', 'case', 'covid19', 'health', 'talli'): 3, ('activ', 'case', 'covid19', 'health'): 3, ('case', 'covid19', 'health'): 3, ('case', 'health'): 3, ('covid19', 'for', 'https'): 2, ('covid19', 'for', 'https', 't'): 3, ('co', 'covid19', 'for', 'https'): 2, ('co', 'covid19', 'for', 'https', 't'): 3, ('co', 'covid19', 'for', 't'): 3, ('covid19', 'for', 't'): 3, ('for', 'https', 'to'): 2, ('for', 'https', 't', 'to'): 3, ('co', 'for', 'https', 'to'): 2, ('co', 'for', 'https', 't', 'to'): 3, ('co', 'for', 't', 'to'): 3, ('for', 't', 'to'): 3, ('for', 'the', 'to'): 2, ('for', 't', 'the', 'to'): 3, ('for', 'https', 'the', 'to'): 2, ('for', 'https', 't', 'the', 'to'): 3, ('for', 'https', 't', 'the'): 3, ('co', 'for', 'https', 'the'): 2, ('co', 'for', 'https', 't', 'the'): 3, ('co', 'for', 'https', 'the', 'to'): 2, ('co', 'for', 'https', 't', 'the', 'to'): 3, ('co', 'for', 't', 'the', 'to'): 3, ('co', 'for', 't', 'the'): 3, ('for', 't', 'the'): 3, ('co', 'for'): 3, ('co', 'for', 't'): 4, ('co', 'for', 'https'): 3, ('co', 'for', 'https', 't'): 4, ('for', 'https', 't'): 4, ('for', 't'): 4, ('for', 'in'): 2, ('for', 'in', 't'): 2, ('for', 'https', 'in'): 2, ('co', 'for', 'in'): 2, ('for', 'https', 'in', 't'): 2, ('co', 'for', 'in', 't'): 2, ('co', 'for', 'https', 'in'): 2, ('co', 'for', 'https', 'in', 't'): 2, ('covid19', 'in'): 2, ('covid19', 'in', 't'): 2, ('covid19', 'https', 'in'): 2, ('co', 'covid19', 'in'): 2, ('covid19', 'https', 'in', 't'): 2, ('co', 'covid19', 'in', 't'): 2, ('co', 'covid19', 'https', 'in'): 2, ('co', 'covid19', 'https', 'in', 't'): 2, ('in', 'to'): 2, ('in', 't', 'to'): 2, ('https', 'in', 'to'): 2, ('co', 'in', 'to'): 2, ('https', 'in', 't', 'to'): 2, ('co', 'in', 't', 'to'): 2, ('co', 'https', 'in', 'to'): 2, ('co', 'https', 'in', 't', 'to'): 2, ('co', 'in'): 3, ('https', 'in'): 3, ('co', 'https', 'in'): 3, ('in', 't'): 3, ('https', 'in', 't'): 3, ('co', 'in', 't'): 3, ('co', 'https', 'in', 't'): 3, ('https', 'is', 'to'): 2, ('https', 'is', 't', 'to'): 3, ('co', 'https', 'is', 'to'): 2, ('co', 'https', 'is', 't', 'to'): 3, ('co', 'is', 't', 'to'): 3, ('co', 'is', 'that', 'to'): 2, ('co', 'is', 't', 'that', 'to'): 3, ('co', 'https', 'is', 'that', 'to'): 2, ('co', 'https', 'is', 't', 'that', 'to'): 3, ('https', 'is', 't', 'that', 'to'): 3, ('is', 't', 'that', 'to'): 3, ('is', 'the', 'to'): 2, ('is', 'that', 'the', 'to'): 2, ('co', 'is', 'the', 'to'): 2, ('https', 'is', 'the', 'to'): 2, ('is', 't', 'the', 'to'): 2, ('co', 'is', 'that', 'the', 'to'): 2, ('https', 'is', 'that', 'the', 'to'): 2, ('is', 't', 'that', 'the', 'to'): 2, ('co', 'https', 'is', 'the', 'to'): 2, ('co', 'is', 't', 'the', 'to'): 2, ('https', 'is', 't', 'the', 'to'): 2, ('co', 'https', 'is', 'that', 'the', 'to'): 2, ('co', 'is', 't', 'that', 'the', 'to'): 2, ('https', 'is', 't', 'that', 'the', 'to'): 2, ('co', 'https', 'is', 't', 'the', 'to'): 2, ('co', 'https', 'is', 't', 'that', 'the', 'to'): 2, ('is', 't', 'to'): 3, ('and', 'https', 'is', 'that'): 3, ('and', 'https', 'is', 'that', 'the'): 12, ('and', 'https', 'is', 'the'): 7, ('and', 'https', 'is', 'the', 'the'): 11, ('and', 'co', 'https', 'is', 'that'): 3, ('and', 'co', 'https', 'is', 'that', 'the'): 12, ('and', 'co', 'https', 'is', 'the'): 7, ('and', 'co', 'https', 'is', 'the', 'the'): 11, ('and', 'co', 'is', 'that'): 3, ('and', 'co', 'is', 'that', 'the'): 12, ('and', 'co', 'is', 'the'): 7, ('and', 'co', 'is', 'the', 'the'): 11, ('and', 'co', 'is', 't', 'that'): 3, ('and', 'co', 'is', 't', 'that', 'the'): 12, ('and', 'co', 'is', 't', 'the'): 7, ('and', 'co', 'is', 't', 'the', 'the'): 11, ('and', 'co', 'https', 'is', 't', 'that'): 3, ('and', 'co', 'https', 'is', 't', 'that', 'the'): 12, ('and', 'co', 'https', 'is', 't', 'the'): 7, ('and', 'co', 'https', 'is', 't', 'the', 'the'): 11, ('and', 'https', 'is', 't', 'that'): 3, ('and', 'https', 'is', 't', 'that', 'the'): 12, ('and', 'https', 'is', 't', 'the'): 7, ('and', 'https', 'is', 't', 'the', 'the'): 11, ('and', 'is', 't', 'that'): 3, ('and', 'is', 't', 'that', 'the'): 12, ('and', 'is', 't', 'the'): 7, ('and', 'is', 't', 'the', 'the'): 11, ('and', 'is', 'that'): 3, ('and', 'is', 'that', 'the'): 12, ('and', 'is', 'the'): 7, ('and', 'is', 'the', 'the'): 11, ('co', 'is', 't'): 4, ('co', 'is', 't', 'the'): 7, ('co', 'is', 't', 'that'): 5, ('co', 'is', 't', 'that', 'the'): 12, ('co', 'is', 'that', 'the'): 12, ('co', 'is', 'that', 'the', 'the'): 21, ('co', 'is', 'the'): 7, ('co', 'is', 'the', 'the'): 11, ('co', 'https', 'is', 'that'): 4, ('co', 'https', 'is', 'that', 'the'): 12, ('co', 'https', 'is', 't', 'that'): 5, ('co', 'https', 'is', 't', 'that', 'the'): 12, ('co', 'https', 'is', 't', 'the'): 7, ('co', 'https', 'is', 't', 'the', 'the'): 11, ('co', 'https', 'is', 'the'): 7, ('co', 'https', 'is', 'the', 'the'): 11, ('https', 'is', 't'): 4, ('https', 'is', 't', 'the'): 7, ('https', 'is', 't', 'that'): 5, ('https', 'is', 't', 'that', 'the'): 12, ('https', 'is', 'that', 'the'): 12, ('https', 'is', 'that', 'the', 'the'): 21, ('https', 'is', 'the'): 7, ('https', 'is', 'the', 'the'): 11, ('is', 'that'): 4, ('is', 'that', 'the'): 12, ('is', 't', 'that'): 5, ('is', 't', 'that', 'the'): 12, ('is', 't', 'the'): 7, ('is', 't', 'the', 'the'): 11, ('is', 'the'): 7, ('is', 'the', 'the'): 11, ('and', 't', 'to'): 2, ('and', 't', 'the', 'to'): 3, ('and', 'https', 't', 'to'): 2, ('and', 'https', 't', 'the', 'to'): 3, ('and', 'https', 'the', 'to'): 3, ('and', 'co', 'https', 'to'): 2, ('and', 'co', 'https', 'the', 'to'): 3, ('and', 'co', 'https', 't', 'to'): 2, ('and', 'co', 'https', 't', 'the', 'to'): 3, ('and', 'co', 't', 'the', 'to'): 3, ('and', 'co', 'the', 'to'): 3, ('and', 'the', 'to'): 3, ('and', 'that'): 3, ('and', 'that', 'the'): 12, ('and', 'co', 'that'): 3, ('and', 'co', 'that', 'the'): 12, ('and', 'co', 'the'): 8, ('and', 'co', 'the', 'the'): 11, ('and', 'co', 'https'): 3, ('and', 'co', 'https', 'the'): 8, ('and', 'co', 'https', 'that'): 3, ('and', 'co', 'https', 'that', 'the'): 12, ('and', 'https', 'that', 'the'): 12, ('and', 'https', 'that', 'the', 'the'): 21, ('and', 'https', 'the'): 8, ('and', 'https', 'the', 'the'): 11, ('and', 'https', 't'): 3, ('and', 'https', 't', 'the'): 8, ('and', 'co', 'https', 't'): 3, ('and', 'co', 'https', 't', 'the'): 8, ('and', 'co', 't', 'the'): 8, ('and', 'co', 't', 'the', 'the'): 11, ('and', 'co', 't', 'that'): 3, ('and', 'co', 't', 'that', 'the'): 12, ('and', 'co', 'https', 't', 'that'): 3, ('and', 'co', 'https', 't', 'that', 'the'): 12, ('and', 'https', 't', 'that', 'the'): 12, ('and', 'https', 't', 'that', 'the', 'the'): 21, ('and', 't', 'that', 'the'): 12, ('and', 't', 'that', 'the', 'the'): 21, ('and', 't', 'the'): 8, ('and', 't', 'the', 'the'): 11, ('and', 'the'): 8, ('and', 'the', 'the'): 11, ('case',): 3, ('case', 'covid19'): 3, ('case', 'to'): 2, ('case', 'co'): 2, ('case', 'https'): 2, ('case', 't'): 2, ('case', 'covid19', 'to'): 2, ('case', 'co', 'covid19'): 2, ('case', 'covid19', 'https'): 2, ('case', 'covid19', 't'): 2, ('case', 'co', 'to'): 2, ('case', 'https', 'to'): 2, ('case', 't', 'to'): 2, ('case', 'co', 'https'): 2, ('case', 'co', 't'): 2, ('case', 'https', 't'): 2, ('case', 'co', 'covid19', 'to'): 2, ('case', 'covid19', 'https', 'to'): 2, ('case', 'covid19', 't', 'to'): 2, ('case', 'co', 'covid19', 'https'): 2, ('case', 'co', 'covid19', 't'): 2, ('case', 'covid19', 'https', 't'): 2, ('case', 'co', 'https', 'to'): 2, ('case', 'co', 't', 'to'): 2, ('case', 'https', 't', 'to'): 2, ('case', 'co', 'https', 't'): 2, ('case', 'co', 'covid19', 'https', 'to'): 2, ('case', 'co', 'covid19', 't', 'to'): 2, ('case', 'covid19', 'https', 't', 'to'): 2, ('case', 'co', 'covid19', 'https', 't'): 2, ('case', 'co', 'https', 't', 'to'): 2, ('case', 'co', 'covid19', 'https', 't', 'to'): 2, ('covid19', 'https', 't', 'to'): 3, ('covid19', 'https', 'the', 'to'): 3, ('covid19', 'https', 't', 'the', 'to'): 4, ('co', 'covid19', 'https', 'the', 'to'): 3, ('co', 'covid19', 'https', 't', 'to'): 3, ('co', 'covid19', 'https', 't', 'the', 'to'): 4, ('co', 'covid19', 't', 'to'): 3, ('co', 'covid19', 'the', 'to'): 3, ('co', 'covid19', 't', 'the', 'to'): 4, ('covid19', 'the', 'to'): 3, ('covid19', 't', 'to'): 3, ('covid19', 't', 'the', 'to'): 4, ('covid19', 'https', 'the'): 3, ('covid19', 'https', 't', 'the'): 4, ('co', 'covid19', 'https', 'the'): 3, ('co', 'covid19', 'https', 't', 'the'): 4, ('co', 'covid19', 't', 'the'): 4, ('covid19', 't', 'the'): 4, ('co', 'covid19'): 4, ('co', 'covid19', 't'): 5, ('co', 'covid19', 'https'): 4, ('co', 'covid19', 'https', 't'): 5, ('covid19', 'https', 't'): 5, ('covid19', 't'): 5, ('https', 'that', 'to'): 2, ('https', 't', 'that', 'to'): 3, ('co', 'https', 'that', 'to'): 2, ('co', 'https', 't', 'that', 'to'): 3, ('co', 't', 'that', 'to'): 3, ('that', 'the', 'to'): 2, ('co', 'that', 'the', 'to'): 2, ('https', 'that', 'the', 'to'): 2, ('t', 'that', 'the', 'to'): 2, ('co', 'https', 'that', 'the', 'to'): 2, ('co', 't', 'that', 'the', 'to'): 2, ('https', 't', 'that', 'the', 'to'): 2, ('co', 'https', 't', 'that', 'the', 'to'): 2, ('t', 'that', 'to'): 3, ('co', 't', 't', 'that'): 2, ('co', 't', 'that', 'the'): 14, ('co', 't', 'that', 'the', 'the'): 21, ('co', 'that', 'the'): 13, ('co', 'that', 'the', 'the'): 21, ('co', 'https', 't', 't', 'that'): 2, ('co', 'https', 't', 'that', 'the'): 14, ('co', 'https', 't', 'that', 'the', 'the'): 21, ('co', 'https', 'that', 'the'): 13, ('co', 'https', 'that', 'the', 'the'): 21, ('https', 't', 't', 'that'): 2, ('https', 't', 'that', 'the'): 14, ('https', 't', 'that', 'the', 'the'): 21, ('https', 'that', 'the'): 13, ('https', 'that', 'the', 'the'): 21, ('t', 't', 'that'): 2, ('t', 'that', 'the'): 14, ('t', 'that', 'the', 'the'): 21, ('that', 'the'): 13, ('that', 'the', 'the'): 21, ('https', 'the', 'to'): 4, ('https', 't', 'the', 'to'): 5, ('co', 'https', 'the', 'to'): 4, ('co', 'https', 't', 'the', 'to'): 5, ('co', 't', 'the', 'to'): 5, ('t', 'the', 'to'): 5, ('co', 'to'): 5, ('co', 't', 'to'): 7, ('co', 'https', 'to'): 5, ('co', 'https', 't', 'to'): 7, ('https', 't', 'to'): 7, ('https', 't', 't', 'to'): 2, ('t', 'to'): 7, ('t', 't', 'to'): 2, ('https', 't'): 10, ('https', 't', 't'): 2, ('https', 't', 'the'): 11, ('https', 't', 'the', 'the'): 11, ('https', 'the', 'the'): 11, ('https', 'the', 'the', 'the'): 10, ('co', 'https', 't', 't'): 2, ('co', 'https', 't', 'the'): 11, ('co', 'https', 't', 'the', 'the'): 11, ('co', 'https', 'the'): 10, ('co', 'https', 'the', 'the'): 11, ('co', 't'): 10, ('co', 't', 't'): 2, ('co', 't', 'the'): 11, ('co', 't', 'the', 'the'): 11, ('co', 'the', 'the'): 11, ('co', 'the', 'the', 'the'): 10, ('t', 't'): 2, ('t', 'the'): 11, ('t', 'the', 'the'): 11, ('the',): 10, ('the', 'the'): 11}\n",
    "\n",
    "# Create an empty dictionary\n",
    "tree = {}\n",
    "\n",
    "# Create a dictionary of co-occurrences\n",
    "for itemset, support in frequent_patterns.items():\n",
    "    for item in itemset:\n",
    "        if item not in tree:\n",
    "            tree[item] = set(itemset) - {item}\n",
    "        else:\n",
    "            tree[item] |= set(itemset) - {item}\n",
    "\n",
    "# Print the tree\n",
    "print(tree)\n"
   ]
  },
  {
   "cell_type": "code",
   "execution_count": 63,
   "id": "7ffca290",
   "metadata": {},
   "outputs": [
    {
     "name": "stdout",
     "output_type": "stream",
     "text": [
      "Defaulting to user installation because normal site-packages is not writeable\n",
      "Requirement already satisfied: networkx in c:\\programdata\\anaconda3\\lib\\site-packages (2.8.4)\n"
     ]
    }
   ],
   "source": [
    "!pip install networkx"
   ]
  },
  {
   "cell_type": "code",
   "execution_count": 64,
   "id": "6aac0f8e",
   "metadata": {},
   "outputs": [
    {
     "ename": "SyntaxError",
     "evalue": "EOL while scanning string literal (1830343072.py, line 4)",
     "output_type": "error",
     "traceback": [
      "\u001b[1;36m  File \u001b[1;32m\"C:\\Users\\shakil\\AppData\\Local\\Temp\\ipykernel_2476\\1830343072.py\"\u001b[1;36m, line \u001b[1;32m4\u001b[0m\n\u001b[1;33m    frequent_patterns = [{('i',): 4, ('if',): 3, ('the',): 16, ('of',): 16, ('on',): 7, ('today',): 3, ('in',): 13, ('were',): 3, ('that',): 5, ('https',): 47, ('t',): 47, ('co',): 47, ('and',): 13, ('it',): 5, ('have',): 6, ('more',): 3, ('to',): 18, ('their',): 3, ('a',): 13, ('realdonaldtrump',): 3, ('covid19',): 32, ('we',): 3, ('thi',): 3, ('one',): 4, ('ha',): 3, ('is',): 5, ('an',): 5, ('for',): 10, ('juli',): 5, ('coronav\u001b[0m\n\u001b[1;37m                                                                                                                                                                                                                                                                                                                                                                                                                                                 ^\u001b[0m\n\u001b[1;31mSyntaxError\u001b[0m\u001b[1;31m:\u001b[0m EOL while scanning string literal\n"
     ]
    }
   ],
   "source": [
    "import networkx as nx\n",
    "\n",
    "# Sample input data\n",
    "frequent_patterns = [{('i',): 4, ('if',): 3, ('the',): 16, ('of',): 16, ('on',): 7, ('today',): 3, ('in',): 13, ('were',): 3, ('that',): 5, ('https',): 47, ('t',): 47, ('co',): 47, ('and',): 13, ('it',): 5, ('have',): 6, ('more',): 3, ('to',): 18, ('their',): 3, ('a',): 13, ('realdonaldtrump',): 3, ('covid19',): 32, ('we',): 3, ('thi',): 3, ('one',): 4, ('ha',): 3, ('is',): 5, ('an',): 5, ('for',): 10, ('juli',): 5, ('coronav\n"
   ]
  },
  {
   "cell_type": "code",
   "execution_count": 16,
   "id": "6431514d",
   "metadata": {},
   "outputs": [
    {
     "data": {
      "image/png": "[encoded data removed]",
      "text/plain": [
       "<Figure size 640x480 with 1 Axes>"
      ]
     },
     "metadata": {},
     "output_type": "display_data"
    }
   ],
   "source": [
    "import networkx as nx\n",
    "\n",
    "# Sample frequent patterns\n",
    "frequent_patterns = {('test',): 2, ('in', 'test'): 2, ('for', 'test'): 2, ('covid19', 'test'): 2, ('co', 'test'): 2, ('https', 'test'): 2, ('t', 'test'): 2, ('for', 'in', 'test'): 2, ('covid19', 'in', 'test'): 2, ('co', 'in', 'test'): 2, ('https', 'in', 'test'): 2, ('in', 't', 'test'): 2, ('covid19', 'for', 'test'): 2, ('co', 'for', 'test'): 2, ('for', 'https', 'test'): 2, ('for', 't', 'test'): 2, ('co', 'covid19', 'test'): 2, ('covid19', 'https', 'test'): 2, ('covid19', 't', 'test'): 2, ('co', 'https', 'test'): 2, ('co', 't', 'test'): 2, ('https', 't', 'test'): 2, ('covid19', 'for', 'in', 'test'): 2, ('co', 'for', 'in', 'test'): 2, ('for', 'https', 'in', 'test'): 2, ('for', 'in', 't', 'test'): 2, ('co', 'covid19', 'in', 'test'): 2, ('covid19', 'https', 'in', 'test'): 2, ('covid19', 'in', 't', 'test'): 2, ('co', 'https', 'in', 'test'): 2, ('co', 'in', 't', 'test'): 2, ('https', 'in', 't', 'test'): 2, ('co', 'covid19', 'for', 'test'): 2, ('covid19', 'for', 'https', 'test'): 2, ('covid19', 'for', 't', 'test'): 2, ('co', 'for', 'https', 'test'): 2, ('co', 'for', 't', 'test'): 2, ('for', 'https', 't', 'test'): 2, ('co', 'covid19', 'https', 'test'): 2, ('co', 'covid19', 't', 'test'): 2, ('covid19', 'https', 't', 'test'): 2, ('co', 'https', 't', 'test'): 2, ('co', 'covid19', 'for', 'in', 'test'): 2, ('covid19', 'for', 'https', 'in', 'test'): 2, ('covid19', 'for', 'in', 't', 'test'): 2, ('co', 'for', 'https', 'in', 'test'): 2, ('co', 'for', 'in', 't', 'test'): 2, ('for', 'https', 'in', 't', 'test'): 2, ('co', 'covid19', 'https', 'in', 'test'): 2, ('co', 'covid19', 'in', 't', 'test'): 2, ('covid19', 'https', 'in', 't', 'test'): 2, ('co', 'https', 'in', 't', 'test'): 2, ('co', 'covid19', 'for', 'https', 'test'): 2, ('co', 'covid19', 'for', 't', 'test'): 2, ('covid19', 'for', 'https', 't', 'test'): 2, ('co', 'for', 'https', 't', 'test'): 2, ('co', 'covid19', 'https', 't', 'test'): 2, ('co', 'covid19', 'for', 'https', 'in', 'test'): 2, ('co', 'covid19', 'for', 'in', 't', 'test'): 2, ('covid19', 'for', 'https', 'in', 't', 'test'): 2, ('co', 'for', 'https', 'in', 't', 'test'): 2, ('co', 'covid19', 'https', 'in', 't', 'test'): 2, ('co', 'covid19', 'for', 'https', 't', 'test'): 2, ('co', 'covid19', 'for', 'https', 'in', 't', 'test'): 2, ('2', 'in'): 2, ('2', 'covid19', 'in'): 2, ('2', 'case', 'covid19'): 2, ('2', 'co', 'covid19'): 2, ('2', 'co', 'in'): 2, ('2', 'co', 'covid19', 'in'): 2, ('2', 'case', 'co'): 2, ('2', 'case', 'co', 'covid19'): 2, ('2', 'co', 'https'): 2, ('2', 'covid19', 'https'): 2, ('2', 'co', 'covid19', 'https'): 2, ('2', 'https', 'in'): 2, ('2', 'covid19', 'https', 'in'): 2, ('2', 'co', 'https', 'in'): 2, ('2', 'co', 'covid19', 'https', 'in'): 2, ('2', 'case', 'https'): 2, ('2', 'case', 'covid19', 'https'): 2, ('2', 'case', 'co', 'https'): 2, ('2', 'case', 'co', 'covid19', 'https'): 2, ('2', 'https', 't'): 2, ('2', 'co', 't'): 2, ('2', 'co', 'https', 't'): 2, ('2', 'covid19', 't'): 2, ('2', 'co', 'covid19', 't'): 2, ('2', 'covid19', 'https', 't'): 2, ('2', 'co', 'covid19', 'https', 't'): 2, ('2', 'in', 't'): 2, ('2', 'covid19', 'in', 't'): 2, ('2', 'co', 'in', 't'): 2, ('2', 'https', 'in', 't'): 2, ('2', 'co', 'covid19', 'in', 't'): 2, ('2', 'covid19', 'https', 'in', 't'): 2, ('2', 'co', 'https', 'in', 't'): 2, ('2', 'co', 'covid19', 'https', 'in', 't'): 2, ('2', 'case', 't'): 2, ('2', 'case', 'covid19', 't'): 2, ('2', 'case', 'co', 't'): 2, ('2', 'case', 'https', 't'): 2, ('2', 'case', 'co', 'covid19', 't'): 2, ('2', 'case', 'covid19', 'https', 't'): 2, ('2', 'case', 'co', 'https', 't'): 2, ('2', 'case', 'co', 'covid19', 'https', 't'): 2, ('2', 'case'): 2, ('co', 'your'): 2, ('co', 't', 'your'): 3, ('co', 'https', 'your'): 2, ('co', 'https', 't', 'your'): 3, ('https', 't', 'your'): 3, ('https', 'the', 'your'): 2, ('https', 't', 'the', 'your'): 3, ('co', 'https', 'the', 'your'): 2, ('co', 'https', 't', 'the', 'your'): 3, ('co', 't', 'the', 'your'): 3, ('t', 'the', 'your'): 3, ('t', 'your'): 3, ('a', 'for'): 2, ('a', 'for', 't'): 3, ('a', 'for', 'to'): 2, ('a', 'for', 't', 'to'): 3, ('a', 't', 'to'): 3, ('a', 'co', 'to'): 2, ('a', 'co', 't', 'to'): 3, ('a', 'co', 'for', 'to'): 2, ('a', 'co', 'for', 't', 'to'): 3, ('a', 'co', 'for', 't'): 3, ('a', 'co', 't'): 3, ('a', 'co', 'https'): 2, ('a', 'co', 'https', 't'): 3, ('a', 'co', 'https', 'to'): 2, ('a', 'co', 'https', 't', 'to'): 3, ('a', 'https', 't', 'to'): 3, ('a', 'for', 'https', 'to'): 2, ('a', 'for', 'https', 't', 'to'): 3, ('a', 'co', 'for', 'https', 'to'): 2, ('a', 'co', 'for', 'https', 't', 'to'): 3, ('a', 'co', 'for', 'https', 't'): 3, ('a', 'for', 'https', 't'): 3, ('a', 'https', 't'): 3, ('a', 'https', 'the'): 2, ('a', 'https', 't', 'the'): 3, ('a', 'co', 'https', 'the'): 2, ('a', 'co', 'https', 't', 'the'): 3, ('a', 'co', 't', 'the'): 3, ('a', 'co', 'the', 'to'): 2, ('a', 'co', 't', 'the', 'to'): 3, ('a', 'co', 'https', 'the', 'to'): 2, ('a', 'co', 'https', 't', 'the', 'to'): 3, ('a', 'https', 't', 'the', 'to'): 3, ('a', 't', 'the', 'to'): 3, ('a', 'for', 'the', 'to'): 2, ('a', 'for', 't', 'the', 'to'): 3, ('a', 'co', 'for', 'the', 'to'): 2, ('a', 'co', 'for', 't', 'the', 'to'): 3, ('a', 'co', 'for', 't', 'the'): 3, ('a', 'co', 'for', 'https', 'the'): 2, ('a', 'co', 'for', 'https', 't', 'the'): 3, ('a', 'co', 'for', 'https', 'the', 'to'): 2, ('a', 'co', 'for', 'https', 't', 'the', 'to'): 3, ('a', 'for', 'https', 't', 'the', 'to'): 3, ('a', 'for', 'https', 't', 'the'): 3, ('a', 'for', 't', 'the'): 3, ('a', 't', 'the'): 3, ('a', 't'): 3, ('some',): 2, ('is', 'some'): 2, ('some', 'that'): 2, ('some', 'to'): 2, ('co', 'some'): 2, ('https', 'some'): 2, ('some', 't'): 4, ('is', 'some', 'that'): 2, ('is', 'some', 'to'): 2, ('co', 'is', 'some'): 2, ('https', 'is', 'some'): 2, ('is', 'some', 't'): 2, ('some', 'that', 'to'): 2, ('co', 'some', 'that'): 2, ('https', 'some', 'that'): 2, ('some', 't', 'that'): 2, ('co', 'some', 'to'): 2, ('https', 'some', 'to'): 2, ('some', 't', 'to'): 2, ('co', 'https', 'some'): 2, ('co', 'some', 't'): 2, ('https', 'some', 't'): 2, ('is', 'some', 'that', 'to'): 2, ('co', 'is', 'some', 'that'): 2, ('https', 'is', 'some', 'that'): 2, ('is', 'some', 't', 'that'): 2, ('co', 'is', 'some', 'to'): 2, ('https', 'is', 'some', 'to'): 2, ('is', 'some', 't', 'to'): 2, ('co', 'https', 'is', 'some'): 2, ('co', 'is', 'some', 't'): 2, ('https', 'is', 'some', 't'): 2, ('co', 'some', 'that', 'to'): 2, ('https', 'some', 'that', 'to'): 2, ('some', 't', 'that', 'to'): 2, ('co', 'https', 'some', 'that'): 2, ('co', 'some', 't', 'that'): 2, ('https', 'some', 't', 'that'): 2, ('co', 'https', 'some', 'to'): 2, ('co', 'some', 't', 'to'): 2, ('https', 'some', 't', 'to'): 2, ('co', 'https', 'some', 't'): 2, ('co', 'is', 'some', 'that', 'to'): 2, ('https', 'is', 'some', 'that', 'to'): 2, ('is', 'some', 't', 'that', 'to'): 2, ('co', 'https', 'is', 'some', 'that'): 2, ('co', 'is', 'some', 't', 'that'): 2, ('https', 'is', 'some', 't', 'that'): 2, ('co', 'https', 'is', 'some', 'to'): 2, ('co', 'is', 'some', 't', 'to'): 2, ('https', 'is', 'some', 't', 'to'): 2, ('co', 'https', 'is', 'some', 't'): 2, ('co', 'https', 'some', 'that', 'to'): 2, ('co', 'some', 't', 'that', 'to'): 2, ('https', 'some', 't', 'that', 'to'): 2, ('co', 'https', 'some', 't', 'that'): 2, ('co', 'https', 'some', 't', 'to'): 2, ('co', 'https', 'is', 'some', 'that', 'to'): 2, ('co', 'is', 'some', 't', 'that', 'to'): 2, ('https', 'is', 'some', 't', 'that', 'to'): 2, ('co', 'https', 'is', 'some', 't', 'that'): 2, ('co', 'https', 'is', 'some', 't', 'to'): 2, ('co', 'https', 'some', 't', 'that', 'to'): 2, ('co', 'https', 'is', 'some', 't', 'that', 'to'): 2, ('is', 'who'): 2, ('is', 't', 'who'): 3, ('is', 'that', 'who'): 2, ('is', 't', 'that', 'who'): 3, ('t', 'that', 'who'): 3, ('that', 'to', 'who'): 2, ('t', 'that', 'to', 'who'): 3, ('is', 'that', 'to', 'who'): 2, ('is', 't', 'that', 'to', 'who'): 3, ('is', 't', 'to', 'who'): 3, ('t', 'to', 'who'): 3, ('co', 'to', 'who'): 2, ('co', 't', 'to', 'who'): 3, ('co', 'that', 'to', 'who'): 2, ('co', 't', 'that', 'to', 'who'): 3, ('co', 't', 'that', 'who'): 3, ('co', 'is', 'that', 'who'): 2, ('co', 'is', 't', 'that', 'who'): 3, ('co', 'is', 'that', 'to', 'who'): 2, ('co', 'is', 't', 'that', 'to', 'who'): 3, ('co', 'is', 't', 'to', 'who'): 3, ('co', 'is', 't', 'who'): 3, ('co', 't', 'who'): 3, ('co', 'https', 'who'): 2, ('co', 'https', 't', 'who'): 3, ('co', 'https', 'to', 'who'): 2, ('co', 'https', 't', 'to', 'who'): 3, ('https', 't', 'to', 'who'): 3, ('https', 'that', 'to', 'who'): 2, ('https', 't', 'that', 'to', 'who'): 3, ('co', 'https', 'that', 'to', 'who'): 2, ('co', 'https', 't', 'that', 'to', 'who'): 3, ('co', 'https', 't', 'that', 'who'): 3, ('https', 't', 'that', 'who'): 3, ('https', 'is', 'that', 'who'): 2, ('https', 'is', 't', 'that', 'who'): 3, ('https', 'is', 'that', 'to', 'who'): 2, ('https', 'is', 't', 'that', 'to', 'who'): 3, ('https', 'is', 't', 'to', 'who'): 3, ('co', 'https', 'is', 'to', 'who'): 2, ('co', 'https', 'is', 't', 'to', 'who'): 3, ('co', 'https', 'is', 'that', 'to', 'who'): 2, ('co', 'https', 'is', 't', 'that', 'to', 'who'): 3, ('co', 'https', 'is', 't', 'that', 'who'): 3, ('co', 'https', 'is', 't', 'who'): 3, ('https', 'is', 't', 'who'): 3, ('https', 't', 'who'): 3, ('the', 'who'): 2, ('https', 'the', 'who'): 2, ('co', 'the', 'who'): 2, ('the', 'to', 'who'): 2, ('that', 'the', 'who'): 2, ('is', 'the', 'who'): 2, ('t', 'the', 'who'): 2, ('co', 'https', 'the', 'who'): 2, ('https', 'the', 'to', 'who'): 2, ('https', 'that', 'the', 'who'): 2, ('https', 'is', 'the', 'who'): 2, ('https', 't', 'the', 'who'): 2, ('co', 'the', 'to', 'who'): 2, ('co', 'that', 'the', 'who'): 2, ('co', 'is', 'the', 'who'): 2, ('co', 't', 'the', 'who'): 2, ('that', 'the', 'to', 'who'): 2, ('is', 'the', 'to', 'who'): 2, ('t', 'the', 'to', 'who'): 2, ('is', 'that', 'the', 'who'): 2, ('t', 'that', 'the', 'who'): 2, ('is', 't', 'the', 'who'): 2, ('co', 'https', 'the', 'to', 'who'): 2, ('co', 'https', 'that', 'the', 'who'): 2, ('co', 'https', 'is', 'the', 'who'): 2, ('co', 'https', 't', 'the', 'who'): 2, ('https', 'that', 'the', 'to', 'who'): 2, ('https', 'is', 'the', 'to', 'who'): 2, ('https', 't', 'the', 'to', 'who'): 2, ('https', 'is', 'that', 'the', 'who'): 2, ('https', 't', 'that', 'the', 'who'): 2, ('https', 'is', 't', 'the', 'who'): 2, ('co', 'that', 'the', 'to', 'who'): 2, ('co', 'is', 'the', 'to', 'who'): 2, ('co', 't', 'the', 'to', 'who'): 2, ('co', 'is', 'that', 'the', 'who'): 2, ('co', 't', 'that', 'the', 'who'): 2, ('co', 'is', 't', 'the', 'who'): 2, ('is', 'that', 'the', 'to', 'who'): 2, ('t', 'that', 'the', 'to', 'who'): 2, ('is', 't', 'the', 'to', 'who'): 2, ('is', 't', 'that', 'the', 'who'): 2, ('co', 'https', 'that', 'the', 'to', 'who'): 2, ('co', 'https', 'is', 'the', 'to', 'who'): 2, ('co', 'https', 't', 'the', 'to', 'who'): 2, ('co', 'https', 'is', 'that', 'the', 'who'): 2, ('co', 'https', 't', 'that', 'the', 'who'): 2, ('co', 'https', 'is', 't', 'the', 'who'): 2, ('https', 'is', 'that', 'the', 'to', 'who'): 2, ('https', 't', 'that', 'the', 'to', 'who'): 2, ('https', 'is', 't', 'the', 'to', 'who'): 2, ('https', 'is', 't', 'that', 'the', 'who'): 2, ('co', 'is', 'that', 'the', 'to', 'who'): 2, ('co', 't', 'that', 'the', 'to', 'who'): 2, ('co', 'is', 't', 'the', 'to', 'who'): 2, ('co', 'is', 't', 'that', 'the', 'who'): 2, ('is', 't', 'that', 'the', 'to', 'who'): 2, ('co', 'https', 'is', 'that', 'the', 'to', 'who'): 2, ('co', 'https', 't', 'that', 'the', 'to', 'who'): 2, ('co', 'https', 'is', 't', 'the', 'to', 'who'): 2, ('co', 'https', 'is', 't', 'that', 'the', 'who'): 2, ('https', 'is', 't', 'that', 'the', 'to', 'who'): 2, ('co', 'is', 't', 'that', 'the', 'to', 'who'): 2, ('co', 'https', 'is', 't', 'that', 'the', 'to', 'who'): 2, ('t', 'who'): 3, ('to', 'wear'): 2, ('t', 'to', 'wear'): 3, ('co', 'to', 'wear'): 2, ('co', 't', 'to', 'wear'): 3, ('co', 't', 'wear'): 3, ('co', 'https', 'wear'): 2, ('co', 'https', 't', 'wear'): 3, ('co', 'https', 'to', 'wear'): 2, ('co', 'https', 't', 'to', 'wear'): 3, ('https', 't', 'to', 'wear'): 3, ('https', 't', 'wear'): 3, ('t', 'wear'): 3, ('to', 'while'): 2, ('t', 'to', 'while'): 3, ('co', 'to', 'while'): 2, ('co', 't', 'to', 'while'): 3, ('co', 't', 'while'): 3, ('co', 'https', 'while'): 2, ('co', 'https', 't', 'while'): 3, ('co', 'https', 'to', 'while'): 2, ('co', 'https', 't', 'to', 'while'): 3, ('https', 't', 'to', 'while'): 3, ('https', 't', 'while'): 3, ('t', 'while'): 3, ('and', 'of'): 2, ('and', 'of', 'the'): 3, ('and', 'of', 'to'): 2, ('and', 'of', 'the', 'to'): 3, ('of', 'the', 'to'): 3, ('co', 'of', 'to'): 2, ('co', 'of', 'the', 'to'): 3, ('and', 'co', 'of', 'to'): 2, ('and', 'co', 'of', 'the', 'to'): 3, ('and', 'co', 'of', 'the'): 3, ('co', 'of', 'the'): 3, ('co', 'https', 'of'): 2, ('co', 'https', 'of', 'the'): 3, ('co', 'https', 'of', 'to'): 2, ('co', 'https', 'of', 'the', 'to'): 3, ('https', 'of', 'the', 'to'): 3, ('and', 'https', 'of', 'to'): 2, ('and', 'https', 'of', 'the', 'to'): 3, ('and', 'co', 'https', 'of', 'to'): 2, ('and', 'co', 'https', 'of', 'the', 'to'): 3, ('and', 'co', 'https', 'of', 'the'): 3, ('and', 'https', 'of', 'the'): 3, ('https', 'of', 'the'): 3, ('https', 'of', 't'): 2, ('https', 'of', 't', 'the'): 3, ('co', 'https', 'of', 't'): 2, ('co', 'https', 'of', 't', 'the'): 3, ('co', 'of', 't', 'the'): 3, ('co', 'of', 't', 'to'): 2, ('co', 'of', 't', 'the', 'to'): 3, ('co', 'https', 'of', 't', 'to'): 2, ('co', 'https', 'of', 't', 'the', 'to'): 3, ('https', 'of', 't', 'the', 'to'): 3, ('of', 't', 'the', 'to'): 3, ('and', 'of', 't', 'to'): 2, ('and', 'of', 't', 'the', 'to'): 3, ('and', 'co', 'of', 't', 'to'): 2, ('and', 'co', 'of', 't', 'the', 'to'): 3, ('and', 'co', 'of', 't', 'the'): 3, ('and', 'co', 'https', 'of', 't'): 2, ('and', 'co', 'https', 'of', 't', 'the'): 3, ('and', 'co', 'https', 'of', 't', 'to'): 2, ('and', 'co', 'https', 'of', 't', 'the', 'to'): 3, ('and', 'https', 'of', 't', 'the', 'to'): 3, ('and', 'https', 'of', 't', 'the'): 3, ('and', 'of', 't', 'the'): 3, ('of', 't', 'the'): 3, ('of', 'the'): 3, ('of', 'peopl'): 2, ('of', 'peopl', 'the'): 3, ('and', 'of', 'peopl'): 2, ('and', 'of', 'peopl', 'the'): 3, ('and', 'peopl', 'the'): 3, ('and', 'peopl', 'to'): 2, ('and', 'peopl', 'the', 'to'): 3, ('and', 'of', 'peopl', 'to'): 2, ('and', 'of', 'peopl', 'the', 'to'): 3, ('of', 'peopl', 'the', 'to'): 3, ('peopl', 'the', 'to'): 3, ('co', 'peopl', 'to'): 2, ('co', 'peopl', 'the', 'to'): 3, ('and', 'co', 'peopl', 'to'): 2, ('and', 'co', 'peopl', 'the', 'to'): 3, ('and', 'co', 'peopl', 'the'): 3, ('and', 'co', 'of', 'peopl'): 2, ('and', 'co', 'of', 'peopl', 'the'): 3, ('and', 'co', 'of', 'peopl', 'to'): 2, ('and', 'co', 'of', 'peopl', 'the', 'to'): 3, ('co', 'of', 'peopl', 'the', 'to'): 3, ('co', 'of', 'peopl', 'the'): 3, ('co', 'peopl', 'the'): 3, ('co', 'https', 'peopl'): 2, ('co', 'https', 'peopl', 'the'): 3, ('co', 'https', 'peopl', 'to'): 2, ('co', 'https', 'peopl', 'the', 'to'): 3, ('https', 'peopl', 'the', 'to'): 3, ('and', 'https', 'peopl', 'to'): 2, ('and', 'https', 'peopl', 'the', 'to'): 3, ('and', 'co', 'https', 'peopl', 'to'): 2, ('and', 'co', 'https', 'peopl', 'the', 'to'): 3, ('and', 'co', 'https', 'peopl', 'the'): 3, ('and', 'https', 'peopl', 'the'): 3, ('and', 'https', 'of', 'peopl'): 2, ('and', 'https', 'of', 'peopl', 'the'): 3, ('and', 'https', 'of', 'peopl', 'to'): 2, ('and', 'https', 'of', 'peopl', 'the', 'to'): 3, ('https', 'of', 'peopl', 'the', 'to'): 3, ('co', 'https', 'of', 'peopl', 'to'): 2, ('co', 'https', 'of', 'peopl', 'the', 'to'): 3, ('and', 'co', 'https', 'of', 'peopl', 'to'): 2, ('and', 'co', 'https', 'of', 'peopl', 'the', 'to'): 3, ('and', 'co', 'https', 'of', 'peopl', 'the'): 3, ('co', 'https', 'of', 'peopl', 'the'): 3, ('https', 'of', 'peopl', 'the'): 3, ('https', 'peopl', 'the'): 3, ('https', 'peopl', 't'): 2, ('https', 'peopl', 't', 'the'): 3, ('co', 'https', 'peopl', 't'): 2, ('co', 'https', 'peopl', 't', 'the'): 3, ('co', 'peopl', 't', 'the'): 3, ('co', 'peopl', 't', 'to'): 2, ('co', 'peopl', 't', 'the', 'to'): 3, ('co', 'https', 'peopl', 't', 'to'): 2, ('co', 'https', 'peopl', 't', 'the', 'to'): 3, ('https', 'peopl', 't', 'the', 'to'): 3, ('peopl', 't', 'the', 'to'): 3, ('and', 'peopl', 't', 'to'): 2, ('and', 'peopl', 't', 'the', 'to'): 3, ('and', 'co', 'peopl', 't', 'to'): 2, ('and', 'co', 'peopl', 't', 'the', 'to'): 3, ('and', 'co', 'peopl', 't', 'the'): 3, ('and', 'co', 'https', 'peopl', 't'): 2, ('and', 'co', 'https', 'peopl', 't', 'the'): 3, ('and', 'co', 'https', 'peopl', 't', 'to'): 2, ('and', 'co', 'https', 'peopl', 't', 'the', 'to'): 3, ('and', 'https', 'peopl', 't', 'the', 'to'): 3, ('and', 'https', 'peopl', 't', 'the'): 3, ('and', 'peopl', 't', 'the'): 3, ('and', 'of', 'peopl', 't'): 2, ('and', 'of', 'peopl', 't', 'the'): 3, ('and', 'of', 'peopl', 't', 'to'): 2, ('and', 'of', 'peopl', 't', 'the', 'to'): 3, ('of', 'peopl', 't', 'the', 'to'): 3, ('co', 'of', 'peopl', 't', 'to'): 2, ('co', 'of', 'peopl', 't', 'the', 'to'): 3, ('and', 'co', 'of', 'peopl', 't', 'to'): 2, ('and', 'co', 'of', 'peopl', 't', 'the', 'to'): 3, ('and', 'co', 'of', 'peopl', 't', 'the'): 3, ('co', 'of', 'peopl', 't', 'the'): 3, ('co', 'https', 'of', 'peopl', 't'): 2, ('co', 'https', 'of', 'peopl', 't', 'the'): 3, ('co', 'https', 'of', 'peopl', 't', 'to'): 2, ('co', 'https', 'of', 'peopl', 't', 'the', 'to'): 3, ('https', 'of', 'peopl', 't', 'the', 'to'): 3, ('and', 'https', 'of', 'peopl', 't', 'to'): 2, ('and', 'https', 'of', 'peopl', 't', 'the', 'to'): 3, ('and', 'co', 'https', 'of', 'peopl', 't', 'to'): 2, ('and', 'co', 'https', 'of', 'peopl', 't', 'the', 'to'): 3, ('and', 'co', 'https', 'of', 'peopl', 't', 'the'): 3, ('and', 'https', 'of', 'peopl', 't', 'the'): 3, ('https', 'of', 'peopl', 't', 'the'): 3, ('of', 'peopl', 't', 'the'): 3, ('peopl', 't', 'the'): 3, ('peopl', 'the'): 3, ('covid19', 'talli'): 2, ('case', 'covid19', 'talli'): 3, ('case', 'talli'): 3, ('1', 'talli'): 2, ('1', 'case', 'talli'): 3, ('1', 'covid19', 'talli'): 2, ('1', 'case', 'covid19', 'talli'): 3, ('1', 'case', 'covid19'): 3, ('1', 'case'): 3, ('1', 'with'): 2, ('1', 'case', 'with'): 3, ('1', 'talli', 'with'): 2, ('1', 'case', 'talli', 'with'): 3, ('case', 'talli', 'with'): 3, ('covid19', 'talli', 'with'): 2, ('case', 'covid19', 'talli', 'with'): 3, ('1', 'covid19', 'talli', 'with'): 2, ('1', 'case', 'covid19', 'talli', 'with'): 3, ('1', 'case', 'covid19', 'with'): 3, ('case', 'covid19', 'with'): 3, ('case', 'with'): 3, ('covid19', 'new'): 2, ('case', 'covid19', 'new'): 3, ('case', 'new'): 3, ('activ', 'new'): 2, ('activ', 'case', 'new'): 3, ('activ', 'talli'): 2, ('activ', 'case', 'talli'): 3, ('activ', 'covid19', 'talli'): 2, ('activ', 'case', 'covid19', 'talli'): 3, ('activ', 'covid19', 'new'): 2, ('activ', 'case', 'covid19', 'new'): 3, ('activ', 'case', 'covid19'): 3, ('activ', 'case'): 3, ('activ', 'health'): 2, ('activ', 'case', 'health'): 3, ('activ', 'health', 'new'): 2, ('activ', 'case', 'health', 'new'): 3, ('case', 'health', 'new'): 3, ('health', 'with'): 2, ('case', 'health', 'with'): 3, ('1', 'health', 'with'): 2, ('1', 'case', 'health', 'with'): 3, ('1', 'case', 'health'): 3, ('1', 'health', 'talli'): 2, ('1', 'case', 'health', 'talli'): 3, ('1', 'health', 'talli', 'with'): 2, ('1', 'case', 'health', 'talli', 'with'): 3, ('case', 'health', 'talli', 'with'): 3, ('activ', 'health', 'talli'): 2, ('activ', 'case', 'health', 'talli'): 3, ('case', 'health', 'talli'): 3, ('covid19', 'health', 'talli'): 2, ('case', 'covid19', 'health', 'talli'): 3, ('1', 'covid19', 'health', 'talli'): 2, ('1', 'case', 'covid19', 'health', 'talli'): 3, ('1', 'case', 'covid19', 'health'): 3, ('1', 'covid19', 'health', 'with'): 2, ('1', 'case', 'covid19', 'health', 'with'): 3, ('1', 'covid19', 'health', 'talli', 'with'): 2, ('1', 'case', 'covid19', 'health', 'talli', 'with'): 3, ('case', 'covid19', 'health', 'talli', 'with'): 3, ('case', 'covid19', 'health', 'with'): 3, ('covid19', 'health', 'new'): 2, ('case', 'covid19', 'health', 'new'): 3, ('activ', 'covid19', 'health', 'new'): 2, ('activ', 'case', 'covid19', 'health', 'new'): 3, ('activ', 'covid19', 'health', 'talli'): 2, ('activ', 'case', 'covid19', 'health', 'talli'): 3, ('activ', 'case', 'covid19', 'health'): 3, ('case', 'covid19', 'health'): 3, ('case', 'health'): 3, ('covid19', 'for', 'https'): 2, ('covid19', 'for', 'https', 't'): 3, ('co', 'covid19', 'for', 'https'): 2, ('co', 'covid19', 'for', 'https', 't'): 3, ('co', 'covid19', 'for', 't'): 3, ('covid19', 'for', 't'): 3, ('for', 'https', 'to'): 2, ('for', 'https', 't', 'to'): 3, ('co', 'for', 'https', 'to'): 2, ('co', 'for', 'https', 't', 'to'): 3, ('co', 'for', 't', 'to'): 3, ('for', 't', 'to'): 3, ('for', 'the', 'to'): 2, ('for', 't', 'the', 'to'): 3, ('for', 'https', 'the', 'to'): 2, ('for', 'https', 't', 'the', 'to'): 3, ('for', 'https', 't', 'the'): 3, ('co', 'for', 'https', 'the'): 2, ('co', 'for', 'https', 't', 'the'): 3, ('co', 'for', 'https', 'the', 'to'): 2, ('co', 'for', 'https', 't', 'the', 'to'): 3, ('co', 'for', 't', 'the', 'to'): 3, ('co', 'for', 't', 'the'): 3, ('for', 't', 'the'): 3, ('co', 'for'): 3, ('co', 'for', 't'): 4, ('co', 'for', 'https'): 3, ('co', 'for', 'https', 't'): 4, ('for', 'https', 't'): 4, ('for', 't'): 4, ('for', 'in'): 2, ('for', 'in', 't'): 2, ('for', 'https', 'in'): 2, ('co', 'for', 'in'): 2, ('for', 'https', 'in', 't'): 2, ('co', 'for', 'in', 't'): 2, ('co', 'for', 'https', 'in'): 2, ('co', 'for', 'https', 'in', 't'): 2, ('covid19', 'in'): 2, ('covid19', 'in', 't'): 2, ('covid19', 'https', 'in'): 2, ('co', 'covid19', 'in'): 2, ('covid19', 'https', 'in', 't'): 2, ('co', 'covid19', 'in', 't'): 2, ('co', 'covid19', 'https', 'in'): 2, ('co', 'covid19', 'https', 'in', 't'): 2, ('in', 'to'): 2, ('in', 't', 'to'): 2, ('https', 'in', 'to'): 2, ('co', 'in', 'to'): 2, ('https', 'in', 't', 'to'): 2, ('co', 'in', 't', 'to'): 2, ('co', 'https', 'in', 'to'): 2, ('co', 'https', 'in', 't', 'to'): 2, ('co', 'in'): 3, ('https', 'in'): 3, ('co', 'https', 'in'): 3, ('in', 't'): 3, ('https', 'in', 't'): 3, ('co', 'in', 't'): 3, ('co', 'https', 'in', 't'): 3, ('https', 'is', 'to'): 2, ('https', 'is', 't', 'to'): 3, ('co', 'https', 'is', 'to'): 2, ('co', 'https', 'is', 't', 'to'): 3, ('co', 'is', 't', 'to'): 3, ('co', 'is', 'that', 'to'): 2, ('co', 'is', 't', 'that', 'to'): 3, ('co', 'https', 'is', 'that', 'to'): 2, ('co', 'https', 'is', 't', 'that', 'to'): 3, ('https', 'is', 't', 'that', 'to'): 3, ('is', 't', 'that', 'to'): 3, ('is', 'the', 'to'): 2, ('is', 'that', 'the', 'to'): 2, ('co', 'is', 'the', 'to'): 2, ('https', 'is', 'the', 'to'): 2, ('is', 't', 'the', 'to'): 2, ('co', 'is', 'that', 'the', 'to'): 2, ('https', 'is', 'that', 'the', 'to'): 2, ('is', 't', 'that', 'the', 'to'): 2, ('co', 'https', 'is', 'the', 'to'): 2, ('co', 'is', 't', 'the', 'to'): 2, ('https', 'is', 't', 'the', 'to'): 2, ('co', 'https', 'is', 'that', 'the', 'to'): 2, ('co', 'is', 't', 'that', 'the', 'to'): 2, ('https', 'is', 't', 'that', 'the', 'to'): 2, ('co', 'https', 'is', 't', 'the', 'to'): 2, ('co', 'https', 'is', 't', 'that', 'the', 'to'): 2, ('is', 't', 'to'): 3, ('and', 'https', 'is', 'that'): 3, ('and', 'https', 'is', 'that', 'the'): 12, ('and', 'https', 'is', 'the'): 7, ('and', 'https', 'is', 'the', 'the'): 11, ('and', 'co', 'https', 'is', 'that'): 3, ('and', 'co', 'https', 'is', 'that', 'the'): 12, ('and', 'co', 'https', 'is', 'the'): 7, ('and', 'co', 'https', 'is', 'the', 'the'): 11, ('and', 'co', 'is', 'that'): 3, ('and', 'co', 'is', 'that', 'the'): 12, ('and', 'co', 'is', 'the'): 7, ('and', 'co', 'is', 'the', 'the'): 11, ('and', 'co', 'is', 't', 'that'): 3, ('and', 'co', 'is', 't', 'that', 'the'): 12, ('and', 'co', 'is', 't', 'the'): 7, ('and', 'co', 'is', 't', 'the', 'the'): 11, ('and', 'co', 'https', 'is', 't', 'that'): 3, ('and', 'co', 'https', 'is', 't', 'that', 'the'): 12, ('and', 'co', 'https', 'is', 't', 'the'): 7, ('and', 'co', 'https', 'is', 't', 'the', 'the'): 11, ('and', 'https', 'is', 't', 'that'): 3, ('and', 'https', 'is', 't', 'that', 'the'): 12, ('and', 'https', 'is', 't', 'the'): 7, ('and', 'https', 'is', 't', 'the', 'the'): 11, ('and', 'is', 't', 'that'): 3, ('and', 'is', 't', 'that', 'the'): 12, ('and', 'is', 't', 'the'): 7, ('and', 'is', 't', 'the', 'the'): 11, ('and', 'is', 'that'): 3, ('and', 'is', 'that', 'the'): 12, ('and', 'is', 'the'): 7, ('and', 'is', 'the', 'the'): 11, ('co', 'is', 't'): 4, ('co', 'is', 't', 'the'): 7, ('co', 'is', 't', 'that'): 5, ('co', 'is', 't', 'that', 'the'): 12, ('co', 'is', 'that', 'the'): 12, ('co', 'is', 'that', 'the', 'the'): 21, ('co', 'is', 'the'): 7, ('co', 'is', 'the', 'the'): 11, ('co', 'https', 'is', 'that'): 4, ('co', 'https', 'is', 'that', 'the'): 12, ('co', 'https', 'is', 't', 'that'): 5, ('co', 'https', 'is', 't', 'that', 'the'): 12, ('co', 'https', 'is', 't', 'the'): 7, ('co', 'https', 'is', 't', 'the', 'the'): 11, ('co', 'https', 'is', 'the'): 7, ('co', 'https', 'is', 'the', 'the'): 11, ('https', 'is', 't'): 4, ('https', 'is', 't', 'the'): 7, ('https', 'is', 't', 'that'): 5, ('https', 'is', 't', 'that', 'the'): 12, ('https', 'is', 'that', 'the'): 12, ('https', 'is', 'that', 'the', 'the'): 21, ('https', 'is', 'the'): 7, ('https', 'is', 'the', 'the'): 11, ('is', 'that'): 4, ('is', 'that', 'the'): 12, ('is', 't', 'that'): 5, ('is', 't', 'that', 'the'): 12, ('is', 't', 'the'): 7, ('is', 't', 'the', 'the'): 11, ('is', 'the'): 7, ('is', 'the', 'the'): 11, ('and', 't', 'to'): 2, ('and', 't', 'the', 'to'): 3, ('and', 'https', 't', 'to'): 2, ('and', 'https', 't', 'the', 'to'): 3, ('and', 'https', 'the', 'to'): 3, ('and', 'co', 'https', 'to'): 2, ('and', 'co', 'https', 'the', 'to'): 3, ('and', 'co', 'https', 't', 'to'): 2, ('and', 'co', 'https', 't', 'the', 'to'): 3, ('and', 'co', 't', 'the', 'to'): 3, ('and', 'co', 'the', 'to'): 3, ('and', 'the', 'to'): 3, ('and', 'that'): 3, ('and', 'that', 'the'): 12, ('and', 'co', 'that'): 3, ('and', 'co', 'that', 'the'): 12, ('and', 'co', 'the'): 8, ('and', 'co', 'the', 'the'): 11, ('and', 'co', 'https'): 3, ('and', 'co', 'https', 'the'): 8, ('and', 'co', 'https', 'that'): 3, ('and', 'co', 'https', 'that', 'the'): 12, ('and', 'https', 'that', 'the'): 12, ('and', 'https', 'that', 'the', 'the'): 21, ('and', 'https', 'the'): 8, ('and', 'https', 'the', 'the'): 11, ('and', 'https', 't'): 3, ('and', 'https', 't', 'the'): 8, ('and', 'co', 'https', 't'): 3, ('and', 'co', 'https', 't', 'the'): 8, ('and', 'co', 't', 'the'): 8, ('and', 'co', 't', 'the', 'the'): 11, ('and', 'co', 't', 'that'): 3, ('and', 'co', 't', 'that', 'the'): 12, ('and', 'co', 'https', 't', 'that'): 3, ('and', 'co', 'https', 't', 'that', 'the'): 12, ('and', 'https', 't', 'that', 'the'): 12, ('and', 'https', 't', 'that', 'the', 'the'): 21, ('and', 't', 'that', 'the'): 12, ('and', 't', 'that', 'the', 'the'): 21, ('and', 't', 'the'): 8, ('and', 't', 'the', 'the'): 11, ('and', 'the'): 8, ('and', 'the', 'the'): 11, ('case',): 3, ('case', 'covid19'): 3, ('case', 'to'): 2, ('case', 'co'): 2, ('case', 'https'): 2, ('case', 't'): 2, ('case', 'covid19', 'to'): 2, ('case', 'co', 'covid19'): 2, ('case', 'covid19', 'https'): 2, ('case', 'covid19', 't'): 2, ('case', 'co', 'to'): 2, ('case', 'https', 'to'): 2, ('case', 't', 'to'): 2, ('case', 'co', 'https'): 2, ('case', 'co', 't'): 2, ('case', 'https', 't'): 2, ('case', 'co', 'covid19', 'to'): 2, ('case', 'covid19', 'https', 'to'): 2, ('case', 'covid19', 't', 'to'): 2, ('case', 'co', 'covid19', 'https'): 2, ('case', 'co', 'covid19', 't'): 2, ('case', 'covid19', 'https', 't'): 2, ('case', 'co', 'https', 'to'): 2, ('case', 'co', 't', 'to'): 2, ('case', 'https', 't', 'to'): 2, ('case', 'co', 'https', 't'): 2, ('case', 'co', 'covid19', 'https', 'to'): 2, ('case', 'co', 'covid19', 't', 'to'): 2, ('case', 'covid19', 'https', 't', 'to'): 2, ('case', 'co', 'covid19', 'https', 't'): 2, ('case', 'co', 'https', 't', 'to'): 2, ('case', 'co', 'covid19', 'https', 't', 'to'): 2, ('covid19', 'https', 't', 'to'): 3, ('covid19', 'https', 'the', 'to'): 3, ('covid19', 'https', 't', 'the', 'to'): 4, ('co', 'covid19', 'https', 'the', 'to'): 3, ('co', 'covid19', 'https', 't', 'to'): 3, ('co', 'covid19', 'https', 't', 'the', 'to'): 4, ('co', 'covid19', 't', 'to'): 3, ('co', 'covid19', 'the', 'to'): 3, ('co', 'covid19', 't', 'the', 'to'): 4, ('covid19', 'the', 'to'): 3, ('covid19', 't', 'to'): 3, ('covid19', 't', 'the', 'to'): 4, ('covid19', 'https', 'the'): 3, ('covid19', 'https', 't', 'the'): 4, ('co', 'covid19', 'https', 'the'): 3, ('co', 'covid19', 'https', 't', 'the'): 4, ('co', 'covid19', 't', 'the'): 4, ('covid19', 't', 'the'): 4, ('co', 'covid19'): 4, ('co', 'covid19', 't'): 5, ('co', 'covid19', 'https'): 4, ('co', 'covid19', 'https', 't'): 5, ('covid19', 'https', 't'): 5, ('covid19', 't'): 5, ('https', 'that', 'to'): 2, ('https', 't', 'that', 'to'): 3, ('co', 'https', 'that', 'to'): 2, ('co', 'https', 't', 'that', 'to'): 3, ('co', 't', 'that', 'to'): 3, ('that', 'the', 'to'): 2, ('co', 'that', 'the', 'to'): 2, ('https', 'that', 'the', 'to'): 2, ('t', 'that', 'the', 'to'): 2, ('co', 'https', 'that', 'the', 'to'): 2, ('co', 't', 'that', 'the', 'to'): 2, ('https', 't', 'that', 'the', 'to'): 2, ('co', 'https', 't', 'that', 'the', 'to'): 2, ('t', 'that', 'to'): 3, ('co', 't', 't', 'that'): 2, ('co', 't', 'that', 'the'): 14, ('co', 't', 'that', 'the', 'the'): 21, ('co', 'that', 'the'): 13, ('co', 'that', 'the', 'the'): 21, ('co', 'https', 't', 't', 'that'): 2, ('co', 'https', 't', 'that', 'the'): 14, ('co', 'https', 't', 'that', 'the', 'the'): 21, ('co', 'https', 'that', 'the'): 13, ('co', 'https', 'that', 'the', 'the'): 21, ('https', 't', 't', 'that'): 2, ('https', 't', 'that', 'the'): 14, ('https', 't', 'that', 'the', 'the'): 21, ('https', 'that', 'the'): 13, ('https', 'that', 'the', 'the'): 21, ('t', 't', 'that'): 2, ('t', 'that', 'the'): 14, ('t', 'that', 'the', 'the'): 21, ('that', 'the'): 13, ('that', 'the', 'the'): 21, ('https', 'the', 'to'): 4, ('https', 't', 'the', 'to'): 5, ('co', 'https', 'the', 'to'): 4, ('co', 'https', 't', 'the', 'to'): 5, ('co', 't', 'the', 'to'): 5, ('t', 'the', 'to'): 5, ('co', 'to'): 5, ('co', 't', 'to'): 7, ('co', 'https', 'to'): 5, ('co', 'https', 't', 'to'): 7, ('https', 't', 'to'): 7, ('https', 't', 't', 'to'): 2, ('t', 'to'): 7, ('t', 't', 'to'): 2, ('https', 't'): 10, ('https', 't', 't'): 2, ('https', 't', 'the'): 11, ('https', 't', 'the', 'the'): 11, ('https', 'the', 'the'): 11, ('https', 'the', 'the', 'the'): 10, ('co', 'https', 't', 't'): 2, ('co', 'https', 't', 'the'): 11, ('co', 'https', 't', 'the', 'the'): 11, ('co', 'https', 'the'): 10, ('co', 'https', 'the', 'the'): 11, ('co', 't'): 10, ('co', 't', 't'): 2, ('co', 't', 'the'): 11, ('co', 't', 'the', 'the'): 11, ('co', 'the', 'the'): 11, ('co', 'the', 'the', 'the'): 10, ('t', 't'): 2, ('t', 'the'): 11, ('t', 'the', 'the'): 11, ('the',): 10, ('the', 'the'): 11, ('i',): 4, ('if',): 3, ('the',): 16, ('of',): 16, ('on',): 7, ('today',): 3, ('in',): 13, ('were',): 3, ('that',): 5, ('https',): 47, ('t',): 47, ('co',): 47, ('and',): 13, ('it',): 5, ('have',): 6, ('more',): 3, ('to',): 18, ('their',): 3, ('a',): 13, ('realdonaldtrump',): 3, ('covid19',): 32, ('we',): 3, ('thi',): 3, ('one',): 4, ('ha',): 3, ('is',): 5, ('an',): 5, ('for',): 10, ('juli',): 5, ('coronaviru',): 4, ('death',): 3, ('will',): 3, ('visit',): 3, ('here',): 3, ('at',): 5, ('case',): 6, ('from',): 5, ('be',): 4, ('hospit',): 3, ('covid',): 7, ('19',): 6, ('updat',): 3, ('tamilnadu',): 3, ('test',): 4, ('chennai',): 3, ('back',): 3, ('our',): 4, ('review',): 3, ('can',): 3, ('posit',): 4, ('tn',): 3, ('2',): 3, ('1',): 4, ('total',): 4, ('s',): 3, ('covid', '19'): 6, ('covid19', 'https'): 4, ('from', 'covid19'): 3, ('https', 't'): 47, ('in', 'the'): 3, ('of', 'covid19'): 4, ('review', 'of'): 3, ('t', 'co'): 47, ('covid19', 'https', 't'): 4, ('https', 't', 'co'): 47, ('covid19', 'https', 't', 'co'): 4}\n",
    "\n",
    "# Create an instance of the DiGraph class\n",
    "graph = nx.DiGraph()\n",
    "\n",
    "# Add the items as nodes to the graph\n",
    "for item, support in frequent_patterns.items():\n",
    "    graph.add_node(item[0], support=support)\n",
    "\n",
    "# Add edges between items based on co-occurrences in the frequent patterns\n",
    "for itemset, support in frequent_patterns.items():\n",
    "    for i in range(len(itemset)):\n",
    "        for j in range(i+1, len(itemset)):\n",
    "            graph.add_edge(itemset[i], itemset[j])\n",
    "\n",
    "# Draw the graph\n",
    "nx.draw(graph, with_labels=True)\n",
    "\n"
   ]
  },
  {
   "cell_type": "code",
   "execution_count": 73,
   "id": "339c4333",
   "metadata": {},
   "outputs": [
    {
     "ename": "AttributeError",
     "evalue": "'tuple' object has no attribute 'items'",
     "output_type": "error",
     "traceback": [
      "\u001b[1;31m---------------------------------------------------------------------------\u001b[0m",
      "\u001b[1;31mAttributeError\u001b[0m                            Traceback (most recent call last)",
      "\u001b[1;32m~\\AppData\\Local\\Temp\\ipykernel_2476\\812555209.py\u001b[0m in \u001b[0;36m<module>\u001b[1;34m\u001b[0m\n\u001b[0;32m      7\u001b[0m \u001b[1;33m\u001b[0m\u001b[0m\n\u001b[0;32m      8\u001b[0m \u001b[1;31m# Add the items as nodes to the graph\u001b[0m\u001b[1;33m\u001b[0m\u001b[1;33m\u001b[0m\u001b[0m\n\u001b[1;32m----> 9\u001b[1;33m \u001b[1;32mfor\u001b[0m \u001b[0mitem\u001b[0m\u001b[1;33m,\u001b[0m \u001b[0msupport\u001b[0m \u001b[1;32min\u001b[0m \u001b[0mfrequent_patterns\u001b[0m\u001b[1;33m.\u001b[0m\u001b[0mitems\u001b[0m\u001b[1;33m(\u001b[0m\u001b[1;33m)\u001b[0m\u001b[1;33m:\u001b[0m\u001b[1;33m\u001b[0m\u001b[1;33m\u001b[0m\u001b[0m\n\u001b[0m\u001b[0;32m     10\u001b[0m     \u001b[0mgraph\u001b[0m\u001b[1;33m.\u001b[0m\u001b[0madd_node\u001b[0m\u001b[1;33m(\u001b[0m\u001b[0mitem\u001b[0m\u001b[1;33m[\u001b[0m\u001b[1;36m0\u001b[0m\u001b[1;33m]\u001b[0m\u001b[1;33m,\u001b[0m \u001b[0msupport\u001b[0m\u001b[1;33m=\u001b[0m\u001b[0msupport\u001b[0m\u001b[1;33m)\u001b[0m\u001b[1;33m\u001b[0m\u001b[1;33m\u001b[0m\u001b[0m\n\u001b[0;32m     11\u001b[0m \u001b[1;33m\u001b[0m\u001b[0m\n",
      "\u001b[1;31mAttributeError\u001b[0m: 'tuple' object has no attribute 'items'"
     ]
    }
   ],
   "source": [
    "import networkx as nx\n",
    "\n",
    "# Sample frequent patterns\n",
    "frequent_patterns = {('apple',): 1, ('beef',): 3, ('milk',): 2, ('banana',): 1, ('shake',): 2}, {('beef', 'apple'): 1, ('beef', 'banana'): 1, ('beef', 'shake'): 1, ('milk', 'beef'): 2, ('shake', 'beef'): 1}\n",
    "# Create an instance of the DiGraph class\n",
    "graph = nx.DiGraph()\n",
    "\n",
    "# Add the items as nodes to the graph\n",
    "for item, support in frequent_patterns.items():\n",
    "    graph.add_node(item[0], support=support)\n",
    "\n",
    "# Add edges between items based on co-occurrences in the frequent patterns\n",
    "for itemset, support in frequent_patterns.items():\n",
    "    for i in range(len(itemset)):\n",
    "        for j in range(i+1, len(itemset)):\n",
    "            graph.add_edge(itemset[i], itemset[j])\n",
    "\n",
    "# Draw the graph\n",
    "nx.draw(graph, with_labels=True)\n"
   ]
  },
  {
   "cell_type": "code",
   "execution_count": 17,
   "id": "151ccaec",
   "metadata": {
    "scrolled": true
   },
   "outputs": [
    {
     "data": {
      "image/png": "[encoded data removed]",
      "text/plain": [
       "<Figure size 640x480 with 1 Axes>"
      ]
     },
     "metadata": {},
     "output_type": "display_data"
    }
   ],
   "source": [
    "import networkx as nx\n",
    "\n",
    "# Sample frequent patterns\n",
    "frequent_patterns = {('if',): 304, ('i',): 459, ('of',): 1437, ('the',): 2090, ('on',): 604, ('in',): 1332, ('that',): 411, ('https',): 4654, ('t',): 4678, ('co',): 4654, ('and',): 1239, ('it',): 502, ('have',): 420, ('to',): 1655, ('a',): 1339, ('covid19',): 2737, ('we',): 370, ('thi',): 460, ('ha',): 322, ('is',): 785, ('for',): 862, ('coronaviru',): 376, ('you',): 472, ('your',): 368, ('at',): 420, ('case',): 432, ('from',): 424, ('be',): 382, ('are',): 458, ('covid',): 396, ('19',): 311, ('test',): 266, ('our',): 261, ('with',): 468, ('amp',): 289, ('new',): 351, ('not',): 301, ('by',): 351}, {('covid', '19'): 292, ('covid19', 'https'): 342, ('https', 't'): 4654, ('of', 'covid19'): 268, ('t', 'co'): 4654}, {('covid19', 'https', 't'): 342, ('https', 't', 'co'): 4654}, {('covid19', 'https', 't', 'co'): 342}\n",
    "# Create an instance of the DiGraph class\n",
    "graph = nx.DiGraph()\n",
    "\n",
    "# Add the items as nodes to the graph\n",
    "for d in frequent_patterns:\n",
    "    for item, support in d.items():\n",
    "        graph.add_node(item[0], support=support)\n",
    "\n",
    "\n",
    "# Add edges between items based on co-occurrences in the frequent patterns\n",
    "for itemset in frequent_patterns:\n",
    "    for i in range(len(itemset)):\n",
    "        for j in range(i+1, len(itemset)):\n",
    "            for itemset in frequent_patterns:\n",
    "                 graph.add_nodes_from(itemset)\n",
    "\n",
    "# Draw the graph\n",
    "nx.draw(graph, with_labels=True)\n"
   ]
  },
  {
   "cell_type": "code",
   "execution_count": null,
   "id": "63f68036",
   "metadata": {},
   "outputs": [],
   "source": []
  }
 ],
 "metadata": {
  "kernelspec": {
   "display_name": "Python 3 (ipykernel)",
   "language": "python",
   "name": "python3"
  },
  "language_info": {
   "codemirror_mode": {
    "name": "ipython",
    "version": 3
   },
   "file_extension": ".py",
   "mimetype": "text/x-python",
   "name": "python",
   "nbconvert_exporter": "python",
   "pygments_lexer": "ipython3",
   "version": "3.9.13"
  }
 },
 "nbformat": 4,
 "nbformat_minor": 5
}
